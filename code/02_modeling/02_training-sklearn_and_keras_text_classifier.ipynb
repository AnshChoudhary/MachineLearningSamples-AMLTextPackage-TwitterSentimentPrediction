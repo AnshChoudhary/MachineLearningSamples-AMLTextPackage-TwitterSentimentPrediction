{
 "cells": [
  {
   "cell_type": "markdown",
   "metadata": {},
   "source": [
    "# Scikit Learn & Keras Text Classifier Pipeline with Word2Vec Featurization"
   ]
  },
  {
   "cell_type": "markdown",
   "metadata": {},
   "source": [
    "### This notebook shows how to train pipelines for word embeddigns and scikit classifier\n",
    "\n",
    "The pipeline takes as input a dataframe containing tweets in a text column, a word embedding file, and trains a scikit learn model. The modeling pipeline is then saved to a .zip file. This file can be loaded later and used for prediction and evaluation of new data sets."
   ]
  },
  {
   "cell_type": "code",
   "execution_count": 1,
   "metadata": {},
   "outputs": [],
   "source": [
    "import os\n",
    "\n",
    "working_dir = r\"C:\\\\Users\\\\remoteuser\\\\Desktop\\\\Data\\\\Sentiment140_Classification\"\n",
    "\n",
    "## Set training and test files\n",
    "training_tweet_filename = os.path.join(working_dir, 'training_text.csv')\n",
    "training_label_filename = os.path.join(working_dir, 'training_label.csv')\n",
    "test_tweet_filename = os.path.join(working_dir, 'testing_text.csv')\n",
    "test_label_filename = os.path.join(working_dir, 'testing_label.csv')\n",
    "\n",
    "## Set word2vec file, parameter file for model, and model pipeline file\n",
    "w2v_embeddings_filename = os.path.join(working_dir, 'w2vec.txt')\n",
    "params_file_path = os.path.join(working_dir, \"params.tsv\")\n",
    "sklearn_model_file = os.path.join(working_dir, 'sk_model.zip') \n",
    "keras_model_file = os.path.join(working_dir, 'keras_model.zip') "
   ]
  },
  {
   "cell_type": "code",
   "execution_count": 2,
   "metadata": {},
   "outputs": [
    {
     "name": "stdout",
     "output_type": "stream",
     "text": [
      "Name: azureml-tatk\n",
      "Version: 0.1.18123.2b3\n",
      "Summary: Microsoft Azure Machine Learning Package for Text Analytics\n",
      "Home-page: https://microsoft.sharepoint.com/teams/TextAnalyticsPackagePreview\n",
      "Author: Microsoft Corporation\n",
      "Author-email: amltap@microsoft.com\n",
      "License: UNKNOWN\n",
      "Location: c:\\users\\remoteuser\\appdata\\local\\amlworkbench\\python\\lib\\site-packages\n",
      "Requires: scipy, pandas, dill, gensim, qgrid, sklearn-crfsuite, pyspark, numpy, pdfminer.six, azure-ml-api-sdk, scikit-learn, lxml, azure-storage, h5py, ipython, nose, requests, keras, matplotlib, validators, unidecode, bqplot, jsonpickle, ipywidgets, ruamel.yaml, pytest, nltk, docker\n",
      "Required-by: \n"
     ]
    }
   ],
   "source": [
    "from tatk.feature_extraction.word2vec_vectorizer import Word2VecVectorizer\n",
    "\n",
    "from __future__ import absolute_import\n",
    "from __future__ import division\n",
    "import tatk\n",
    "import collections\n",
    "import math\n",
    "import sys\n",
    "import random\n",
    "import numpy as np\n",
    "from six.moves import urllib\n",
    "from six.moves import xrange  \n",
    "from timeit import default_timer as timer\n",
    "import pandas as pd\n",
    "import re\n",
    "import io\n",
    "from nltk.tokenize import TweetTokenizer\n",
    "import num2words\n",
    "\n",
    "import math\n",
    "from matplotlib import pyplot as plt\n",
    "from sklearn.linear_model import LogisticRegression\n",
    "from sklearn.model_selection import train_test_split\n",
    "from tatk.pipelines.text_classification.text_classifier import TextClassifier\n",
    "from tatk.pipelines.text_classification.keras_text_classifier import KerasTextClassifier\n",
    "from tatk.feature_extraction.callable_vectorizer import CallableVectorizer\n",
    "\n",
    "from sklearn.model_selection import GridSearchCV\n",
    "from sklearn.model_selection import RandomizedSearchCV \n",
    "\n",
    "!pip show azureml-tatk\n",
    "\n",
    "%reload_ext autoreload\n",
    "%autoreload 2\n",
    "%matplotlib inline"
   ]
  },
  {
   "cell_type": "markdown",
   "metadata": {},
   "source": [
    "## Load and preprocess tweet data"
   ]
  },
  {
   "cell_type": "markdown",
   "metadata": {},
   "source": [
    "### Define data loading the preprocessing functions for tweets"
   ]
  },
  {
   "cell_type": "code",
   "execution_count": 3,
   "metadata": {},
   "outputs": [],
   "source": [
    "# Data processing\n",
    "# In the following code, we replace Emails, URLS, emoticons etc with special labels\n",
    "pos_emoticons=[\"(^.^)\",\"(^-^)\",\"(^_^)\",\"(^_~)\",\"(^3^)\",\"(^o^)\",\"(~_^)\",\"*)\",\":)\",\":*\",\":-*\",\":]\",\":^)\",\":}\",\n",
    "               \":>\",\":3\",\":b\",\":-b\",\":c)\",\":D\",\":-D\",\":O\",\":-O\",\":o)\",\":p\",\":-p\",\":P\",\":-P\",\":Þ\",\":-Þ\",\":X\",\n",
    "               \":-X\",\";)\",\";-)\",\";]\",\";D\",\"^)\",\"^.~\",\"_)m\",\" ~.^\",\"<=8\",\"<3\",\"<333\",\"=)\",\"=///=\",\"=]\",\"=^_^=\",\n",
    "               \"=<_<=\",\"=>.<=\",\" =>.>=\",\" =3\",\"=D\",\"=p\",\"0-0\",\"0w0\",\"8D\",\"8O\",\"B)\",\"C:\",\"d'-'\",\"d(>w<)b\",\":-)\",\n",
    "               \"d^_^b\",\"qB-)\",\"X3\",\"xD\",\"XD\",\"XP\",\"ʘ‿ʘ\",\"❤\",\"💜\",\"💚\",\"💕\",\"💙\",\"💛\",\"💓\",\"💝\",\"💖\",\"💞\",\n",
    "               \"💘\",\"💗\",\"😗\",\"😘\",\"😙\",\"😚\",\"😻\",\"😀\",\"😁\",\"😃\",\"☺\",\"😄\",\"😆\",\"😇\",\"😉\",\"😊\",\"😋\",\"😍\",\n",
    "               \"😎\",\"😏\",\"😛\",\"😜\",\"😝\",\"😮\",\"😸\",\"😹\",\"😺\",\"😻\",\"😼\",\"👍\"]\n",
    "\n",
    "neg_emoticons=[\"--!--\",\"(,_,)\",\"(-.-)\",\"(._.)\",\"(;.;)9\",\"(>.<)\",\"(>_<)\",\"(>_>)\",\"(¬_¬)\",\"(X_X)\",\":&\",\":(\",\":'(\",\n",
    "               \":-(\",\":-/\",\":-@[1]\",\":[\",\":\\\\\",\":{\",\":<\",\":-9\",\":c\",\":S\",\";(\",\";*(\",\";_;\",\"^>_>^\",\"^o)\",\"_|_\",\n",
    "               \"`_´\",\"</3\",\"<=3\",\"=/\",\"=\\\\\",\">:(\",\">:-(\",\"💔\",\"☹️\",\"😌\",\"😒\",\"😓\",\"😔\",\"😕\",\"😖\",\"😞\",\"😟\",\n",
    "               \"😠\",\"😡\",\"😢\",\"😣\",\"😤\",\"😥\",\"😦\",\"😧\",\"😨\",\"😩\",\"😪\",\"😫\",\"😬\",\"😭\",\"😯\",\"😰\",\"😱\",\"😲\",\n",
    "               \"😳\",\"😴\",\"😷\",\"😾\",\"😿\",\"🙀\",\"💀\",\"👎\"]\n",
    "\n",
    "emoticonsDict = {}\n",
    "for i,each in enumerate(pos_emoticons):\n",
    "    emoticonsDict[each]=' POS_EMOTICON_'+num2words.num2words(i).upper()+' '\n",
    "    \n",
    "for i,each in enumerate(neg_emoticons):\n",
    "    emoticonsDict[each]=' NEG_EMOTICON_'+num2words.num2words(i).upper()+' '\n",
    "    \n",
    "# use these three lines to do the replacement\n",
    "rep = dict((re.escape(k), v) for k, v in emoticonsDict.items())\n",
    "emoticonsPattern = re.compile(\"|\".join(rep.keys()))\n",
    "\n",
    "# Read in files\n",
    "def read_tweets(filename):\n",
    "    \"\"\"Read the raw tweet data from a file. Replace Emails etc with special tokens \"\"\"\n",
    "    with open(filename, 'r') as f:\n",
    "        all_lines=f.readlines()\n",
    "        padded_lines=[]\n",
    "        for line in all_lines:\n",
    "            line = emoticonsPattern.sub(lambda m: rep[re.escape(m.group(0))], line.lower().strip())\n",
    "            line=re.sub(r'(.)\\1{2,}', r'\\1\\1',line)\n",
    "            words_tokens=[token for token in TweetTokenizer().tokenize(line)]                    \n",
    "            line= ' '.join(token for token in words_tokens )         \n",
    "            padded_lines.append(line)\n",
    "    return padded_lines"
   ]
  },
  {
   "cell_type": "markdown",
   "metadata": {},
   "source": [
    "### Read in tweet training data and training labels, and combine into one data-frame"
   ]
  },
  {
   "cell_type": "code",
   "execution_count": 4,
   "metadata": {},
   "outputs": [
    {
     "data": {
      "text/html": [
       "<div>\n",
       "<table border=\"1\" class=\"dataframe\">\n",
       "  <thead>\n",
       "    <tr style=\"text-align: right;\">\n",
       "      <th></th>\n",
       "      <th>raw_tweets</th>\n",
       "      <th>labels</th>\n",
       "    </tr>\n",
       "  </thead>\n",
       "  <tbody>\n",
       "    <tr>\n",
       "      <th>0</th>\n",
       "      <td>going to fort smith today . stoked for the res...</td>\n",
       "      <td>1</td>\n",
       "    </tr>\n",
       "    <tr>\n",
       "      <th>1</th>\n",
       "      <td>argh .. omniture discover 2 is annoying me ..</td>\n",
       "      <td>0</td>\n",
       "    </tr>\n",
       "    <tr>\n",
       "      <th>2</th>\n",
       "      <td>@colinloretz hah ! thanks colin .</td>\n",
       "      <td>1</td>\n",
       "    </tr>\n",
       "  </tbody>\n",
       "</table>\n",
       "</div>"
      ],
      "text/plain": [
       "                                          raw_tweets  labels\n",
       "0  going to fort smith today . stoked for the res...       1\n",
       "1      argh .. omniture discover 2 is annoying me ..       0\n",
       "2                  @colinloretz hah ! thanks colin .       1"
      ]
     },
     "metadata": {},
     "output_type": "display_data"
    }
   ],
   "source": [
    "## Read in tweet file. Labels are 4 and 0 (4 being positive and 0 being negative)\n",
    "tweets = read_tweets(training_tweet_filename)\n",
    "\n",
    "with open(training_label_filename, 'r') as f:\n",
    "    all_lines=f.readlines()\n",
    "    tweet_labels = []\n",
    "    for line in all_lines:\n",
    "        line = line.strip()\n",
    "        label = 0\n",
    "        if line == '4':\n",
    "            label = 1\n",
    "        #else:\n",
    "        #    label = 'negative'\n",
    "        tweet_labels.append(label)\n",
    "\n",
    "df = pd.DataFrame({'raw_tweets':tweets, 'labels':tweet_labels}, columns=['raw_tweets','labels'])\n",
    "display(df[:3])"
   ]
  },
  {
   "cell_type": "code",
   "execution_count": 5,
   "metadata": {},
   "outputs": [
    {
     "data": {
      "text/plain": [
       "0    640152\n",
       "1    639848\n",
       "Name: labels, dtype: int64"
      ]
     },
     "execution_count": 5,
     "metadata": {},
     "output_type": "execute_result"
    }
   ],
   "source": [
    "## Count the labels in training set\n",
    "df['labels'].value_counts()"
   ]
  },
  {
   "cell_type": "markdown",
   "metadata": {},
   "source": [
    "### Use CallableVectorizer to pre-process tweets in a given dataframe\n",
    "#### This takes raw tweets and further processes them to generate processed tweets which are used to run training / testing"
   ]
  },
  {
   "cell_type": "code",
   "execution_count": 6,
   "metadata": {},
   "outputs": [
    {
     "name": "stdout",
     "output_type": "stream",
     "text": [
      "CallableVectorizer::tatk_fit_transform ==> start\n",
      "CallableVectorizer::tatk_fit_transform ==> end \t Time taken: 0.1 mins\n"
     ]
    },
    {
     "data": {
      "text/html": [
       "<div>\n",
       "<table border=\"1\" class=\"dataframe\">\n",
       "  <thead>\n",
       "    <tr style=\"text-align: right;\">\n",
       "      <th></th>\n",
       "      <th>raw_tweets</th>\n",
       "      <th>labels</th>\n",
       "      <th>tweets</th>\n",
       "    </tr>\n",
       "  </thead>\n",
       "  <tbody>\n",
       "    <tr>\n",
       "      <th>0</th>\n",
       "      <td>going to fort smith today . stoked for the res...</td>\n",
       "      <td>1</td>\n",
       "      <td>going to fort smith today . stoked for the res...</td>\n",
       "    </tr>\n",
       "    <tr>\n",
       "      <th>1</th>\n",
       "      <td>argh .. omniture discover 2 is annoying me ..</td>\n",
       "      <td>0</td>\n",
       "      <td>argh .. omniture discover 2 is annoying me ..</td>\n",
       "    </tr>\n",
       "    <tr>\n",
       "      <th>2</th>\n",
       "      <td>@colinloretz hah ! thanks colin .</td>\n",
       "      <td>1</td>\n",
       "      <td>AT colinloretz hah ! thanks colin .</td>\n",
       "    </tr>\n",
       "  </tbody>\n",
       "</table>\n",
       "</div>"
      ],
      "text/plain": [
       "                                          raw_tweets  labels  \\\n",
       "0  going to fort smith today . stoked for the res...       1   \n",
       "1      argh .. omniture discover 2 is annoying me ..       0   \n",
       "2                  @colinloretz hah ! thanks colin .       1   \n",
       "\n",
       "                                              tweets  \n",
       "0  going to fort smith today . stoked for the res...  \n",
       "1      argh .. omniture discover 2 is annoying me ..  \n",
       "2                AT colinloretz hah ! thanks colin .  "
      ]
     },
     "execution_count": 6,
     "metadata": {},
     "output_type": "execute_result"
    }
   ],
   "source": [
    "# Define functions wihch are to be used to pre-process tweets\n",
    "def to_lower_case(x):\n",
    "    return x.lower()\n",
    "\n",
    "def emailsReplace(x):\n",
    "    return x.replace(r'[\\w\\.-]+@[\\w\\.-]+', ' EMAIL ')\n",
    "\n",
    "def numsReplace(x):\n",
    "    return x.replace(r'[\\w\\.-]+@[\\w\\.-]+', ' NUM ')\n",
    "\n",
    "def userMentionsReplace(x):\n",
    "    return x.replace(r'(?<=^|(?<=[^a-zA-Z0-9-_\\.]))@([A-Za-z]+[A-Za-z0-9]+)', ' USER ')\n",
    "\n",
    "def urlReplace(x):\n",
    "    return x.replace(r'r(f|ht)(tp)(s?)(://)(.*)[.|/][^ ]+', ' URL ')\n",
    "\n",
    "def punctuationReplace(x):\n",
    "    return x.replace(r'(?<=\\w)[^\\s\\w](?![^\\s\\w])', ' PUN ')\n",
    "\n",
    "def atReplace(x):\n",
    "    return x.replace(r'@', ' AT ')\n",
    "\n",
    "# Chain functions into a list\n",
    "featFuncs=[to_lower_case, emailsReplace, numsReplace, userMentionsReplace, urlReplace, punctuationReplace, atReplace]\n",
    "\n",
    "# Create a transformer specifying functions, \n",
    "callable = CallableVectorizer(input_col=\"raw_tweets\", output_col=\"tweets\", feat_list=featFuncs, preprocessor = True)\n",
    "processed_df = callable.tatk_fit_transform(df)\n",
    "\n",
    "processed_df.head(3)\n"
   ]
  },
  {
   "cell_type": "code",
   "execution_count": 7,
   "metadata": {},
   "outputs": [
    {
     "data": {
      "text/html": [
       "<div>\n",
       "<table border=\"1\" class=\"dataframe\">\n",
       "  <thead>\n",
       "    <tr style=\"text-align: right;\">\n",
       "      <th></th>\n",
       "      <th>tweets</th>\n",
       "      <th>labels</th>\n",
       "    </tr>\n",
       "  </thead>\n",
       "  <tbody>\n",
       "    <tr>\n",
       "      <th>0</th>\n",
       "      <td>going to fort smith today . stoked for the res...</td>\n",
       "      <td>1</td>\n",
       "    </tr>\n",
       "    <tr>\n",
       "      <th>1</th>\n",
       "      <td>argh .. omniture discover 2 is annoying me ..</td>\n",
       "      <td>0</td>\n",
       "    </tr>\n",
       "    <tr>\n",
       "      <th>2</th>\n",
       "      <td>AT colinloretz hah ! thanks colin .</td>\n",
       "      <td>1</td>\n",
       "    </tr>\n",
       "  </tbody>\n",
       "</table>\n",
       "</div>"
      ],
      "text/plain": [
       "                                              tweets  labels\n",
       "0  going to fort smith today . stoked for the res...       1\n",
       "1      argh .. omniture discover 2 is annoying me ..       0\n",
       "2                AT colinloretz hah ! thanks colin .       1"
      ]
     },
     "execution_count": 7,
     "metadata": {},
     "output_type": "execute_result"
    }
   ],
   "source": [
    "processed_df[['tweets','labels']].head(3)"
   ]
  },
  {
   "cell_type": "markdown",
   "metadata": {},
   "source": [
    "### Split data into training and validation"
   ]
  },
  {
   "cell_type": "code",
   "execution_count": 8,
   "metadata": {},
   "outputs": [
    {
     "data": {
      "text/html": [
       "<div>\n",
       "<table border=\"1\" class=\"dataframe\">\n",
       "  <thead>\n",
       "    <tr style=\"text-align: right;\">\n",
       "      <th></th>\n",
       "      <th>raw_tweets</th>\n",
       "      <th>labels</th>\n",
       "      <th>tweets</th>\n",
       "    </tr>\n",
       "  </thead>\n",
       "  <tbody>\n",
       "    <tr>\n",
       "      <th>1186081</th>\n",
       "      <td>\" @glamorousvandal sure come within 10 days , ...</td>\n",
       "      <td>0</td>\n",
       "      <td>\"  AT glamorousvandal sure come within 10 days...</td>\n",
       "    </tr>\n",
       "    <tr>\n",
       "      <th>970629</th>\n",
       "      <td>is listening to my music now as i cant stand h...</td>\n",
       "      <td>1</td>\n",
       "      <td>is listening to my music now as i cant stand h...</td>\n",
       "    </tr>\n",
       "    <tr>\n",
       "      <th>640576</th>\n",
       "      <td>totally nothing</td>\n",
       "      <td>0</td>\n",
       "      <td>totally nothing</td>\n",
       "    </tr>\n",
       "  </tbody>\n",
       "</table>\n",
       "</div>"
      ],
      "text/plain": [
       "                                                raw_tweets  labels  \\\n",
       "1186081  \" @glamorousvandal sure come within 10 days , ...       0   \n",
       "970629   is listening to my music now as i cant stand h...       1   \n",
       "640576                                     totally nothing       0   \n",
       "\n",
       "                                                    tweets  \n",
       "1186081  \"  AT glamorousvandal sure come within 10 days...  \n",
       "970629   is listening to my music now as i cant stand h...  \n",
       "640576                                     totally nothing  "
      ]
     },
     "execution_count": 8,
     "metadata": {},
     "output_type": "execute_result"
    }
   ],
   "source": [
    "train, valid = train_test_split(df, test_size=0.33)\n",
    "train.head(3)"
   ]
  },
  {
   "cell_type": "markdown",
   "metadata": {},
   "source": [
    "## Scikit learn text classification pipeline"
   ]
  },
  {
   "cell_type": "markdown",
   "metadata": {},
   "source": [
    "### Define scikit learn pipeline"
   ]
  },
  {
   "cell_type": "code",
   "execution_count": 9,
   "metadata": {},
   "outputs": [
    {
     "name": "stdout",
     "output_type": "stream",
     "text": [
      "TextClassifier::create_pipeline ==> start\n",
      ":: number of jobs for the pipeline : 6\n",
      "0\ttweets_nltk_preprocessor\n",
      "1\ttweets_word2vec\n",
      "2\tassembler\n",
      "3\tlearner\n",
      "TextClassifier::create_pipeline ==> end\n"
     ]
    }
   ],
   "source": [
    "from sklearn.model_selection import ParameterGrid\n",
    "#params = {'tol': [0.0001, 0.001], 'max_iter': [5, 10]}\n",
    "\n",
    "## Define classifier from scikit learn\n",
    "log_reg_learner =  LogisticRegression(penalty='l2', dual=False, tol=0.0001, \n",
    "                            C=1.0, fit_intercept=True, intercept_scaling=1, \n",
    "                            class_weight=None, random_state=None, \n",
    "                            solver='lbfgs', max_iter=10, \n",
    "                            verbose=1, warm_start=True, n_jobs=3) \n",
    "\n",
    "# Train the model on tweets\n",
    "text_classifier = TextClassifier(embedding_file_path = w2v_embeddings_filename,\n",
    "                                estimator=log_reg_learner, \n",
    "                                extract_word_ngrams=False,\n",
    "                                text_cols = [\"tweets\"], \n",
    "                                label_cols = [\"labels\"])\n",
    "\n",
    "## Export parameters of the model\n",
    "text_classifier.export_params(params_file_path)"
   ]
  },
  {
   "cell_type": "markdown",
   "metadata": {},
   "source": [
    "### Fit classifier on training data"
   ]
  },
  {
   "cell_type": "code",
   "execution_count": 10,
   "metadata": {},
   "outputs": [
    {
     "name": "stdout",
     "output_type": "stream",
     "text": [
      "TextClassifier::fit ==> start\n",
      "schema: col=raw_tweets:TX:0 col=labels:I8:1 col=tweets:TX:2 header+\n",
      "NltkPreprocessor::tatk_fit_transform ==> start\n",
      "NltkPreprocessor::tatk_fit_transform ==> end \t Time taken: 0.32 mins\n",
      "Word2VecVectorizer::tatk_fit_transform ==> start\n",
      "Word2VecVectorizer::tatk_fit_transform ==> end \t Time taken: 1.42 mins\n",
      "VectorAssembler::transform ==> start, num of input records=857600\n",
      "(857600, 50)\n",
      "all_features::\n",
      "(857600, 50)\n",
      "Time taken: 0.01 mins\n",
      "VectorAssembler::transform ==> end\n",
      "LogisticRegression::tatk_fit ==> start\n"
     ]
    },
    {
     "name": "stderr",
     "output_type": "stream",
     "text": [
      "[Parallel(n_jobs=3)]: Done   1 out of   1 | elapsed:    9.3s finished\n"
     ]
    },
    {
     "name": "stdout",
     "output_type": "stream",
     "text": [
      "LogisticRegression::tatk_fit ==> end \t Time taken: 0.17 mins\n",
      "Time taken: 1.92 mins\n",
      "TextClassifier::fit ==> end\n"
     ]
    },
    {
     "data": {
      "text/plain": [
       "TextClassifier(add_index_col=False, callable_proprocessors_list=None,\n",
       "        cat_cols=None, char_hashing_original=False, col_prefix='tmp_00_',\n",
       "        decompose_n_grams=False, detect_phrases=False,\n",
       "        dictionary_categories=None, dictionary_file_path=None,\n",
       "        embedding_file_path='C:\\\\\\\\Users\\\\\\\\remoteuser\\\\\\\\Desktop\\\\\\\\Data\\\\\\\\Sentiment140_Classification\\\\w2vec.txt',\n",
       "        embedding_file_path_fastText=None, estimator=None,\n",
       "        estimator_vectorizers_list=None, extract_char_ngrams=False,\n",
       "        extract_word_ngrams=False, label_cols=['labels'],\n",
       "        numeric_cols=None, pos_tagger_vectorizer=False,\n",
       "        preprocessor_dictionary_file_path=None, regex_replcaement='',\n",
       "        replace_regex_pattern=None, scale_numeric_cols=False,\n",
       "        text_callable_list=None, text_cols=['tweets'],\n",
       "        text_regex_list=None, weight_col=None)"
      ]
     },
     "execution_count": 10,
     "metadata": {},
     "output_type": "execute_result"
    }
   ],
   "source": [
    "text_classifier.fit(train)"
   ]
  },
  {
   "cell_type": "markdown",
   "metadata": {},
   "source": [
    "### Save the scikit learn training pipleine"
   ]
  },
  {
   "cell_type": "code",
   "execution_count": 11,
   "metadata": {},
   "outputs": [
    {
     "name": "stdout",
     "output_type": "stream",
     "text": [
      "BaseTextModel::save ==> start\n",
      "TatkPipeline::save ==> start\n",
      "copy embedding file from  C:\\\\Users\\\\remoteuser\\\\Desktop\\\\Data\\\\Sentiment140_Classification\\w2vec.txt\n",
      "Time taken: 0.0 mins\n",
      "TatkPipeline::save ==> end\n",
      "Time taken: 0.06 mins\n",
      "BaseTextModel::save ==> end\n"
     ]
    }
   ],
   "source": [
    "text_classifier.save(sklearn_model_file)"
   ]
  },
  {
   "cell_type": "markdown",
   "metadata": {},
   "source": [
    "### Load and the training pipleine, predict and evaluate the accuracy on held-out validation set"
   ]
  },
  {
   "cell_type": "code",
   "execution_count": 53,
   "metadata": {},
   "outputs": [
    {
     "name": "stdout",
     "output_type": "stream",
     "text": [
      "BaseTextModel::load ==> start\n",
      "TatkPipeline::load ==> start\n",
      "Word2VecVectorizer: Word2Vec model loaded from C:\\\\Users\\\\remoteuser\\\\Desktop\\\\Data\\\\Sentiment140_Classification\\sk_model.zip 2018-05-31 06.19.09\\sk_model\\pipeline\\tweets_word2vec\\embedding_table.txt\n",
      "Time taken: 0.06 mins\n",
      "TatkPipeline::load ==> end\n",
      "Time taken: 0.07 mins\n",
      "BaseTextModel::load ==> end\n"
     ]
    }
   ],
   "source": [
    "text_classifier_reloaded = TextClassifier.load(sklearn_model_file)"
   ]
  },
  {
   "cell_type": "code",
   "execution_count": 55,
   "metadata": {},
   "outputs": [
    {
     "name": "stdout",
     "output_type": "stream",
     "text": [
      "TextClassifier ::predict ==> start\n",
      "NltkPreprocessor::tatk_transform ==> start\n",
      "NltkPreprocessor::tatk_transform ==> end \t Time taken: 0.16 mins\n",
      "Word2VecVectorizer::tatk_transform ==> start\n",
      "Word2VecVectorizer::tatk_transform ==> end \t Time taken: 0.7 mins\n",
      "VectorAssembler::transform ==> start, num of input records=422400\n",
      "(422400, 50)\n",
      "all_features::\n",
      "(422400, 50)\n",
      "Time taken: 0.01 mins\n",
      "VectorAssembler::transform ==> end\n",
      "LogisticRegression::tatk_predict_proba ==> start\n",
      "LogisticRegression::tatk_predict_proba ==> end \t Time taken: 0.03 mins\n",
      "LogisticRegression::tatk_predict ==> start\n",
      "LogisticRegression::tatk_predict ==> end \t Time taken: 0.03 mins\n",
      "Time taken: 0.93 mins\n",
      "TextClassifier ::predict ==> end\n",
      "Order of Labels in predicted probabilities saved to attribute label_order of the class object\n"
     ]
    },
    {
     "data": {
      "text/html": [
       "<div>\n",
       "<table border=\"1\" class=\"dataframe\">\n",
       "  <thead>\n",
       "    <tr style=\"text-align: right;\">\n",
       "      <th></th>\n",
       "      <th>tweets</th>\n",
       "      <th>labels</th>\n",
       "      <th>probabilities</th>\n",
       "      <th>prediction</th>\n",
       "    </tr>\n",
       "  </thead>\n",
       "  <tbody>\n",
       "    <tr>\n",
       "      <th>518808</th>\n",
       "      <td>AT kt_93 hehe i know</td>\n",
       "      <td>1</td>\n",
       "      <td>[0.27810977456126795, 0.721890225438732]</td>\n",
       "      <td>1</td>\n",
       "    </tr>\n",
       "    <tr>\n",
       "      <th>166749</th>\n",
       "      <td>AT katiecorless bollocks . i would of loved t...</td>\n",
       "      <td>0</td>\n",
       "      <td>[0.4726533465040218, 0.5273466534959782]</td>\n",
       "      <td>1</td>\n",
       "    </tr>\n",
       "    <tr>\n",
       "      <th>840126</th>\n",
       "      <td>AT porceleindoll come to wa and i'll help you...</td>\n",
       "      <td>1</td>\n",
       "      <td>[0.12090388768582727, 0.8790961123141727]</td>\n",
       "      <td>1</td>\n",
       "    </tr>\n",
       "  </tbody>\n",
       "</table>\n",
       "</div>"
      ],
      "text/plain": [
       "                                                   tweets  labels  \\\n",
       "518808                               AT kt_93 hehe i know       1   \n",
       "166749   AT katiecorless bollocks . i would of loved t...       0   \n",
       "840126   AT porceleindoll come to wa and i'll help you...       1   \n",
       "\n",
       "                                    probabilities  prediction  \n",
       "518808   [0.27810977456126795, 0.721890225438732]           1  \n",
       "166749   [0.4726533465040218, 0.5273466534959782]           1  \n",
       "840126  [0.12090388768582727, 0.8790961123141727]           1  "
      ]
     },
     "metadata": {},
     "output_type": "display_data"
    }
   ],
   "source": [
    "predicted_df = text_classifier_reloaded.predict(valid)\n",
    "display(predicted_df[:3])"
   ]
  },
  {
   "cell_type": "code",
   "execution_count": 56,
   "metadata": {},
   "outputs": [
    {
     "name": "stdout",
     "output_type": "stream",
     "text": [
      "TextClassifier ::evaluate ==> start\n",
      "Time taken: 0.02 mins\n",
      "TextClassifier ::evaluate ==> end\n",
      "TextClassifier ::evaluate ==> start\n",
      "Time taken: 0.02 mins\n",
      "TextClassifier ::evaluate ==> end\n",
      "Confusion matrix, without normalization\n"
     ]
    },
    {
     "data": {
      "image/png": "[encoded data removed]",
      "text/plain": [
       "<matplotlib.figure.Figure at 0x1a44bac26a0>"
      ]
     },
     "metadata": {},
     "output_type": "display_data"
    },
    {
     "data": {
      "text/plain": [
       "0.7524928200298536"
      ]
     },
     "execution_count": 56,
     "metadata": {},
     "output_type": "execute_result"
    }
   ],
   "source": [
    "text_classifier_reloaded.evaluate(valid)\n",
    "\n",
    "evaluations = text_classifier_reloaded.evaluate(valid)\n",
    "evaluations.plot_confusion_matrix(normalize=False,\n",
    "                                title='Confusion matrix, without normalization', \n",
    "                                print_confusion_matrix=False,\n",
    "                                figsize=(6,6),\n",
    "                                colors=None)\n",
    "evaluations.get_metrics('micro_avg_accuracy')\n",
    "evaluations.get_metrics('macro_avg_accuracy')"
   ]
  },
  {
   "cell_type": "markdown",
   "metadata": {},
   "source": [
    "## Keras classification pipeline"
   ]
  },
  {
   "cell_type": "markdown",
   "metadata": {},
   "source": [
    "### Define keras classifier"
   ]
  },
  {
   "cell_type": "code",
   "execution_count": 21,
   "metadata": {},
   "outputs": [
    {
     "name": "stdout",
     "output_type": "stream",
     "text": [
      "KerasEmbeddingTextClassifier::create_pipeline ==> start\n",
      "Word2VecVectorizer::load_embeddings ==> start\n",
      "Time taken: 0.06 mins\n",
      "Word2VecVectorizer::load_embeddings ==> end\n",
      "num_words=69953\n",
      ":: number of jobs for the pipeline : 6\n",
      "0\tnltk_preprocessor\n",
      "1\tvectorizer\n",
      "2\tlearner\n",
      "KerasEmbeddingTextClassifier::create_pipeline ==> end\n"
     ]
    }
   ],
   "source": [
    "from tatk.pipelines.text_classification.keras_embedding_text_classifier import KerasEmbeddingTextClassifier\n",
    "keras_text_classifier = KerasEmbeddingTextClassifier(embedding_file_path=w2v_embeddings_filename, \n",
    "                                                     input_col=\"tweets\", \n",
    "                                                     label_cols=\"labels\",\n",
    "                                                     model_type=\"CNN\",\n",
    "                                                     binary_format=False, \n",
    "                                                     callbacks=True)"
   ]
  },
  {
   "cell_type": "code",
   "execution_count": 22,
   "metadata": {},
   "outputs": [
    {
     "data": {
      "text/plain": [
       "{'batch_size': 250,\n",
       " 'callbacks_list': ['tensorboard', 'checkpoint', 'early'],\n",
       " 'cuda_devices': '0',\n",
       " 'feature_cols': ['features'],\n",
       " 'input_padding_value': 69952,\n",
       " 'label_cols': ['labels'],\n",
       " 'log_path': 'C:\\\\Users\\\\remoteuser\\\\tatk\\\\resources\\\\logs',\n",
       " 'max_len': None,\n",
       " 'model__class_type': 'single-label',\n",
       " 'model__dropout_rate': 0.5,\n",
       " 'model__hidden_dims': 100,\n",
       " 'model__init_wordvecs': array([[-1.03649604, -1.48352396, -1.07123899, ..., -0.95034897,\n",
       "         -0.069777  , -0.046452  ],\n",
       "        [ 0.082796  ,  0.90919   ,  0.30086401, ...,  0.24328201,\n",
       "         -0.70956302,  0.70759702],\n",
       "        [-0.845285  , -1.73459303, -1.39133   , ..., -0.99724901,\n",
       "          0.093811  , -0.59610701],\n",
       "        ...,\n",
       "        [ 0.116024  , -0.15468501, -0.126646  , ...,  0.12105   ,\n",
       "          0.037048  , -0.011772  ],\n",
       "        [ 0.00430944,  0.03613211, -0.04568701, ..., -0.01723733,\n",
       "         -0.16511534,  0.01022116],\n",
       "        [ 0.        ,  0.        ,  0.        , ...,  0.        ,\n",
       "          0.        ,  0.        ]]),\n",
       " 'model__kernel_size': [3, 4, 5],\n",
       " 'model__num_filters': 25,\n",
       " 'model__trainable_embedding': False,\n",
       " 'model__wordvecs_shape': (69953, 50),\n",
       " 'model_fn': <function tatk.estimators.keras_model_functions.keras_CNN_text_classifier_fn.keras_CNN_text_classifier_fn(with_embedding_layer, model_params, n_labels, num_features=None, num_sent_features=0)>,\n",
       " 'model_type': 'CNN',\n",
       " 'n_epochs': 10,\n",
       " 'n_labels': None,\n",
       " 'prediction_col': 'prediction',\n",
       " 'probabilities_col': 'probabilities',\n",
       " 'validation_split': 0.2}"
      ]
     },
     "execution_count": 22,
     "metadata": {},
     "output_type": "execute_result"
    }
   ],
   "source": [
    "# Set parameters\n",
    "keras_text_classifier.set_step_params_by_name(\"learner\", n_epochs = 10)\n",
    "keras_text_classifier.set_step_params_by_name(\"learner\", batch_size = 250)\n",
    "keras_text_classifier.set_step_params_by_name(\"learner\", validation_split = 0.2)\n",
    "\n",
    "keras_text_classifier.set_step_params_by_name(\"learner\", model__kernel_size=[3,4,5])\n",
    "keras_text_classifier.set_step_params_by_name(\"learner\", model__num_filters=25)\n",
    "keras_text_classifier.set_step_params_by_name(\"learner\", model__dropout_rate  = 0.5)\n",
    "keras_text_classifier.set_step_params_by_name(\"learner\", model__hidden_dims  = 100)\n",
    "\n",
    "keras_text_classifier.set_step_params_by_name(\"vectorizer\", get_from_path=False)\n",
    "\n",
    "# Get parameters\n",
    "keras_text_classifier.get_step_params_by_name(\"learner\")"
   ]
  },
  {
   "cell_type": "markdown",
   "metadata": {},
   "source": [
    "### Fit Keras classifier "
   ]
  },
  {
   "cell_type": "code",
   "execution_count": 23,
   "metadata": {},
   "outputs": [
    {
     "name": "stdout",
     "output_type": "stream",
     "text": [
      "KerasEmbeddingTextClassifier::fit ==> start\n",
      "schema: col=raw_tweets:TX:0 col=labels:I8:1 col=tweets:TX:2 header+\n",
      "NltkPreprocessor::tatk_fit_transform ==> start\n",
      "NltkPreprocessor::tatk_fit_transform ==> end \t Time taken: 0.33 mins\n",
      "Word2VecVectorizer::tatk_fit_transform ==> start\n",
      "Word2VecVectorizer::tatk_fit_transform ==> end \t Time taken: 0.24 mins\n",
      "KerasEmbeddingTextClassifierLearner::tatk_fit ==> start\n"
     ]
    },
    {
     "name": "stderr",
     "output_type": "stream",
     "text": [
      "Using TensorFlow backend.\n"
     ]
    },
    {
     "name": "stdout",
     "output_type": "stream",
     "text": [
      "__________________________________________________________________________________________________\n",
      "Layer (type)                    Output Shape         Param #     Connected to                     \n",
      "==================================================================================================\n",
      "input_1 (InputLayer)            (None, None)         0                                            \n",
      "__________________________________________________________________________________________________\n",
      "embedding_1 (Embedding)         (None, None, 50)     3497650     input_1[0][0]                    \n",
      "__________________________________________________________________________________________________\n",
      "conv1d_1 (Conv1D)               (None, None, 25)     3775        embedding_1[0][0]                \n",
      "__________________________________________________________________________________________________\n",
      "conv1d_2 (Conv1D)               (None, None, 25)     5025        embedding_1[0][0]                \n",
      "__________________________________________________________________________________________________\n",
      "conv1d_3 (Conv1D)               (None, None, 25)     6275        embedding_1[0][0]                \n",
      "__________________________________________________________________________________________________\n",
      "global_max_pooling1d_1 (GlobalM (None, 25)           0           conv1d_1[0][0]                   \n",
      "__________________________________________________________________________________________________\n",
      "global_max_pooling1d_2 (GlobalM (None, 25)           0           conv1d_2[0][0]                   \n",
      "__________________________________________________________________________________________________\n",
      "global_max_pooling1d_3 (GlobalM (None, 25)           0           conv1d_3[0][0]                   \n",
      "__________________________________________________________________________________________________\n",
      "concatenate_1 (Concatenate)     (None, 75)           0           global_max_pooling1d_1[0][0]     \n",
      "                                                                 global_max_pooling1d_2[0][0]     \n",
      "                                                                 global_max_pooling1d_3[0][0]     \n",
      "__________________________________________________________________________________________________\n",
      "dropout_1 (Dropout)             (None, 75)           0           concatenate_1[0][0]              \n",
      "__________________________________________________________________________________________________\n",
      "dense_1 (Dense)                 (None, 100)          7600        dropout_1[0][0]                  \n",
      "__________________________________________________________________________________________________\n",
      "activation_1 (Activation)       (None, 100)          0           dense_1[0][0]                    \n",
      "__________________________________________________________________________________________________\n",
      "dense_2 (Dense)                 (None, 2)            202         activation_1[0][0]               \n",
      "__________________________________________________________________________________________________\n",
      "activation_2 (Activation)       (None, 2)            0           dense_2[0][0]                    \n",
      "==================================================================================================\n",
      "Total params: 3,520,527\n",
      "Trainable params: 22,877\n",
      "Non-trainable params: 3,497,650\n",
      "__________________________________________________________________________________________________\n",
      "None\n",
      "Epoch 1/10\n"
     ]
    },
    {
     "name": "stdout",
     "output_type": "stream",
     "text": [
      "1547/2745 [===============>..............] - ETA: 1:53:33 - loss: 1.2908 - acc: 0.48 - ETA: 39:14 - loss: 1.2557 - acc: 0.5147 - ETA: 24:24 - loss: 1.2313 - acc: 0.49 - ETA: 15:45 - loss: 1.1944 - acc: 0.49 - ETA: 11:40 - loss: 1.1339 - acc: 0.48 - ETA: 9:31 - loss: 1.0706 - acc: 0.4992 - ETA: 7:39 - loss: 1.0243 - acc: 0.508 - ETA: 6:40 - loss: 0.9792 - acc: 0.516 - ETA: 5:06 - loss: 0.9221 - acc: 0.525 - ETA: 4:37 - loss: 0.8991 - acc: 0.530 - ETA: 4:01 - loss: 0.8706 - acc: 0.538 - ETA: 4:04 - loss: 0.8610 - acc: 0.539 - ETA: 3:47 - loss: 0.8486 - acc: 0.542 - ETA: 3:37 - loss: 0.8404 - acc: 0.544 - ETA: 3:03 - loss: 0.8167 - acc: 0.552 - ETA: 3:14 - loss: 0.8152 - acc: 0.553 - ETA: 3:18 - loss: 0.8087 - acc: 0.555 - ETA: 3:06 - loss: 0.7993 - acc: 0.558 - ETA: 3:10 - loss: 0.7931 - acc: 0.561 - ETA: 3:00 - loss: 0.7848 - acc: 0.564 - ETA: 2:57 - loss: 0.7819 - acc: 0.565 - ETA: 2:52 - loss: 0.7775 - acc: 0.568 - ETA: 2:52 - loss: 0.7709 - acc: 0.570 - ETA: 2:51 - loss: 0.7638 - acc: 0.574 - ETA: 2:46 - loss: 0.7546 - acc: 0.578 - ETA: 2:51 - loss: 0.7524 - acc: 0.579 - ETA: 2:46 - loss: 0.7482 - acc: 0.581 - ETA: 2:50 - loss: 0.7462 - acc: 0.582 - ETA: 2:46 - loss: 0.7383 - acc: 0.588 - ETA: 2:33 - loss: 0.7264 - acc: 0.595 - ETA: 2:23 - loss: 0.7202 - acc: 0.599 - ETA: 2:15 - loss: 0.7139 - acc: 0.603 - ETA: 2:08 - loss: 0.7082 - acc: 0.607 - ETA: 2:06 - loss: 0.7022 - acc: 0.611 - ETA: 2:07 - loss: 0.6988 - acc: 0.614 - ETA: 2:11 - loss: 0.6973 - acc: 0.615 - ETA: 2:11 - loss: 0.6968 - acc: 0.615 - ETA: 2:03 - loss: 0.6900 - acc: 0.620 - ETA: 2:02 - loss: 0.6856 - acc: 0.623 - ETA: 1:56 - loss: 0.6796 - acc: 0.627 - ETA: 1:58 - loss: 0.6782 - acc: 0.628 - ETA: 1:56 - loss: 0.6754 - acc: 0.630 - ETA: 1:59 - loss: 0.6748 - acc: 0.631 - ETA: 2:02 - loss: 0.6739 - acc: 0.632 - ETA: 1:57 - loss: 0.6691 - acc: 0.635 - ETA: 1:51 - loss: 0.6649 - acc: 0.638 - ETA: 1:47 - loss: 0.6610 - acc: 0.641 - ETA: 1:43 - loss: 0.6570 - acc: 0.644 - ETA: 1:39 - loss: 0.6529 - acc: 0.647 - ETA: 1:35 - loss: 0.6489 - acc: 0.650 - ETA: 1:32 - loss: 0.6448 - acc: 0.653 - ETA: 1:30 - loss: 0.6418 - acc: 0.656 - ETA: 1:29 - loss: 0.6407 - acc: 0.656 - ETA: 1:27 - loss: 0.6381 - acc: 0.658 - ETA: 1:26 - loss: 0.6362 - acc: 0.660 - ETA: 1:23 - loss: 0.6336 - acc: 0.662 - ETA: 1:24 - loss: 0.6327 - acc: 0.662 - ETA: 1:26 - loss: 0.6324 - acc: 0.663 - ETA: 1:24 - loss: 0.6295 - acc: 0.665 - ETA: 1:21 - loss: 0.6272 - acc: 0.667 - ETA: 1:19 - loss: 0.6245 - acc: 0.668 - ETA: 1:16 - loss: 0.6221 - acc: 0.670 - ETA: 1:14 - loss: 0.6194 - acc: 0.672 - ETA: 1:12 - loss: 0.6175 - acc: 0.674 - ETA: 1:12 - loss: 0.6167 - acc: 0.674 - ETA: 1:14 - loss: 0.6162 - acc: 0.675 - ETA: 1:15 - loss: 0.6160 - acc: 0.675 - ETA: 1:15 - loss: 0.6144 - acc: 0.676 - ETA: 1:13 - loss: 0.6121 - acc: 0.678 - ETA: 1:12 - loss: 0.6104 - acc: 0.679 - ETA: 1:10 - loss: 0.6091 - acc: 0.680 - ETA: 1:09 - loss: 0.6077 - acc: 0.681 - ETA: 1:07 - loss: 0.6061 - acc: 0.682 - ETA: 1:06 - loss: 0.6044 - acc: 0.683 - ETA: 1:06 - loss: 0.6042 - acc: 0.684 - ETA: 1:06 - loss: 0.6041 - acc: 0.684 - ETA: 1:07 - loss: 0.6033 - acc: 0.684 - ETA: 1:07 - loss: 0.6024 - acc: 0.685 - ETA: 1:05 - loss: 0.6011 - acc: 0.686 - ETA: 1:05 - loss: 0.6001 - acc: 0.686 - ETA: 1:03 - loss: 0.5985 - acc: 0.688 - ETA: 1:02 - loss: 0.5970 - acc: 0.689 - ETA: 1:03 - loss: 0.5964 - acc: 0.689 - ETA: 1:02 - loss: 0.5948 - acc: 0.690 - ETA: 1:01 - loss: 0.5934 - acc: 0.691 - ETA: 1:01 - loss: 0.5931 - acc: 0.692 - ETA: 1:00 - loss: 0.5916 - acc: 0.693 - ETA: 59s - loss: 0.5904 - acc: 0.694 - ETA: 58s - loss: 0.5892 - acc: 0.69 - ETA: 58s - loss: 0.5887 - acc: 0.69 - ETA: 57s - loss: 0.5875 - acc: 0.69 - ETA: 56s - loss: 0.5865 - acc: 0.69 - ETA: 55s - loss: 0.5851 - acc: 0.69 - ETA: 54s - loss: 0.5846 - acc: 0.69 - ETA: 55s - loss: 0.5839 - acc: 0.69 - ETA: 56s - loss: 0.5836 - acc: 0.69 - ETA: 55s - loss: 0.5822 - acc: 0.69 - ETA: 54s - loss: 0.5810 - acc: 0.70 - ETA: 53s - loss: 0.5799 - acc: 0.70 - ETA: 52s - loss: 0.5787 - acc: 0.70 - ETA: 52s - loss: 0.5784 - acc: 0.70 - ETA: 52s - loss: 0.5783 - acc: 0.70 - ETA: 51s - loss: 0.5772 - acc: 0.70 - ETA: 52s - loss: 0.5770 - acc: 0.70 - ETA: 53s - loss: 0.5768 - acc: 0.70 - ETA: 53s - loss: 0.5762 - acc: 0.70 - ETA: 52s - loss: 0.5754 - acc: 0.70 - ETA: 51s - loss: 0.5743 - acc: 0.70 - ETA: 52s - loss: 0.5741 - acc: 0.70 - ETA: 51s - loss: 0.5730 - acc: 0.70 - ETA: 50s - loss: 0.5720 - acc: 0.70 - ETA: 51s - loss: 0.5713 - acc: 0.70 - ETA: 50s - loss: 0.5702 - acc: 0.70 - ETA: 49s - loss: 0.5689 - acc: 0.70 - ETA: 48s - loss: 0.5679 - acc: 0.71 - ETA: 47s - loss: 0.5671 - acc: 0.71 - ETA: 48s - loss: 0.5670 - acc: 0.71 - ETA: 47s - loss: 0.5660 - acc: 0.71 - ETA: 47s - loss: 0.5651 - acc: 0.71 - ETA: 47s - loss: 0.5647 - acc: 0.71 - ETA: 46s - loss: 0.5640 - acc: 0.71 - ETA: 46s - loss: 0.5633 - acc: 0.71 - ETA: 45s - loss: 0.5626 - acc: 0.71 - ETA: 44s - loss: 0.5619 - acc: 0.71 - ETA: 44s - loss: 0.5613 - acc: 0.71 - ETA: 44s - loss: 0.5612 - acc: 0.71 - ETA: 44s - loss: 0.5606 - acc: 0.71 - ETA: 43s - loss: 0.5598 - acc: 0.71 - ETA: 44s - loss: 0.5596 - acc: 0.71 - ETA: 43s - loss: 0.5589 - acc: 0.71 - ETA: 42s - loss: 0.5582 - acc: 0.71 - ETA: 43s - loss: 0.5578 - acc: 0.71 - ETA: 42s - loss: 0.5570 - acc: 0.71 - ETA: 42s - loss: 0.5561 - acc: 0.71 - ETA: 41s - loss: 0.5554 - acc: 0.71 - ETA: 41s - loss: 0.5544 - acc: 0.71 - ETA: 41s - loss: 0.5542 - acc: 0.71 - ETA: 41s - loss: 0.5541 - acc: 0.71 - ETA: 40s - loss: 0.5533 - acc: 0.72 - ETA: 40s - loss: 0.5525 - acc: 0.72 - ETA: 39s - loss: 0.5522 - acc: 0.72 - ETA: 38s - loss: 0.5516 - acc: 0.72 - ETA: 38s - loss: 0.5509 - acc: 0.72 - ETA: 37s - loss: 0.5504 - acc: 0.72 - ETA: 38s - loss: 0.5501 - acc: 0.72 - ETA: 38s - loss: 0.5498 - acc: 0.72 - ETA: 38s - loss: 0.5493 - acc: 0.72 - ETA: 37s - loss: 0.5485 - acc: 0.72 - ETA: 38s - loss: 0.5484 - acc: 0.72 - ETA: 37s - loss: 0.5478 - acc: 0.72 - ETA: 37s - loss: 0.5475 - acc: 0.72 - ETA: 36s - loss: 0.5469 - acc: 0.72 - ETA: 36s - loss: 0.5463 - acc: 0.72 - ETA: 36s - loss: 0.5457 - acc: 0.72 - ETA: 36s - loss: 0.5456 - acc: 0.72 - ETA: 36s - loss: 0.5454 - acc: 0.72 - ETA: 36s - loss: 0.5450 - acc: 0.72 - ETA: 35s - loss: 0.5447 - acc: 0.72 - ETA: 36s - loss: 0.5446 - acc: 0.72 - ETA: 35s - loss: 0.5442 - acc: 0.72 - ETA: 35s - loss: 0.5438 - acc: 0.72 - ETA: 35s - loss: 0.5435 - acc: 0.72 - ETA: 35s - loss: 0.5431 - acc: 0.72 - ETA: 34s - loss: 0.5429 - acc: 0.72 - ETA: 34s - loss: 0.5424 - acc: 0.72 - ETA: 34s - loss: 0.5418 - acc: 0.72 - ETA: 33s - loss: 0.5411 - acc: 0.72 - ETA: 33s - loss: 0.5405 - acc: 0.72 - ETA: 32s - loss: 0.5401 - acc: 0.72 - ETA: 32s - loss: 0.5396 - acc: 0.72 - ETA: 31s - loss: 0.5391 - acc: 0.72 - ETA: 31s - loss: 0.5390 - acc: 0.72 - ETA: 31s - loss: 0.5385 - acc: 0.73 - ETA: 30s - loss: 0.5381 - acc: 0.73 - ETA: 30s - loss: 0.5376 - acc: 0.73 - ETA: 30s - loss: 0.5371 - acc: 0.73 - ETA: 29s - loss: 0.5366 - acc: 0.73 - ETA: 30s - loss: 0.5365 - acc: 0.73 - ETA: 29s - loss: 0.5359 - acc: 0.73 - ETA: 29s - loss: 0.5354 - acc: 0.73 - ETA: 29s - loss: 0.5350 - acc: 0.73 - ETA: 28s - loss: 0.5345 - acc: 0.73 - ETA: 28s - loss: 0.5342 - acc: 0.73 - ETA: 28s - loss: 0.5337 - acc: 0.73 - ETA: 28s - loss: 0.5335 - acc: 0.73 - ETA: 28s - loss: 0.5331 - acc: 0.73 - ETA: 27s - loss: 0.5329 - acc: 0.73 - ETA: 27s - loss: 0.5324 - acc: 0.73 - ETA: 26s - loss: 0.5320 - acc: 0.73 - ETA: 26s - loss: 0.5317 - acc: 0.73 - ETA: 26s - loss: 0.5313 - acc: 0.73 - ETA: 25s - loss: 0.5309 - acc: 0.73 - ETA: 25s - loss: 0.5308 - acc: 0.73 - ETA: 25s - loss: 0.5303 - acc: 0.73 - ETA: 25s - loss: 0.5299 - acc: 0.73 - ETA: 24s - loss: 0.5294 - acc: 0.73 - ETA: 24s - loss: 0.5290 - acc: 0.73 - ETA: 24s - loss: 0.5287 - acc: 0.73 - ETA: 24s - loss: 0.5287 - acc: 0.73 - ETA: 23s - loss: 0.5284 - acc: 0.73 - ETA: 23s - loss: 0.5283 - acc: 0.73 - ETA: 23s - loss: 0.5278 - acc: 0.73 - ETA: 23s - loss: 0.5275 - acc: 0.73 - ETA: 23s - loss: 0.5275 - acc: 0.73 - ETA: 23s - loss: 0.5274 - acc: 0.73 - ETA: 23s - loss: 0.5270 - acc: 0.73 - ETA: 22s - loss: 0.5268 - acc: 0.73 - ETA: 22s - loss: 0.5265 - acc: 0.73 - ETA: 22s - loss: 0.5262 - acc: 0.73 - ETA: 22s - loss: 0.5260 - acc: 0.73892741/2745 [============================>.] - ETA: 21s - loss: 0.5258 - acc: 0.73 - ETA: 21s - loss: 0.5256 - acc: 0.73 - ETA: 21s - loss: 0.5256 - acc: 0.73 - ETA: 21s - loss: 0.5253 - acc: 0.73 - ETA: 21s - loss: 0.5253 - acc: 0.73 - ETA: 21s - loss: 0.5251 - acc: 0.73 - ETA: 21s - loss: 0.5248 - acc: 0.73 - ETA: 20s - loss: 0.5243 - acc: 0.74 - ETA: 20s - loss: 0.5238 - acc: 0.74 - ETA: 20s - loss: 0.5235 - acc: 0.74 - ETA: 20s - loss: 0.5232 - acc: 0.74 - ETA: 19s - loss: 0.5230 - acc: 0.74 - ETA: 19s - loss: 0.5226 - acc: 0.74 - ETA: 19s - loss: 0.5223 - acc: 0.74 - ETA: 19s - loss: 0.5220 - acc: 0.74 - ETA: 18s - loss: 0.5217 - acc: 0.74 - ETA: 18s - loss: 0.5214 - acc: 0.74 - ETA: 18s - loss: 0.5211 - acc: 0.74 - ETA: 17s - loss: 0.5207 - acc: 0.74 - ETA: 17s - loss: 0.5205 - acc: 0.74 - ETA: 17s - loss: 0.5202 - acc: 0.74 - ETA: 17s - loss: 0.5200 - acc: 0.74 - ETA: 17s - loss: 0.5197 - acc: 0.74 - ETA: 16s - loss: 0.5196 - acc: 0.74 - ETA: 16s - loss: 0.5192 - acc: 0.74 - ETA: 16s - loss: 0.5190 - acc: 0.74 - ETA: 16s - loss: 0.5187 - acc: 0.74 - ETA: 15s - loss: 0.5184 - acc: 0.74 - ETA: 15s - loss: 0.5181 - acc: 0.74 - ETA: 15s - loss: 0.5178 - acc: 0.74 - ETA: 15s - loss: 0.5176 - acc: 0.74 - ETA: 14s - loss: 0.5173 - acc: 0.74 - ETA: 14s - loss: 0.5169 - acc: 0.74 - ETA: 14s - loss: 0.5166 - acc: 0.74 - ETA: 14s - loss: 0.5163 - acc: 0.74 - ETA: 14s - loss: 0.5162 - acc: 0.74 - ETA: 13s - loss: 0.5159 - acc: 0.74 - ETA: 13s - loss: 0.5158 - acc: 0.74 - ETA: 13s - loss: 0.5155 - acc: 0.74 - ETA: 13s - loss: 0.5152 - acc: 0.74 - ETA: 13s - loss: 0.5150 - acc: 0.74 - ETA: 12s - loss: 0.5148 - acc: 0.74 - ETA: 12s - loss: 0.5145 - acc: 0.74 - ETA: 12s - loss: 0.5143 - acc: 0.74 - ETA: 12s - loss: 0.5139 - acc: 0.74 - ETA: 12s - loss: 0.5138 - acc: 0.74 - ETA: 11s - loss: 0.5135 - acc: 0.74 - ETA: 11s - loss: 0.5132 - acc: 0.74 - ETA: 11s - loss: 0.5129 - acc: 0.74 - ETA: 11s - loss: 0.5126 - acc: 0.74 - ETA: 11s - loss: 0.5125 - acc: 0.74 - ETA: 10s - loss: 0.5123 - acc: 0.74 - ETA: 10s - loss: 0.5121 - acc: 0.74 - ETA: 10s - loss: 0.5118 - acc: 0.74 - ETA: 10s - loss: 0.5116 - acc: 0.74 - ETA: 10s - loss: 0.5114 - acc: 0.74 - ETA: 9s - loss: 0.5110 - acc: 0.7490 - ETA: 9s - loss: 0.5108 - acc: 0.749 - ETA: 9s - loss: 0.5106 - acc: 0.749 - ETA: 9s - loss: 0.5104 - acc: 0.749 - ETA: 9s - loss: 0.5102 - acc: 0.749 - ETA: 8s - loss: 0.5100 - acc: 0.749 - ETA: 8s - loss: 0.5097 - acc: 0.749 - ETA: 8s - loss: 0.5095 - acc: 0.749 - ETA: 8s - loss: 0.5093 - acc: 0.750 - ETA: 8s - loss: 0.5091 - acc: 0.750 - ETA: 8s - loss: 0.5090 - acc: 0.750 - ETA: 7s - loss: 0.5088 - acc: 0.750 - ETA: 7s - loss: 0.5086 - acc: 0.750 - ETA: 7s - loss: 0.5084 - acc: 0.750 - ETA: 7s - loss: 0.5083 - acc: 0.750 - ETA: 7s - loss: 0.5080 - acc: 0.751 - ETA: 6s - loss: 0.5078 - acc: 0.751 - ETA: 6s - loss: 0.5076 - acc: 0.751 - ETA: 6s - loss: 0.5074 - acc: 0.751 - ETA: 6s - loss: 0.5071 - acc: 0.751 - ETA: 6s - loss: 0.5070 - acc: 0.751 - ETA: 6s - loss: 0.5068 - acc: 0.751 - ETA: 6s - loss: 0.5067 - acc: 0.751 - ETA: 5s - loss: 0.5066 - acc: 0.752 - ETA: 5s - loss: 0.5065 - acc: 0.752 - ETA: 5s - loss: 0.5064 - acc: 0.752 - ETA: 5s - loss: 0.5062 - acc: 0.752 - ETA: 5s - loss: 0.5060 - acc: 0.752 - ETA: 5s - loss: 0.5059 - acc: 0.752 - ETA: 5s - loss: 0.5056 - acc: 0.752 - ETA: 4s - loss: 0.5055 - acc: 0.752 - ETA: 4s - loss: 0.5052 - acc: 0.752 - ETA: 4s - loss: 0.5050 - acc: 0.753 - ETA: 4s - loss: 0.5048 - acc: 0.753 - ETA: 4s - loss: 0.5046 - acc: 0.753 - ETA: 4s - loss: 0.5044 - acc: 0.753 - ETA: 4s - loss: 0.5042 - acc: 0.753 - ETA: 3s - loss: 0.5040 - acc: 0.753 - ETA: 3s - loss: 0.5039 - acc: 0.753 - ETA: 3s - loss: 0.5036 - acc: 0.754 - ETA: 3s - loss: 0.5035 - acc: 0.754 - ETA: 3s - loss: 0.5033 - acc: 0.754 - ETA: 3s - loss: 0.5030 - acc: 0.754 - ETA: 2s - loss: 0.5029 - acc: 0.754 - ETA: 2s - loss: 0.5027 - acc: 0.754 - ETA: 2s - loss: 0.5026 - acc: 0.754 - ETA: 2s - loss: 0.5025 - acc: 0.754 - ETA: 2s - loss: 0.5023 - acc: 0.754 - ETA: 2s - loss: 0.5022 - acc: 0.754 - ETA: 2s - loss: 0.5019 - acc: 0.755 - ETA: 1s - loss: 0.5017 - acc: 0.755 - ETA: 1s - loss: 0.5015 - acc: 0.755 - ETA: 1s - loss: 0.5014 - acc: 0.755 - ETA: 1s - loss: 0.5012 - acc: 0.755 - ETA: 1s - loss: 0.5011 - acc: 0.755 - ETA: 1s - loss: 0.5009 - acc: 0.755 - ETA: 1s - loss: 0.5007 - acc: 0.756 - ETA: 0s - loss: 0.5005 - acc: 0.756 - ETA: 0s - loss: 0.5005 - acc: 0.756 - ETA: 0s - loss: 0.5004 - acc: 0.756 - ETA: 0s - loss: 0.5002 - acc: 0.756 - ETA: 0s - loss: 0.5001 - acc: 0.756 - ETA: 0s - loss: 0.5000 - acc: 0.756 - ETA: 0s - loss: 0.4999 - acc: 0.756 - ETA: 0s - loss: 0.4998 - acc: 0.756 - ETA: 0s - loss: 0.4998 - acc: 0.756 - ETA: 0s - loss: 0.4998 - acc: 0.756 - ETA: 0s - loss: 0.4998 - acc: 0.7566\n",
      "Epoch 00001: val_loss improved from inf to 0.47645, saving model to C:\\Users\\remoteuser\\tatk\\resources\\logs\\checkpoints\n",
      "2745/2745 [==============================] - 40s 15ms/step - loss: 0.4998 - acc: 0.7566 - val_loss: 0.4764 - val_acc: 0.7917\n",
      "Epoch 2/10\n"
     ]
    },
    {
     "name": "stdout",
     "output_type": "stream",
     "text": [
      "2199/2745 [=======================>......] - ETA: 16s - loss: 0.4706 - acc: 0.77 - ETA: 13s - loss: 0.4439 - acc: 0.79 - ETA: 14s - loss: 0.4591 - acc: 0.78 - ETA: 13s - loss: 0.4584 - acc: 0.78 - ETA: 13s - loss: 0.4610 - acc: 0.78 - ETA: 13s - loss: 0.4571 - acc: 0.78 - ETA: 13s - loss: 0.4566 - acc: 0.78 - ETA: 13s - loss: 0.4569 - acc: 0.78 - ETA: 13s - loss: 0.4567 - acc: 0.78 - ETA: 13s - loss: 0.4564 - acc: 0.78 - ETA: 13s - loss: 0.4572 - acc: 0.78 - ETA: 13s - loss: 0.4571 - acc: 0.78 - ETA: 13s - loss: 0.4577 - acc: 0.78 - ETA: 13s - loss: 0.4585 - acc: 0.78 - ETA: 13s - loss: 0.4571 - acc: 0.78 - ETA: 13s - loss: 0.4563 - acc: 0.78 - ETA: 13s - loss: 0.4559 - acc: 0.78 - ETA: 13s - loss: 0.4565 - acc: 0.78 - ETA: 13s - loss: 0.4579 - acc: 0.78 - ETA: 13s - loss: 0.4584 - acc: 0.78 - ETA: 13s - loss: 0.4585 - acc: 0.78 - ETA: 13s - loss: 0.4589 - acc: 0.78 - ETA: 12s - loss: 0.4587 - acc: 0.78 - ETA: 12s - loss: 0.4583 - acc: 0.78 - ETA: 12s - loss: 0.4582 - acc: 0.78 - ETA: 12s - loss: 0.4584 - acc: 0.78 - ETA: 12s - loss: 0.4582 - acc: 0.78 - ETA: 12s - loss: 0.4589 - acc: 0.78 - ETA: 12s - loss: 0.4587 - acc: 0.78 - ETA: 12s - loss: 0.4579 - acc: 0.78 - ETA: 12s - loss: 0.4570 - acc: 0.78 - ETA: 12s - loss: 0.4573 - acc: 0.78 - ETA: 12s - loss: 0.4576 - acc: 0.78 - ETA: 12s - loss: 0.4580 - acc: 0.78 - ETA: 12s - loss: 0.4577 - acc: 0.78 - ETA: 12s - loss: 0.4570 - acc: 0.78 - ETA: 12s - loss: 0.4572 - acc: 0.78 - ETA: 12s - loss: 0.4571 - acc: 0.78 - ETA: 12s - loss: 0.4567 - acc: 0.78 - ETA: 12s - loss: 0.4567 - acc: 0.78 - ETA: 12s - loss: 0.4566 - acc: 0.78 - ETA: 11s - loss: 0.4565 - acc: 0.78 - ETA: 11s - loss: 0.4561 - acc: 0.78 - ETA: 11s - loss: 0.4563 - acc: 0.78 - ETA: 11s - loss: 0.4567 - acc: 0.78 - ETA: 11s - loss: 0.4569 - acc: 0.78 - ETA: 11s - loss: 0.4572 - acc: 0.78 - ETA: 11s - loss: 0.4573 - acc: 0.78 - ETA: 11s - loss: 0.4571 - acc: 0.78 - ETA: 11s - loss: 0.4570 - acc: 0.78 - ETA: 11s - loss: 0.4569 - acc: 0.78 - ETA: 11s - loss: 0.4570 - acc: 0.78 - ETA: 11s - loss: 0.4568 - acc: 0.78 - ETA: 11s - loss: 0.4568 - acc: 0.78 - ETA: 11s - loss: 0.4569 - acc: 0.78 - ETA: 11s - loss: 0.4567 - acc: 0.78 - ETA: 11s - loss: 0.4567 - acc: 0.78 - ETA: 11s - loss: 0.4568 - acc: 0.78 - ETA: 11s - loss: 0.4565 - acc: 0.78 - ETA: 10s - loss: 0.4566 - acc: 0.78 - ETA: 10s - loss: 0.4564 - acc: 0.78 - ETA: 10s - loss: 0.4565 - acc: 0.78 - ETA: 10s - loss: 0.4566 - acc: 0.78 - ETA: 10s - loss: 0.4563 - acc: 0.78 - ETA: 10s - loss: 0.4564 - acc: 0.78 - ETA: 10s - loss: 0.4561 - acc: 0.78 - ETA: 10s - loss: 0.4559 - acc: 0.78 - ETA: 10s - loss: 0.4559 - acc: 0.78 - ETA: 10s - loss: 0.4558 - acc: 0.78 - ETA: 10s - loss: 0.4559 - acc: 0.78 - ETA: 10s - loss: 0.4559 - acc: 0.78 - ETA: 10s - loss: 0.4560 - acc: 0.78 - ETA: 10s - loss: 0.4559 - acc: 0.78 - ETA: 10s - loss: 0.4559 - acc: 0.78 - ETA: 10s - loss: 0.4558 - acc: 0.78 - ETA: 10s - loss: 0.4559 - acc: 0.78 - ETA: 10s - loss: 0.4559 - acc: 0.78 - ETA: 10s - loss: 0.4559 - acc: 0.78 - ETA: 10s - loss: 0.4561 - acc: 0.78 - ETA: 10s - loss: 0.4563 - acc: 0.78 - ETA: 10s - loss: 0.4562 - acc: 0.78 - ETA: 9s - loss: 0.4562 - acc: 0.7842 - ETA: 9s - loss: 0.4561 - acc: 0.784 - ETA: 9s - loss: 0.4559 - acc: 0.784 - ETA: 10s - loss: 0.4559 - acc: 0.78 - ETA: 10s - loss: 0.4562 - acc: 0.78 - ETA: 10s - loss: 0.4558 - acc: 0.78 - ETA: 10s - loss: 0.4558 - acc: 0.78 - ETA: 10s - loss: 0.4558 - acc: 0.78 - ETA: 9s - loss: 0.4559 - acc: 0.7845 - ETA: 9s - loss: 0.4557 - acc: 0.784 - ETA: 9s - loss: 0.4557 - acc: 0.784 - ETA: 9s - loss: 0.4556 - acc: 0.784 - ETA: 9s - loss: 0.4557 - acc: 0.784 - ETA: 9s - loss: 0.4555 - acc: 0.784 - ETA: 9s - loss: 0.4555 - acc: 0.784 - ETA: 9s - loss: 0.4556 - acc: 0.784 - ETA: 9s - loss: 0.4557 - acc: 0.784 - ETA: 9s - loss: 0.4556 - acc: 0.784 - ETA: 9s - loss: 0.4555 - acc: 0.785 - ETA: 9s - loss: 0.4555 - acc: 0.785 - ETA: 9s - loss: 0.4555 - acc: 0.785 - ETA: 9s - loss: 0.4554 - acc: 0.785 - ETA: 9s - loss: 0.4554 - acc: 0.785 - ETA: 9s - loss: 0.4553 - acc: 0.785 - ETA: 8s - loss: 0.4555 - acc: 0.784 - ETA: 8s - loss: 0.4555 - acc: 0.784 - ETA: 8s - loss: 0.4554 - acc: 0.784 - ETA: 8s - loss: 0.4555 - acc: 0.784 - ETA: 8s - loss: 0.4555 - acc: 0.784 - ETA: 8s - loss: 0.4556 - acc: 0.784 - ETA: 8s - loss: 0.4554 - acc: 0.785 - ETA: 8s - loss: 0.4554 - acc: 0.785 - ETA: 8s - loss: 0.4553 - acc: 0.785 - ETA: 8s - loss: 0.4554 - acc: 0.784 - ETA: 8s - loss: 0.4555 - acc: 0.784 - ETA: 8s - loss: 0.4556 - acc: 0.784 - ETA: 8s - loss: 0.4556 - acc: 0.784 - ETA: 8s - loss: 0.4554 - acc: 0.784 - ETA: 8s - loss: 0.4554 - acc: 0.785 - ETA: 7s - loss: 0.4555 - acc: 0.784 - ETA: 7s - loss: 0.4555 - acc: 0.784 - ETA: 7s - loss: 0.4555 - acc: 0.784 - ETA: 7s - loss: 0.4555 - acc: 0.784 - ETA: 7s - loss: 0.4555 - acc: 0.784 - ETA: 7s - loss: 0.4556 - acc: 0.784 - ETA: 7s - loss: 0.4555 - acc: 0.784 - ETA: 7s - loss: 0.4555 - acc: 0.784 - ETA: 7s - loss: 0.4556 - acc: 0.784 - ETA: 7s - loss: 0.4555 - acc: 0.784 - ETA: 7s - loss: 0.4554 - acc: 0.784 - ETA: 7s - loss: 0.4552 - acc: 0.785 - ETA: 7s - loss: 0.4552 - acc: 0.785 - ETA: 7s - loss: 0.4553 - acc: 0.784 - ETA: 7s - loss: 0.4554 - acc: 0.784 - ETA: 7s - loss: 0.4554 - acc: 0.784 - ETA: 7s - loss: 0.4554 - acc: 0.784 - ETA: 7s - loss: 0.4555 - acc: 0.784 - ETA: 6s - loss: 0.4553 - acc: 0.784 - ETA: 6s - loss: 0.4553 - acc: 0.784 - ETA: 6s - loss: 0.4552 - acc: 0.784 - ETA: 6s - loss: 0.4553 - acc: 0.784 - ETA: 6s - loss: 0.4552 - acc: 0.784 - ETA: 6s - loss: 0.4550 - acc: 0.785 - ETA: 6s - loss: 0.4551 - acc: 0.784 - ETA: 6s - loss: 0.4550 - acc: 0.785 - ETA: 6s - loss: 0.4549 - acc: 0.785 - ETA: 6s - loss: 0.4549 - acc: 0.785 - ETA: 6s - loss: 0.4550 - acc: 0.785 - ETA: 6s - loss: 0.4550 - acc: 0.785 - ETA: 6s - loss: 0.4550 - acc: 0.785 - ETA: 6s - loss: 0.4551 - acc: 0.785 - ETA: 6s - loss: 0.4551 - acc: 0.785 - ETA: 6s - loss: 0.4551 - acc: 0.785 - ETA: 6s - loss: 0.4551 - acc: 0.784 - ETA: 5s - loss: 0.4551 - acc: 0.785 - ETA: 5s - loss: 0.4550 - acc: 0.784 - ETA: 5s - loss: 0.4552 - acc: 0.784 - ETA: 5s - loss: 0.4551 - acc: 0.784 - ETA: 5s - loss: 0.4551 - acc: 0.784 - ETA: 5s - loss: 0.4551 - acc: 0.784 - ETA: 5s - loss: 0.4550 - acc: 0.784 - ETA: 5s - loss: 0.4550 - acc: 0.784 - ETA: 5s - loss: 0.4550 - acc: 0.784 - ETA: 5s - loss: 0.4550 - acc: 0.784 - ETA: 5s - loss: 0.4550 - acc: 0.784 - ETA: 5s - loss: 0.4550 - acc: 0.784 - ETA: 5s - loss: 0.4550 - acc: 0.784 - ETA: 5s - loss: 0.4550 - acc: 0.784 - ETA: 5s - loss: 0.4550 - acc: 0.784 - ETA: 5s - loss: 0.4549 - acc: 0.784 - ETA: 5s - loss: 0.4548 - acc: 0.784 - ETA: 5s - loss: 0.4548 - acc: 0.784 - ETA: 5s - loss: 0.4547 - acc: 0.784 - ETA: 4s - loss: 0.4546 - acc: 0.785 - ETA: 4s - loss: 0.4546 - acc: 0.785 - ETA: 4s - loss: 0.4544 - acc: 0.785 - ETA: 4s - loss: 0.4545 - acc: 0.785 - ETA: 4s - loss: 0.4544 - acc: 0.785 - ETA: 4s - loss: 0.4543 - acc: 0.785 - ETA: 4s - loss: 0.4543 - acc: 0.785 - ETA: 4s - loss: 0.4542 - acc: 0.785 - ETA: 4s - loss: 0.4543 - acc: 0.785 - ETA: 4s - loss: 0.4543 - acc: 0.785 - ETA: 4s - loss: 0.4543 - acc: 0.785 - ETA: 4s - loss: 0.4544 - acc: 0.785 - ETA: 4s - loss: 0.4543 - acc: 0.785 - ETA: 4s - loss: 0.4544 - acc: 0.785 - ETA: 4s - loss: 0.4543 - acc: 0.785 - ETA: 4s - loss: 0.4543 - acc: 0.785 - ETA: 4s - loss: 0.4544 - acc: 0.785 - ETA: 4s - loss: 0.4544 - acc: 0.785 - ETA: 4s - loss: 0.4543 - acc: 0.785 - ETA: 3s - loss: 0.4542 - acc: 0.785 - ETA: 3s - loss: 0.4542 - acc: 0.785 - ETA: 3s - loss: 0.4542 - acc: 0.785 - ETA: 3s - loss: 0.4541 - acc: 0.785 - ETA: 3s - loss: 0.4541 - acc: 0.785 - ETA: 3s - loss: 0.4540 - acc: 0.785 - ETA: 3s - loss: 0.4541 - acc: 0.785 - ETA: 3s - loss: 0.4541 - acc: 0.785 - ETA: 3s - loss: 0.4542 - acc: 0.785 - ETA: 3s - loss: 0.4542 - acc: 0.785 - ETA: 3s - loss: 0.4542 - acc: 0.785 - ETA: 3s - loss: 0.4541 - acc: 0.785 - ETA: 3s - loss: 0.4541 - acc: 0.785 - ETA: 3s - loss: 0.4540 - acc: 0.785 - ETA: 3s - loss: 0.4539 - acc: 0.785 - ETA: 3s - loss: 0.4539 - acc: 0.785 - ETA: 3s - loss: 0.4539 - acc: 0.785 - ETA: 3s - loss: 0.4539 - acc: 0.785 - ETA: 3s - loss: 0.4539 - acc: 0.785 - ETA: 2s - loss: 0.4540 - acc: 0.785 - ETA: 2s - loss: 0.4539 - acc: 0.785 - ETA: 2s - loss: 0.4539 - acc: 0.7856"
     ]
    },
    {
     "name": "stdout",
     "output_type": "stream",
     "text": [
      "2739/2745 [============================>.] - ETA: 2s - loss: 0.4539 - acc: 0.785 - ETA: 2s - loss: 0.4539 - acc: 0.785 - ETA: 2s - loss: 0.4539 - acc: 0.785 - ETA: 2s - loss: 0.4538 - acc: 0.785 - ETA: 2s - loss: 0.4539 - acc: 0.785 - ETA: 2s - loss: 0.4539 - acc: 0.785 - ETA: 2s - loss: 0.4539 - acc: 0.785 - ETA: 2s - loss: 0.4539 - acc: 0.785 - ETA: 2s - loss: 0.4539 - acc: 0.785 - ETA: 2s - loss: 0.4538 - acc: 0.785 - ETA: 2s - loss: 0.4538 - acc: 0.785 - ETA: 2s - loss: 0.4537 - acc: 0.785 - ETA: 2s - loss: 0.4538 - acc: 0.785 - ETA: 2s - loss: 0.4537 - acc: 0.785 - ETA: 2s - loss: 0.4536 - acc: 0.785 - ETA: 1s - loss: 0.4536 - acc: 0.785 - ETA: 1s - loss: 0.4535 - acc: 0.785 - ETA: 1s - loss: 0.4535 - acc: 0.785 - ETA: 1s - loss: 0.4535 - acc: 0.785 - ETA: 1s - loss: 0.4534 - acc: 0.785 - ETA: 1s - loss: 0.4535 - acc: 0.785 - ETA: 1s - loss: 0.4535 - acc: 0.785 - ETA: 1s - loss: 0.4535 - acc: 0.785 - ETA: 1s - loss: 0.4534 - acc: 0.785 - ETA: 1s - loss: 0.4533 - acc: 0.785 - ETA: 1s - loss: 0.4533 - acc: 0.786 - ETA: 1s - loss: 0.4533 - acc: 0.786 - ETA: 1s - loss: 0.4534 - acc: 0.785 - ETA: 1s - loss: 0.4533 - acc: 0.786 - ETA: 1s - loss: 0.4533 - acc: 0.786 - ETA: 1s - loss: 0.4533 - acc: 0.786 - ETA: 1s - loss: 0.4532 - acc: 0.786 - ETA: 1s - loss: 0.4532 - acc: 0.786 - ETA: 1s - loss: 0.4532 - acc: 0.786 - ETA: 0s - loss: 0.4531 - acc: 0.786 - ETA: 0s - loss: 0.4532 - acc: 0.786 - ETA: 0s - loss: 0.4532 - acc: 0.786 - ETA: 0s - loss: 0.4533 - acc: 0.786 - ETA: 0s - loss: 0.4533 - acc: 0.786 - ETA: 0s - loss: 0.4533 - acc: 0.786 - ETA: 0s - loss: 0.4533 - acc: 0.786 - ETA: 0s - loss: 0.4533 - acc: 0.786 - ETA: 0s - loss: 0.4533 - acc: 0.786 - ETA: 0s - loss: 0.4533 - acc: 0.786 - ETA: 0s - loss: 0.4532 - acc: 0.786 - ETA: 0s - loss: 0.4533 - acc: 0.786 - ETA: 0s - loss: 0.4532 - acc: 0.786 - ETA: 0s - loss: 0.4532 - acc: 0.786 - ETA: 0s - loss: 0.4532 - acc: 0.786 - ETA: 0s - loss: 0.4532 - acc: 0.786 - ETA: 0s - loss: 0.4531 - acc: 0.786 - ETA: 0s - loss: 0.4530 - acc: 0.786 - ETA: 0s - loss: 0.4530 - acc: 0.786 - ETA: 0s - loss: 0.4530 - acc: 0.7864\n",
      "Epoch 00002: val_loss improved from 0.47645 to 0.45995, saving model to C:\\Users\\remoteuser\\tatk\\resources\\logs\\checkpoints\n",
      "2745/2745 [==============================] - 17s 6ms/step - loss: 0.4531 - acc: 0.7864 - val_loss: 0.4599 - val_acc: 0.7984\n",
      "Epoch 3/10\n"
     ]
    },
    {
     "name": "stdout",
     "output_type": "stream",
     "text": [
      "2142/2745 [======================>.......] - ETA: 13s - loss: 0.4675 - acc: 0.78 - ETA: 13s - loss: 0.4540 - acc: 0.79 - ETA: 13s - loss: 0.4514 - acc: 0.79 - ETA: 13s - loss: 0.4536 - acc: 0.78 - ETA: 13s - loss: 0.4489 - acc: 0.78 - ETA: 13s - loss: 0.4498 - acc: 0.78 - ETA: 13s - loss: 0.4516 - acc: 0.78 - ETA: 13s - loss: 0.4490 - acc: 0.78 - ETA: 13s - loss: 0.4490 - acc: 0.78 - ETA: 13s - loss: 0.4483 - acc: 0.78 - ETA: 13s - loss: 0.4470 - acc: 0.78 - ETA: 13s - loss: 0.4480 - acc: 0.78 - ETA: 13s - loss: 0.4464 - acc: 0.78 - ETA: 13s - loss: 0.4457 - acc: 0.79 - ETA: 13s - loss: 0.4467 - acc: 0.78 - ETA: 13s - loss: 0.4468 - acc: 0.78 - ETA: 13s - loss: 0.4471 - acc: 0.78 - ETA: 13s - loss: 0.4471 - acc: 0.78 - ETA: 13s - loss: 0.4464 - acc: 0.78 - ETA: 13s - loss: 0.4463 - acc: 0.78 - ETA: 13s - loss: 0.4454 - acc: 0.79 - ETA: 13s - loss: 0.4455 - acc: 0.79 - ETA: 13s - loss: 0.4458 - acc: 0.79 - ETA: 13s - loss: 0.4458 - acc: 0.79 - ETA: 13s - loss: 0.4470 - acc: 0.79 - ETA: 13s - loss: 0.4464 - acc: 0.79 - ETA: 13s - loss: 0.4456 - acc: 0.79 - ETA: 13s - loss: 0.4457 - acc: 0.79 - ETA: 13s - loss: 0.4460 - acc: 0.79 - ETA: 13s - loss: 0.4460 - acc: 0.79 - ETA: 13s - loss: 0.4457 - acc: 0.79 - ETA: 13s - loss: 0.4453 - acc: 0.79 - ETA: 13s - loss: 0.4453 - acc: 0.79 - ETA: 13s - loss: 0.4451 - acc: 0.79 - ETA: 12s - loss: 0.4450 - acc: 0.79 - ETA: 12s - loss: 0.4451 - acc: 0.79 - ETA: 12s - loss: 0.4449 - acc: 0.79 - ETA: 12s - loss: 0.4448 - acc: 0.79 - ETA: 12s - loss: 0.4446 - acc: 0.79 - ETA: 12s - loss: 0.4441 - acc: 0.79 - ETA: 12s - loss: 0.4442 - acc: 0.79 - ETA: 12s - loss: 0.4443 - acc: 0.79 - ETA: 12s - loss: 0.4443 - acc: 0.79 - ETA: 12s - loss: 0.4448 - acc: 0.79 - ETA: 12s - loss: 0.4449 - acc: 0.79 - ETA: 12s - loss: 0.4450 - acc: 0.79 - ETA: 12s - loss: 0.4446 - acc: 0.79 - ETA: 12s - loss: 0.4446 - acc: 0.79 - ETA: 12s - loss: 0.4446 - acc: 0.79 - ETA: 12s - loss: 0.4444 - acc: 0.79 - ETA: 12s - loss: 0.4444 - acc: 0.79 - ETA: 12s - loss: 0.4445 - acc: 0.79 - ETA: 12s - loss: 0.4445 - acc: 0.79 - ETA: 12s - loss: 0.4444 - acc: 0.79 - ETA: 12s - loss: 0.4441 - acc: 0.79 - ETA: 12s - loss: 0.4442 - acc: 0.79 - ETA: 12s - loss: 0.4444 - acc: 0.79 - ETA: 12s - loss: 0.4444 - acc: 0.79 - ETA: 12s - loss: 0.4443 - acc: 0.79 - ETA: 12s - loss: 0.4441 - acc: 0.79 - ETA: 11s - loss: 0.4441 - acc: 0.79 - ETA: 11s - loss: 0.4446 - acc: 0.79 - ETA: 11s - loss: 0.4448 - acc: 0.79 - ETA: 11s - loss: 0.4447 - acc: 0.79 - ETA: 11s - loss: 0.4449 - acc: 0.79 - ETA: 11s - loss: 0.4448 - acc: 0.79 - ETA: 11s - loss: 0.4452 - acc: 0.79 - ETA: 11s - loss: 0.4452 - acc: 0.79 - ETA: 11s - loss: 0.4452 - acc: 0.79 - ETA: 11s - loss: 0.4450 - acc: 0.79 - ETA: 11s - loss: 0.4449 - acc: 0.79 - ETA: 11s - loss: 0.4449 - acc: 0.79 - ETA: 11s - loss: 0.4449 - acc: 0.79 - ETA: 11s - loss: 0.4448 - acc: 0.79 - ETA: 10s - loss: 0.4446 - acc: 0.79 - ETA: 10s - loss: 0.4445 - acc: 0.79 - ETA: 10s - loss: 0.4445 - acc: 0.79 - ETA: 10s - loss: 0.4446 - acc: 0.79 - ETA: 10s - loss: 0.4448 - acc: 0.79 - ETA: 10s - loss: 0.4448 - acc: 0.79 - ETA: 10s - loss: 0.4448 - acc: 0.79 - ETA: 10s - loss: 0.4448 - acc: 0.79 - ETA: 10s - loss: 0.4450 - acc: 0.79 - ETA: 10s - loss: 0.4451 - acc: 0.79 - ETA: 10s - loss: 0.4453 - acc: 0.79 - ETA: 10s - loss: 0.4455 - acc: 0.79 - ETA: 10s - loss: 0.4454 - acc: 0.79 - ETA: 10s - loss: 0.4454 - acc: 0.79 - ETA: 10s - loss: 0.4454 - acc: 0.79 - ETA: 10s - loss: 0.4451 - acc: 0.79 - ETA: 9s - loss: 0.4451 - acc: 0.7918 - ETA: 9s - loss: 0.4451 - acc: 0.791 - ETA: 9s - loss: 0.4450 - acc: 0.791 - ETA: 9s - loss: 0.4449 - acc: 0.792 - ETA: 9s - loss: 0.4448 - acc: 0.792 - ETA: 9s - loss: 0.4447 - acc: 0.792 - ETA: 9s - loss: 0.4448 - acc: 0.792 - ETA: 9s - loss: 0.4448 - acc: 0.792 - ETA: 9s - loss: 0.4448 - acc: 0.791 - ETA: 9s - loss: 0.4449 - acc: 0.791 - ETA: 9s - loss: 0.4447 - acc: 0.791 - ETA: 9s - loss: 0.4447 - acc: 0.791 - ETA: 9s - loss: 0.4447 - acc: 0.791 - ETA: 9s - loss: 0.4447 - acc: 0.791 - ETA: 9s - loss: 0.4448 - acc: 0.791 - ETA: 9s - loss: 0.4448 - acc: 0.791 - ETA: 9s - loss: 0.4447 - acc: 0.791 - ETA: 8s - loss: 0.4448 - acc: 0.791 - ETA: 8s - loss: 0.4448 - acc: 0.791 - ETA: 8s - loss: 0.4448 - acc: 0.791 - ETA: 8s - loss: 0.4447 - acc: 0.791 - ETA: 8s - loss: 0.4446 - acc: 0.791 - ETA: 8s - loss: 0.4444 - acc: 0.791 - ETA: 8s - loss: 0.4444 - acc: 0.791 - ETA: 8s - loss: 0.4446 - acc: 0.791 - ETA: 8s - loss: 0.4445 - acc: 0.791 - ETA: 8s - loss: 0.4446 - acc: 0.791 - ETA: 8s - loss: 0.4445 - acc: 0.791 - ETA: 8s - loss: 0.4445 - acc: 0.791 - ETA: 8s - loss: 0.4446 - acc: 0.791 - ETA: 8s - loss: 0.4445 - acc: 0.791 - ETA: 8s - loss: 0.4446 - acc: 0.791 - ETA: 8s - loss: 0.4447 - acc: 0.791 - ETA: 8s - loss: 0.4449 - acc: 0.791 - ETA: 8s - loss: 0.4450 - acc: 0.791 - ETA: 8s - loss: 0.4449 - acc: 0.791 - ETA: 8s - loss: 0.4449 - acc: 0.791 - ETA: 7s - loss: 0.4448 - acc: 0.791 - ETA: 7s - loss: 0.4448 - acc: 0.791 - ETA: 7s - loss: 0.4450 - acc: 0.791 - ETA: 7s - loss: 0.4449 - acc: 0.791 - ETA: 7s - loss: 0.4449 - acc: 0.791 - ETA: 7s - loss: 0.4447 - acc: 0.791 - ETA: 7s - loss: 0.4447 - acc: 0.791 - ETA: 7s - loss: 0.4449 - acc: 0.791 - ETA: 7s - loss: 0.4450 - acc: 0.791 - ETA: 7s - loss: 0.4449 - acc: 0.791 - ETA: 7s - loss: 0.4450 - acc: 0.791 - ETA: 7s - loss: 0.4450 - acc: 0.791 - ETA: 7s - loss: 0.4448 - acc: 0.791 - ETA: 7s - loss: 0.4448 - acc: 0.791 - ETA: 7s - loss: 0.4448 - acc: 0.791 - ETA: 7s - loss: 0.4448 - acc: 0.791 - ETA: 7s - loss: 0.4447 - acc: 0.791 - ETA: 7s - loss: 0.4449 - acc: 0.791 - ETA: 7s - loss: 0.4450 - acc: 0.791 - ETA: 6s - loss: 0.4449 - acc: 0.791 - ETA: 6s - loss: 0.4448 - acc: 0.791 - ETA: 6s - loss: 0.4449 - acc: 0.791 - ETA: 6s - loss: 0.4450 - acc: 0.791 - ETA: 6s - loss: 0.4451 - acc: 0.791 - ETA: 6s - loss: 0.4451 - acc: 0.791 - ETA: 6s - loss: 0.4451 - acc: 0.791 - ETA: 6s - loss: 0.4451 - acc: 0.791 - ETA: 6s - loss: 0.4452 - acc: 0.791 - ETA: 6s - loss: 0.4452 - acc: 0.791 - ETA: 6s - loss: 0.4451 - acc: 0.791 - ETA: 6s - loss: 0.4450 - acc: 0.791 - ETA: 6s - loss: 0.4450 - acc: 0.791 - ETA: 6s - loss: 0.4450 - acc: 0.791 - ETA: 6s - loss: 0.4450 - acc: 0.791 - ETA: 6s - loss: 0.4449 - acc: 0.791 - ETA: 6s - loss: 0.4449 - acc: 0.791 - ETA: 6s - loss: 0.4449 - acc: 0.791 - ETA: 6s - loss: 0.4451 - acc: 0.791 - ETA: 5s - loss: 0.4452 - acc: 0.791 - ETA: 5s - loss: 0.4451 - acc: 0.791 - ETA: 5s - loss: 0.4450 - acc: 0.791 - ETA: 5s - loss: 0.4451 - acc: 0.791 - ETA: 5s - loss: 0.4451 - acc: 0.791 - ETA: 5s - loss: 0.4450 - acc: 0.790 - ETA: 5s - loss: 0.4451 - acc: 0.790 - ETA: 5s - loss: 0.4451 - acc: 0.790 - ETA: 5s - loss: 0.4451 - acc: 0.790 - ETA: 5s - loss: 0.4451 - acc: 0.790 - ETA: 5s - loss: 0.4451 - acc: 0.790 - ETA: 5s - loss: 0.4450 - acc: 0.790 - ETA: 5s - loss: 0.4450 - acc: 0.790 - ETA: 5s - loss: 0.4451 - acc: 0.790 - ETA: 5s - loss: 0.4451 - acc: 0.790 - ETA: 5s - loss: 0.4451 - acc: 0.790 - ETA: 5s - loss: 0.4450 - acc: 0.790 - ETA: 4s - loss: 0.4450 - acc: 0.790 - ETA: 4s - loss: 0.4450 - acc: 0.790 - ETA: 4s - loss: 0.4449 - acc: 0.790 - ETA: 4s - loss: 0.4448 - acc: 0.790 - ETA: 4s - loss: 0.4447 - acc: 0.790 - ETA: 4s - loss: 0.4447 - acc: 0.791 - ETA: 4s - loss: 0.4447 - acc: 0.790 - ETA: 4s - loss: 0.4447 - acc: 0.790 - ETA: 4s - loss: 0.4447 - acc: 0.790 - ETA: 4s - loss: 0.4447 - acc: 0.790 - ETA: 4s - loss: 0.4447 - acc: 0.790 - ETA: 4s - loss: 0.4447 - acc: 0.790 - ETA: 4s - loss: 0.4447 - acc: 0.790 - ETA: 4s - loss: 0.4447 - acc: 0.790 - ETA: 4s - loss: 0.4448 - acc: 0.790 - ETA: 4s - loss: 0.4449 - acc: 0.790 - ETA: 4s - loss: 0.4449 - acc: 0.790 - ETA: 4s - loss: 0.4449 - acc: 0.790 - ETA: 3s - loss: 0.4449 - acc: 0.790 - ETA: 3s - loss: 0.4450 - acc: 0.790 - ETA: 3s - loss: 0.4450 - acc: 0.790 - ETA: 3s - loss: 0.4449 - acc: 0.790 - ETA: 3s - loss: 0.4448 - acc: 0.790 - ETA: 3s - loss: 0.4448 - acc: 0.790 - ETA: 3s - loss: 0.4448 - acc: 0.790 - ETA: 3s - loss: 0.4448 - acc: 0.790 - ETA: 3s - loss: 0.4448 - acc: 0.790 - ETA: 3s - loss: 0.4447 - acc: 0.790 - ETA: 3s - loss: 0.4447 - acc: 0.790 - ETA: 3s - loss: 0.4447 - acc: 0.790 - ETA: 3s - loss: 0.4447 - acc: 0.790 - ETA: 3s - loss: 0.4448 - acc: 0.790 - ETA: 3s - loss: 0.4448 - acc: 0.79092740/2745 [============================>.] - ETA: 3s - loss: 0.4446 - acc: 0.790 - ETA: 3s - loss: 0.4446 - acc: 0.791 - ETA: 3s - loss: 0.4445 - acc: 0.791 - ETA: 3s - loss: 0.4445 - acc: 0.791 - ETA: 2s - loss: 0.4444 - acc: 0.791 - ETA: 2s - loss: 0.4445 - acc: 0.791 - ETA: 2s - loss: 0.4445 - acc: 0.791 - ETA: 2s - loss: 0.4445 - acc: 0.791 - ETA: 2s - loss: 0.4445 - acc: 0.791 - ETA: 2s - loss: 0.4445 - acc: 0.791 - ETA: 2s - loss: 0.4445 - acc: 0.791 - ETA: 2s - loss: 0.4446 - acc: 0.791 - ETA: 2s - loss: 0.4446 - acc: 0.790 - ETA: 2s - loss: 0.4446 - acc: 0.790 - ETA: 2s - loss: 0.4446 - acc: 0.791 - ETA: 2s - loss: 0.4446 - acc: 0.791 - ETA: 2s - loss: 0.4446 - acc: 0.791 - ETA: 2s - loss: 0.4446 - acc: 0.791 - ETA: 2s - loss: 0.4446 - acc: 0.791 - ETA: 2s - loss: 0.4445 - acc: 0.791 - ETA: 2s - loss: 0.4446 - acc: 0.791 - ETA: 2s - loss: 0.4446 - acc: 0.791 - ETA: 2s - loss: 0.4444 - acc: 0.791 - ETA: 1s - loss: 0.4445 - acc: 0.791 - ETA: 1s - loss: 0.4446 - acc: 0.791 - ETA: 1s - loss: 0.4446 - acc: 0.791 - ETA: 1s - loss: 0.4446 - acc: 0.791 - ETA: 1s - loss: 0.4446 - acc: 0.791 - ETA: 1s - loss: 0.4445 - acc: 0.791 - ETA: 1s - loss: 0.4446 - acc: 0.791 - ETA: 1s - loss: 0.4446 - acc: 0.791 - ETA: 1s - loss: 0.4446 - acc: 0.791 - ETA: 1s - loss: 0.4446 - acc: 0.791 - ETA: 1s - loss: 0.4446 - acc: 0.791 - ETA: 1s - loss: 0.4446 - acc: 0.791 - ETA: 1s - loss: 0.4446 - acc: 0.791 - ETA: 1s - loss: 0.4446 - acc: 0.791 - ETA: 1s - loss: 0.4446 - acc: 0.791 - ETA: 1s - loss: 0.4446 - acc: 0.791 - ETA: 1s - loss: 0.4446 - acc: 0.791 - ETA: 1s - loss: 0.4446 - acc: 0.791 - ETA: 0s - loss: 0.4447 - acc: 0.790 - ETA: 0s - loss: 0.4447 - acc: 0.790 - ETA: 0s - loss: 0.4447 - acc: 0.791 - ETA: 0s - loss: 0.4447 - acc: 0.790 - ETA: 0s - loss: 0.4447 - acc: 0.791 - ETA: 0s - loss: 0.4447 - acc: 0.791 - ETA: 0s - loss: 0.4447 - acc: 0.790 - ETA: 0s - loss: 0.4447 - acc: 0.790 - ETA: 0s - loss: 0.4447 - acc: 0.791 - ETA: 0s - loss: 0.4447 - acc: 0.791 - ETA: 0s - loss: 0.4447 - acc: 0.791 - ETA: 0s - loss: 0.4447 - acc: 0.791 - ETA: 0s - loss: 0.4447 - acc: 0.791 - ETA: 0s - loss: 0.4447 - acc: 0.791 - ETA: 0s - loss: 0.4447 - acc: 0.791 - ETA: 0s - loss: 0.4446 - acc: 0.791 - ETA: 0s - loss: 0.4446 - acc: 0.791 - ETA: 0s - loss: 0.4446 - acc: 0.791 - ETA: 0s - loss: 0.4446 - acc: 0.791 - ETA: 0s - loss: 0.4446 - acc: 0.7911\n",
      "Epoch 00003: val_loss did not improve\n",
      "2745/2745 [==============================] - 17s 6ms/step - loss: 0.4446 - acc: 0.7911 - val_loss: 0.4613 - val_acc: 0.8007\n",
      "Epoch 4/10\n"
     ]
    },
    {
     "name": "stdout",
     "output_type": "stream",
     "text": [
      "2170/2745 [======================>.......] - ETA: 13s - loss: 0.4385 - acc: 0.80 - ETA: 14s - loss: 0.4428 - acc: 0.79 - ETA: 14s - loss: 0.4392 - acc: 0.79 - ETA: 13s - loss: 0.4352 - acc: 0.79 - ETA: 13s - loss: 0.4347 - acc: 0.79 - ETA: 13s - loss: 0.4322 - acc: 0.79 - ETA: 13s - loss: 0.4367 - acc: 0.79 - ETA: 13s - loss: 0.4350 - acc: 0.79 - ETA: 13s - loss: 0.4350 - acc: 0.79 - ETA: 13s - loss: 0.4347 - acc: 0.79 - ETA: 13s - loss: 0.4346 - acc: 0.79 - ETA: 13s - loss: 0.4342 - acc: 0.79 - ETA: 13s - loss: 0.4350 - acc: 0.79 - ETA: 13s - loss: 0.4368 - acc: 0.79 - ETA: 13s - loss: 0.4359 - acc: 0.79 - ETA: 13s - loss: 0.4360 - acc: 0.79 - ETA: 13s - loss: 0.4371 - acc: 0.79 - ETA: 13s - loss: 0.4366 - acc: 0.79 - ETA: 13s - loss: 0.4370 - acc: 0.79 - ETA: 13s - loss: 0.4383 - acc: 0.79 - ETA: 13s - loss: 0.4381 - acc: 0.79 - ETA: 13s - loss: 0.4384 - acc: 0.79 - ETA: 13s - loss: 0.4384 - acc: 0.79 - ETA: 13s - loss: 0.4390 - acc: 0.79 - ETA: 13s - loss: 0.4394 - acc: 0.79 - ETA: 13s - loss: 0.4394 - acc: 0.79 - ETA: 13s - loss: 0.4394 - acc: 0.79 - ETA: 12s - loss: 0.4389 - acc: 0.79 - ETA: 12s - loss: 0.4385 - acc: 0.79 - ETA: 12s - loss: 0.4380 - acc: 0.79 - ETA: 12s - loss: 0.4375 - acc: 0.79 - ETA: 12s - loss: 0.4369 - acc: 0.79 - ETA: 12s - loss: 0.4374 - acc: 0.79 - ETA: 12s - loss: 0.4374 - acc: 0.79 - ETA: 12s - loss: 0.4372 - acc: 0.79 - ETA: 12s - loss: 0.4377 - acc: 0.79 - ETA: 12s - loss: 0.4380 - acc: 0.79 - ETA: 12s - loss: 0.4381 - acc: 0.79 - ETA: 12s - loss: 0.4376 - acc: 0.79 - ETA: 12s - loss: 0.4375 - acc: 0.79 - ETA: 12s - loss: 0.4374 - acc: 0.79 - ETA: 12s - loss: 0.4377 - acc: 0.79 - ETA: 12s - loss: 0.4376 - acc: 0.79 - ETA: 12s - loss: 0.4377 - acc: 0.79 - ETA: 12s - loss: 0.4373 - acc: 0.79 - ETA: 12s - loss: 0.4370 - acc: 0.79 - ETA: 12s - loss: 0.4368 - acc: 0.79 - ETA: 12s - loss: 0.4370 - acc: 0.79 - ETA: 11s - loss: 0.4371 - acc: 0.79 - ETA: 11s - loss: 0.4367 - acc: 0.79 - ETA: 11s - loss: 0.4369 - acc: 0.79 - ETA: 11s - loss: 0.4367 - acc: 0.79 - ETA: 11s - loss: 0.4367 - acc: 0.79 - ETA: 11s - loss: 0.4366 - acc: 0.79 - ETA: 11s - loss: 0.4362 - acc: 0.79 - ETA: 11s - loss: 0.4365 - acc: 0.79 - ETA: 11s - loss: 0.4366 - acc: 0.79 - ETA: 11s - loss: 0.4366 - acc: 0.79 - ETA: 11s - loss: 0.4368 - acc: 0.79 - ETA: 11s - loss: 0.4366 - acc: 0.79 - ETA: 11s - loss: 0.4370 - acc: 0.79 - ETA: 11s - loss: 0.4370 - acc: 0.79 - ETA: 11s - loss: 0.4371 - acc: 0.79 - ETA: 11s - loss: 0.4369 - acc: 0.79 - ETA: 11s - loss: 0.4371 - acc: 0.79 - ETA: 11s - loss: 0.4371 - acc: 0.79 - ETA: 11s - loss: 0.4373 - acc: 0.79 - ETA: 11s - loss: 0.4371 - acc: 0.79 - ETA: 10s - loss: 0.4371 - acc: 0.79 - ETA: 10s - loss: 0.4370 - acc: 0.79 - ETA: 10s - loss: 0.4370 - acc: 0.79 - ETA: 10s - loss: 0.4373 - acc: 0.79 - ETA: 10s - loss: 0.4375 - acc: 0.79 - ETA: 10s - loss: 0.4375 - acc: 0.79 - ETA: 10s - loss: 0.4374 - acc: 0.79 - ETA: 10s - loss: 0.4375 - acc: 0.79 - ETA: 10s - loss: 0.4377 - acc: 0.79 - ETA: 10s - loss: 0.4374 - acc: 0.79 - ETA: 10s - loss: 0.4377 - acc: 0.79 - ETA: 10s - loss: 0.4379 - acc: 0.79 - ETA: 10s - loss: 0.4381 - acc: 0.79 - ETA: 10s - loss: 0.4381 - acc: 0.79 - ETA: 10s - loss: 0.4382 - acc: 0.79 - ETA: 10s - loss: 0.4381 - acc: 0.79 - ETA: 10s - loss: 0.4381 - acc: 0.79 - ETA: 10s - loss: 0.4382 - acc: 0.79 - ETA: 9s - loss: 0.4381 - acc: 0.7948 - ETA: 9s - loss: 0.4382 - acc: 0.794 - ETA: 9s - loss: 0.4383 - acc: 0.794 - ETA: 9s - loss: 0.4382 - acc: 0.794 - ETA: 9s - loss: 0.4384 - acc: 0.794 - ETA: 9s - loss: 0.4383 - acc: 0.794 - ETA: 9s - loss: 0.4384 - acc: 0.794 - ETA: 9s - loss: 0.4386 - acc: 0.794 - ETA: 9s - loss: 0.4387 - acc: 0.794 - ETA: 9s - loss: 0.4389 - acc: 0.794 - ETA: 9s - loss: 0.4389 - acc: 0.794 - ETA: 9s - loss: 0.4389 - acc: 0.794 - ETA: 9s - loss: 0.4389 - acc: 0.794 - ETA: 9s - loss: 0.4388 - acc: 0.794 - ETA: 9s - loss: 0.4389 - acc: 0.794 - ETA: 9s - loss: 0.4390 - acc: 0.794 - ETA: 9s - loss: 0.4389 - acc: 0.794 - ETA: 9s - loss: 0.4388 - acc: 0.794 - ETA: 8s - loss: 0.4390 - acc: 0.794 - ETA: 8s - loss: 0.4390 - acc: 0.794 - ETA: 8s - loss: 0.4389 - acc: 0.794 - ETA: 8s - loss: 0.4388 - acc: 0.794 - ETA: 8s - loss: 0.4390 - acc: 0.794 - ETA: 8s - loss: 0.4389 - acc: 0.794 - ETA: 8s - loss: 0.4390 - acc: 0.794 - ETA: 8s - loss: 0.4390 - acc: 0.794 - ETA: 8s - loss: 0.4389 - acc: 0.794 - ETA: 8s - loss: 0.4389 - acc: 0.794 - ETA: 8s - loss: 0.4389 - acc: 0.794 - ETA: 8s - loss: 0.4389 - acc: 0.794 - ETA: 8s - loss: 0.4389 - acc: 0.794 - ETA: 8s - loss: 0.4389 - acc: 0.794 - ETA: 8s - loss: 0.4389 - acc: 0.794 - ETA: 8s - loss: 0.4390 - acc: 0.794 - ETA: 8s - loss: 0.4390 - acc: 0.794 - ETA: 8s - loss: 0.4391 - acc: 0.794 - ETA: 7s - loss: 0.4391 - acc: 0.794 - ETA: 7s - loss: 0.4391 - acc: 0.794 - ETA: 7s - loss: 0.4391 - acc: 0.794 - ETA: 7s - loss: 0.4392 - acc: 0.794 - ETA: 7s - loss: 0.4392 - acc: 0.794 - ETA: 7s - loss: 0.4391 - acc: 0.794 - ETA: 7s - loss: 0.4390 - acc: 0.794 - ETA: 7s - loss: 0.4390 - acc: 0.794 - ETA: 7s - loss: 0.4390 - acc: 0.794 - ETA: 7s - loss: 0.4391 - acc: 0.794 - ETA: 7s - loss: 0.4390 - acc: 0.794 - ETA: 7s - loss: 0.4390 - acc: 0.794 - ETA: 7s - loss: 0.4390 - acc: 0.794 - ETA: 7s - loss: 0.4390 - acc: 0.794 - ETA: 7s - loss: 0.4391 - acc: 0.794 - ETA: 7s - loss: 0.4390 - acc: 0.794 - ETA: 7s - loss: 0.4389 - acc: 0.794 - ETA: 7s - loss: 0.4389 - acc: 0.794 - ETA: 6s - loss: 0.4390 - acc: 0.794 - ETA: 6s - loss: 0.4389 - acc: 0.794 - ETA: 6s - loss: 0.4389 - acc: 0.794 - ETA: 6s - loss: 0.4390 - acc: 0.794 - ETA: 6s - loss: 0.4390 - acc: 0.794 - ETA: 6s - loss: 0.4391 - acc: 0.794 - ETA: 6s - loss: 0.4391 - acc: 0.794 - ETA: 6s - loss: 0.4391 - acc: 0.794 - ETA: 6s - loss: 0.4393 - acc: 0.794 - ETA: 6s - loss: 0.4393 - acc: 0.794 - ETA: 6s - loss: 0.4393 - acc: 0.794 - ETA: 6s - loss: 0.4393 - acc: 0.794 - ETA: 6s - loss: 0.4393 - acc: 0.794 - ETA: 6s - loss: 0.4393 - acc: 0.794 - ETA: 6s - loss: 0.4392 - acc: 0.794 - ETA: 6s - loss: 0.4392 - acc: 0.794 - ETA: 6s - loss: 0.4393 - acc: 0.794 - ETA: 6s - loss: 0.4394 - acc: 0.794 - ETA: 6s - loss: 0.4393 - acc: 0.794 - ETA: 5s - loss: 0.4393 - acc: 0.794 - ETA: 5s - loss: 0.4393 - acc: 0.794 - ETA: 5s - loss: 0.4393 - acc: 0.794 - ETA: 5s - loss: 0.4392 - acc: 0.794 - ETA: 5s - loss: 0.4392 - acc: 0.794 - ETA: 5s - loss: 0.4392 - acc: 0.794 - ETA: 5s - loss: 0.4392 - acc: 0.794 - ETA: 5s - loss: 0.4393 - acc: 0.794 - ETA: 5s - loss: 0.4392 - acc: 0.794 - ETA: 5s - loss: 0.4392 - acc: 0.794 - ETA: 5s - loss: 0.4392 - acc: 0.794 - ETA: 5s - loss: 0.4393 - acc: 0.794 - ETA: 5s - loss: 0.4393 - acc: 0.794 - ETA: 5s - loss: 0.4393 - acc: 0.794 - ETA: 5s - loss: 0.4392 - acc: 0.794 - ETA: 5s - loss: 0.4392 - acc: 0.794 - ETA: 5s - loss: 0.4393 - acc: 0.794 - ETA: 5s - loss: 0.4394 - acc: 0.794 - ETA: 5s - loss: 0.4394 - acc: 0.794 - ETA: 4s - loss: 0.4395 - acc: 0.794 - ETA: 4s - loss: 0.4395 - acc: 0.794 - ETA: 4s - loss: 0.4396 - acc: 0.794 - ETA: 4s - loss: 0.4395 - acc: 0.794 - ETA: 4s - loss: 0.4394 - acc: 0.794 - ETA: 4s - loss: 0.4394 - acc: 0.794 - ETA: 4s - loss: 0.4393 - acc: 0.794 - ETA: 4s - loss: 0.4392 - acc: 0.794 - ETA: 4s - loss: 0.4393 - acc: 0.794 - ETA: 4s - loss: 0.4393 - acc: 0.794 - ETA: 4s - loss: 0.4392 - acc: 0.794 - ETA: 4s - loss: 0.4393 - acc: 0.794 - ETA: 4s - loss: 0.4393 - acc: 0.794 - ETA: 4s - loss: 0.4392 - acc: 0.794 - ETA: 4s - loss: 0.4392 - acc: 0.794 - ETA: 4s - loss: 0.4392 - acc: 0.794 - ETA: 4s - loss: 0.4392 - acc: 0.794 - ETA: 4s - loss: 0.4392 - acc: 0.794 - ETA: 3s - loss: 0.4392 - acc: 0.794 - ETA: 3s - loss: 0.4393 - acc: 0.794 - ETA: 3s - loss: 0.4393 - acc: 0.794 - ETA: 3s - loss: 0.4393 - acc: 0.794 - ETA: 3s - loss: 0.4393 - acc: 0.794 - ETA: 3s - loss: 0.4394 - acc: 0.794 - ETA: 3s - loss: 0.4393 - acc: 0.794 - ETA: 3s - loss: 0.4393 - acc: 0.794 - ETA: 3s - loss: 0.4393 - acc: 0.794 - ETA: 3s - loss: 0.4393 - acc: 0.794 - ETA: 3s - loss: 0.4394 - acc: 0.794 - ETA: 3s - loss: 0.4393 - acc: 0.794 - ETA: 3s - loss: 0.4394 - acc: 0.794 - ETA: 3s - loss: 0.4394 - acc: 0.794 - ETA: 3s - loss: 0.4396 - acc: 0.794 - ETA: 3s - loss: 0.4396 - acc: 0.794 - ETA: 3s - loss: 0.4396 - acc: 0.794 - ETA: 3s - loss: 0.4397 - acc: 0.794 - ETA: 3s - loss: 0.4398 - acc: 0.7940"
     ]
    },
    {
     "name": "stdout",
     "output_type": "stream",
     "text": [
      "2741/2745 [============================>.] - ETA: 2s - loss: 0.4398 - acc: 0.794 - ETA: 2s - loss: 0.4398 - acc: 0.794 - ETA: 2s - loss: 0.4398 - acc: 0.794 - ETA: 2s - loss: 0.4398 - acc: 0.794 - ETA: 2s - loss: 0.4398 - acc: 0.794 - ETA: 2s - loss: 0.4399 - acc: 0.794 - ETA: 2s - loss: 0.4398 - acc: 0.794 - ETA: 2s - loss: 0.4398 - acc: 0.794 - ETA: 2s - loss: 0.4398 - acc: 0.794 - ETA: 2s - loss: 0.4399 - acc: 0.794 - ETA: 2s - loss: 0.4399 - acc: 0.794 - ETA: 2s - loss: 0.4399 - acc: 0.794 - ETA: 2s - loss: 0.4400 - acc: 0.794 - ETA: 2s - loss: 0.4400 - acc: 0.794 - ETA: 2s - loss: 0.4400 - acc: 0.794 - ETA: 2s - loss: 0.4400 - acc: 0.794 - ETA: 2s - loss: 0.4399 - acc: 0.794 - ETA: 2s - loss: 0.4399 - acc: 0.794 - ETA: 2s - loss: 0.4399 - acc: 0.794 - ETA: 1s - loss: 0.4399 - acc: 0.794 - ETA: 1s - loss: 0.4399 - acc: 0.794 - ETA: 1s - loss: 0.4399 - acc: 0.794 - ETA: 1s - loss: 0.4399 - acc: 0.794 - ETA: 1s - loss: 0.4399 - acc: 0.794 - ETA: 1s - loss: 0.4398 - acc: 0.794 - ETA: 1s - loss: 0.4398 - acc: 0.794 - ETA: 1s - loss: 0.4397 - acc: 0.794 - ETA: 1s - loss: 0.4398 - acc: 0.794 - ETA: 1s - loss: 0.4397 - acc: 0.794 - ETA: 1s - loss: 0.4397 - acc: 0.794 - ETA: 1s - loss: 0.4396 - acc: 0.794 - ETA: 1s - loss: 0.4397 - acc: 0.794 - ETA: 1s - loss: 0.4397 - acc: 0.794 - ETA: 1s - loss: 0.4398 - acc: 0.794 - ETA: 1s - loss: 0.4397 - acc: 0.794 - ETA: 1s - loss: 0.4397 - acc: 0.794 - ETA: 0s - loss: 0.4397 - acc: 0.794 - ETA: 0s - loss: 0.4397 - acc: 0.794 - ETA: 0s - loss: 0.4396 - acc: 0.794 - ETA: 0s - loss: 0.4397 - acc: 0.794 - ETA: 0s - loss: 0.4397 - acc: 0.794 - ETA: 0s - loss: 0.4397 - acc: 0.794 - ETA: 0s - loss: 0.4397 - acc: 0.794 - ETA: 0s - loss: 0.4397 - acc: 0.794 - ETA: 0s - loss: 0.4398 - acc: 0.794 - ETA: 0s - loss: 0.4399 - acc: 0.794 - ETA: 0s - loss: 0.4399 - acc: 0.794 - ETA: 0s - loss: 0.4399 - acc: 0.794 - ETA: 0s - loss: 0.4400 - acc: 0.794 - ETA: 0s - loss: 0.4400 - acc: 0.794 - ETA: 0s - loss: 0.4400 - acc: 0.794 - ETA: 0s - loss: 0.4399 - acc: 0.794 - ETA: 0s - loss: 0.4398 - acc: 0.794 - ETA: 0s - loss: 0.4397 - acc: 0.794 - ETA: 0s - loss: 0.4398 - acc: 0.794 - ETA: 0s - loss: 0.4397 - acc: 0.794 - ETA: 0s - loss: 0.4397 - acc: 0.794 - ETA: 0s - loss: 0.4398 - acc: 0.7942\n",
      "Epoch 00004: val_loss did not improve\n",
      "2745/2745 [==============================] - 17s 6ms/step - loss: 0.4398 - acc: 0.7942 - val_loss: 0.4604 - val_acc: 0.8049\n",
      "KerasEmbeddingTextClassifierLearner::tatk_fit ==> end \t Time taken: 7.07 mins\n",
      "Time taken: 7.64 mins\n",
      "KerasEmbeddingTextClassifier::fit ==> end\n"
     ]
    },
    {
     "data": {
      "text/plain": [
       "KerasEmbeddingTextClassifier(binary_format=False, callbacks=True,\n",
       "               class_type='single-label', cuda_devices='0',\n",
       "               embedding_file_path='C:\\\\\\\\Users\\\\\\\\remoteuser\\\\\\\\Desktop\\\\\\\\Data\\\\\\\\Sentiment140_Classification\\\\w2vec.txt',\n",
       "               input_col='tweets', label_cols=['labels'], limit=None,\n",
       "               log_dir='C:\\\\Users\\\\remoteuser\\\\tatk\\\\resources\\\\logs',\n",
       "               model_type='CNN', n_labels=None, regex=None,\n",
       "               trainable_embedding=False)"
      ]
     },
     "execution_count": 23,
     "metadata": {},
     "output_type": "execute_result"
    }
   ],
   "source": [
    "keras_text_classifier.fit(train)"
   ]
  },
  {
   "cell_type": "markdown",
   "metadata": {},
   "source": [
    "### Save keras model"
   ]
  },
  {
   "cell_type": "code",
   "execution_count": 24,
   "metadata": {},
   "outputs": [
    {
     "name": "stdout",
     "output_type": "stream",
     "text": [
      "BaseTextModel::save ==> start\n",
      "TatkPipeline::save ==> start\n",
      "Time taken: 0.03 mins\n",
      "TatkPipeline::save ==> end\n",
      "Time taken: 0.17 mins\n",
      "BaseTextModel::save ==> end\n"
     ]
    }
   ],
   "source": [
    "keras_text_classifier.save(keras_model_file)"
   ]
  },
  {
   "cell_type": "markdown",
   "metadata": {},
   "source": [
    "### Load model and evaluate performance on a set of training data"
   ]
  },
  {
   "cell_type": "code",
   "execution_count": 25,
   "metadata": {},
   "outputs": [
    {
     "name": "stdout",
     "output_type": "stream",
     "text": [
      "BaseTextModel::load ==> start\n",
      "TatkPipeline::load ==> start\n",
      "Word '<UNK>' is already in vocabulary.\n",
      "Word '<<ZERO>>' is already in vocabulary.\n",
      "Word2VecVectorizer: Word2Vec model loaded from C:\\\\Users\\\\remoteuser\\\\Desktop\\\\Data\\\\Sentiment140_Classification\\sk_model.zip 2018-05-30 23.58.51\\sk_model\\pipeline\\vectorizer\\embedding_table.txt\n",
      "Time taken: 0.09 mins\n",
      "TatkPipeline::load ==> end\n",
      "Time taken: 0.11 mins\n",
      "BaseTextModel::load ==> end\n"
     ]
    }
   ],
   "source": [
    "keras_text_classifier_reloaded = KerasTextClassifier.load(keras_model_file)"
   ]
  },
  {
   "cell_type": "code",
   "execution_count": 39,
   "metadata": {},
   "outputs": [
    {
     "data": {
      "text/plain": [
       "pandas.core.frame.DataFrame"
      ]
     },
     "execution_count": 39,
     "metadata": {},
     "output_type": "execute_result"
    }
   ],
   "source": [
    "valid = valid[['tweets','labels']]\n",
    "type(valid)"
   ]
  },
  {
   "cell_type": "code",
   "execution_count": 40,
   "metadata": {},
   "outputs": [
    {
     "name": "stdout",
     "output_type": "stream",
     "text": [
      "KerasEmbeddingTextClassifier ::predict ==> start\n",
      "NltkPreprocessor::tatk_transform ==> start\n",
      "NltkPreprocessor::tatk_transform ==> end \t Time taken: 0.14 mins\n",
      "Word2VecVectorizer::tatk_transform ==> start\n",
      "Word2VecVectorizer::tatk_transform ==> end \t Time taken: 0.12 mins\n",
      "KerasEmbeddingTextClassifierLearner::tatk_predict_proba ==> start\n",
      "KerasEmbeddingTextClassifierLearner::tatk_predict_proba ==> end \t Time taken: 0.33 mins\n",
      "KerasEmbeddingTextClassifierLearner::tatk_predict ==> start\n",
      "KerasEmbeddingTextClassifierLearner::tatk_predict ==> end \t Time taken: 0.33 mins\n",
      "Time taken: 0.92 mins\n",
      "KerasEmbeddingTextClassifier ::predict ==> end\n",
      "Order of Labels in predicted probabilities saved to attribute label_order of the class object\n"
     ]
    },
    {
     "data": {
      "text/html": [
       "<div>\n",
       "<table border=\"1\" class=\"dataframe\">\n",
       "  <thead>\n",
       "    <tr style=\"text-align: right;\">\n",
       "      <th></th>\n",
       "      <th>tweets</th>\n",
       "      <th>labels</th>\n",
       "      <th>probabilities</th>\n",
       "      <th>prediction</th>\n",
       "    </tr>\n",
       "  </thead>\n",
       "  <tbody>\n",
       "    <tr>\n",
       "      <th>518808</th>\n",
       "      <td>AT kt_93 hehe i know</td>\n",
       "      <td>1</td>\n",
       "      <td>[0.32005498, 0.679945]</td>\n",
       "      <td>1</td>\n",
       "    </tr>\n",
       "    <tr>\n",
       "      <th>166749</th>\n",
       "      <td>AT katiecorless bollocks . i would of loved t...</td>\n",
       "      <td>0</td>\n",
       "      <td>[0.43475437, 0.5652456]</td>\n",
       "      <td>1</td>\n",
       "    </tr>\n",
       "    <tr>\n",
       "      <th>840126</th>\n",
       "      <td>AT porceleindoll come to wa and i'll help you...</td>\n",
       "      <td>1</td>\n",
       "      <td>[0.14480193, 0.8551981]</td>\n",
       "      <td>1</td>\n",
       "    </tr>\n",
       "    <tr>\n",
       "      <th>510697</th>\n",
       "      <td>AT stephizzle aw ino miss . dw . ull be fine ...</td>\n",
       "      <td>1</td>\n",
       "      <td>[0.50850034, 0.4914996]</td>\n",
       "      <td>0</td>\n",
       "    </tr>\n",
       "    <tr>\n",
       "      <th>159753</th>\n",
       "      <td>AT getloaded . just another work day for poor...</td>\n",
       "      <td>0</td>\n",
       "      <td>[0.80050087, 0.19949912]</td>\n",
       "      <td>0</td>\n",
       "    </tr>\n",
       "  </tbody>\n",
       "</table>\n",
       "</div>"
      ],
      "text/plain": [
       "                                                   tweets  labels  \\\n",
       "518808                               AT kt_93 hehe i know       1   \n",
       "166749   AT katiecorless bollocks . i would of loved t...       0   \n",
       "840126   AT porceleindoll come to wa and i'll help you...       1   \n",
       "510697   AT stephizzle aw ino miss . dw . ull be fine ...       1   \n",
       "159753   AT getloaded . just another work day for poor...       0   \n",
       "\n",
       "                   probabilities  prediction  \n",
       "518808    [0.32005498, 0.679945]           1  \n",
       "166749   [0.43475437, 0.5652456]           1  \n",
       "840126   [0.14480193, 0.8551981]           1  \n",
       "510697   [0.50850034, 0.4914996]           0  \n",
       "159753  [0.80050087, 0.19949912]           0  "
      ]
     },
     "execution_count": 40,
     "metadata": {},
     "output_type": "execute_result"
    }
   ],
   "source": [
    "predictions = keras_text_classifier_reloaded.predict(valid)\n",
    "\n",
    "predictions.head(5)"
   ]
  },
  {
   "cell_type": "code",
   "execution_count": 48,
   "metadata": {},
   "outputs": [
    {
     "name": "stdout",
     "output_type": "stream",
     "text": [
      "TextClassifier ::evaluate ==> start\n",
      "Time taken: 0.02 mins\n",
      "TextClassifier ::evaluate ==> end\n",
      "Confusion matrix, without normalization\n"
     ]
    },
    {
     "data": {
      "image/png": "[encoded data removed]",
      "text/plain": [
       "<matplotlib.figure.Figure at 0x1a443d74e10>"
      ]
     },
     "metadata": {},
     "output_type": "display_data"
    },
    {
     "data": {
      "text/plain": [
       "0.8034183853635513"
      ]
     },
     "execution_count": 48,
     "metadata": {},
     "output_type": "execute_result"
    }
   ],
   "source": [
    "evaluations = text_classifier_reloaded.evaluate(valid)\n",
    "evaluations.plot_confusion_matrix(normalize=False,\n",
    "                                title='Confusion matrix, without normalization', \n",
    "                                print_confusion_matrix=False,\n",
    "                                figsize=(6,6),\n",
    "                                colors=None)\n",
    "evaluations.get_metrics('micro_avg_accuracy')\n",
    "evaluations.get_metrics('macro_avg_accuracy')"
   ]
  }
 ],
 "metadata": {
  "kernelspec": {
   "display_name": "Python 3",
   "language": "python",
   "name": "python3"
  },
  "language_info": {
   "codemirror_mode": {
    "name": "ipython",
    "version": 3
   },
   "file_extension": ".py",
   "mimetype": "text/x-python",
   "name": "python",
   "nbconvert_exporter": "python",
   "pygments_lexer": "ipython3",
   "version": "3.5.2"
  }
 },
 "nbformat": 4,
 "nbformat_minor": 2
}
