{
 "cells": [
  {
   "cell_type": "markdown",
   "metadata": {},
   "source": [
    "# Scikit Learn & Keras Text Classifier Pipeline with Word2Vec Featurization"
   ]
  },
  {
   "cell_type": "markdown",
   "metadata": {},
   "source": [
    "### This notebook shows how to train pipelines for word embeddigns and scikit classifier\n",
    "\n",
    "The pipeline takes as input a dataframe containing tweets in a text column, a word embedding file, and trains a scikit learn model. The modeling pipeline is then saved to a .zip file. This file can be loaded later and used for prediction and evaluation of new data sets."
   ]
  },
  {
   "cell_type": "code",
   "execution_count": 1,
   "metadata": {},
   "outputs": [],
   "source": [
    "import os\n",
    "\n",
    "working_dir = r\"D:\\Sentiment140_Classification\"\n",
    "\n",
    "## Set training and test files\n",
    "training_tweet_filename = os.path.join(working_dir, 'training_text.csv')\n",
    "training_label_filename = os.path.join(working_dir, 'training_label.csv')\n",
    "test_tweet_filename = os.path.join(working_dir, 'testing_text.csv')\n",
    "test_label_filename = os.path.join(working_dir, 'testing_label.csv')\n",
    "\n",
    "## Set word2vec file, parameter file for model, and model pipeline file\n",
    "w2v_embeddings_filename = os.path.join(working_dir, 'w2vec.txt')\n",
    "params_file_path = os.path.join(working_dir, \"params.tsv\")\n",
    "model_file = os.path.join(working_dir, 'sk_model.zip') "
   ]
  },
  {
   "cell_type": "code",
   "execution_count": 2,
   "metadata": {},
   "outputs": [
    {
     "name": "stderr",
     "output_type": "stream",
     "text": [
      "C:\\Users\\remoteuser\\AppData\\local\\AmlWorkbench\\Python\\lib\\site-packages\\h5py\\__init__.py:34: FutureWarning: Conversion of the second argument of issubdtype from `float` to `np.floating` is deprecated. In future, it will be treated as `np.float64 == np.dtype(float).type`.\n",
      "  from ._conv import register_converters as _register_converters\n",
      "Using TensorFlow backend.\n"
     ]
    },
    {
     "name": "stdout",
     "output_type": "stream",
     "text": [
      "Name: azureml-tatk\n",
      "Version: 0.0.687318\n",
      "Summary: Microsoft Azure Machine Learning Text Analytics Toolkit\n",
      "Home-page: https://msdata.visualstudio.com/DefaultCollection/AlgorithmsAndDataScience/_git/TATK\n",
      "Author: Microsoft Corporation\n",
      "Author-email: azml-tatk@microsoft.com\n",
      "License: UNKNOWN\n",
      "Location: c:\\users\\remoteuser\\appdata\\local\\amlworkbench\\python\\lib\\site-packages\n",
      "Requires: lxml, validators, matplotlib, scipy, azure-ml-api-sdk, unidecode, nose, docker, pytest, tensorflow-gpu, requests, bqplot, h5py, ipython, sklearn-crfsuite, scikit-learn, nltk, gensim, azure-storage, keras, pandas, numpy, pyspark, pdfminer.six\n"
     ]
    }
   ],
   "source": [
    "from tatk.feature_extraction.word2vec_vectorizer import Word2VecVectorizer\n",
    "\n",
    "from __future__ import absolute_import\n",
    "from __future__ import division\n",
    "import tatk\n",
    "import collections\n",
    "import math\n",
    "import sys\n",
    "import random\n",
    "import numpy as np\n",
    "from six.moves import urllib\n",
    "from six.moves import xrange  \n",
    "from timeit import default_timer as timer\n",
    "import pandas as pd\n",
    "import re\n",
    "import io\n",
    "from nltk.tokenize import TweetTokenizer\n",
    "import num2words\n",
    "\n",
    "import math\n",
    "from matplotlib import pyplot as plt\n",
    "from sklearn.linear_model import LogisticRegression\n",
    "from sklearn.model_selection import train_test_split\n",
    "from tatk.pipelines.text_classification.text_classifier import TextClassifier\n",
    "from tatk.pipelines.text_classification.keras_text_classifier import KerasTextClassifier\n",
    "from sklearn.model_selection import GridSearchCV\n",
    "from sklearn.model_selection import RandomizedSearchCV \n",
    "\n",
    "!pip show azureml-tatk\n",
    "\n",
    "%reload_ext autoreload\n",
    "%autoreload 2\n",
    "%matplotlib inline"
   ]
  },
  {
   "cell_type": "markdown",
   "metadata": {},
   "source": [
    "## Load and preprocess tweet data"
   ]
  },
  {
   "cell_type": "markdown",
   "metadata": {},
   "source": [
    "### Define data loading the preprocessing functions for tweets"
   ]
  },
  {
   "cell_type": "code",
   "execution_count": 3,
   "metadata": {},
   "outputs": [],
   "source": [
    "# Data processing\n",
    "# In the following code, we replace Emails, URLS, emoticons etc with special labels\n",
    "pos_emoticons=[\"(^.^)\",\"(^-^)\",\"(^_^)\",\"(^_~)\",\"(^3^)\",\"(^o^)\",\"(~_^)\",\"*)\",\":)\",\":*\",\":-*\",\":]\",\":^)\",\":}\",\n",
    "               \":>\",\":3\",\":b\",\":-b\",\":c)\",\":D\",\":-D\",\":O\",\":-O\",\":o)\",\":p\",\":-p\",\":P\",\":-P\",\":Þ\",\":-Þ\",\":X\",\n",
    "               \":-X\",\";)\",\";-)\",\";]\",\";D\",\"^)\",\"^.~\",\"_)m\",\" ~.^\",\"<=8\",\"<3\",\"<333\",\"=)\",\"=///=\",\"=]\",\"=^_^=\",\n",
    "               \"=<_<=\",\"=>.<=\",\" =>.>=\",\" =3\",\"=D\",\"=p\",\"0-0\",\"0w0\",\"8D\",\"8O\",\"B)\",\"C:\",\"d'-'\",\"d(>w<)b\",\":-)\",\n",
    "               \"d^_^b\",\"qB-)\",\"X3\",\"xD\",\"XD\",\"XP\",\"ʘ‿ʘ\",\"❤\",\"💜\",\"💚\",\"💕\",\"💙\",\"💛\",\"💓\",\"💝\",\"💖\",\"💞\",\n",
    "               \"💘\",\"💗\",\"😗\",\"😘\",\"😙\",\"😚\",\"😻\",\"😀\",\"😁\",\"😃\",\"☺\",\"😄\",\"😆\",\"😇\",\"😉\",\"😊\",\"😋\",\"😍\",\n",
    "               \"😎\",\"😏\",\"😛\",\"😜\",\"😝\",\"😮\",\"😸\",\"😹\",\"😺\",\"😻\",\"😼\",\"👍\"]\n",
    "\n",
    "neg_emoticons=[\"--!--\",\"(,_,)\",\"(-.-)\",\"(._.)\",\"(;.;)9\",\"(>.<)\",\"(>_<)\",\"(>_>)\",\"(¬_¬)\",\"(X_X)\",\":&\",\":(\",\":'(\",\n",
    "               \":-(\",\":-/\",\":-@[1]\",\":[\",\":\\\\\",\":{\",\":<\",\":-9\",\":c\",\":S\",\";(\",\";*(\",\";_;\",\"^>_>^\",\"^o)\",\"_|_\",\n",
    "               \"`_´\",\"</3\",\"<=3\",\"=/\",\"=\\\\\",\">:(\",\">:-(\",\"💔\",\"☹️\",\"😌\",\"😒\",\"😓\",\"😔\",\"😕\",\"😖\",\"😞\",\"😟\",\n",
    "               \"😠\",\"😡\",\"😢\",\"😣\",\"😤\",\"😥\",\"😦\",\"😧\",\"😨\",\"😩\",\"😪\",\"😫\",\"😬\",\"😭\",\"😯\",\"😰\",\"😱\",\"😲\",\n",
    "               \"😳\",\"😴\",\"😷\",\"😾\",\"😿\",\"🙀\",\"💀\",\"👎\"]\n",
    "\n",
    "# Emails\n",
    "emailsRegex=re.compile(r'[\\w\\.-]+@[\\w\\.-]+')\n",
    "\n",
    "# Mentions\n",
    "userMentionsRegex=re.compile(r'(?<=^|(?<=[^a-zA-Z0-9-_\\.]))@([A-Za-z]+[A-Za-z0-9]+)')\n",
    "\n",
    "#Urls\n",
    "urlsRegex=re.compile('r(f|ht)(tp)(s?)(://)(.*)[.|/][^ ]+') # It may not be handling all the cases like t.co without http\n",
    "\n",
    "#Numerics\n",
    "numsRegex=re.compile(r\"\\b\\d+\\b\")\n",
    "\n",
    "punctuationNotEmoticonsRegex=re.compile(r'(?<=\\w)[^\\s\\w](?![^\\s\\w])')\n",
    "\n",
    "emoticonsDict = {}\n",
    "for i,each in enumerate(pos_emoticons):\n",
    "    emoticonsDict[each]=' POS_EMOTICON_'+num2words.num2words(i).upper()+' '\n",
    "    \n",
    "for i,each in enumerate(neg_emoticons):\n",
    "    emoticonsDict[each]=' NEG_EMOTICON_'+num2words.num2words(i).upper()+' '\n",
    "    \n",
    "# use these three lines to do the replacement\n",
    "rep = dict((re.escape(k), v) for k, v in emoticonsDict.items())\n",
    "emoticonsPattern = re.compile(\"|\".join(rep.keys()))\n",
    "\n",
    "\n",
    "##########################\n",
    "def read_tweets(filename):\n",
    "    \"\"\"Read the raw tweet data from a file. Replace Emails etc with special tokens \"\"\"\n",
    "    with open(filename, 'r') as f:\n",
    "        all_lines=f.readlines()\n",
    "        padded_lines=[]\n",
    "        for line in all_lines:\n",
    "            line = emoticonsPattern.sub(lambda m: rep[re.escape(m.group(0))], line.lower().strip())\n",
    "            line = userMentionsRegex.sub(' USER ', line )\n",
    "            line = emailsRegex.sub(' EMAIL ', line )\n",
    "            line=urlsRegex.sub(' URL ', line)\n",
    "            line=numsRegex.sub(' NUM ',line)\n",
    "            line=punctuationNotEmoticonsRegex.sub(' PUN ',line)\n",
    "            line=re.sub(r'(.)\\1{2,}', r'\\1\\1',line)\n",
    "            words_tokens=[token for token in TweetTokenizer().tokenize(line)]                    \n",
    "            line= ' '.join(token for token in words_tokens )         \n",
    "            padded_lines.append(line)\n",
    "    return padded_lines"
   ]
  },
  {
   "cell_type": "markdown",
   "metadata": {},
   "source": [
    "### Read in tweet training data and training labels, and combine into one data-frame"
   ]
  },
  {
   "cell_type": "code",
   "execution_count": 5,
   "metadata": {},
   "outputs": [
    {
     "data": {
      "text/html": [
       "<div>\n",
       "<table border=\"1\" class=\"dataframe\">\n",
       "  <thead>\n",
       "    <tr style=\"text-align: right;\">\n",
       "      <th></th>\n",
       "      <th>tweets</th>\n",
       "      <th>labels</th>\n",
       "    </tr>\n",
       "  </thead>\n",
       "  <tbody>\n",
       "    <tr>\n",
       "      <th>0</th>\n",
       "      <td>damn fixtated on USER lovely thighs PUN hips o...</td>\n",
       "      <td>1</td>\n",
       "    </tr>\n",
       "    <tr>\n",
       "      <th>1</th>\n",
       "      <td>god bless firefox PUN s ' restore previous ses...</td>\n",
       "      <td>1</td>\n",
       "    </tr>\n",
       "    <tr>\n",
       "      <th>2</th>\n",
       "      <td>USER http://twitpic PUN com PUN 6vn4a - dang g...</td>\n",
       "      <td>1</td>\n",
       "    </tr>\n",
       "  </tbody>\n",
       "</table>\n",
       "</div>"
      ],
      "text/plain": [
       "                                              tweets  labels\n",
       "0  damn fixtated on USER lovely thighs PUN hips o...       1\n",
       "1  god bless firefox PUN s ' restore previous ses...       1\n",
       "2  USER http://twitpic PUN com PUN 6vn4a - dang g...       1"
      ]
     },
     "metadata": {},
     "output_type": "display_data"
    }
   ],
   "source": [
    "## Read in tweet file. Labels are 4 and 0 (4 being positive and 0 being negative)\n",
    "tweets = read_tweets(training_tweet_filename)\n",
    "\n",
    "with open(training_label_filename, 'r') as f:\n",
    "    all_lines=f.readlines()\n",
    "    tweet_labels = []\n",
    "    for line in all_lines:\n",
    "        line = line.strip()\n",
    "        label = 0\n",
    "        if line == '4':\n",
    "            label = 1\n",
    "        #else:\n",
    "        #    label = 'negative'\n",
    "        tweet_labels.append(label)\n",
    "\n",
    "df = pd.DataFrame({'tweets':tweets, 'labels':tweet_labels}, columns=['tweets','labels'])\n",
    "display(df[:3])"
   ]
  },
  {
   "cell_type": "code",
   "execution_count": 6,
   "metadata": {},
   "outputs": [
    {
     "data": {
      "text/plain": [
       "1    640257\n",
       "0    639743\n",
       "Name: labels, dtype: int64"
      ]
     },
     "execution_count": 6,
     "metadata": {},
     "output_type": "execute_result"
    }
   ],
   "source": [
    "## Count the labels in training set\n",
    "df['labels'].value_counts()"
   ]
  },
  {
   "cell_type": "markdown",
   "metadata": {},
   "source": [
    "### Split data into training and validation"
   ]
  },
  {
   "cell_type": "code",
   "execution_count": 7,
   "metadata": {},
   "outputs": [
    {
     "data": {
      "text/html": [
       "<div>\n",
       "<table border=\"1\" class=\"dataframe\">\n",
       "  <thead>\n",
       "    <tr style=\"text-align: right;\">\n",
       "      <th></th>\n",
       "      <th>tweets</th>\n",
       "      <th>labels</th>\n",
       "    </tr>\n",
       "  </thead>\n",
       "  <tbody>\n",
       "    <tr>\n",
       "      <th>379834</th>\n",
       "      <td>laalallalalaalalla too early good day so far (:</td>\n",
       "      <td>0</td>\n",
       "    </tr>\n",
       "    <tr>\n",
       "      <th>313748</th>\n",
       "      <td>\" now that #bgt has finished how will i surviv...</td>\n",
       "      <td>0</td>\n",
       "    </tr>\n",
       "    <tr>\n",
       "      <th>158848</th>\n",
       "      <td>cant belive jd woke up early and is still in n...</td>\n",
       "      <td>0</td>\n",
       "    </tr>\n",
       "  </tbody>\n",
       "</table>\n",
       "</div>"
      ],
      "text/plain": [
       "                                                   tweets  labels\n",
       "379834    laalallalalaalalla too early good day so far (:       0\n",
       "313748  \" now that #bgt has finished how will i surviv...       0\n",
       "158848  cant belive jd woke up early and is still in n...       0"
      ]
     },
     "execution_count": 7,
     "metadata": {},
     "output_type": "execute_result"
    }
   ],
   "source": [
    "train, valid = train_test_split(df, test_size=0.33)\n",
    "train.head(3)"
   ]
  },
  {
   "cell_type": "markdown",
   "metadata": {},
   "source": [
    "## Scikit learn text classification pipeline"
   ]
  },
  {
   "cell_type": "markdown",
   "metadata": {},
   "source": [
    "### Define scikit learn pipeline"
   ]
  },
  {
   "cell_type": "code",
   "execution_count": 8,
   "metadata": {},
   "outputs": [
    {
     "name": "stdout",
     "output_type": "stream",
     "text": [
      "TextClassifier::create_pipeline ==> start\n",
      ":: number of jobs for the pipeline : 6\n",
      "0\ttweets_nltk_preprocessor\n",
      "1\ttweets_word2vec\n",
      "2\tassembler\n",
      "3\tlearner\n",
      "TextClassifier::create_pipeline ==> end\n"
     ]
    }
   ],
   "source": [
    "from sklearn.model_selection import ParameterGrid\n",
    "params = {'tol': [0.0001, 0.001], 'max_iter': [5, 10]}\n",
    "\n",
    "## Define classifier from scikit learn\n",
    "log_reg_learner =  LogisticRegression(penalty='l2', dual=False, tol=0.0001, \n",
    "                            C=1.0, fit_intercept=True, intercept_scaling=1, \n",
    "                            class_weight=None, random_state=None, \n",
    "                            solver='lbfgs', max_iter=10, \n",
    "                            verbose=1, warm_start=True, n_jobs=3) \n",
    "\n",
    "# Train the model on tweets\n",
    "text_classifier = TextClassifier(embedding_file_path = w2v_embeddings_filename,\n",
    "                                estimator=log_reg_learner, \n",
    "                                extract_word_ngrams=False,\n",
    "                                text_cols = [\"tweets\"], \n",
    "                                label_cols = [\"labels\"])\n",
    "#text_classifier = SklearnTextClassifier(scikit_estimator=log_reg_learner, \n",
    "#                                            input_col=\"review\", label_col =\"sentiment\",\n",
    "#                                            prediction_col =\"prediction\",\n",
    "#                                            extract_word_ngrams=True,\n",
    "#                                            extract_char_ngrams=True)\n",
    "#pipe_gs = GridSearchCV(text_classifier, param_grid=params, scoring=\"roc_auc\", cv=3)\n",
    "\n",
    "## Export parameters of the model\n",
    "text_classifier.export_params(params_file_path)"
   ]
  },
  {
   "cell_type": "markdown",
   "metadata": {},
   "source": [
    "### Fit classifier on training data"
   ]
  },
  {
   "cell_type": "code",
   "execution_count": 9,
   "metadata": {},
   "outputs": [
    {
     "name": "stdout",
     "output_type": "stream",
     "text": [
      "TextClassifier::fit ==> start\n",
      "NltkPreprocessor::tatk_fit_transform ==> start\n",
      "NltkPreprocessor::tatk_fit_transform ==> end \t Time taken: 0.24 mins\n",
      "Word2VecVectorizer::tatk_fit_transform ==> start\n",
      "Word2VecVectorizer::tatk_fit_transform ==> end \t Time taken: 1.61 mins\n",
      "VectorAssembler::transform ==> start, num of input records=857600\n",
      "(857600, 50)\n",
      "all_features::\n",
      "(857600, 50)\n",
      "Time taken: 0.01 mins\n",
      "VectorAssembler::transform ==> end\n",
      "LogisticRegression::tatk_fit ==> start\n"
     ]
    },
    {
     "name": "stderr",
     "output_type": "stream",
     "text": [
      "C:\\Users\\remoteuser\\AppData\\local\\AmlWorkbench\\Python\\lib\\site-packages\\sklearn\\utils\\validation.py:578: DataConversionWarning: A column-vector y was passed when a 1d array was expected. Please change the shape of y to (n_samples, ), for example using ravel().\n",
      "  y = column_or_1d(y, warn=True)\n"
     ]
    },
    {
     "name": "stdout",
     "output_type": "stream",
     "text": [
      "LogisticRegression::tatk_fit ==> end \t Time taken: 0.15 mins\n",
      "Time taken: 2.01 mins\n",
      "TextClassifier::fit ==> end\n"
     ]
    },
    {
     "name": "stderr",
     "output_type": "stream",
     "text": [
      "[Parallel(n_jobs=3)]: Done   1 out of   1 | elapsed:    8.5s finished\n"
     ]
    },
    {
     "data": {
      "text/plain": [
       "TextClassifier(add_index_col=False, cat_cols=None,\n",
       "        char_hashing_original=False, col_prefix='tmp_00_',\n",
       "        decompose_n_grams=False, detect_phrases=False,\n",
       "        dictionary_categories=None, dictionary_file_path=None,\n",
       "        embedding_file_path='D:\\\\Sentiment140_Classification\\\\w2vec.txt',\n",
       "        embedding_file_path_fasttext=None,\n",
       "        estimator=LogisticRegression(C=1.0, class_weight=None, dual=False, fit_intercept=True,\n",
       "          intercept_scaling=1, max_iter=10, multi_class='ovr', n_jobs=3,\n",
       "          penalty='l2', random_state=None, solver='lbfgs', tol=0.0001,\n",
       "          verbose=1, warm_start=True),\n",
       "        estimator_vectorizers_list=None, extract_char_ngrams=False,\n",
       "        extract_word_ngrams=False, label_cols=['labels'],\n",
       "        numeric_cols=None, pos_tagger_vectorizer=False,\n",
       "        preprocessor_dictionary_file_path=None, regex_replcaement='',\n",
       "        replace_regex_pattern=None, text_callable_list=None,\n",
       "        text_cols=['tweets'], text_regex_list=None, weight_col=None)"
      ]
     },
     "execution_count": 9,
     "metadata": {},
     "output_type": "execute_result"
    }
   ],
   "source": [
    "text_classifier.fit(train)\n",
    "#pipe_gs.fit(train)"
   ]
  },
  {
   "cell_type": "markdown",
   "metadata": {},
   "source": [
    "### Save the scikit learn training pipleine"
   ]
  },
  {
   "cell_type": "code",
   "execution_count": 10,
   "metadata": {},
   "outputs": [
    {
     "name": "stdout",
     "output_type": "stream",
     "text": [
      "BaseTextModel::save ==> start\n",
      "TatkPipeline::save ==> start\n",
      "Time taken: 0.02 mins\n",
      "TatkPipeline::save ==> end\n",
      "Time taken: 2.65 mins\n",
      "BaseTextModel::save ==> end\n"
     ]
    }
   ],
   "source": [
    "text_classifier.save(model_file)"
   ]
  },
  {
   "cell_type": "markdown",
   "metadata": {},
   "source": [
    "### Load and the training pipleine, predict and evaluate the accuracy on held-out validation set"
   ]
  },
  {
   "cell_type": "code",
   "execution_count": 11,
   "metadata": {},
   "outputs": [
    {
     "name": "stdout",
     "output_type": "stream",
     "text": [
      "BaseTextModel::load ==> start\n",
      "TatkPipeline::load ==> start\n",
      "Word '<UNK>' is already in vocabulary.\n",
      "Word2VecVectorizer: Word2Vec model loaded from D:\\Sentiment140_Classification\\sk_model.zip 2018-03-21 19.07.43\\sk_model\\pipeline\\tweets_word2vec\\embedding_table.txt\n",
      "Time taken: 0.06 mins\n",
      "TatkPipeline::load ==> end\n",
      "Time taken: 1.11 mins\n",
      "BaseTextModel::load ==> end\n"
     ]
    }
   ],
   "source": [
    "text_classifier_reloaded = TextClassifier.load(model_file)"
   ]
  },
  {
   "cell_type": "code",
   "execution_count": 12,
   "metadata": {},
   "outputs": [
    {
     "name": "stdout",
     "output_type": "stream",
     "text": [
      "TextClassifier::predict ==> start\n",
      "NltkPreprocessor::tatk_transform ==> start\n",
      "NltkPreprocessor::tatk_transform ==> end \t Time taken: 0.12 mins\n",
      "Word2VecVectorizer::tatk_transform ==> start\n",
      "Word2VecVectorizer::tatk_transform ==> end \t Time taken: 0.81 mins\n",
      "VectorAssembler::transform ==> start, num of input records=422400\n",
      "(422400, 50)\n",
      "all_features::\n",
      "(422400, 50)\n",
      "Time taken: 0.0 mins\n",
      "VectorAssembler::transform ==> end\n",
      "LogisticRegression::tatk_predict ==> start\n",
      "LogisticRegression::tatk_predict ==> end \t Time taken: 0.01 mins\n",
      "Time taken: 0.95 mins\n",
      "TextClassifier::predict ==> end\n"
     ]
    },
    {
     "name": "stderr",
     "output_type": "stream",
     "text": [
      "C:\\Users\\remoteuser\\AppData\\local\\AmlWorkbench\\Python\\lib\\site-packages\\tatk\\core\\tatk_estimator.py:141: SettingWithCopyWarning: \n",
      "A value is trying to be set on a copy of a slice from a DataFrame.\n",
      "Try using .loc[row_indexer,col_indexer] = value instead\n",
      "\n",
      "See the caveats in the documentation: http://pandas.pydata.org/pandas-docs/stable/indexing.html#indexing-view-versus-copy\n",
      "  dataset[col_name] = [row for row in res]\n"
     ]
    },
    {
     "data": {
      "text/html": [
       "<div>\n",
       "<table border=\"1\" class=\"dataframe\">\n",
       "  <thead>\n",
       "    <tr style=\"text-align: right;\">\n",
       "      <th></th>\n",
       "      <th>tweets</th>\n",
       "      <th>labels</th>\n",
       "      <th>prediction</th>\n",
       "    </tr>\n",
       "  </thead>\n",
       "  <tbody>\n",
       "    <tr>\n",
       "      <th>459817</th>\n",
       "      <td>USER they always end up down me</td>\n",
       "      <td>1</td>\n",
       "      <td>0</td>\n",
       "    </tr>\n",
       "    <tr>\n",
       "      <th>557411</th>\n",
       "      <td>brewrat PUN s illiterate guy died of bacterial...</td>\n",
       "      <td>0</td>\n",
       "      <td>1</td>\n",
       "    </tr>\n",
       "    <tr>\n",
       "      <th>881788</th>\n",
       "      <td>@1omarion please say hi to me and USER she is ...</td>\n",
       "      <td>0</td>\n",
       "      <td>1</td>\n",
       "    </tr>\n",
       "  </tbody>\n",
       "</table>\n",
       "</div>"
      ],
      "text/plain": [
       "                                                   tweets  labels  prediction\n",
       "459817                    USER they always end up down me       1           0\n",
       "557411  brewrat PUN s illiterate guy died of bacterial...       0           1\n",
       "881788  @1omarion please say hi to me and USER she is ...       0           1"
      ]
     },
     "metadata": {},
     "output_type": "display_data"
    }
   ],
   "source": [
    "predicted_df = text_classifier_reloaded.predict(valid)\n",
    "display(predicted_df[:3])"
   ]
  },
  {
   "cell_type": "code",
   "execution_count": 24,
   "metadata": {},
   "outputs": [
    {
     "name": "stdout",
     "output_type": "stream",
     "text": [
      "TextClassifier::evaluate ==> start\n",
      "NltkPreprocessor::tatk_transform ==> start\n",
      "NltkPreprocessor::tatk_transform ==> end \t Time taken: 0.12 mins\n",
      "Word2VecVectorizer::tatk_transform ==> start\n",
      "Word2VecVectorizer::tatk_transform ==> end \t Time taken: 0.78 mins\n",
      "VectorAssembler::transform ==> start, num of input records=422400\n",
      "(422400, 50)\n",
      "all_features::\n",
      "(422400, 50)\n",
      "Time taken: 0.0 mins\n",
      "VectorAssembler::transform ==> end\n",
      "LogisticRegression::tatk_predict ==> start\n"
     ]
    },
    {
     "name": "stderr",
     "output_type": "stream",
     "text": [
      "C:\\Users\\remoteuser\\AppData\\local\\AmlWorkbench\\Python\\lib\\site-packages\\tatk\\core\\tatk_estimator.py:141: SettingWithCopyWarning: \n",
      "A value is trying to be set on a copy of a slice from a DataFrame.\n",
      "Try using .loc[row_indexer,col_indexer] = value instead\n",
      "\n",
      "See the caveats in the documentation: http://pandas.pydata.org/pandas-docs/stable/indexing.html#indexing-view-versus-copy\n",
      "  dataset[col_name] = [row for row in res]\n"
     ]
    },
    {
     "name": "stdout",
     "output_type": "stream",
     "text": [
      "LogisticRegression::tatk_predict ==> end \t Time taken: 0.01 mins\n",
      "[[154246  56704]\n",
      " [ 54207 157243]]\n",
      "macro_f1 = 0.7374133908594638\n",
      "Time taken: 0.93 mins\n",
      "TextClassifier::evaluate ==> end\n"
     ]
    },
    {
     "data": {
      "text/plain": [
       "(array([[154246,  56704],\n",
       "        [ 54207, 157243]], dtype=int64), 0.7374133908594638)"
      ]
     },
     "execution_count": 24,
     "metadata": {},
     "output_type": "execute_result"
    }
   ],
   "source": [
    "text_classifier_reloaded.evaluate(valid)"
   ]
  },
  {
   "cell_type": "markdown",
   "metadata": {},
   "source": [
    "## Keras classification pipeline"
   ]
  },
  {
   "cell_type": "markdown",
   "metadata": {},
   "source": [
    "### Define keras classifier"
   ]
  },
  {
   "cell_type": "code",
   "execution_count": 25,
   "metadata": {},
   "outputs": [
    {
     "name": "stdout",
     "output_type": "stream",
     "text": [
      "KerasTextClassifier::create_pipeline ==> start\n",
      "Word2VecVectorizer::load_embeddings ==> start\n",
      "Time taken: 0.06 mins\n",
      "Word2VecVectorizer::load_embeddings ==> end\n",
      "num_words=49519\n",
      ":: number of jobs for the pipeline : 6\n",
      "0\tindex_generator\n",
      "1\tnltk_preprocessor\n",
      "2\tvectorizer\n",
      "3\tlearner\n",
      "WARNING: Some steps do not contribute to the final results :\n",
      "[0]\n",
      "KerasTextClassifier::create_pipeline ==> end\n"
     ]
    }
   ],
   "source": [
    "keras_text_classifier = KerasTextClassifier(embedding_file_path=w2v_embeddings_filename, \n",
    "                                            input_col=\"tweets\", label_col=\"labels\",\n",
    "                                            model_type = 'binary')"
   ]
  },
  {
   "cell_type": "markdown",
   "metadata": {},
   "source": [
    "### Fit Keras classifier "
   ]
  },
  {
   "cell_type": "code",
   "execution_count": 26,
   "metadata": {},
   "outputs": [
    {
     "data": {
      "text/plain": [
       "{'binary_format': False,\n",
       " 'callbacks': False,\n",
       " 'embedding_file_path': 'D:\\\\Sentiment140_Classification\\\\w2vec.txt',\n",
       " 'input_col': 'tweets',\n",
       " 'label_col': 'labels',\n",
       " 'limit': None,\n",
       " 'model_type': 'binary',\n",
       " 'num_classes': 1,\n",
       " 'prediction_col': 'prediction',\n",
       " 'probabilities_col': 'probabilities'}"
      ]
     },
     "execution_count": 26,
     "metadata": {},
     "output_type": "execute_result"
    }
   ],
   "source": [
    "keras_text_classifier.get_params()"
   ]
  },
  {
   "cell_type": "code",
   "execution_count": 27,
   "metadata": {},
   "outputs": [
    {
     "name": "stdout",
     "output_type": "stream",
     "text": [
      "KerasTextClassifier::fit ==> start\n",
      "GenerateIndexTransformer::tatk_fit_transform ==> startNltkPreprocessor::tatk_fit_transform ==> start\n",
      "\n",
      "GenerateIndexTransformer::tatk_fit_transform ==> end \t Time taken: 0.0 mins\n",
      "NltkPreprocessor::tatk_fit_transform ==> end \t Time taken: 0.21 mins\n",
      "Word2VecVectorizer::tatk_fit_transform ==> start\n",
      "Word2VecVectorizer::tatk_fit_transform ==> end \t Time taken: 0.25 mins\n",
      "KerasTextClassifierLearner::tatk_fit ==> start\n",
      "(857600, 2)\n",
      "_________________________________________________________________\n",
      "Layer (type)                 Output Shape              Param #   \n",
      "=================================================================\n",
      "embedding_1 (Embedding)      (None, None, 50)          2475950   \n",
      "_________________________________________________________________\n",
      "dropout_1 (Dropout)          (None, None, 50)          0         \n",
      "_________________________________________________________________\n",
      "conv1d_1 (Conv1D)            (None, None, 250)         37750     \n",
      "_________________________________________________________________\n",
      "global_max_pooling1d_1 (Glob (None, 250)               0         \n",
      "_________________________________________________________________\n",
      "dense_1 (Dense)              (None, 250)               62750     \n",
      "_________________________________________________________________\n",
      "dropout_2 (Dropout)          (None, 250)               0         \n",
      "_________________________________________________________________\n",
      "activation_1 (Activation)    (None, 250)               0         \n",
      "_________________________________________________________________\n",
      "dense_2 (Dense)              (None, 2)                 502       \n",
      "_________________________________________________________________\n",
      "activation_2 (Activation)    (None, 2)                 0         \n",
      "=================================================================\n",
      "Total params: 2,576,952\n",
      "Trainable params: 101,002\n",
      "Non-trainable params: 2,475,950\n",
      "_________________________________________________________________\n",
      "None\n",
      "Epoch 1/5\n",
      "17152/17152 [==============================] - 106s 6ms/step - loss: 0.4989 - acc: 0.7578\n",
      "Epoch 2/5\n",
      "17152/17152 [==============================] - 84s 5ms/step - loss: 0.4768 - acc: 0.7740\n",
      "Epoch 3/5\n",
      "17152/17152 [==============================] - 84s 5ms/step - loss: 0.4709 - acc: 0.7779\n",
      "Epoch 4/5\n",
      "17152/17152 [==============================] - 84s 5ms/step - loss: 0.4677 - acc: 0.7804\n",
      "Epoch 5/5\n",
      "17152/17152 [==============================] - 91s 5ms/step - loss: 0.4646 - acc: 0.7820\n",
      "KerasTextClassifierLearner::tatk_fit ==> end \t Time taken: 7.56 mins\n",
      "Time taken: 8.02 mins\n",
      "KerasTextClassifier::fit ==> end\n"
     ]
    },
    {
     "data": {
      "text/plain": [
       "KerasTextClassifier(binary_format=False, callbacks=False,\n",
       "          embedding_file_path='D:\\\\Sentiment140_Classification\\\\w2vec.txt',\n",
       "          input_col='tweets', label_col='labels', limit=None,\n",
       "          model_type='binary', num_classes=1, prediction_col='prediction',\n",
       "          probabilities_col='probabilities')"
      ]
     },
     "execution_count": 27,
     "metadata": {},
     "output_type": "execute_result"
    }
   ],
   "source": [
    "keras_text_classifier.fit(train)"
   ]
  },
  {
   "cell_type": "markdown",
   "metadata": {},
   "source": [
    "### Save keras model"
   ]
  },
  {
   "cell_type": "code",
   "execution_count": null,
   "metadata": {},
   "outputs": [],
   "source": [
    "keras_text_classifier.save(model_file)"
   ]
  },
  {
   "cell_type": "markdown",
   "metadata": {},
   "source": [
    "### Load model and evaluate performance on a set of training data"
   ]
  },
  {
   "cell_type": "code",
   "execution_count": null,
   "metadata": {},
   "outputs": [],
   "source": [
    "keras_text_classifier_reloaded = KerasTextClassifier.load(model_file)"
   ]
  },
  {
   "cell_type": "code",
   "execution_count": null,
   "metadata": {},
   "outputs": [],
   "source": [
    "predictions = keras_text_classifier_reloaded.evaluate(valid)"
   ]
  },
  {
   "cell_type": "markdown",
   "metadata": {},
   "source": [
    "### Plot confusion matrix"
   ]
  },
  {
   "cell_type": "code",
   "execution_count": null,
   "metadata": {},
   "outputs": [],
   "source": [
    "conf_matrix = pd.DataFrame(predictions[0], index = ['pos', 'neg'], columns = ['pos', 'neg'])\n",
    "plt.figure(figsize = (10,7))\n",
    "sns.heatmap(conf_matrix / conf_matrix.sum(axis=1), annot=True)"
   ]
  }
 ],
 "metadata": {
  "kernelspec": {
   "display_name": "Python 3.5 AML",
   "language": "python",
   "name": "python3"
  },
  "language_info": {
   "codemirror_mode": {
    "name": "ipython",
    "version": 3
   },
   "file_extension": ".py",
   "mimetype": "text/x-python",
   "name": "python",
   "nbconvert_exporter": "python",
   "pygments_lexer": "ipython3",
   "version": "3.5.2"
  }
 },
 "nbformat": 4,
 "nbformat_minor": 2
}
