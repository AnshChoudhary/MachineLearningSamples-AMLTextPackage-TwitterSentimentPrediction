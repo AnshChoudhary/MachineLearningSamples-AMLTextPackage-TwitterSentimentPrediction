{
 "cells": [
  {
   "cell_type": "markdown",
   "metadata": {},
   "source": [
    "# Evaluation of classifiers on test data"
   ]
  },
  {
   "cell_type": "markdown",
   "metadata": {},
   "source": [
    "### Load trained pipeline models and evaluate an independent test data\n",
    "\n",
    "Similar scripts can be used when putting the model in production using REST APIs running on Azure ML deployment service. "
   ]
  },
  {
   "cell_type": "code",
   "execution_count": 1,
   "metadata": {},
   "outputs": [],
   "source": [
    "import os\n",
    "## SET YOUR OWN WORKING DIRECTORY\n",
    "working_dir = r\"<Set working directory>\"\n",
    "#working_dir = r\"D:\\Sentiment140_Classification\"\n",
    "\n",
    "## Set training and test files\n",
    "test_tweet_filename = os.path.join(working_dir, 'testing_text.csv')\n",
    "test_label_filename = os.path.join(working_dir, 'testing_label.csv')\n",
    "\n",
    "## Set model files\n",
    "sk_model_file = os.path.join(working_dir, 'sk_model.zip') \n",
    "keras_model_file = os.path.join(working_dir, 'keras_model') "
   ]
  },
  {
   "cell_type": "code",
   "execution_count": 12,
   "metadata": {},
   "outputs": [
    {
     "name": "stdout",
     "output_type": "stream",
     "text": [
      "Name: azureml-tatk\n",
      "Version: 0.0.687318\n",
      "Summary: Microsoft Azure Machine Learning Text Analytics Toolkit\n",
      "Home-page: https://msdata.visualstudio.com/DefaultCollection/AlgorithmsAndDataScience/_git/TATK\n",
      "Author: Microsoft Corporation\n",
      "Author-email: azml-tatk@microsoft.com\n",
      "License: UNKNOWN\n",
      "Location: c:\\users\\remoteuser\\appdata\\local\\amlworkbench\\python\\lib\\site-packages\n",
      "Requires: scikit-learn, sklearn-crfsuite, ipython, nose, matplotlib, lxml, bqplot, azure-storage, scipy, pdfminer.six, requests, azure-ml-api-sdk, pyspark, docker, tensorflow-gpu, keras, numpy, validators, unidecode, nltk, pytest, pandas, h5py, gensim\n"
     ]
    }
   ],
   "source": [
    "from tatk.feature_extraction.word2vec_vectorizer import Word2VecVectorizer\n",
    "\n",
    "from __future__ import absolute_import\n",
    "from __future__ import division\n",
    "import tatk\n",
    "import collections\n",
    "import math\n",
    "import sys\n",
    "import random\n",
    "import numpy as np\n",
    "from six.moves import urllib\n",
    "from six.moves import xrange  \n",
    "from timeit import default_timer as timer\n",
    "import pandas as pd\n",
    "import re\n",
    "import io\n",
    "from nltk.tokenize import TweetTokenizer\n",
    "import num2words\n",
    "import seaborn as sns\n",
    "\n",
    "import math\n",
    "from matplotlib import pyplot as plt\n",
    "from sklearn.linear_model import LogisticRegression\n",
    "from tatk.pipelines.text_classification.text_classifier import TextClassifier\n",
    "from tatk.pipelines.text_classification.keras_text_classifier import KerasTextClassifier\n",
    "\n",
    "!pip show azureml-tatk"
   ]
  },
  {
   "cell_type": "markdown",
   "metadata": {},
   "source": [
    "## Define data loading the preprocessing functions for tweets"
   ]
  },
  {
   "cell_type": "code",
   "execution_count": 3,
   "metadata": {},
   "outputs": [],
   "source": [
    "# Data processing\n",
    "# In the following code, we replace Emails, URLS, emoticons etc with special labels\n",
    "pos_emoticons=[\"(^.^)\",\"(^-^)\",\"(^_^)\",\"(^_~)\",\"(^3^)\",\"(^o^)\",\"(~_^)\",\"*)\",\":)\",\":*\",\":-*\",\":]\",\":^)\",\":}\",\n",
    "               \":>\",\":3\",\":b\",\":-b\",\":c)\",\":D\",\":-D\",\":O\",\":-O\",\":o)\",\":p\",\":-p\",\":P\",\":-P\",\":Þ\",\":-Þ\",\":X\",\n",
    "               \":-X\",\";)\",\";-)\",\";]\",\";D\",\"^)\",\"^.~\",\"_)m\",\" ~.^\",\"<=8\",\"<3\",\"<333\",\"=)\",\"=///=\",\"=]\",\"=^_^=\",\n",
    "               \"=<_<=\",\"=>.<=\",\" =>.>=\",\" =3\",\"=D\",\"=p\",\"0-0\",\"0w0\",\"8D\",\"8O\",\"B)\",\"C:\",\"d'-'\",\"d(>w<)b\",\":-)\",\n",
    "               \"d^_^b\",\"qB-)\",\"X3\",\"xD\",\"XD\",\"XP\",\"ʘ‿ʘ\",\"❤\",\"💜\",\"💚\",\"💕\",\"💙\",\"💛\",\"💓\",\"💝\",\"💖\",\"💞\",\n",
    "               \"💘\",\"💗\",\"😗\",\"😘\",\"😙\",\"😚\",\"😻\",\"😀\",\"😁\",\"😃\",\"☺\",\"😄\",\"😆\",\"😇\",\"😉\",\"😊\",\"😋\",\"😍\",\n",
    "               \"😎\",\"😏\",\"😛\",\"😜\",\"😝\",\"😮\",\"😸\",\"😹\",\"😺\",\"😻\",\"😼\",\"👍\"]\n",
    "\n",
    "neg_emoticons=[\"--!--\",\"(,_,)\",\"(-.-)\",\"(._.)\",\"(;.;)9\",\"(>.<)\",\"(>_<)\",\"(>_>)\",\"(¬_¬)\",\"(X_X)\",\":&\",\":(\",\":'(\",\n",
    "               \":-(\",\":-/\",\":-@[1]\",\":[\",\":\\\\\",\":{\",\":<\",\":-9\",\":c\",\":S\",\";(\",\";*(\",\";_;\",\"^>_>^\",\"^o)\",\"_|_\",\n",
    "               \"`_´\",\"</3\",\"<=3\",\"=/\",\"=\\\\\",\">:(\",\">:-(\",\"💔\",\"☹️\",\"😌\",\"😒\",\"😓\",\"😔\",\"😕\",\"😖\",\"😞\",\"😟\",\n",
    "               \"😠\",\"😡\",\"😢\",\"😣\",\"😤\",\"😥\",\"😦\",\"😧\",\"😨\",\"😩\",\"😪\",\"😫\",\"😬\",\"😭\",\"😯\",\"😰\",\"😱\",\"😲\",\n",
    "               \"😳\",\"😴\",\"😷\",\"😾\",\"😿\",\"🙀\",\"💀\",\"👎\"]\n",
    "\n",
    "# Emails\n",
    "emailsRegex=re.compile(r'[\\w\\.-]+@[\\w\\.-]+')\n",
    "\n",
    "# Mentions\n",
    "userMentionsRegex=re.compile(r'(?<=^|(?<=[^a-zA-Z0-9-_\\.]))@([A-Za-z]+[A-Za-z0-9]+)')\n",
    "\n",
    "#Urls\n",
    "urlsRegex=re.compile('r(f|ht)(tp)(s?)(://)(.*)[.|/][^ ]+') # It may not be handling all the cases like t.co without http\n",
    "\n",
    "#Numerics\n",
    "numsRegex=re.compile(r\"\\b\\d+\\b\")\n",
    "\n",
    "punctuationNotEmoticonsRegex=re.compile(r'(?<=\\w)[^\\s\\w](?![^\\s\\w])')\n",
    "\n",
    "emoticonsDict = {}\n",
    "for i,each in enumerate(pos_emoticons):\n",
    "    emoticonsDict[each]=' POS_EMOTICON_'+num2words.num2words(i).upper()+' '\n",
    "    \n",
    "for i,each in enumerate(neg_emoticons):\n",
    "    emoticonsDict[each]=' NEG_EMOTICON_'+num2words.num2words(i).upper()+' '\n",
    "    \n",
    "# use these three lines to do the replacement\n",
    "rep = dict((re.escape(k), v) for k, v in emoticonsDict.items())\n",
    "emoticonsPattern = re.compile(\"|\".join(rep.keys()))\n",
    "\n",
    "\n",
    "##########################\n",
    "def read_tweets(filename):\n",
    "    \"\"\"Read the raw tweet data from a file. Replace Emails etc with special tokens \"\"\"\n",
    "    with open(filename, 'r') as f:\n",
    "        all_lines=f.readlines()\n",
    "        padded_lines=[]\n",
    "        for line in all_lines:\n",
    "            line = emoticonsPattern.sub(lambda m: rep[re.escape(m.group(0))], line.lower().strip())\n",
    "            line = userMentionsRegex.sub(' USER ', line )\n",
    "            line = emailsRegex.sub(' EMAIL ', line )\n",
    "            line=urlsRegex.sub(' URL ', line)\n",
    "            line=numsRegex.sub(' NUM ',line)\n",
    "            line=punctuationNotEmoticonsRegex.sub(' PUN ',line)\n",
    "            line=re.sub(r'(.)\\1{2,}', r'\\1\\1',line)\n",
    "            words_tokens=[token for token in TweetTokenizer().tokenize(line)]                    \n",
    "            line= ' '.join(token for token in words_tokens )         \n",
    "            padded_lines.append(line)\n",
    "    return padded_lines"
   ]
  },
  {
   "cell_type": "markdown",
   "metadata": {},
   "source": [
    "## Read and preprocess test data"
   ]
  },
  {
   "cell_type": "code",
   "execution_count": 4,
   "metadata": {},
   "outputs": [
    {
     "data": {
      "text/html": [
       "<div>\n",
       "<table border=\"1\" class=\"dataframe\">\n",
       "  <thead>\n",
       "    <tr style=\"text-align: right;\">\n",
       "      <th></th>\n",
       "      <th>tweets</th>\n",
       "      <th>labels</th>\n",
       "    </tr>\n",
       "  </thead>\n",
       "  <tbody>\n",
       "    <tr>\n",
       "      <th>0</th>\n",
       "      <td>USER hehe enjoy i say i wish i kept a stock of...</td>\n",
       "      <td>positive</td>\n",
       "    </tr>\n",
       "    <tr>\n",
       "      <th>1</th>\n",
       "      <td>is not happy she is driving a loaner car ! !</td>\n",
       "      <td>negative</td>\n",
       "    </tr>\n",
       "    <tr>\n",
       "      <th>2</th>\n",
       "      <td>heyy guyzz howz evrionee PUN x</td>\n",
       "      <td>positive</td>\n",
       "    </tr>\n",
       "  </tbody>\n",
       "</table>\n",
       "</div>"
      ],
      "text/plain": [
       "                                              tweets    labels\n",
       "0  USER hehe enjoy i say i wish i kept a stock of...  positive\n",
       "1       is not happy she is driving a loaner car ! !  negative\n",
       "2                     heyy guyzz howz evrionee PUN x  positive"
      ]
     },
     "metadata": {},
     "output_type": "display_data"
    }
   ],
   "source": [
    "## Read in tweet test file. Labels are 4 and 0 (4 being positive and 0 being negative)\n",
    "tweets = read_tweets(test_tweet_filename)\n",
    "\n",
    "with open(test_label_filename, 'r') as f:\n",
    "    all_lines=f.readlines()\n",
    "    tweet_labels = []\n",
    "    for line in all_lines:\n",
    "        line = line.strip()\n",
    "        label = ''\n",
    "        if line == '4':\n",
    "            label = 'positive'\n",
    "        else:\n",
    "            label = 'negative'\n",
    "        tweet_labels.append(label)\n",
    "\n",
    "df_test = pd.DataFrame({'tweets':tweets, 'labels':tweet_labels}, columns=['tweets','labels'])\n",
    "display(df_test[:3])"
   ]
  },
  {
   "cell_type": "markdown",
   "metadata": {},
   "source": [
    "## Evaluate scikit learn model"
   ]
  },
  {
   "cell_type": "markdown",
   "metadata": {},
   "source": [
    "#### Load scikit learn model & pipleine, predict and evaluate the accuracy on test set"
   ]
  },
  {
   "cell_type": "code",
   "execution_count": 5,
   "metadata": {},
   "outputs": [
    {
     "name": "stdout",
     "output_type": "stream",
     "text": [
      "BaseTextModel::load ==> start\n",
      "TatkPipeline::load ==> start\n",
      "Word '<UNK>' is already in vocabulary.\n",
      "Word2VecVectorizer: Word2Vec model loaded from D:\\Sentiment140_Classification\\sk_model.zip 2018-03-17 05.25.22\\sk_model\\pipeline\\tweets_word2vec\\embedding_table.txt\n",
      "Time taken: 0.06 mins\n",
      "TatkPipeline::load ==> end\n",
      "Time taken: 1.68 mins\n",
      "BaseTextModel::load ==> end\n"
     ]
    }
   ],
   "source": [
    "loaded_text_classifier = TextClassifier.load(sk_model_file)"
   ]
  },
  {
   "cell_type": "markdown",
   "metadata": {},
   "source": [
    "#### Predict on test dataset"
   ]
  },
  {
   "cell_type": "code",
   "execution_count": 8,
   "metadata": {},
   "outputs": [
    {
     "name": "stdout",
     "output_type": "stream",
     "text": [
      "TextClassifier::predict ==> start\n",
      "NltkPreprocessor::tatk_transform ==> start\n",
      "NltkPreprocessor::tatk_transform ==> end \t Time taken: 0.09 mins\n",
      "Word2VecVectorizer::tatk_transform ==> start\n",
      "Word2VecVectorizer::tatk_transform ==> end \t Time taken: 0.57 mins\n",
      "VectorAssembler::transform ==> start, num of input records=320000\n",
      "(320000, 50)\n",
      "all_features::\n",
      "(320000, 50)\n",
      "Time taken: 0.0 mins\n",
      "VectorAssembler::transform ==> end\n",
      "LogisticRegression::tatk_predict ==> start\n",
      "LogisticRegression::tatk_predict ==> end \t Time taken: 0.0 mins\n",
      "Time taken: 0.67 mins\n",
      "TextClassifier::predict ==> end\n"
     ]
    },
    {
     "data": {
      "text/html": [
       "<div>\n",
       "<table border=\"1\" class=\"dataframe\">\n",
       "  <thead>\n",
       "    <tr style=\"text-align: right;\">\n",
       "      <th></th>\n",
       "      <th>tweets</th>\n",
       "      <th>labels</th>\n",
       "      <th>prediction</th>\n",
       "    </tr>\n",
       "  </thead>\n",
       "  <tbody>\n",
       "    <tr>\n",
       "      <th>0</th>\n",
       "      <td>USER hehe enjoy i say i wish i kept a stock of...</td>\n",
       "      <td>positive</td>\n",
       "      <td>negative</td>\n",
       "    </tr>\n",
       "    <tr>\n",
       "      <th>1</th>\n",
       "      <td>is not happy she is driving a loaner car ! !</td>\n",
       "      <td>negative</td>\n",
       "      <td>negative</td>\n",
       "    </tr>\n",
       "    <tr>\n",
       "      <th>2</th>\n",
       "      <td>heyy guyzz howz evrionee PUN x</td>\n",
       "      <td>positive</td>\n",
       "      <td>positive</td>\n",
       "    </tr>\n",
       "  </tbody>\n",
       "</table>\n",
       "</div>"
      ],
      "text/plain": [
       "                                              tweets    labels prediction\n",
       "0  USER hehe enjoy i say i wish i kept a stock of...  positive   negative\n",
       "1       is not happy she is driving a loaner car ! !  negative   negative\n",
       "2                     heyy guyzz howz evrionee PUN x  positive   positive"
      ]
     },
     "metadata": {},
     "output_type": "display_data"
    }
   ],
   "source": [
    "predictions = loaded_text_classifier.predict(df_test)\n",
    "display(predictions[:3])"
   ]
  },
  {
   "cell_type": "markdown",
   "metadata": {},
   "source": [
    "#### Evalaute the accuracy of the trained text classifier on the test dataset"
   ]
  },
  {
   "cell_type": "code",
   "execution_count": 10,
   "metadata": {},
   "outputs": [
    {
     "name": "stdout",
     "output_type": "stream",
     "text": [
      "TextClassifier::evaluate ==> start\n",
      "NltkPreprocessor::tatk_transform ==> start\n",
      "NltkPreprocessor::tatk_transform ==> end \t Time taken: 0.09 mins\n",
      "Word2VecVectorizer::tatk_transform ==> start\n",
      "Word2VecVectorizer::tatk_transform ==> end \t Time taken: 0.58 mins\n",
      "VectorAssembler::transform ==> start, num of input records=320000\n",
      "(320000, 50)\n",
      "all_features::\n",
      "(320000, 50)\n",
      "Time taken: 0.0 mins\n",
      "VectorAssembler::transform ==> end\n",
      "LogisticRegression::tatk_predict ==> start\n",
      "LogisticRegression::tatk_predict ==> end \t Time taken: 0.0 mins\n",
      "[[117085  43172]\n",
      " [ 41151 118592]]\n",
      "macro_f1 = 0.7364847807033664\n",
      "Time taken: 0.74 mins\n",
      "TextClassifier::evaluate ==> end\n"
     ]
    },
    {
     "data": {
      "text/plain": [
       "(array([[117085,  43172],\n",
       "        [ 41151, 118592]], dtype=int64), 0.7364847807033664)"
      ]
     },
     "execution_count": 10,
     "metadata": {},
     "output_type": "execute_result"
    }
   ],
   "source": [
    "loaded_text_classifier.evaluate(df_test)          "
   ]
  },
  {
   "cell_type": "markdown",
   "metadata": {},
   "source": [
    "## Evaluate Keras model"
   ]
  },
  {
   "cell_type": "code",
   "execution_count": 9,
   "metadata": {},
   "outputs": [
    {
     "data": {
      "text/html": [
       "<div>\n",
       "<table border=\"1\" class=\"dataframe\">\n",
       "  <thead>\n",
       "    <tr style=\"text-align: right;\">\n",
       "      <th></th>\n",
       "      <th>tweets</th>\n",
       "      <th>labels</th>\n",
       "    </tr>\n",
       "  </thead>\n",
       "  <tbody>\n",
       "    <tr>\n",
       "      <th>0</th>\n",
       "      <td>USER hehe enjoy i say i wish i kept a stock of...</td>\n",
       "      <td>1</td>\n",
       "    </tr>\n",
       "    <tr>\n",
       "      <th>1</th>\n",
       "      <td>is not happy she is driving a loaner car ! !</td>\n",
       "      <td>0</td>\n",
       "    </tr>\n",
       "    <tr>\n",
       "      <th>2</th>\n",
       "      <td>heyy guyzz howz evrionee PUN x</td>\n",
       "      <td>1</td>\n",
       "    </tr>\n",
       "  </tbody>\n",
       "</table>\n",
       "</div>"
      ],
      "text/plain": [
       "                                              tweets  labels\n",
       "0  USER hehe enjoy i say i wish i kept a stock of...       1\n",
       "1       is not happy she is driving a loaner car ! !       0\n",
       "2                     heyy guyzz howz evrionee PUN x       1"
      ]
     },
     "metadata": {},
     "output_type": "display_data"
    }
   ],
   "source": [
    "## Read in tweet test file. Labels are 4 and 0 (4 being positive and 0 being negative)\n",
    "tweets = read_tweets(test_tweet_filename)\n",
    "\n",
    "with open(test_label_filename, 'r') as f:\n",
    "    all_lines=f.readlines()\n",
    "    tweet_labels = []\n",
    "    for line in all_lines:\n",
    "        line = line.strip()\n",
    "        label = 0\n",
    "        if line == '4':\n",
    "            label = 1\n",
    "        tweet_labels.append(label)\n",
    "\n",
    "df_test = pd.DataFrame({'tweets':tweets, 'labels':tweet_labels}, columns=['tweets','labels'])\n",
    "display(df_test[:3])"
   ]
  },
  {
   "cell_type": "markdown",
   "metadata": {},
   "source": [
    "#### Load Keras model"
   ]
  },
  {
   "cell_type": "code",
   "execution_count": 7,
   "metadata": {},
   "outputs": [
    {
     "name": "stdout",
     "output_type": "stream",
     "text": [
      "BaseTextModel::load ==> start\n",
      "TatkPipeline::load ==> start\n",
      "Word2VecVectorizer: Word2Vec model loaded from D:\\Sentiment140_Classification\\keras_model\\pipeline\\vectorizer\\embedding_table.txt\n",
      "Time taken: 0.09 mins\n",
      "TatkPipeline::load ==> end\n",
      "Time taken: 0.09 mins\n",
      "BaseTextModel::load ==> end\n"
     ]
    }
   ],
   "source": [
    "keras_text_classifier_reloaded = KerasTextClassifier.load(keras_model_file)"
   ]
  },
  {
   "cell_type": "code",
   "execution_count": 10,
   "metadata": {},
   "outputs": [
    {
     "name": "stdout",
     "output_type": "stream",
     "text": [
      "KerasTextClassifier::evaluate ==> start\n",
      "GenerateIndexTransformer::tatk_transform ==> start\n",
      "NltkPreprocessor::tatk_transform ==> startGenerateIndexTransformer::tatk_transform ==> end \t Time taken: 0.0 mins\n",
      "\n",
      "NltkPreprocessor::tatk_transform ==> end \t Time taken: 0.08 mins\n",
      "Word2VecVectorizer::tatk_transform ==> start\n",
      "Word2VecVectorizer::tatk_transform ==> end \t Time taken: 0.09 mins\n",
      "KerasTextClassifierLearner::tatk_predict ==> start\n",
      "KerasTextClassifierLearner::tatk_predict ==> end \t Time taken: 2.92 mins\n",
      "[[121199  39058]\n",
      " [ 24730 135013]]\n",
      "macro_f1=0.8002903328518538\n",
      "Time taken: 3.09 mins\n",
      "KerasTextClassifier::evaluate ==> end\n"
     ]
    }
   ],
   "source": [
    "predictions = keras_text_classifier_reloaded.evaluate(df_test)"
   ]
  },
  {
   "cell_type": "code",
   "execution_count": 13,
   "metadata": {},
   "outputs": [
    {
     "data": {
      "text/plain": [
       "<matplotlib.axes._subplots.AxesSubplot at 0x2bca3e90eb8>"
      ]
     },
     "execution_count": 13,
     "metadata": {},
     "output_type": "execute_result"
    },
    {
     "data": {
      "image/png": "[encoded data removed]",
      "text/plain": [
       "<Figure size 360x216 with 2 Axes>"
      ]
     },
     "metadata": {},
     "output_type": "display_data"
    }
   ],
   "source": [
    "conf_matrix = pd.DataFrame(predictions[0], index = ['pos', 'neg'], columns = ['pos', 'neg'])\n",
    "plt.figure(figsize = (5,3))\n",
    "sns.heatmap(conf_matrix / conf_matrix.sum(axis=1), annot=True)"
   ]
  }
 ],
 "metadata": {
  "kernelspec": {
   "display_name": "Python 3",
   "language": "python",
   "name": "python3"
  },
  "language_info": {
   "codemirror_mode": {
    "name": "ipython",
    "version": 3
   },
   "file_extension": ".py",
   "mimetype": "text/x-python",
   "name": "python",
   "nbconvert_exporter": "python",
   "pygments_lexer": "ipython3",
   "version": "3.5.2"
  }
 },
 "nbformat": 4,
 "nbformat_minor": 2
}
