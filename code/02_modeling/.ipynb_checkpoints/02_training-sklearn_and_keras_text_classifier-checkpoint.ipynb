{
 "cells": [
  {
   "cell_type": "markdown",
   "metadata": {},
   "source": [
    "# Scikit Learn & Keras Text Classifier Pipeline with Word2Vec Featurization"
   ]
  },
  {
   "cell_type": "markdown",
   "metadata": {},
   "source": [
    "### This notebook shows how to train pipelines for word embeddigns and scikit classifier\n",
    "\n",
    "The pipeline takes as input a dataframe containing tweets in a text column, a word embedding file, and trains a scikit learn model. The modeling pipeline is then saved to a .zip file. This file can be loaded later and used for prediction and evaluation of new data sets."
   ]
  },
  {
   "cell_type": "code",
   "execution_count": 1,
   "metadata": {},
   "outputs": [],
   "source": [
    "import os\n",
    "\n",
    "working_dir = r\"D:\\Sentiment140_Classification\"\n",
    "\n",
    "## Set training and test files\n",
    "training_tweet_filename = os.path.join(working_dir, 'training_text.csv')\n",
    "training_label_filename = os.path.join(working_dir, 'training_label.csv')\n",
    "test_tweet_filename = os.path.join(working_dir, 'testing_text.csv')\n",
    "test_label_filename = os.path.join(working_dir, 'testing_label.csv')\n",
    "\n",
    "## Set word2vec file, parameter file for model, and model pipeline file\n",
    "w2v_embeddings_filename = os.path.join(working_dir, 'w2vec.txt')\n",
    "params_file_path = os.path.join(working_dir, \"params.tsv\")\n",
    "model_file = os.path.join(working_dir, 'sk_model.zip') "
   ]
  },
  {
   "cell_type": "code",
   "execution_count": 2,
   "metadata": {},
   "outputs": [
    {
     "name": "stdout",
     "output_type": "stream",
     "text": [
      "Name: azureml-tatk\n",
      "Version: 0.1.18108.8a1\n",
      "Summary: Microsoft Azure Machine Learning Package for Text Analytics\n",
      "Home-page: https://microsoft.sharepoint.com/teams/TextAnalyticsPackagePreview\n",
      "Author: Microsoft Corporation\n",
      "Author-email: amltap@microsoft.com\n",
      "License: UNKNOWN\n",
      "Location: c:\\users\\remoteuser\\appdata\\local\\amlworkbench\\python\\lib\\site-packages\n",
      "Requires: azure-storage, qgrid, sklearn-crfsuite, docker, validators, h5py, pytest, ruamel.yaml, ipywidgets, requests, unidecode, numpy, nose, nltk, gensim, pdfminer.six, lxml, scikit-learn, ipython, scipy, keras, azure-ml-api-sdk, pandas, bqplot, matplotlib, pyspark\n",
      "Required-by: \n"
     ]
    }
   ],
   "source": [
    "from tatk.feature_extraction.word2vec_vectorizer import Word2VecVectorizer\n",
    "\n",
    "from __future__ import absolute_import\n",
    "from __future__ import division\n",
    "import tatk\n",
    "import collections\n",
    "import math\n",
    "import sys\n",
    "import random\n",
    "import numpy as np\n",
    "from six.moves import urllib\n",
    "from six.moves import xrange  \n",
    "from timeit import default_timer as timer\n",
    "import pandas as pd\n",
    "import re\n",
    "import io\n",
    "from nltk.tokenize import TweetTokenizer\n",
    "import num2words\n",
    "\n",
    "import math\n",
    "from matplotlib import pyplot as plt\n",
    "from sklearn.linear_model import LogisticRegression\n",
    "from sklearn.model_selection import train_test_split\n",
    "from tatk.pipelines.text_classification.text_classifier import TextClassifier\n",
    "from tatk.pipelines.text_classification.keras_text_classifier import KerasTextClassifier\n",
    "from tatk.feature_extraction.callable_vectorizer import CallableVectorizer\n",
    "\n",
    "from sklearn.model_selection import GridSearchCV\n",
    "from sklearn.model_selection import RandomizedSearchCV \n",
    "\n",
    "!pip show azureml-tatk\n",
    "\n",
    "%reload_ext autoreload\n",
    "%autoreload 2\n",
    "%matplotlib inline"
   ]
  },
  {
   "cell_type": "markdown",
   "metadata": {},
   "source": [
    "## Load and preprocess tweet data"
   ]
  },
  {
   "cell_type": "markdown",
   "metadata": {},
   "source": [
    "### Define data loading the preprocessing functions for tweets"
   ]
  },
  {
   "cell_type": "code",
   "execution_count": 3,
   "metadata": {},
   "outputs": [],
   "source": [
    "# Data processing\n",
    "# In the following code, we replace Emails, URLS, emoticons etc with special labels\n",
    "pos_emoticons=[\"(^.^)\",\"(^-^)\",\"(^_^)\",\"(^_~)\",\"(^3^)\",\"(^o^)\",\"(~_^)\",\"*)\",\":)\",\":*\",\":-*\",\":]\",\":^)\",\":}\",\n",
    "               \":>\",\":3\",\":b\",\":-b\",\":c)\",\":D\",\":-D\",\":O\",\":-O\",\":o)\",\":p\",\":-p\",\":P\",\":-P\",\":Þ\",\":-Þ\",\":X\",\n",
    "               \":-X\",\";)\",\";-)\",\";]\",\";D\",\"^)\",\"^.~\",\"_)m\",\" ~.^\",\"<=8\",\"<3\",\"<333\",\"=)\",\"=///=\",\"=]\",\"=^_^=\",\n",
    "               \"=<_<=\",\"=>.<=\",\" =>.>=\",\" =3\",\"=D\",\"=p\",\"0-0\",\"0w0\",\"8D\",\"8O\",\"B)\",\"C:\",\"d'-'\",\"d(>w<)b\",\":-)\",\n",
    "               \"d^_^b\",\"qB-)\",\"X3\",\"xD\",\"XD\",\"XP\",\"ʘ‿ʘ\",\"❤\",\"💜\",\"💚\",\"💕\",\"💙\",\"💛\",\"💓\",\"💝\",\"💖\",\"💞\",\n",
    "               \"💘\",\"💗\",\"😗\",\"😘\",\"😙\",\"😚\",\"😻\",\"😀\",\"😁\",\"😃\",\"☺\",\"😄\",\"😆\",\"😇\",\"😉\",\"😊\",\"😋\",\"😍\",\n",
    "               \"😎\",\"😏\",\"😛\",\"😜\",\"😝\",\"😮\",\"😸\",\"😹\",\"😺\",\"😻\",\"😼\",\"👍\"]\n",
    "\n",
    "neg_emoticons=[\"--!--\",\"(,_,)\",\"(-.-)\",\"(._.)\",\"(;.;)9\",\"(>.<)\",\"(>_<)\",\"(>_>)\",\"(¬_¬)\",\"(X_X)\",\":&\",\":(\",\":'(\",\n",
    "               \":-(\",\":-/\",\":-@[1]\",\":[\",\":\\\\\",\":{\",\":<\",\":-9\",\":c\",\":S\",\";(\",\";*(\",\";_;\",\"^>_>^\",\"^o)\",\"_|_\",\n",
    "               \"`_´\",\"</3\",\"<=3\",\"=/\",\"=\\\\\",\">:(\",\">:-(\",\"💔\",\"☹️\",\"😌\",\"😒\",\"😓\",\"😔\",\"😕\",\"😖\",\"😞\",\"😟\",\n",
    "               \"😠\",\"😡\",\"😢\",\"😣\",\"😤\",\"😥\",\"😦\",\"😧\",\"😨\",\"😩\",\"😪\",\"😫\",\"😬\",\"😭\",\"😯\",\"😰\",\"😱\",\"😲\",\n",
    "               \"😳\",\"😴\",\"😷\",\"😾\",\"😿\",\"🙀\",\"💀\",\"👎\"]\n",
    "\n",
    "emoticonsDict = {}\n",
    "for i,each in enumerate(pos_emoticons):\n",
    "    emoticonsDict[each]=' POS_EMOTICON_'+num2words.num2words(i).upper()+' '\n",
    "    \n",
    "for i,each in enumerate(neg_emoticons):\n",
    "    emoticonsDict[each]=' NEG_EMOTICON_'+num2words.num2words(i).upper()+' '\n",
    "    \n",
    "# use these three lines to do the replacement\n",
    "rep = dict((re.escape(k), v) for k, v in emoticonsDict.items())\n",
    "emoticonsPattern = re.compile(\"|\".join(rep.keys()))\n",
    "\n",
    "# Read in files\n",
    "def read_tweets(filename):\n",
    "    \"\"\"Read the raw tweet data from a file. Replace Emails etc with special tokens \"\"\"\n",
    "    with open(filename, 'r') as f:\n",
    "        all_lines=f.readlines()\n",
    "        padded_lines=[]\n",
    "        for line in all_lines:\n",
    "            line = emoticonsPattern.sub(lambda m: rep[re.escape(m.group(0))], line.lower().strip())\n",
    "            line=re.sub(r'(.)\\1{2,}', r'\\1\\1',line)\n",
    "            words_tokens=[token for token in TweetTokenizer().tokenize(line)]                    \n",
    "            line= ' '.join(token for token in words_tokens )         \n",
    "            padded_lines.append(line)\n",
    "    return padded_lines"
   ]
  },
  {
   "cell_type": "markdown",
   "metadata": {},
   "source": [
    "### Read in tweet training data and training labels, and combine into one data-frame"
   ]
  },
  {
   "cell_type": "code",
   "execution_count": 4,
   "metadata": {},
   "outputs": [
    {
     "data": {
      "text/html": [
       "<div>\n",
       "<table border=\"1\" class=\"dataframe\">\n",
       "  <thead>\n",
       "    <tr style=\"text-align: right;\">\n",
       "      <th></th>\n",
       "      <th>raw_tweets</th>\n",
       "      <th>labels</th>\n",
       "    </tr>\n",
       "  </thead>\n",
       "  <tbody>\n",
       "    <tr>\n",
       "      <th>0</th>\n",
       "      <td>damn fixtated on @kokupuff lovely thighs / hip...</td>\n",
       "      <td>1</td>\n",
       "    </tr>\n",
       "    <tr>\n",
       "      <th>1</th>\n",
       "      <td>god bless firefox's ' restore previous session...</td>\n",
       "      <td>1</td>\n",
       "    </tr>\n",
       "    <tr>\n",
       "      <th>2</th>\n",
       "      <td>@sherrieshepherd http://twitpic.com/6vn4a - da...</td>\n",
       "      <td>1</td>\n",
       "    </tr>\n",
       "  </tbody>\n",
       "</table>\n",
       "</div>"
      ],
      "text/plain": [
       "                                          raw_tweets  labels\n",
       "0  damn fixtated on @kokupuff lovely thighs / hip...       1\n",
       "1  god bless firefox's ' restore previous session...       1\n",
       "2  @sherrieshepherd http://twitpic.com/6vn4a - da...       1"
      ]
     },
     "metadata": {},
     "output_type": "display_data"
    }
   ],
   "source": [
    "## Read in tweet file. Labels are 4 and 0 (4 being positive and 0 being negative)\n",
    "tweets = read_tweets(training_tweet_filename)\n",
    "\n",
    "with open(training_label_filename, 'r') as f:\n",
    "    all_lines=f.readlines()\n",
    "    tweet_labels = []\n",
    "    for line in all_lines:\n",
    "        line = line.strip()\n",
    "        label = 0\n",
    "        if line == '4':\n",
    "            label = 1\n",
    "        #else:\n",
    "        #    label = 'negative'\n",
    "        tweet_labels.append(label)\n",
    "\n",
    "df = pd.DataFrame({'raw_tweets':tweets, 'labels':tweet_labels}, columns=['raw_tweets','labels'])\n",
    "display(df[:3])"
   ]
  },
  {
   "cell_type": "code",
   "execution_count": 5,
   "metadata": {},
   "outputs": [
    {
     "data": {
      "text/plain": [
       "1    640257\n",
       "0    639743\n",
       "Name: labels, dtype: int64"
      ]
     },
     "execution_count": 5,
     "metadata": {},
     "output_type": "execute_result"
    }
   ],
   "source": [
    "## Count the labels in training set\n",
    "df['labels'].value_counts()"
   ]
  },
  {
   "cell_type": "markdown",
   "metadata": {},
   "source": [
    "### Use CallableVectorizer to pre-process tweets in a given dataframe\n",
    "#### This takes raw tweets and further processes them to generate processed tweets which are used to run training / testing"
   ]
  },
  {
   "cell_type": "code",
   "execution_count": 6,
   "metadata": {},
   "outputs": [
    {
     "name": "stdout",
     "output_type": "stream",
     "text": [
      "CallableVectorizer::tatk_fit_transform ==> start\n",
      "CallableVectorizer::tatk_fit_transform ==> end \t Time taken: 0.1 mins\n"
     ]
    },
    {
     "data": {
      "text/html": [
       "<div>\n",
       "<table border=\"1\" class=\"dataframe\">\n",
       "  <thead>\n",
       "    <tr style=\"text-align: right;\">\n",
       "      <th></th>\n",
       "      <th>raw_tweets</th>\n",
       "      <th>labels</th>\n",
       "      <th>tweets</th>\n",
       "    </tr>\n",
       "  </thead>\n",
       "  <tbody>\n",
       "    <tr>\n",
       "      <th>0</th>\n",
       "      <td>damn fixtated on @kokupuff lovely thighs / hip...</td>\n",
       "      <td>1</td>\n",
       "      <td>damn fixtated on  AT kokupuff lovely thighs / ...</td>\n",
       "    </tr>\n",
       "    <tr>\n",
       "      <th>1</th>\n",
       "      <td>god bless firefox's ' restore previous session...</td>\n",
       "      <td>1</td>\n",
       "      <td>god bless firefox's ' restore previous session...</td>\n",
       "    </tr>\n",
       "    <tr>\n",
       "      <th>2</th>\n",
       "      <td>@sherrieshepherd http://twitpic.com/6vn4a - da...</td>\n",
       "      <td>1</td>\n",
       "      <td>AT sherrieshepherd http://twitpic.com/6vn4a -...</td>\n",
       "    </tr>\n",
       "  </tbody>\n",
       "</table>\n",
       "</div>"
      ],
      "text/plain": [
       "                                          raw_tweets  labels  \\\n",
       "0  damn fixtated on @kokupuff lovely thighs / hip...       1   \n",
       "1  god bless firefox's ' restore previous session...       1   \n",
       "2  @sherrieshepherd http://twitpic.com/6vn4a - da...       1   \n",
       "\n",
       "                                              tweets  \n",
       "0  damn fixtated on  AT kokupuff lovely thighs / ...  \n",
       "1  god bless firefox's ' restore previous session...  \n",
       "2   AT sherrieshepherd http://twitpic.com/6vn4a -...  "
      ]
     },
     "execution_count": 6,
     "metadata": {},
     "output_type": "execute_result"
    }
   ],
   "source": [
    "# Define functions wihch are to be used to pre-process tweets\n",
    "def to_lower_case(x):\n",
    "    return x.lower()\n",
    "\n",
    "def emailsReplace(x):\n",
    "    return x.replace(r'[\\w\\.-]+@[\\w\\.-]+', ' EMAIL ')\n",
    "\n",
    "def numsReplace(x):\n",
    "    return x.replace(r'[\\w\\.-]+@[\\w\\.-]+', ' NUM ')\n",
    "\n",
    "def userMentionsReplace(x):\n",
    "    return x.replace(r'(?<=^|(?<=[^a-zA-Z0-9-_\\.]))@([A-Za-z]+[A-Za-z0-9]+)', ' USER ')\n",
    "\n",
    "def urlReplace(x):\n",
    "    return x.replace(r'r(f|ht)(tp)(s?)(://)(.*)[.|/][^ ]+', ' URL ')\n",
    "\n",
    "def punctuationReplace(x):\n",
    "    return x.replace(r'(?<=\\w)[^\\s\\w](?![^\\s\\w])', ' PUN ')\n",
    "\n",
    "def atReplace(x):\n",
    "    return x.replace(r'@', ' AT ')\n",
    "\n",
    "# Chain functions into a list\n",
    "featFuncs=[to_lower_case, emailsReplace, numsReplace, userMentionsReplace, urlReplace, punctuationReplace, atReplace]\n",
    "\n",
    "# Create a transformer specifying functions, \n",
    "callable = CallableVectorizer(input_col=\"raw_tweets\", output_col=\"tweets\", feat_list=featFuncs, preprocessor = True)\n",
    "processed_df = callable.tatk_fit_transform(df)\n",
    "\n",
    "processed_df.head(3)\n"
   ]
  },
  {
   "cell_type": "code",
   "execution_count": 7,
   "metadata": {},
   "outputs": [
    {
     "data": {
      "text/html": [
       "<div>\n",
       "<table border=\"1\" class=\"dataframe\">\n",
       "  <thead>\n",
       "    <tr style=\"text-align: right;\">\n",
       "      <th></th>\n",
       "      <th>tweets</th>\n",
       "      <th>labels</th>\n",
       "    </tr>\n",
       "  </thead>\n",
       "  <tbody>\n",
       "    <tr>\n",
       "      <th>0</th>\n",
       "      <td>damn fixtated on  AT kokupuff lovely thighs / ...</td>\n",
       "      <td>1</td>\n",
       "    </tr>\n",
       "    <tr>\n",
       "      <th>1</th>\n",
       "      <td>god bless firefox's ' restore previous session...</td>\n",
       "      <td>1</td>\n",
       "    </tr>\n",
       "    <tr>\n",
       "      <th>2</th>\n",
       "      <td>AT sherrieshepherd http://twitpic.com/6vn4a -...</td>\n",
       "      <td>1</td>\n",
       "    </tr>\n",
       "  </tbody>\n",
       "</table>\n",
       "</div>"
      ],
      "text/plain": [
       "                                              tweets  labels\n",
       "0  damn fixtated on  AT kokupuff lovely thighs / ...       1\n",
       "1  god bless firefox's ' restore previous session...       1\n",
       "2   AT sherrieshepherd http://twitpic.com/6vn4a -...       1"
      ]
     },
     "execution_count": 7,
     "metadata": {},
     "output_type": "execute_result"
    }
   ],
   "source": [
    "processed_df[['tweets','labels']].head(3)"
   ]
  },
  {
   "cell_type": "markdown",
   "metadata": {},
   "source": [
    "### Split data into training and validation"
   ]
  },
  {
   "cell_type": "code",
   "execution_count": 8,
   "metadata": {},
   "outputs": [
    {
     "data": {
      "text/html": [
       "<div>\n",
       "<table border=\"1\" class=\"dataframe\">\n",
       "  <thead>\n",
       "    <tr style=\"text-align: right;\">\n",
       "      <th></th>\n",
       "      <th>raw_tweets</th>\n",
       "      <th>labels</th>\n",
       "      <th>tweets</th>\n",
       "    </tr>\n",
       "  </thead>\n",
       "  <tbody>\n",
       "    <tr>\n",
       "      <th>758097</th>\n",
       "      <td>reading . probably will be for awhile .. god i...</td>\n",
       "      <td>0</td>\n",
       "      <td>reading . probably will be for awhile .. god i...</td>\n",
       "    </tr>\n",
       "    <tr>\n",
       "      <th>972688</th>\n",
       "      <td>pandora won't work on my phone .. sad day</td>\n",
       "      <td>0</td>\n",
       "      <td>pandora won't work on my phone .. sad day</td>\n",
       "    </tr>\n",
       "    <tr>\n",
       "      <th>277285</th>\n",
       "      <td>@ceurok i know right .. i finally got food ! !</td>\n",
       "      <td>1</td>\n",
       "      <td>AT ceurok i know right .. i finally got food ! !</td>\n",
       "    </tr>\n",
       "  </tbody>\n",
       "</table>\n",
       "</div>"
      ],
      "text/plain": [
       "                                               raw_tweets  labels  \\\n",
       "758097  reading . probably will be for awhile .. god i...       0   \n",
       "972688          pandora won't work on my phone .. sad day       0   \n",
       "277285     @ceurok i know right .. i finally got food ! !       1   \n",
       "\n",
       "                                                   tweets  \n",
       "758097  reading . probably will be for awhile .. god i...  \n",
       "972688          pandora won't work on my phone .. sad day  \n",
       "277285   AT ceurok i know right .. i finally got food ! !  "
      ]
     },
     "execution_count": 8,
     "metadata": {},
     "output_type": "execute_result"
    }
   ],
   "source": [
    "train, valid = train_test_split(df, test_size=0.33)\n",
    "train.head(3)"
   ]
  },
  {
   "cell_type": "markdown",
   "metadata": {},
   "source": [
    "## Scikit learn text classification pipeline"
   ]
  },
  {
   "cell_type": "markdown",
   "metadata": {},
   "source": [
    "### Define scikit learn pipeline"
   ]
  },
  {
   "cell_type": "code",
   "execution_count": 9,
   "metadata": {},
   "outputs": [
    {
     "name": "stdout",
     "output_type": "stream",
     "text": [
      "TextClassifier::create_pipeline ==> start\n",
      ":: number of jobs for the pipeline : 6\n",
      "0\ttweets_nltk_preprocessor\n",
      "1\ttweets_word2vec\n",
      "2\tassembler\n",
      "3\tlearner\n",
      "TextClassifier::create_pipeline ==> end\n"
     ]
    }
   ],
   "source": [
    "from sklearn.model_selection import ParameterGrid\n",
    "#params = {'tol': [0.0001, 0.001], 'max_iter': [5, 10]}\n",
    "\n",
    "## Define classifier from scikit learn\n",
    "log_reg_learner =  LogisticRegression(penalty='l2', dual=False, tol=0.0001, \n",
    "                            C=1.0, fit_intercept=True, intercept_scaling=1, \n",
    "                            class_weight=None, random_state=None, \n",
    "                            solver='lbfgs', max_iter=10, \n",
    "                            verbose=1, warm_start=True, n_jobs=3) \n",
    "\n",
    "# Train the model on tweets\n",
    "text_classifier = TextClassifier(embedding_file_path = w2v_embeddings_filename,\n",
    "                                estimator=log_reg_learner, \n",
    "                                extract_word_ngrams=False,\n",
    "                                text_cols = [\"tweets\"], \n",
    "                                label_cols = [\"labels\"])\n",
    "#text_classifier = SklearnTextClassifier(scikit_estimator=log_reg_learner, \n",
    "#                                            input_col=\"review\", label_col =\"sentiment\",\n",
    "#                                            prediction_col =\"prediction\",\n",
    "#                                            extract_word_ngrams=True,\n",
    "#                                            extract_char_ngrams=True)\n",
    "#pipe_gs = GridSearchCV(text_classifier, param_grid=params, scoring=\"roc_auc\", cv=3)\n",
    "\n",
    "## Export parameters of the model\n",
    "text_classifier.export_params(params_file_path)"
   ]
  },
  {
   "cell_type": "markdown",
   "metadata": {},
   "source": [
    "### Fit classifier on training data"
   ]
  },
  {
   "cell_type": "code",
   "execution_count": 10,
   "metadata": {},
   "outputs": [
    {
     "name": "stdout",
     "output_type": "stream",
     "text": [
      "TextClassifier::fit ==> start\n",
      "schema: col=raw_tweets:TX:0 col=labels:I8:1 col=tweets:TX:2 header+\n",
      "NltkPreprocessor::tatk_fit_transform ==> start\n",
      "NltkPreprocessor::tatk_fit_transform ==> end \t Time taken: 0.34 mins\n",
      "Word2VecVectorizer::tatk_fit_transform ==> start\n",
      "Word2VecVectorizer::tatk_fit_transform ==> end \t Time taken: 1.61 mins\n",
      "VectorAssembler::transform ==> start, num of input records=857600\n",
      "(857600, 50)\n",
      "all_features::\n",
      "(857600, 50)\n",
      "Time taken: 0.01 mins\n",
      "VectorAssembler::transform ==> end\n",
      "LogisticRegression::tatk_fit ==> start\n"
     ]
    },
    {
     "name": "stderr",
     "output_type": "stream",
     "text": [
      "[Parallel(n_jobs=3)]: Done   1 out of   1 | elapsed:    9.0s finished\n"
     ]
    },
    {
     "name": "stdout",
     "output_type": "stream",
     "text": [
      "LogisticRegression::tatk_fit ==> end \t Time taken: 0.16 mins\n",
      "Time taken: 2.13 mins\n",
      "TextClassifier::fit ==> end\n"
     ]
    },
    {
     "data": {
      "text/plain": [
       "TextClassifier(add_index_col=False, callable_proprocessors_list=None,\n",
       "        cat_cols=None, char_hashing_original=False, col_prefix='tmp_00_',\n",
       "        decompose_n_grams=False, detect_phrases=False,\n",
       "        dictionary_categories=None, dictionary_file_path=None,\n",
       "        embedding_file_path='D:\\\\Sentiment140_Classification\\\\w2vec.txt',\n",
       "        embedding_file_path_fasttext=None,\n",
       "        estimator=LogisticRegression(C=1.0, class_weight=None, dual=False, fit_intercept=True,\n",
       "          intercept_scaling=1, max_iter=10, multi_class='ovr', n_jobs=3,\n",
       "          penalty='l2', random_state=None, solver='lbfgs', tol=0.0001,\n",
       "          verbose=1, warm_start=True),\n",
       "        estimator_vectorizers_list=None, extract_char_ngrams=False,\n",
       "        extract_word_ngrams=False, label_cols=['labels'],\n",
       "        numeric_cols=None, pos_tagger_vectorizer=False,\n",
       "        preprocessor_dictionary_file_path=None, regex_replcaement='',\n",
       "        replace_regex_pattern=None, scale_numeric_cols=False,\n",
       "        text_callable_list=None, text_cols=['tweets'],\n",
       "        text_regex_list=None, weight_col=None)"
      ]
     },
     "execution_count": 10,
     "metadata": {},
     "output_type": "execute_result"
    }
   ],
   "source": [
    "text_classifier.fit(train)\n",
    "#pipe_gs.fit(train)"
   ]
  },
  {
   "cell_type": "markdown",
   "metadata": {},
   "source": [
    "### Save the scikit learn training pipleine"
   ]
  },
  {
   "cell_type": "code",
   "execution_count": 11,
   "metadata": {},
   "outputs": [
    {
     "name": "stdout",
     "output_type": "stream",
     "text": [
      "BaseTextModel::save ==> start\n",
      "TatkPipeline::save ==> start\n",
      "copy embedding file from  D:\\Sentiment140_Classification\\w2vec.txt\n",
      "Time taken: 0.0 mins\n",
      "TatkPipeline::save ==> end\n",
      "Time taken: 0.55 mins\n",
      "BaseTextModel::save ==> end\n"
     ]
    }
   ],
   "source": [
    "text_classifier.save(model_file)"
   ]
  },
  {
   "cell_type": "markdown",
   "metadata": {},
   "source": [
    "### Load and the training pipleine, predict and evaluate the accuracy on held-out validation set"
   ]
  },
  {
   "cell_type": "code",
   "execution_count": 12,
   "metadata": {},
   "outputs": [
    {
     "name": "stdout",
     "output_type": "stream",
     "text": [
      "BaseTextModel::load ==> start\n",
      "TatkPipeline::load ==> start\n",
      "Word2VecVectorizer: Word2Vec model loaded from D:\\Sentiment140_Classification\\sk_model.zip 2018-04-19 20.56.26\\sk_model\\pipeline\\tweets_word2vec\\embedding_table.txt\n",
      "Time taken: 0.07 mins\n",
      "TatkPipeline::load ==> end\n",
      "Time taken: 0.13 mins\n",
      "BaseTextModel::load ==> end\n"
     ]
    }
   ],
   "source": [
    "text_classifier_reloaded = TextClassifier.load(model_file)"
   ]
  },
  {
   "cell_type": "code",
   "execution_count": 13,
   "metadata": {},
   "outputs": [
    {
     "name": "stdout",
     "output_type": "stream",
     "text": [
      "TextClassifier::predict ==> start\n",
      "NltkPreprocessor::tatk_transform ==> start\n",
      "NltkPreprocessor::tatk_transform ==> end \t Time taken: 0.17 mins\n",
      "Word2VecVectorizer::tatk_transform ==> start\n",
      "Word2VecVectorizer::tatk_transform ==> end \t Time taken: 0.8 mins\n",
      "VectorAssembler::transform ==> start, num of input records=422400\n",
      "(422400, 50)\n",
      "all_features::\n",
      "(422400, 50)\n",
      "Time taken: 0.01 mins\n",
      "VectorAssembler::transform ==> end\n",
      "LogisticRegression::tatk_predict ==> start\n",
      "LogisticRegression::tatk_predict ==> end \t Time taken: 0.01 mins\n",
      "Time taken: 0.98 mins\n",
      "TextClassifier::predict ==> end\n"
     ]
    },
    {
     "data": {
      "text/html": [
       "<div>\n",
       "<table border=\"1\" class=\"dataframe\">\n",
       "  <thead>\n",
       "    <tr style=\"text-align: right;\">\n",
       "      <th></th>\n",
       "      <th>raw_tweets</th>\n",
       "      <th>labels</th>\n",
       "      <th>tweets</th>\n",
       "      <th>prediction</th>\n",
       "    </tr>\n",
       "  </thead>\n",
       "  <tbody>\n",
       "    <tr>\n",
       "      <th>1177509</th>\n",
       "      <td>@melissavaldez * __ * two more little hours an...</td>\n",
       "      <td>1</td>\n",
       "      <td>AT melissavaldez * __ * two more little hours...</td>\n",
       "      <td>0</td>\n",
       "    </tr>\n",
       "    <tr>\n",
       "      <th>836185</th>\n",
       "      <td>@ashleylynnek hahaha they have them in the mtv...</td>\n",
       "      <td>1</td>\n",
       "      <td>AT ashleylynnek hahaha they have them in the ...</td>\n",
       "      <td>1</td>\n",
       "    </tr>\n",
       "    <tr>\n",
       "      <th>1265665</th>\n",
       "      <td>is needing a part time job .. any ideas was th...</td>\n",
       "      <td>0</td>\n",
       "      <td>is needing a part time job .. any ideas was th...</td>\n",
       "      <td>0</td>\n",
       "    </tr>\n",
       "  </tbody>\n",
       "</table>\n",
       "</div>"
      ],
      "text/plain": [
       "                                                raw_tweets  labels  \\\n",
       "1177509  @melissavaldez * __ * two more little hours an...       1   \n",
       "836185   @ashleylynnek hahaha they have them in the mtv...       1   \n",
       "1265665  is needing a part time job .. any ideas was th...       0   \n",
       "\n",
       "                                                    tweets  prediction  \n",
       "1177509   AT melissavaldez * __ * two more little hours...           0  \n",
       "836185    AT ashleylynnek hahaha they have them in the ...           1  \n",
       "1265665  is needing a part time job .. any ideas was th...           0  "
      ]
     },
     "metadata": {},
     "output_type": "display_data"
    }
   ],
   "source": [
    "predicted_df = text_classifier_reloaded.predict(valid)\n",
    "display(predicted_df[:3])"
   ]
  },
  {
   "cell_type": "code",
   "execution_count": 14,
   "metadata": {},
   "outputs": [
    {
     "name": "stdout",
     "output_type": "stream",
     "text": [
      "TextClassifier::evaluate ==> start\n",
      "schema: col=raw_tweets:TX:0 col=labels:I8:1 col=tweets:TX:2 col=prediction:I8:3 header+\n",
      "NltkPreprocessor::tatk_transform ==> start\n",
      "NltkPreprocessor::tatk_transform ==> end \t Time taken: 0.17 mins\n",
      "Word2VecVectorizer::tatk_transform ==> start\n",
      "Word2VecVectorizer::tatk_transform ==> end \t Time taken: 0.8 mins\n",
      "VectorAssembler::transform ==> start, num of input records=422400\n",
      "(422400, 50)\n",
      "all_features::\n",
      "(422400, 50)\n",
      "Time taken: 0.01 mins\n",
      "VectorAssembler::transform ==> end\n",
      "LogisticRegression::tatk_predict ==> start\n",
      "LogisticRegression::tatk_predict ==> end \t Time taken: 0.01 mins\n",
      "[[157597  53002]\n",
      " [ 51195 160606]]\n",
      "macro_f1 = 0.7533089777810893\n",
      "Time taken: 0.99 mins\n",
      "TextClassifier::evaluate ==> end\n"
     ]
    },
    {
     "data": {
      "text/plain": [
       "(array([[157597,  53002],\n",
       "        [ 51195, 160606]], dtype=int64), 0.7533089777810893)"
      ]
     },
     "execution_count": 14,
     "metadata": {},
     "output_type": "execute_result"
    }
   ],
   "source": [
    "text_classifier_reloaded.evaluate(valid)"
   ]
  },
  {
   "cell_type": "markdown",
   "metadata": {},
   "source": [
    "## Keras classification pipeline"
   ]
  },
  {
   "cell_type": "markdown",
   "metadata": {},
   "source": [
    "### Define keras classifier"
   ]
  },
  {
   "cell_type": "code",
   "execution_count": 16,
   "metadata": {},
   "outputs": [
    {
     "name": "stdout",
     "output_type": "stream",
     "text": [
      "KerasEmbeddingTextClassifier::create_pipeline ==> start\n",
      "Word2VecVectorizer::load_embeddings ==> start\n",
      "Time taken: 0.07 mins\n",
      "Word2VecVectorizer::load_embeddings ==> end\n",
      "num_words=69901\n",
      ":: number of jobs for the pipeline : 6\n",
      "0\tnltk_preprocessor\n",
      "1\tvectorizer\n",
      "2\tlearner\n",
      "KerasEmbeddingTextClassifier::create_pipeline ==> end\n"
     ]
    }
   ],
   "source": [
    "from tatk.pipelines.text_classification.keras_embedding_text_classifier import KerasEmbeddingTextClassifier\n",
    "keras_text_classifier = KerasEmbeddingTextClassifier(embedding_file_path=w2v_embeddings_filename, \n",
    "                                                     input_col=\"tweets\", \n",
    "                                                     label_col=\"labels\",\n",
    "                                                     model_type=\"CNN\",\n",
    "                                                     binary_format=False, \n",
    "                                                     callbacks=True)"
   ]
  },
  {
   "cell_type": "code",
   "execution_count": 22,
   "metadata": {},
   "outputs": [
    {
     "data": {
      "text/plain": [
       "{'batch_size': 250,\n",
       " 'callbacks_list': ['tensorboard', 'checkpoint', 'early'],\n",
       " 'cuda_devices': '0',\n",
       " 'feature_cols': ['features'],\n",
       " 'input_padding_value': 69900,\n",
       " 'label_col': 'labels',\n",
       " 'log_path': 'C:\\\\Users\\\\remoteuser\\\\tatk\\\\resources\\\\logs',\n",
       " 'max_len': None,\n",
       " 'model__class_type': 'single-label',\n",
       " 'model__dropout_rate': 0.5,\n",
       " 'model__hidden_dims': 100,\n",
       " 'model__init_wordvecs': array([[ 0.51494402, -0.01342   ,  1.57105696, ...,  0.256001  ,\n",
       "         -0.079393  ,  0.787498  ],\n",
       "        [-0.86031699,  0.164866  , -0.25757501, ...,  0.48005101,\n",
       "          0.073384  , -0.211935  ],\n",
       "        [ 0.935996  , -0.119759  ,  1.55779195, ...,  0.28700501,\n",
       "         -0.13183101,  0.87609899],\n",
       "        ...,\n",
       "        [-0.26659   , -0.080407  , -0.104858  , ..., -0.021256  ,\n",
       "          0.237636  ,  0.022621  ],\n",
       "        [ 0.00239503,  0.03211888, -0.17313817, ...,  0.11466235,\n",
       "         -0.34803781,  0.03757122],\n",
       "        [ 0.        ,  0.        ,  0.        , ...,  0.        ,\n",
       "          0.        ,  0.        ]]),\n",
       " 'model__kernel_size': [3, 4, 5],\n",
       " 'model__num_filters': 25,\n",
       " 'model__trainable_embedding': False,\n",
       " 'model__wordvecs_shape': (69901, 50),\n",
       " 'model_fn': <function tatk.estimators.keras_model_functions.keras_CNN_text_classifier_fn.keras_CNN_text_classifier_fn>,\n",
       " 'model_type': 'CNN',\n",
       " 'n_epochs': 10,\n",
       " 'n_labels': 2,\n",
       " 'prediction_col': 'prediction',\n",
       " 'probabilities_col': 'probabilities',\n",
       " 'validation_split': 0.2}"
      ]
     },
     "execution_count": 22,
     "metadata": {},
     "output_type": "execute_result"
    }
   ],
   "source": [
    "# Set parameters\n",
    "keras_text_classifier.set_step_params_by_name(\"learner\", n_epochs = 10)\n",
    "keras_text_classifier.set_step_params_by_name(\"learner\", batch_size = 250)\n",
    "keras_text_classifier.set_step_params_by_name(\"learner\", validation_split = 0.2)\n",
    "\n",
    "keras_text_classifier.set_step_params_by_name(\"learner\", model__kernel_size=[3,4,5])\n",
    "keras_text_classifier.set_step_params_by_name(\"learner\", model__num_filters=25)\n",
    "keras_text_classifier.set_step_params_by_name(\"learner\", model__dropout_rate  = 0.5)\n",
    "keras_text_classifier.set_step_params_by_name(\"learner\", model__hidden_dims  = 100)\n",
    "\n",
    "keras_text_classifier.set_step_params_by_name(\"vectorizer\", get_from_path=False)\n",
    "\n",
    "# Get parameters\n",
    "keras_text_classifier.get_step_params_by_name(\"learner\")"
   ]
  },
  {
   "cell_type": "markdown",
   "metadata": {},
   "source": [
    "### Fit Keras classifier "
   ]
  },
  {
   "cell_type": "code",
   "execution_count": 23,
   "metadata": {},
   "outputs": [
    {
     "name": "stdout",
     "output_type": "stream",
     "text": [
      "KerasEmbeddingTextClassifier::fit ==> start\n",
      "schema: col=raw_tweets:TX:0 col=labels:I8:1 col=tweets:TX:2 header+\n",
      "NltkPreprocessor::tatk_fit_transform ==> start\n",
      "NltkPreprocessor::tatk_fit_transform ==> end \t Time taken: 0.32 mins\n",
      "Word2VecVectorizer::tatk_fit_transform ==> start\n",
      "Word2VecVectorizer::tatk_fit_transform ==> end \t Time taken: 0.22 mins\n",
      "KerasEmbeddingTextClassifierLearner::tatk_fit ==> start\n",
      "__________________________________________________________________________________________________\n",
      "Layer (type)                    Output Shape         Param #     Connected to                     \n",
      "==================================================================================================\n",
      "input_2 (InputLayer)            (None, None)         0                                            \n",
      "__________________________________________________________________________________________________\n",
      "embedding_2 (Embedding)         (None, None, 50)     3495050     input_2[0][0]                    \n",
      "__________________________________________________________________________________________________\n",
      "conv1d_4 (Conv1D)               (None, None, 25)     3775        embedding_2[0][0]                \n",
      "__________________________________________________________________________________________________\n",
      "conv1d_5 (Conv1D)               (None, None, 25)     5025        embedding_2[0][0]                \n",
      "__________________________________________________________________________________________________\n",
      "conv1d_6 (Conv1D)               (None, None, 25)     6275        embedding_2[0][0]                \n",
      "__________________________________________________________________________________________________\n",
      "global_max_pooling1d_4 (GlobalM (None, 25)           0           conv1d_4[0][0]                   \n",
      "__________________________________________________________________________________________________\n",
      "global_max_pooling1d_5 (GlobalM (None, 25)           0           conv1d_5[0][0]                   \n",
      "__________________________________________________________________________________________________\n",
      "global_max_pooling1d_6 (GlobalM (None, 25)           0           conv1d_6[0][0]                   \n",
      "__________________________________________________________________________________________________\n",
      "concatenate_2 (Concatenate)     (None, 75)           0           global_max_pooling1d_4[0][0]     \n",
      "                                                                 global_max_pooling1d_5[0][0]     \n",
      "                                                                 global_max_pooling1d_6[0][0]     \n",
      "__________________________________________________________________________________________________\n",
      "dropout_2 (Dropout)             (None, 75)           0           concatenate_2[0][0]              \n",
      "__________________________________________________________________________________________________\n",
      "dense_3 (Dense)                 (None, 100)          7600        dropout_2[0][0]                  \n",
      "__________________________________________________________________________________________________\n",
      "activation_3 (Activation)       (None, 100)          0           dense_3[0][0]                    \n",
      "__________________________________________________________________________________________________\n",
      "dense_4 (Dense)                 (None, 2)            202         activation_3[0][0]               \n",
      "__________________________________________________________________________________________________\n",
      "activation_4 (Activation)       (None, 2)            0           dense_4[0][0]                    \n",
      "==================================================================================================\n",
      "Total params: 3,517,927\n",
      "Trainable params: 22,877\n",
      "Non-trainable params: 3,495,050\n",
      "__________________________________________________________________________________________________\n",
      "None\n",
      "Epoch 1/10\n"
     ]
    },
    {
     "name": "stdout",
     "output_type": "stream",
     "text": [
      " 985/2745 [=========>....................] - ETA: 13:32 - loss: 1.1466 - acc: 0.51 - ETA: 10:04 - loss: 1.2296 - acc: 0.49 - ETA: 6:42 - loss: 1.2086 - acc: 0.4910 - ETA: 11:19 - loss: 1.1812 - acc: 0.49 - ETA: 14:31 - loss: 1.1682 - acc: 0.49 - ETA: 13:13 - loss: 1.1724 - acc: 0.49 - ETA: 8:59 - loss: 1.0974 - acc: 0.5011 - ETA: 8:44 - loss: 1.0792 - acc: 0.502 - ETA: 6:56 - loss: 1.0300 - acc: 0.505 - ETA: 5:34 - loss: 0.9776 - acc: 0.513 - ETA: 5:36 - loss: 0.9681 - acc: 0.518 - ETA: 5:12 - loss: 0.9382 - acc: 0.525 - ETA: 5:12 - loss: 0.9307 - acc: 0.527 - ETA: 5:54 - loss: 0.9202 - acc: 0.528 - ETA: 6:31 - loss: 0.9091 - acc: 0.531 - ETA: 6:08 - loss: 0.8927 - acc: 0.534 - ETA: 6:07 - loss: 0.8889 - acc: 0.534 - ETA: 5:15 - loss: 0.8635 - acc: 0.541 - ETA: 5:08 - loss: 0.8560 - acc: 0.543 - ETA: 5:42 - loss: 0.8530 - acc: 0.542 - ETA: 5:38 - loss: 0.8317 - acc: 0.551 - ETA: 5:32 - loss: 0.8262 - acc: 0.553 - ETA: 4:58 - loss: 0.8128 - acc: 0.556 - ETA: 4:32 - loss: 0.8015 - acc: 0.562 - ETA: 4:13 - loss: 0.7926 - acc: 0.565 - ETA: 3:54 - loss: 0.7827 - acc: 0.570 - ETA: 4:11 - loss: 0.7801 - acc: 0.570 - ETA: 4:21 - loss: 0.7743 - acc: 0.573 - ETA: 4:22 - loss: 0.7728 - acc: 0.573 - ETA: 4:22 - loss: 0.7711 - acc: 0.574 - ETA: 4:08 - loss: 0.7643 - acc: 0.578 - ETA: 4:22 - loss: 0.7611 - acc: 0.579 - ETA: 4:09 - loss: 0.7552 - acc: 0.582 - ETA: 4:01 - loss: 0.7486 - acc: 0.586 - ETA: 3:50 - loss: 0.7429 - acc: 0.589 - ETA: 3:43 - loss: 0.7388 - acc: 0.592 - ETA: 3:44 - loss: 0.7377 - acc: 0.593 - ETA: 3:35 - loss: 0.7329 - acc: 0.596 - ETA: 3:25 - loss: 0.7275 - acc: 0.599 - ETA: 3:25 - loss: 0.7265 - acc: 0.599 - ETA: 3:16 - loss: 0.7219 - acc: 0.602 - ETA: 3:21 - loss: 0.7169 - acc: 0.604 - ETA: 3:13 - loss: 0.7123 - acc: 0.607 - ETA: 3:08 - loss: 0.7093 - acc: 0.609 - ETA: 3:19 - loss: 0.7083 - acc: 0.609 - ETA: 3:27 - loss: 0.7065 - acc: 0.610 - ETA: 3:23 - loss: 0.7034 - acc: 0.613 - ETA: 3:29 - loss: 0.7006 - acc: 0.614 - ETA: 3:21 - loss: 0.6961 - acc: 0.617 - ETA: 3:16 - loss: 0.6927 - acc: 0.620 - ETA: 3:11 - loss: 0.6889 - acc: 0.622 - ETA: 3:05 - loss: 0.6854 - acc: 0.624 - ETA: 3:00 - loss: 0.6823 - acc: 0.627 - ETA: 2:56 - loss: 0.6802 - acc: 0.628 - ETA: 2:50 - loss: 0.6766 - acc: 0.631 - ETA: 2:58 - loss: 0.6759 - acc: 0.631 - ETA: 2:54 - loss: 0.6735 - acc: 0.633 - ETA: 2:49 - loss: 0.6707 - acc: 0.635 - ETA: 2:55 - loss: 0.6697 - acc: 0.635 - ETA: 2:52 - loss: 0.6665 - acc: 0.638 - ETA: 2:48 - loss: 0.6641 - acc: 0.639 - ETA: 2:55 - loss: 0.6637 - acc: 0.640 - ETA: 3:01 - loss: 0.6632 - acc: 0.640 - ETA: 2:57 - loss: 0.6607 - acc: 0.642 - ETA: 2:54 - loss: 0.6584 - acc: 0.644 - ETA: 2:50 - loss: 0.6565 - acc: 0.645 - ETA: 2:45 - loss: 0.6537 - acc: 0.647 - ETA: 2:47 - loss: 0.6511 - acc: 0.649 - ETA: 2:44 - loss: 0.6492 - acc: 0.651 - ETA: 2:41 - loss: 0.6473 - acc: 0.652 - ETA: 2:37 - loss: 0.6453 - acc: 0.654 - ETA: 2:40 - loss: 0.6434 - acc: 0.655 - ETA: 2:36 - loss: 0.6414 - acc: 0.656 - ETA: 2:40 - loss: 0.6406 - acc: 0.657 - ETA: 2:40 - loss: 0.6399 - acc: 0.657 - ETA: 2:37 - loss: 0.6375 - acc: 0.659 - ETA: 2:34 - loss: 0.6364 - acc: 0.660 - ETA: 2:31 - loss: 0.6340 - acc: 0.662 - ETA: 2:28 - loss: 0.6321 - acc: 0.663 - ETA: 2:25 - loss: 0.6304 - acc: 0.664 - ETA: 2:22 - loss: 0.6284 - acc: 0.665 - ETA: 2:20 - loss: 0.6271 - acc: 0.666 - ETA: 2:18 - loss: 0.6261 - acc: 0.667 - ETA: 2:15 - loss: 0.6240 - acc: 0.669 - ETA: 2:15 - loss: 0.6239 - acc: 0.669 - ETA: 2:17 - loss: 0.6220 - acc: 0.670 - ETA: 2:20 - loss: 0.6213 - acc: 0.670 - ETA: 2:20 - loss: 0.6211 - acc: 0.671 - ETA: 2:18 - loss: 0.6197 - acc: 0.672 - ETA: 2:16 - loss: 0.6186 - acc: 0.672 - ETA: 2:19 - loss: 0.6181 - acc: 0.673 - ETA: 2:18 - loss: 0.6175 - acc: 0.673 - ETA: 2:15 - loss: 0.6160 - acc: 0.674 - ETA: 2:19 - loss: 0.6158 - acc: 0.675 - ETA: 2:17 - loss: 0.6142 - acc: 0.676 - ETA: 2:17 - loss: 0.6137 - acc: 0.676 - ETA: 2:19 - loss: 0.6128 - acc: 0.677 - ETA: 2:17 - loss: 0.6113 - acc: 0.678 - ETA: 2:15 - loss: 0.6102 - acc: 0.679 - ETA: 2:13 - loss: 0.6086 - acc: 0.680 - ETA: 2:12 - loss: 0.6081 - acc: 0.680 - ETA: 2:10 - loss: 0.6067 - acc: 0.682 - ETA: 2:08 - loss: 0.6054 - acc: 0.683 - ETA: 2:06 - loss: 0.6041 - acc: 0.684 - ETA: 2:04 - loss: 0.6030 - acc: 0.684 - ETA: 2:02 - loss: 0.6019 - acc: 0.685 - ETA: 2:02 - loss: 0.6016 - acc: 0.685 - ETA: 2:01 - loss: 0.6008 - acc: 0.686 - ETA: 1:59 - loss: 0.5996 - acc: 0.687 - ETA: 1:58 - loss: 0.5989 - acc: 0.687 - ETA: 1:56 - loss: 0.5976 - acc: 0.688 - ETA: 1:58 - loss: 0.5971 - acc: 0.689 - ETA: 1:56 - loss: 0.5966 - acc: 0.689 - ETA: 1:59 - loss: 0.5962 - acc: 0.689 - ETA: 1:58 - loss: 0.5952 - acc: 0.690 - ETA: 1:57 - loss: 0.5946 - acc: 0.690 - ETA: 1:55 - loss: 0.5935 - acc: 0.691 - ETA: 1:54 - loss: 0.5931 - acc: 0.692 - ETA: 1:55 - loss: 0.5923 - acc: 0.692 - ETA: 1:54 - loss: 0.5914 - acc: 0.693 - ETA: 1:53 - loss: 0.5908 - acc: 0.693 - ETA: 1:53 - loss: 0.5908 - acc: 0.693 - ETA: 1:52 - loss: 0.5901 - acc: 0.694 - ETA: 1:50 - loss: 0.5892 - acc: 0.694 - ETA: 1:49 - loss: 0.5882 - acc: 0.695 - ETA: 1:48 - loss: 0.5877 - acc: 0.695 - ETA: 1:48 - loss: 0.5870 - acc: 0.696 - ETA: 1:49 - loss: 0.5862 - acc: 0.696 - ETA: 1:48 - loss: 0.5854 - acc: 0.697 - ETA: 1:47 - loss: 0.5845 - acc: 0.698 - ETA: 1:45 - loss: 0.5837 - acc: 0.698 - ETA: 1:44 - loss: 0.5828 - acc: 0.699 - ETA: 1:45 - loss: 0.5822 - acc: 0.699 - ETA: 1:44 - loss: 0.5813 - acc: 0.700 - ETA: 1:43 - loss: 0.5808 - acc: 0.700 - ETA: 1:42 - loss: 0.5802 - acc: 0.701 - ETA: 1:41 - loss: 0.5795 - acc: 0.701 - ETA: 1:40 - loss: 0.5790 - acc: 0.702 - ETA: 1:38 - loss: 0.5778 - acc: 0.702 - ETA: 1:37 - loss: 0.5772 - acc: 0.703 - ETA: 1:39 - loss: 0.5771 - acc: 0.703 - ETA: 1:38 - loss: 0.5766 - acc: 0.703 - ETA: 1:37 - loss: 0.5759 - acc: 0.704 - ETA: 1:36 - loss: 0.5753 - acc: 0.704 - ETA: 1:35 - loss: 0.5748 - acc: 0.705 - ETA: 1:34 - loss: 0.5740 - acc: 0.705 - ETA: 1:33 - loss: 0.5735 - acc: 0.706 - ETA: 1:32 - loss: 0.5728 - acc: 0.706 - ETA: 1:33 - loss: 0.5725 - acc: 0.706 - ETA: 1:33 - loss: 0.5720 - acc: 0.707 - ETA: 1:32 - loss: 0.5716 - acc: 0.707 - ETA: 1:34 - loss: 0.5714 - acc: 0.707 - ETA: 1:33 - loss: 0.5709 - acc: 0.707 - ETA: 1:33 - loss: 0.5705 - acc: 0.708 - ETA: 1:34 - loss: 0.5703 - acc: 0.708 - ETA: 1:34 - loss: 0.5697 - acc: 0.708 - ETA: 1:33 - loss: 0.5693 - acc: 0.709 - ETA: 1:32 - loss: 0.5688 - acc: 0.709 - ETA: 1:31 - loss: 0.5683 - acc: 0.709 - ETA: 1:30 - loss: 0.5678 - acc: 0.710 - ETA: 1:29 - loss: 0.5670 - acc: 0.710 - ETA: 1:30 - loss: 0.5669 - acc: 0.711 - ETA: 1:30 - loss: 0.5666 - acc: 0.711 - ETA: 1:29 - loss: 0.5659 - acc: 0.711 - ETA: 1:28 - loss: 0.5653 - acc: 0.712 - ETA: 1:27 - loss: 0.5647 - acc: 0.712 - ETA: 1:26 - loss: 0.5641 - acc: 0.712 - ETA: 1:25 - loss: 0.5637 - acc: 0.713 - ETA: 1:24 - loss: 0.5631 - acc: 0.713 - ETA: 1:23 - loss: 0.5626 - acc: 0.713 - ETA: 1:23 - loss: 0.5619 - acc: 0.714 - ETA: 1:22 - loss: 0.5616 - acc: 0.714 - ETA: 1:21 - loss: 0.5609 - acc: 0.715 - ETA: 1:20 - loss: 0.5606 - acc: 0.715 - ETA: 1:20 - loss: 0.5603 - acc: 0.715 - ETA: 1:20 - loss: 0.5601 - acc: 0.715 - ETA: 1:19 - loss: 0.5596 - acc: 0.716 - ETA: 1:19 - loss: 0.5592 - acc: 0.716 - ETA: 1:18 - loss: 0.5585 - acc: 0.716 - ETA: 1:17 - loss: 0.5581 - acc: 0.717 - ETA: 1:18 - loss: 0.5575 - acc: 0.717 - ETA: 1:17 - loss: 0.5572 - acc: 0.717 - ETA: 1:17 - loss: 0.5569 - acc: 0.717 - ETA: 1:16 - loss: 0.5565 - acc: 0.718 - ETA: 1:15 - loss: 0.5562 - acc: 0.718 - ETA: 1:15 - loss: 0.5556 - acc: 0.718 - ETA: 1:14 - loss: 0.5551 - acc: 0.719 - ETA: 1:13 - loss: 0.5547 - acc: 0.719 - ETA: 1:13 - loss: 0.5542 - acc: 0.719 - ETA: 1:14 - loss: 0.5541 - acc: 0.719 - ETA: 1:13 - loss: 0.5537 - acc: 0.720 - ETA: 1:12 - loss: 0.5533 - acc: 0.720 - ETA: 1:12 - loss: 0.5531 - acc: 0.720 - ETA: 1:13 - loss: 0.5526 - acc: 0.720 - ETA: 1:12 - loss: 0.5522 - acc: 0.721 - ETA: 1:12 - loss: 0.5520 - acc: 0.721 - ETA: 1:11 - loss: 0.5515 - acc: 0.721 - ETA: 1:10 - loss: 0.5511 - acc: 0.721 - ETA: 1:10 - loss: 0.5508 - acc: 0.722 - ETA: 1:10 - loss: 0.5505 - acc: 0.722 - ETA: 1:09 - loss: 0.5499 - acc: 0.722 - ETA: 1:09 - loss: 0.5495 - acc: 0.722 - ETA: 1:09 - loss: 0.5492 - acc: 0.723 - ETA: 1:08 - loss: 0.5485 - acc: 0.7237"
     ]
    },
    {
     "name": "stdout",
     "output_type": "stream",
     "text": [
      "2351/2745 [========================>.....] - ETA: 1:07 - loss: 0.5481 - acc: 0.723 - ETA: 1:07 - loss: 0.5476 - acc: 0.724 - ETA: 1:06 - loss: 0.5473 - acc: 0.724 - ETA: 1:05 - loss: 0.5468 - acc: 0.724 - ETA: 1:05 - loss: 0.5464 - acc: 0.725 - ETA: 1:04 - loss: 0.5461 - acc: 0.725 - ETA: 1:04 - loss: 0.5458 - acc: 0.725 - ETA: 1:03 - loss: 0.5454 - acc: 0.725 - ETA: 1:03 - loss: 0.5451 - acc: 0.725 - ETA: 1:02 - loss: 0.5447 - acc: 0.726 - ETA: 1:01 - loss: 0.5442 - acc: 0.726 - ETA: 1:01 - loss: 0.5439 - acc: 0.726 - ETA: 1:01 - loss: 0.5436 - acc: 0.727 - ETA: 1:01 - loss: 0.5432 - acc: 0.727 - ETA: 1:00 - loss: 0.5431 - acc: 0.727 - ETA: 1:00 - loss: 0.5429 - acc: 0.727 - ETA: 59s - loss: 0.5424 - acc: 0.727 - ETA: 59s - loss: 0.5422 - acc: 0.72 - ETA: 59s - loss: 0.5421 - acc: 0.72 - ETA: 58s - loss: 0.5416 - acc: 0.72 - ETA: 57s - loss: 0.5411 - acc: 0.72 - ETA: 57s - loss: 0.5410 - acc: 0.72 - ETA: 57s - loss: 0.5406 - acc: 0.72 - ETA: 56s - loss: 0.5402 - acc: 0.72 - ETA: 56s - loss: 0.5399 - acc: 0.72 - ETA: 55s - loss: 0.5395 - acc: 0.72 - ETA: 55s - loss: 0.5393 - acc: 0.73 - ETA: 54s - loss: 0.5389 - acc: 0.73 - ETA: 54s - loss: 0.5387 - acc: 0.73 - ETA: 54s - loss: 0.5385 - acc: 0.73 - ETA: 53s - loss: 0.5382 - acc: 0.73 - ETA: 52s - loss: 0.5377 - acc: 0.73 - ETA: 52s - loss: 0.5374 - acc: 0.73 - ETA: 53s - loss: 0.5372 - acc: 0.73 - ETA: 52s - loss: 0.5370 - acc: 0.73 - ETA: 53s - loss: 0.5368 - acc: 0.73 - ETA: 53s - loss: 0.5367 - acc: 0.73 - ETA: 52s - loss: 0.5364 - acc: 0.73 - ETA: 52s - loss: 0.5362 - acc: 0.73 - ETA: 52s - loss: 0.5360 - acc: 0.73 - ETA: 51s - loss: 0.5358 - acc: 0.73 - ETA: 51s - loss: 0.5356 - acc: 0.73 - ETA: 50s - loss: 0.5352 - acc: 0.73 - ETA: 50s - loss: 0.5350 - acc: 0.73 - ETA: 49s - loss: 0.5347 - acc: 0.73 - ETA: 49s - loss: 0.5345 - acc: 0.73 - ETA: 49s - loss: 0.5341 - acc: 0.73 - ETA: 48s - loss: 0.5338 - acc: 0.73 - ETA: 48s - loss: 0.5338 - acc: 0.73 - ETA: 48s - loss: 0.5335 - acc: 0.73 - ETA: 47s - loss: 0.5333 - acc: 0.73 - ETA: 47s - loss: 0.5330 - acc: 0.73 - ETA: 46s - loss: 0.5325 - acc: 0.73 - ETA: 46s - loss: 0.5323 - acc: 0.73 - ETA: 45s - loss: 0.5321 - acc: 0.73 - ETA: 46s - loss: 0.5318 - acc: 0.73 - ETA: 46s - loss: 0.5317 - acc: 0.73 - ETA: 46s - loss: 0.5315 - acc: 0.73 - ETA: 46s - loss: 0.5313 - acc: 0.73 - ETA: 45s - loss: 0.5311 - acc: 0.73 - ETA: 45s - loss: 0.5308 - acc: 0.73 - ETA: 44s - loss: 0.5307 - acc: 0.73 - ETA: 44s - loss: 0.5305 - acc: 0.73 - ETA: 44s - loss: 0.5303 - acc: 0.73 - ETA: 44s - loss: 0.5301 - acc: 0.73 - ETA: 45s - loss: 0.5301 - acc: 0.73 - ETA: 44s - loss: 0.5298 - acc: 0.73 - ETA: 44s - loss: 0.5298 - acc: 0.73 - ETA: 44s - loss: 0.5296 - acc: 0.73 - ETA: 44s - loss: 0.5293 - acc: 0.73 - ETA: 43s - loss: 0.5291 - acc: 0.73 - ETA: 43s - loss: 0.5288 - acc: 0.73 - ETA: 43s - loss: 0.5286 - acc: 0.73 - ETA: 43s - loss: 0.5285 - acc: 0.73 - ETA: 43s - loss: 0.5284 - acc: 0.73 - ETA: 42s - loss: 0.5282 - acc: 0.73 - ETA: 42s - loss: 0.5280 - acc: 0.73 - ETA: 42s - loss: 0.5278 - acc: 0.73 - ETA: 42s - loss: 0.5275 - acc: 0.73 - ETA: 41s - loss: 0.5273 - acc: 0.73 - ETA: 41s - loss: 0.5271 - acc: 0.73 - ETA: 40s - loss: 0.5269 - acc: 0.73 - ETA: 41s - loss: 0.5268 - acc: 0.73 - ETA: 41s - loss: 0.5265 - acc: 0.73 - ETA: 40s - loss: 0.5263 - acc: 0.73 - ETA: 40s - loss: 0.5261 - acc: 0.73 - ETA: 40s - loss: 0.5260 - acc: 0.73 - ETA: 39s - loss: 0.5257 - acc: 0.73 - ETA: 39s - loss: 0.5255 - acc: 0.73 - ETA: 39s - loss: 0.5252 - acc: 0.73 - ETA: 39s - loss: 0.5252 - acc: 0.73 - ETA: 39s - loss: 0.5250 - acc: 0.73 - ETA: 39s - loss: 0.5249 - acc: 0.73 - ETA: 38s - loss: 0.5247 - acc: 0.73 - ETA: 38s - loss: 0.5245 - acc: 0.73 - ETA: 37s - loss: 0.5243 - acc: 0.73 - ETA: 37s - loss: 0.5240 - acc: 0.74 - ETA: 37s - loss: 0.5238 - acc: 0.74 - ETA: 37s - loss: 0.5237 - acc: 0.74 - ETA: 36s - loss: 0.5234 - acc: 0.74 - ETA: 36s - loss: 0.5233 - acc: 0.74 - ETA: 36s - loss: 0.5230 - acc: 0.74 - ETA: 35s - loss: 0.5227 - acc: 0.74 - ETA: 35s - loss: 0.5225 - acc: 0.74 - ETA: 35s - loss: 0.5224 - acc: 0.74 - ETA: 34s - loss: 0.5222 - acc: 0.74 - ETA: 34s - loss: 0.5220 - acc: 0.74 - ETA: 34s - loss: 0.5217 - acc: 0.74 - ETA: 33s - loss: 0.5215 - acc: 0.74 - ETA: 33s - loss: 0.5214 - acc: 0.74 - ETA: 33s - loss: 0.5212 - acc: 0.74 - ETA: 32s - loss: 0.5210 - acc: 0.74 - ETA: 32s - loss: 0.5208 - acc: 0.74 - ETA: 32s - loss: 0.5206 - acc: 0.74 - ETA: 31s - loss: 0.5204 - acc: 0.74 - ETA: 31s - loss: 0.5203 - acc: 0.74 - ETA: 31s - loss: 0.5201 - acc: 0.74 - ETA: 31s - loss: 0.5199 - acc: 0.74 - ETA: 30s - loss: 0.5197 - acc: 0.74 - ETA: 30s - loss: 0.5195 - acc: 0.74 - ETA: 30s - loss: 0.5193 - acc: 0.74 - ETA: 29s - loss: 0.5191 - acc: 0.74 - ETA: 29s - loss: 0.5191 - acc: 0.74 - ETA: 29s - loss: 0.5188 - acc: 0.74 - ETA: 29s - loss: 0.5188 - acc: 0.74 - ETA: 28s - loss: 0.5187 - acc: 0.74 - ETA: 28s - loss: 0.5184 - acc: 0.74 - ETA: 28s - loss: 0.5182 - acc: 0.74 - ETA: 27s - loss: 0.5180 - acc: 0.74 - ETA: 27s - loss: 0.5179 - acc: 0.74 - ETA: 27s - loss: 0.5176 - acc: 0.74 - ETA: 27s - loss: 0.5173 - acc: 0.74 - ETA: 26s - loss: 0.5171 - acc: 0.74 - ETA: 26s - loss: 0.5170 - acc: 0.74 - ETA: 26s - loss: 0.5168 - acc: 0.74 - ETA: 26s - loss: 0.5168 - acc: 0.74 - ETA: 26s - loss: 0.5166 - acc: 0.74 - ETA: 25s - loss: 0.5164 - acc: 0.74 - ETA: 25s - loss: 0.5163 - acc: 0.74 - ETA: 25s - loss: 0.5161 - acc: 0.74 - ETA: 25s - loss: 0.5159 - acc: 0.74 - ETA: 25s - loss: 0.5159 - acc: 0.74 - ETA: 25s - loss: 0.5158 - acc: 0.74 - ETA: 24s - loss: 0.5156 - acc: 0.74 - ETA: 24s - loss: 0.5154 - acc: 0.74 - ETA: 24s - loss: 0.5153 - acc: 0.74 - ETA: 23s - loss: 0.5152 - acc: 0.74 - ETA: 23s - loss: 0.5149 - acc: 0.74 - ETA: 23s - loss: 0.5148 - acc: 0.74 - ETA: 23s - loss: 0.5146 - acc: 0.74 - ETA: 22s - loss: 0.5144 - acc: 0.74 - ETA: 22s - loss: 0.5143 - acc: 0.74 - ETA: 22s - loss: 0.5142 - acc: 0.74 - ETA: 22s - loss: 0.5140 - acc: 0.74 - ETA: 21s - loss: 0.5139 - acc: 0.74 - ETA: 21s - loss: 0.5138 - acc: 0.74 - ETA: 21s - loss: 0.5137 - acc: 0.74 - ETA: 21s - loss: 0.5135 - acc: 0.74 - ETA: 20s - loss: 0.5134 - acc: 0.74 - ETA: 20s - loss: 0.5133 - acc: 0.74 - ETA: 20s - loss: 0.5130 - acc: 0.74 - ETA: 20s - loss: 0.5130 - acc: 0.74 - ETA: 19s - loss: 0.5129 - acc: 0.74 - ETA: 19s - loss: 0.5127 - acc: 0.74 - ETA: 19s - loss: 0.5126 - acc: 0.74 - ETA: 19s - loss: 0.5124 - acc: 0.74 - ETA: 19s - loss: 0.5122 - acc: 0.74 - ETA: 18s - loss: 0.5121 - acc: 0.74 - ETA: 18s - loss: 0.5120 - acc: 0.74 - ETA: 18s - loss: 0.5119 - acc: 0.74 - ETA: 18s - loss: 0.5116 - acc: 0.74 - ETA: 17s - loss: 0.5115 - acc: 0.74 - ETA: 17s - loss: 0.5114 - acc: 0.74 - ETA: 17s - loss: 0.5112 - acc: 0.74 - ETA: 17s - loss: 0.5111 - acc: 0.74 - ETA: 16s - loss: 0.5109 - acc: 0.74 - ETA: 16s - loss: 0.5107 - acc: 0.74 - ETA: 16s - loss: 0.5106 - acc: 0.74 - ETA: 16s - loss: 0.5104 - acc: 0.74 - ETA: 16s - loss: 0.5103 - acc: 0.74 - ETA: 15s - loss: 0.5101 - acc: 0.74 - ETA: 15s - loss: 0.5099 - acc: 0.74 - ETA: 15s - loss: 0.5098 - acc: 0.74 - ETA: 15s - loss: 0.5097 - acc: 0.74 - ETA: 15s - loss: 0.5096 - acc: 0.74 - ETA: 14s - loss: 0.5095 - acc: 0.74 - ETA: 14s - loss: 0.5095 - acc: 0.74 - ETA: 14s - loss: 0.5093 - acc: 0.74 - ETA: 14s - loss: 0.5093 - acc: 0.74 - ETA: 14s - loss: 0.5091 - acc: 0.74 - ETA: 14s - loss: 0.5090 - acc: 0.75 - ETA: 13s - loss: 0.5088 - acc: 0.75 - ETA: 13s - loss: 0.5086 - acc: 0.75 - ETA: 13s - loss: 0.5084 - acc: 0.75 - ETA: 13s - loss: 0.5083 - acc: 0.75 - ETA: 13s - loss: 0.5081 - acc: 0.75 - ETA: 12s - loss: 0.5081 - acc: 0.75 - ETA: 12s - loss: 0.5080 - acc: 0.75 - ETA: 12s - loss: 0.5079 - acc: 0.75 - ETA: 12s - loss: 0.5078 - acc: 0.75 - ETA: 12s - loss: 0.5077 - acc: 0.75 - ETA: 11s - loss: 0.5075 - acc: 0.75 - ETA: 11s - loss: 0.5074 - acc: 0.75 - ETA: 11s - loss: 0.5073 - acc: 0.75 - ETA: 11s - loss: 0.5071 - acc: 0.75 - ETA: 11s - loss: 0.5070 - acc: 0.75 - ETA: 10s - loss: 0.5069 - acc: 0.75 - ETA: 10s - loss: 0.5068 - acc: 0.75 - ETA: 10s - loss: 0.5067 - acc: 0.75 - ETA: 10s - loss: 0.5064 - acc: 0.75 - ETA: 10s - loss: 0.5064 - acc: 0.75 - ETA: 10s - loss: 0.5063 - acc: 0.75 - ETA: 10s - loss: 0.5061 - acc: 0.75 - ETA: 9s - loss: 0.5060 - acc: 0.7520 "
     ]
    },
    {
     "name": "stdout",
     "output_type": "stream",
     "text": [
      "2739/2745 [============================>.] - ETA: 9s - loss: 0.5059 - acc: 0.752 - ETA: 9s - loss: 0.5057 - acc: 0.752 - ETA: 9s - loss: 0.5056 - acc: 0.752 - ETA: 9s - loss: 0.5054 - acc: 0.752 - ETA: 8s - loss: 0.5053 - acc: 0.752 - ETA: 8s - loss: 0.5053 - acc: 0.752 - ETA: 8s - loss: 0.5052 - acc: 0.752 - ETA: 8s - loss: 0.5051 - acc: 0.752 - ETA: 8s - loss: 0.5050 - acc: 0.752 - ETA: 8s - loss: 0.5049 - acc: 0.752 - ETA: 8s - loss: 0.5048 - acc: 0.752 - ETA: 8s - loss: 0.5048 - acc: 0.752 - ETA: 7s - loss: 0.5047 - acc: 0.752 - ETA: 7s - loss: 0.5046 - acc: 0.753 - ETA: 7s - loss: 0.5044 - acc: 0.753 - ETA: 7s - loss: 0.5044 - acc: 0.753 - ETA: 7s - loss: 0.5044 - acc: 0.753 - ETA: 7s - loss: 0.5043 - acc: 0.753 - ETA: 7s - loss: 0.5042 - acc: 0.753 - ETA: 6s - loss: 0.5040 - acc: 0.753 - ETA: 6s - loss: 0.5039 - acc: 0.753 - ETA: 6s - loss: 0.5039 - acc: 0.753 - ETA: 6s - loss: 0.5038 - acc: 0.753 - ETA: 6s - loss: 0.5036 - acc: 0.753 - ETA: 5s - loss: 0.5035 - acc: 0.753 - ETA: 5s - loss: 0.5034 - acc: 0.753 - ETA: 5s - loss: 0.5034 - acc: 0.753 - ETA: 5s - loss: 0.5033 - acc: 0.753 - ETA: 5s - loss: 0.5033 - acc: 0.753 - ETA: 5s - loss: 0.5032 - acc: 0.753 - ETA: 5s - loss: 0.5030 - acc: 0.754 - ETA: 5s - loss: 0.5029 - acc: 0.754 - ETA: 4s - loss: 0.5028 - acc: 0.754 - ETA: 4s - loss: 0.5027 - acc: 0.754 - ETA: 4s - loss: 0.5026 - acc: 0.754 - ETA: 4s - loss: 0.5025 - acc: 0.754 - ETA: 4s - loss: 0.5024 - acc: 0.754 - ETA: 4s - loss: 0.5023 - acc: 0.754 - ETA: 4s - loss: 0.5023 - acc: 0.754 - ETA: 3s - loss: 0.5021 - acc: 0.754 - ETA: 3s - loss: 0.5021 - acc: 0.754 - ETA: 3s - loss: 0.5020 - acc: 0.754 - ETA: 3s - loss: 0.5018 - acc: 0.754 - ETA: 3s - loss: 0.5017 - acc: 0.754 - ETA: 2s - loss: 0.5016 - acc: 0.754 - ETA: 2s - loss: 0.5015 - acc: 0.754 - ETA: 2s - loss: 0.5014 - acc: 0.755 - ETA: 2s - loss: 0.5013 - acc: 0.755 - ETA: 2s - loss: 0.5011 - acc: 0.755 - ETA: 2s - loss: 0.5010 - acc: 0.755 - ETA: 1s - loss: 0.5008 - acc: 0.755 - ETA: 1s - loss: 0.5006 - acc: 0.755 - ETA: 1s - loss: 0.5005 - acc: 0.755 - ETA: 1s - loss: 0.5004 - acc: 0.755 - ETA: 1s - loss: 0.5003 - acc: 0.755 - ETA: 0s - loss: 0.5002 - acc: 0.755 - ETA: 0s - loss: 0.5001 - acc: 0.755 - ETA: 0s - loss: 0.5000 - acc: 0.755 - ETA: 0s - loss: 0.4999 - acc: 0.755 - ETA: 0s - loss: 0.4998 - acc: 0.756 - ETA: 0s - loss: 0.4997 - acc: 0.756 - ETA: 0s - loss: 0.4997 - acc: 0.7560\n",
      "Epoch 00001: val_loss improved from inf to 0.46333, saving model to C:\\Users\\remoteuser\\tatk\\resources\\logs\\checkpoints\n",
      "2745/2745 [==============================] - 71s 26ms/step - loss: 0.4996 - acc: 0.7560 - val_loss: 0.4633 - val_acc: 0.7920\n",
      "Epoch 2/10\n"
     ]
    },
    {
     "name": "stdout",
     "output_type": "stream",
     "text": [
      "1353/2745 [=============>................] - ETA: 21s - loss: 0.4798 - acc: 0.78 - ETA: 23s - loss: 0.4641 - acc: 0.78 - ETA: 25s - loss: 0.4620 - acc: 0.77 - ETA: 25s - loss: 0.4624 - acc: 0.77 - ETA: 25s - loss: 0.4645 - acc: 0.77 - ETA: 24s - loss: 0.4648 - acc: 0.77 - ETA: 25s - loss: 0.4621 - acc: 0.77 - ETA: 25s - loss: 0.4602 - acc: 0.77 - ETA: 26s - loss: 0.4593 - acc: 0.78 - ETA: 25s - loss: 0.4578 - acc: 0.77 - ETA: 25s - loss: 0.4566 - acc: 0.78 - ETA: 25s - loss: 0.4553 - acc: 0.78 - ETA: 25s - loss: 0.4579 - acc: 0.77 - ETA: 25s - loss: 0.4565 - acc: 0.78 - ETA: 25s - loss: 0.4565 - acc: 0.78 - ETA: 25s - loss: 0.4573 - acc: 0.78 - ETA: 25s - loss: 0.4586 - acc: 0.77 - ETA: 25s - loss: 0.4579 - acc: 0.77 - ETA: 24s - loss: 0.4582 - acc: 0.77 - ETA: 24s - loss: 0.4569 - acc: 0.78 - ETA: 24s - loss: 0.4570 - acc: 0.78 - ETA: 24s - loss: 0.4571 - acc: 0.78 - ETA: 24s - loss: 0.4575 - acc: 0.78 - ETA: 24s - loss: 0.4587 - acc: 0.78 - ETA: 24s - loss: 0.4594 - acc: 0.77 - ETA: 24s - loss: 0.4598 - acc: 0.77 - ETA: 24s - loss: 0.4603 - acc: 0.77 - ETA: 24s - loss: 0.4607 - acc: 0.77 - ETA: 24s - loss: 0.4609 - acc: 0.77 - ETA: 24s - loss: 0.4600 - acc: 0.78 - ETA: 24s - loss: 0.4598 - acc: 0.78 - ETA: 24s - loss: 0.4602 - acc: 0.78 - ETA: 24s - loss: 0.4600 - acc: 0.78 - ETA: 24s - loss: 0.4596 - acc: 0.78 - ETA: 24s - loss: 0.4591 - acc: 0.78 - ETA: 24s - loss: 0.4591 - acc: 0.78 - ETA: 24s - loss: 0.4597 - acc: 0.78 - ETA: 24s - loss: 0.4595 - acc: 0.78 - ETA: 24s - loss: 0.4591 - acc: 0.78 - ETA: 23s - loss: 0.4587 - acc: 0.78 - ETA: 23s - loss: 0.4592 - acc: 0.78 - ETA: 23s - loss: 0.4589 - acc: 0.78 - ETA: 23s - loss: 0.4592 - acc: 0.78 - ETA: 23s - loss: 0.4586 - acc: 0.78 - ETA: 23s - loss: 0.4588 - acc: 0.78 - ETA: 23s - loss: 0.4592 - acc: 0.78 - ETA: 23s - loss: 0.4588 - acc: 0.78 - ETA: 23s - loss: 0.4587 - acc: 0.78 - ETA: 23s - loss: 0.4585 - acc: 0.78 - ETA: 23s - loss: 0.4585 - acc: 0.78 - ETA: 23s - loss: 0.4582 - acc: 0.78 - ETA: 23s - loss: 0.4579 - acc: 0.78 - ETA: 23s - loss: 0.4582 - acc: 0.78 - ETA: 23s - loss: 0.4581 - acc: 0.78 - ETA: 23s - loss: 0.4576 - acc: 0.78 - ETA: 23s - loss: 0.4576 - acc: 0.78 - ETA: 22s - loss: 0.4578 - acc: 0.78 - ETA: 22s - loss: 0.4578 - acc: 0.78 - ETA: 22s - loss: 0.4579 - acc: 0.78 - ETA: 22s - loss: 0.4577 - acc: 0.78 - ETA: 22s - loss: 0.4578 - acc: 0.78 - ETA: 22s - loss: 0.4581 - acc: 0.78 - ETA: 22s - loss: 0.4582 - acc: 0.78 - ETA: 22s - loss: 0.4579 - acc: 0.78 - ETA: 22s - loss: 0.4578 - acc: 0.78 - ETA: 22s - loss: 0.4577 - acc: 0.78 - ETA: 22s - loss: 0.4581 - acc: 0.78 - ETA: 22s - loss: 0.4581 - acc: 0.78 - ETA: 22s - loss: 0.4580 - acc: 0.78 - ETA: 22s - loss: 0.4578 - acc: 0.78 - ETA: 22s - loss: 0.4581 - acc: 0.78 - ETA: 22s - loss: 0.4580 - acc: 0.78 - ETA: 22s - loss: 0.4578 - acc: 0.78 - ETA: 25s - loss: 0.4579 - acc: 0.78 - ETA: 25s - loss: 0.4578 - acc: 0.78 - ETA: 25s - loss: 0.4579 - acc: 0.78 - ETA: 25s - loss: 0.4577 - acc: 0.78 - ETA: 25s - loss: 0.4578 - acc: 0.78 - ETA: 25s - loss: 0.4579 - acc: 0.78 - ETA: 25s - loss: 0.4581 - acc: 0.78 - ETA: 25s - loss: 0.4581 - acc: 0.78 - ETA: 24s - loss: 0.4583 - acc: 0.78 - ETA: 24s - loss: 0.4584 - acc: 0.78 - ETA: 24s - loss: 0.4582 - acc: 0.78 - ETA: 24s - loss: 0.4582 - acc: 0.78 - ETA: 24s - loss: 0.4580 - acc: 0.78 - ETA: 24s - loss: 0.4581 - acc: 0.78 - ETA: 24s - loss: 0.4579 - acc: 0.78 - ETA: 24s - loss: 0.4577 - acc: 0.78 - ETA: 23s - loss: 0.4577 - acc: 0.78 - ETA: 23s - loss: 0.4575 - acc: 0.78 - ETA: 23s - loss: 0.4576 - acc: 0.78 - ETA: 23s - loss: 0.4575 - acc: 0.78 - ETA: 23s - loss: 0.4575 - acc: 0.78 - ETA: 23s - loss: 0.4579 - acc: 0.78 - ETA: 23s - loss: 0.4582 - acc: 0.78 - ETA: 22s - loss: 0.4580 - acc: 0.78 - ETA: 22s - loss: 0.4578 - acc: 0.78 - ETA: 22s - loss: 0.4576 - acc: 0.78 - ETA: 22s - loss: 0.4575 - acc: 0.78 - ETA: 22s - loss: 0.4574 - acc: 0.78 - ETA: 22s - loss: 0.4574 - acc: 0.78 - ETA: 22s - loss: 0.4574 - acc: 0.78 - ETA: 22s - loss: 0.4570 - acc: 0.78 - ETA: 21s - loss: 0.4569 - acc: 0.78 - ETA: 21s - loss: 0.4569 - acc: 0.78 - ETA: 21s - loss: 0.4568 - acc: 0.78 - ETA: 21s - loss: 0.4571 - acc: 0.78 - ETA: 21s - loss: 0.4572 - acc: 0.78 - ETA: 21s - loss: 0.4571 - acc: 0.78 - ETA: 21s - loss: 0.4572 - acc: 0.78 - ETA: 21s - loss: 0.4574 - acc: 0.78 - ETA: 20s - loss: 0.4573 - acc: 0.78 - ETA: 20s - loss: 0.4576 - acc: 0.78 - ETA: 20s - loss: 0.4575 - acc: 0.78 - ETA: 20s - loss: 0.4577 - acc: 0.78 - ETA: 20s - loss: 0.4577 - acc: 0.78 - ETA: 20s - loss: 0.4579 - acc: 0.78 - ETA: 20s - loss: 0.4580 - acc: 0.78 - ETA: 20s - loss: 0.4578 - acc: 0.78 - ETA: 20s - loss: 0.4578 - acc: 0.78 - ETA: 20s - loss: 0.4578 - acc: 0.78 - ETA: 19s - loss: 0.4578 - acc: 0.78 - ETA: 19s - loss: 0.4577 - acc: 0.78 - ETA: 19s - loss: 0.4576 - acc: 0.78 - ETA: 19s - loss: 0.4577 - acc: 0.78 - ETA: 19s - loss: 0.4579 - acc: 0.78 - ETA: 19s - loss: 0.4579 - acc: 0.78 - ETA: 19s - loss: 0.4580 - acc: 0.78 - ETA: 19s - loss: 0.4578 - acc: 0.78 - ETA: 19s - loss: 0.4579 - acc: 0.78 - ETA: 19s - loss: 0.4579 - acc: 0.78 - ETA: 18s - loss: 0.4579 - acc: 0.78 - ETA: 18s - loss: 0.4578 - acc: 0.78 - ETA: 18s - loss: 0.4577 - acc: 0.78 - ETA: 18s - loss: 0.4576 - acc: 0.78 - ETA: 18s - loss: 0.4573 - acc: 0.78 - ETA: 18s - loss: 0.4573 - acc: 0.78 - ETA: 18s - loss: 0.4572 - acc: 0.78 - ETA: 18s - loss: 0.4573 - acc: 0.78 - ETA: 18s - loss: 0.4573 - acc: 0.78 - ETA: 18s - loss: 0.4573 - acc: 0.78 - ETA: 18s - loss: 0.4573 - acc: 0.78 - ETA: 18s - loss: 0.4575 - acc: 0.78 - ETA: 17s - loss: 0.4576 - acc: 0.78 - ETA: 17s - loss: 0.4576 - acc: 0.78 - ETA: 17s - loss: 0.4578 - acc: 0.78 - ETA: 17s - loss: 0.4578 - acc: 0.78 - ETA: 17s - loss: 0.4578 - acc: 0.78 - ETA: 17s - loss: 0.4576 - acc: 0.78 - ETA: 17s - loss: 0.4575 - acc: 0.78 - ETA: 17s - loss: 0.4575 - acc: 0.78 - ETA: 17s - loss: 0.4575 - acc: 0.78 - ETA: 17s - loss: 0.4573 - acc: 0.78 - ETA: 17s - loss: 0.4573 - acc: 0.78 - ETA: 17s - loss: 0.4574 - acc: 0.78 - ETA: 17s - loss: 0.4573 - acc: 0.78 - ETA: 16s - loss: 0.4573 - acc: 0.78 - ETA: 16s - loss: 0.4572 - acc: 0.78 - ETA: 16s - loss: 0.4572 - acc: 0.78 - ETA: 16s - loss: 0.4571 - acc: 0.78 - ETA: 16s - loss: 0.4571 - acc: 0.78 - ETA: 16s - loss: 0.4570 - acc: 0.78 - ETA: 16s - loss: 0.4569 - acc: 0.78 - ETA: 16s - loss: 0.4569 - acc: 0.78 - ETA: 16s - loss: 0.4569 - acc: 0.78 - ETA: 16s - loss: 0.4568 - acc: 0.78 - ETA: 16s - loss: 0.4568 - acc: 0.78 - ETA: 16s - loss: 0.4567 - acc: 0.78 - ETA: 16s - loss: 0.4568 - acc: 0.78 - ETA: 15s - loss: 0.4568 - acc: 0.78 - ETA: 15s - loss: 0.4569 - acc: 0.78 - ETA: 15s - loss: 0.4568 - acc: 0.78 - ETA: 15s - loss: 0.4567 - acc: 0.78 - ETA: 15s - loss: 0.4566 - acc: 0.78 - ETA: 15s - loss: 0.4566 - acc: 0.78 - ETA: 15s - loss: 0.4566 - acc: 0.78 - ETA: 15s - loss: 0.4565 - acc: 0.78 - ETA: 15s - loss: 0.4565 - acc: 0.78 - ETA: 15s - loss: 0.4565 - acc: 0.78 - ETA: 15s - loss: 0.4566 - acc: 0.78 - ETA: 15s - loss: 0.4567 - acc: 0.78 - ETA: 15s - loss: 0.4565 - acc: 0.78 - ETA: 14s - loss: 0.4565 - acc: 0.78 - ETA: 14s - loss: 0.4564 - acc: 0.78 - ETA: 14s - loss: 0.4564 - acc: 0.78 - ETA: 14s - loss: 0.4564 - acc: 0.78 - ETA: 14s - loss: 0.4564 - acc: 0.78 - ETA: 14s - loss: 0.4563 - acc: 0.78 - ETA: 14s - loss: 0.4563 - acc: 0.78 - ETA: 14s - loss: 0.4564 - acc: 0.78 - ETA: 14s - loss: 0.4564 - acc: 0.78 - ETA: 14s - loss: 0.4562 - acc: 0.78 - ETA: 14s - loss: 0.4561 - acc: 0.78 - ETA: 14s - loss: 0.4561 - acc: 0.78 - ETA: 14s - loss: 0.4560 - acc: 0.78 - ETA: 13s - loss: 0.4560 - acc: 0.78 - ETA: 13s - loss: 0.4560 - acc: 0.78 - ETA: 13s - loss: 0.4560 - acc: 0.78 - ETA: 13s - loss: 0.4560 - acc: 0.78 - ETA: 13s - loss: 0.4560 - acc: 0.78 - ETA: 13s - loss: 0.4560 - acc: 0.78 - ETA: 13s - loss: 0.4560 - acc: 0.78 - ETA: 13s - loss: 0.4560 - acc: 0.78 - ETA: 13s - loss: 0.4559 - acc: 0.78 - ETA: 13s - loss: 0.4557 - acc: 0.78 - ETA: 13s - loss: 0.4557 - acc: 0.78 - ETA: 13s - loss: 0.4555 - acc: 0.78 - ETA: 13s - loss: 0.4555 - acc: 0.78 - ETA: 12s - loss: 0.4555 - acc: 0.78 - ETA: 12s - loss: 0.4555 - acc: 0.78 - ETA: 12s - loss: 0.4554 - acc: 0.78 - ETA: 12s - loss: 0.4554 - acc: 0.78 - ETA: 12s - loss: 0.4554 - acc: 0.78 - ETA: 12s - loss: 0.4555 - acc: 0.7836"
     ]
    },
    {
     "name": "stdout",
     "output_type": "stream",
     "text": [
      "2739/2745 [============================>.] - ETA: 12s - loss: 0.4555 - acc: 0.78 - ETA: 12s - loss: 0.4554 - acc: 0.78 - ETA: 12s - loss: 0.4553 - acc: 0.78 - ETA: 12s - loss: 0.4553 - acc: 0.78 - ETA: 12s - loss: 0.4553 - acc: 0.78 - ETA: 12s - loss: 0.4552 - acc: 0.78 - ETA: 12s - loss: 0.4551 - acc: 0.78 - ETA: 12s - loss: 0.4552 - acc: 0.78 - ETA: 11s - loss: 0.4551 - acc: 0.78 - ETA: 11s - loss: 0.4551 - acc: 0.78 - ETA: 11s - loss: 0.4551 - acc: 0.78 - ETA: 11s - loss: 0.4551 - acc: 0.78 - ETA: 11s - loss: 0.4551 - acc: 0.78 - ETA: 11s - loss: 0.4551 - acc: 0.78 - ETA: 11s - loss: 0.4551 - acc: 0.78 - ETA: 11s - loss: 0.4551 - acc: 0.78 - ETA: 11s - loss: 0.4551 - acc: 0.78 - ETA: 11s - loss: 0.4549 - acc: 0.78 - ETA: 11s - loss: 0.4547 - acc: 0.78 - ETA: 11s - loss: 0.4547 - acc: 0.78 - ETA: 11s - loss: 0.4547 - acc: 0.78 - ETA: 10s - loss: 0.4547 - acc: 0.78 - ETA: 10s - loss: 0.4547 - acc: 0.78 - ETA: 10s - loss: 0.4546 - acc: 0.78 - ETA: 10s - loss: 0.4546 - acc: 0.78 - ETA: 10s - loss: 0.4547 - acc: 0.78 - ETA: 10s - loss: 0.4546 - acc: 0.78 - ETA: 10s - loss: 0.4547 - acc: 0.78 - ETA: 10s - loss: 0.4547 - acc: 0.78 - ETA: 10s - loss: 0.4548 - acc: 0.78 - ETA: 10s - loss: 0.4548 - acc: 0.78 - ETA: 10s - loss: 0.4548 - acc: 0.78 - ETA: 10s - loss: 0.4546 - acc: 0.78 - ETA: 10s - loss: 0.4546 - acc: 0.78 - ETA: 10s - loss: 0.4545 - acc: 0.78 - ETA: 10s - loss: 0.4545 - acc: 0.78 - ETA: 9s - loss: 0.4545 - acc: 0.7844 - ETA: 9s - loss: 0.4544 - acc: 0.784 - ETA: 9s - loss: 0.4544 - acc: 0.784 - ETA: 9s - loss: 0.4545 - acc: 0.784 - ETA: 9s - loss: 0.4544 - acc: 0.784 - ETA: 9s - loss: 0.4544 - acc: 0.784 - ETA: 9s - loss: 0.4544 - acc: 0.784 - ETA: 9s - loss: 0.4545 - acc: 0.784 - ETA: 9s - loss: 0.4545 - acc: 0.784 - ETA: 9s - loss: 0.4545 - acc: 0.784 - ETA: 9s - loss: 0.4545 - acc: 0.784 - ETA: 9s - loss: 0.4545 - acc: 0.784 - ETA: 9s - loss: 0.4545 - acc: 0.784 - ETA: 9s - loss: 0.4545 - acc: 0.784 - ETA: 9s - loss: 0.4545 - acc: 0.784 - ETA: 9s - loss: 0.4545 - acc: 0.784 - ETA: 8s - loss: 0.4545 - acc: 0.784 - ETA: 8s - loss: 0.4545 - acc: 0.784 - ETA: 8s - loss: 0.4545 - acc: 0.784 - ETA: 8s - loss: 0.4545 - acc: 0.784 - ETA: 8s - loss: 0.4545 - acc: 0.784 - ETA: 8s - loss: 0.4545 - acc: 0.784 - ETA: 8s - loss: 0.4544 - acc: 0.784 - ETA: 8s - loss: 0.4544 - acc: 0.784 - ETA: 8s - loss: 0.4544 - acc: 0.784 - ETA: 8s - loss: 0.4543 - acc: 0.784 - ETA: 8s - loss: 0.4544 - acc: 0.784 - ETA: 8s - loss: 0.4544 - acc: 0.784 - ETA: 8s - loss: 0.4544 - acc: 0.784 - ETA: 8s - loss: 0.4545 - acc: 0.784 - ETA: 8s - loss: 0.4545 - acc: 0.784 - ETA: 7s - loss: 0.4545 - acc: 0.784 - ETA: 7s - loss: 0.4544 - acc: 0.784 - ETA: 7s - loss: 0.4544 - acc: 0.784 - ETA: 7s - loss: 0.4543 - acc: 0.784 - ETA: 7s - loss: 0.4543 - acc: 0.784 - ETA: 7s - loss: 0.4543 - acc: 0.784 - ETA: 7s - loss: 0.4543 - acc: 0.784 - ETA: 7s - loss: 0.4542 - acc: 0.784 - ETA: 7s - loss: 0.4542 - acc: 0.784 - ETA: 7s - loss: 0.4542 - acc: 0.784 - ETA: 7s - loss: 0.4542 - acc: 0.784 - ETA: 7s - loss: 0.4542 - acc: 0.784 - ETA: 7s - loss: 0.4542 - acc: 0.784 - ETA: 7s - loss: 0.4542 - acc: 0.784 - ETA: 7s - loss: 0.4542 - acc: 0.784 - ETA: 6s - loss: 0.4542 - acc: 0.784 - ETA: 6s - loss: 0.4542 - acc: 0.784 - ETA: 6s - loss: 0.4541 - acc: 0.784 - ETA: 6s - loss: 0.4541 - acc: 0.784 - ETA: 6s - loss: 0.4542 - acc: 0.784 - ETA: 6s - loss: 0.4541 - acc: 0.784 - ETA: 6s - loss: 0.4541 - acc: 0.784 - ETA: 6s - loss: 0.4541 - acc: 0.784 - ETA: 6s - loss: 0.4541 - acc: 0.784 - ETA: 6s - loss: 0.4541 - acc: 0.784 - ETA: 6s - loss: 0.4540 - acc: 0.784 - ETA: 6s - loss: 0.4541 - acc: 0.784 - ETA: 6s - loss: 0.4541 - acc: 0.784 - ETA: 6s - loss: 0.4540 - acc: 0.784 - ETA: 6s - loss: 0.4540 - acc: 0.784 - ETA: 5s - loss: 0.4540 - acc: 0.784 - ETA: 5s - loss: 0.4541 - acc: 0.784 - ETA: 5s - loss: 0.4541 - acc: 0.784 - ETA: 5s - loss: 0.4541 - acc: 0.784 - ETA: 5s - loss: 0.4541 - acc: 0.784 - ETA: 5s - loss: 0.4541 - acc: 0.784 - ETA: 5s - loss: 0.4541 - acc: 0.784 - ETA: 5s - loss: 0.4540 - acc: 0.784 - ETA: 5s - loss: 0.4539 - acc: 0.784 - ETA: 5s - loss: 0.4539 - acc: 0.784 - ETA: 5s - loss: 0.4539 - acc: 0.785 - ETA: 5s - loss: 0.4539 - acc: 0.785 - ETA: 5s - loss: 0.4538 - acc: 0.785 - ETA: 5s - loss: 0.4539 - acc: 0.784 - ETA: 5s - loss: 0.4538 - acc: 0.784 - ETA: 5s - loss: 0.4539 - acc: 0.784 - ETA: 4s - loss: 0.4539 - acc: 0.784 - ETA: 4s - loss: 0.4539 - acc: 0.784 - ETA: 4s - loss: 0.4538 - acc: 0.784 - ETA: 4s - loss: 0.4538 - acc: 0.784 - ETA: 4s - loss: 0.4538 - acc: 0.785 - ETA: 4s - loss: 0.4537 - acc: 0.785 - ETA: 4s - loss: 0.4538 - acc: 0.785 - ETA: 4s - loss: 0.4537 - acc: 0.785 - ETA: 4s - loss: 0.4537 - acc: 0.785 - ETA: 4s - loss: 0.4537 - acc: 0.785 - ETA: 4s - loss: 0.4537 - acc: 0.785 - ETA: 4s - loss: 0.4537 - acc: 0.785 - ETA: 4s - loss: 0.4537 - acc: 0.785 - ETA: 4s - loss: 0.4536 - acc: 0.785 - ETA: 4s - loss: 0.4536 - acc: 0.785 - ETA: 4s - loss: 0.4535 - acc: 0.785 - ETA: 4s - loss: 0.4534 - acc: 0.785 - ETA: 3s - loss: 0.4534 - acc: 0.785 - ETA: 3s - loss: 0.4534 - acc: 0.785 - ETA: 3s - loss: 0.4534 - acc: 0.785 - ETA: 3s - loss: 0.4534 - acc: 0.785 - ETA: 3s - loss: 0.4534 - acc: 0.785 - ETA: 3s - loss: 0.4533 - acc: 0.785 - ETA: 3s - loss: 0.4533 - acc: 0.785 - ETA: 3s - loss: 0.4533 - acc: 0.785 - ETA: 3s - loss: 0.4533 - acc: 0.785 - ETA: 3s - loss: 0.4533 - acc: 0.785 - ETA: 3s - loss: 0.4533 - acc: 0.785 - ETA: 3s - loss: 0.4534 - acc: 0.785 - ETA: 3s - loss: 0.4534 - acc: 0.785 - ETA: 3s - loss: 0.4533 - acc: 0.785 - ETA: 3s - loss: 0.4533 - acc: 0.785 - ETA: 3s - loss: 0.4533 - acc: 0.785 - ETA: 2s - loss: 0.4533 - acc: 0.785 - ETA: 2s - loss: 0.4533 - acc: 0.785 - ETA: 2s - loss: 0.4533 - acc: 0.785 - ETA: 2s - loss: 0.4533 - acc: 0.785 - ETA: 2s - loss: 0.4533 - acc: 0.785 - ETA: 2s - loss: 0.4533 - acc: 0.785 - ETA: 2s - loss: 0.4533 - acc: 0.785 - ETA: 2s - loss: 0.4533 - acc: 0.785 - ETA: 2s - loss: 0.4533 - acc: 0.785 - ETA: 2s - loss: 0.4532 - acc: 0.785 - ETA: 2s - loss: 0.4533 - acc: 0.785 - ETA: 2s - loss: 0.4532 - acc: 0.785 - ETA: 2s - loss: 0.4532 - acc: 0.785 - ETA: 2s - loss: 0.4532 - acc: 0.785 - ETA: 2s - loss: 0.4532 - acc: 0.785 - ETA: 2s - loss: 0.4532 - acc: 0.785 - ETA: 1s - loss: 0.4533 - acc: 0.785 - ETA: 1s - loss: 0.4533 - acc: 0.785 - ETA: 1s - loss: 0.4532 - acc: 0.785 - ETA: 1s - loss: 0.4533 - acc: 0.785 - ETA: 1s - loss: 0.4532 - acc: 0.785 - ETA: 1s - loss: 0.4531 - acc: 0.785 - ETA: 1s - loss: 0.4531 - acc: 0.785 - ETA: 1s - loss: 0.4531 - acc: 0.785 - ETA: 1s - loss: 0.4531 - acc: 0.785 - ETA: 1s - loss: 0.4531 - acc: 0.785 - ETA: 1s - loss: 0.4531 - acc: 0.785 - ETA: 1s - loss: 0.4531 - acc: 0.785 - ETA: 1s - loss: 0.4531 - acc: 0.785 - ETA: 1s - loss: 0.4531 - acc: 0.785 - ETA: 1s - loss: 0.4530 - acc: 0.785 - ETA: 1s - loss: 0.4530 - acc: 0.785 - ETA: 0s - loss: 0.4530 - acc: 0.785 - ETA: 0s - loss: 0.4530 - acc: 0.785 - ETA: 0s - loss: 0.4530 - acc: 0.785 - ETA: 0s - loss: 0.4531 - acc: 0.785 - ETA: 0s - loss: 0.4531 - acc: 0.785 - ETA: 0s - loss: 0.4531 - acc: 0.785 - ETA: 0s - loss: 0.4532 - acc: 0.785 - ETA: 0s - loss: 0.4531 - acc: 0.785 - ETA: 0s - loss: 0.4531 - acc: 0.785 - ETA: 0s - loss: 0.4532 - acc: 0.785 - ETA: 0s - loss: 0.4532 - acc: 0.785 - ETA: 0s - loss: 0.4532 - acc: 0.785 - ETA: 0s - loss: 0.4532 - acc: 0.785 - ETA: 0s - loss: 0.4532 - acc: 0.785 - ETA: 0s - loss: 0.4533 - acc: 0.785 - ETA: 0s - loss: 0.4533 - acc: 0.785 - ETA: 0s - loss: 0.4533 - acc: 0.785 - ETA: 0s - loss: 0.4533 - acc: 0.785 - ETA: 0s - loss: 0.4533 - acc: 0.7853\n",
      "Epoch 00002: val_loss improved from 0.46333 to 0.45891, saving model to C:\\Users\\remoteuser\\tatk\\resources\\logs\\checkpoints\n",
      "2745/2745 [==============================] - 30s 11ms/step - loss: 0.4533 - acc: 0.7853 - val_loss: 0.4589 - val_acc: 0.7990\n",
      "Epoch 3/10\n"
     ]
    },
    {
     "name": "stdout",
     "output_type": "stream",
     "text": [
      "1516/2745 [===============>..............] - ETA: 19s - loss: 0.4217 - acc: 0.80 - ETA: 22s - loss: 0.4388 - acc: 0.79 - ETA: 21s - loss: 0.4526 - acc: 0.79 - ETA: 21s - loss: 0.4449 - acc: 0.79 - ETA: 20s - loss: 0.4431 - acc: 0.79 - ETA: 20s - loss: 0.4460 - acc: 0.79 - ETA: 20s - loss: 0.4451 - acc: 0.79 - ETA: 20s - loss: 0.4477 - acc: 0.79 - ETA: 20s - loss: 0.4483 - acc: 0.79 - ETA: 20s - loss: 0.4467 - acc: 0.79 - ETA: 20s - loss: 0.4466 - acc: 0.79 - ETA: 19s - loss: 0.4476 - acc: 0.79 - ETA: 19s - loss: 0.4473 - acc: 0.79 - ETA: 19s - loss: 0.4466 - acc: 0.79 - ETA: 19s - loss: 0.4458 - acc: 0.79 - ETA: 19s - loss: 0.4452 - acc: 0.79 - ETA: 19s - loss: 0.4448 - acc: 0.79 - ETA: 19s - loss: 0.4457 - acc: 0.79 - ETA: 19s - loss: 0.4456 - acc: 0.79 - ETA: 19s - loss: 0.4453 - acc: 0.79 - ETA: 19s - loss: 0.4451 - acc: 0.79 - ETA: 19s - loss: 0.4451 - acc: 0.79 - ETA: 19s - loss: 0.4450 - acc: 0.79 - ETA: 19s - loss: 0.4445 - acc: 0.79 - ETA: 19s - loss: 0.4439 - acc: 0.79 - ETA: 19s - loss: 0.4436 - acc: 0.79 - ETA: 18s - loss: 0.4443 - acc: 0.79 - ETA: 18s - loss: 0.4445 - acc: 0.79 - ETA: 18s - loss: 0.4445 - acc: 0.79 - ETA: 18s - loss: 0.4451 - acc: 0.79 - ETA: 18s - loss: 0.4451 - acc: 0.79 - ETA: 18s - loss: 0.4459 - acc: 0.79 - ETA: 18s - loss: 0.4458 - acc: 0.79 - ETA: 18s - loss: 0.4455 - acc: 0.79 - ETA: 18s - loss: 0.4458 - acc: 0.79 - ETA: 18s - loss: 0.4462 - acc: 0.79 - ETA: 18s - loss: 0.4466 - acc: 0.79 - ETA: 18s - loss: 0.4466 - acc: 0.79 - ETA: 18s - loss: 0.4465 - acc: 0.79 - ETA: 18s - loss: 0.4464 - acc: 0.79 - ETA: 18s - loss: 0.4465 - acc: 0.79 - ETA: 18s - loss: 0.4461 - acc: 0.79 - ETA: 18s - loss: 0.4463 - acc: 0.79 - ETA: 18s - loss: 0.4461 - acc: 0.79 - ETA: 18s - loss: 0.4460 - acc: 0.79 - ETA: 18s - loss: 0.4465 - acc: 0.79 - ETA: 18s - loss: 0.4466 - acc: 0.79 - ETA: 17s - loss: 0.4468 - acc: 0.79 - ETA: 17s - loss: 0.4468 - acc: 0.79 - ETA: 17s - loss: 0.4470 - acc: 0.79 - ETA: 17s - loss: 0.4467 - acc: 0.79 - ETA: 17s - loss: 0.4463 - acc: 0.79 - ETA: 17s - loss: 0.4462 - acc: 0.79 - ETA: 17s - loss: 0.4463 - acc: 0.79 - ETA: 17s - loss: 0.4465 - acc: 0.79 - ETA: 17s - loss: 0.4462 - acc: 0.79 - ETA: 17s - loss: 0.4459 - acc: 0.79 - ETA: 17s - loss: 0.4456 - acc: 0.79 - ETA: 17s - loss: 0.4460 - acc: 0.79 - ETA: 17s - loss: 0.4461 - acc: 0.79 - ETA: 17s - loss: 0.4461 - acc: 0.79 - ETA: 17s - loss: 0.4461 - acc: 0.79 - ETA: 17s - loss: 0.4463 - acc: 0.79 - ETA: 17s - loss: 0.4464 - acc: 0.79 - ETA: 17s - loss: 0.4461 - acc: 0.79 - ETA: 17s - loss: 0.4462 - acc: 0.79 - ETA: 16s - loss: 0.4462 - acc: 0.79 - ETA: 16s - loss: 0.4463 - acc: 0.79 - ETA: 16s - loss: 0.4465 - acc: 0.78 - ETA: 16s - loss: 0.4463 - acc: 0.78 - ETA: 16s - loss: 0.4465 - acc: 0.78 - ETA: 16s - loss: 0.4466 - acc: 0.78 - ETA: 16s - loss: 0.4468 - acc: 0.78 - ETA: 16s - loss: 0.4468 - acc: 0.78 - ETA: 16s - loss: 0.4470 - acc: 0.78 - ETA: 16s - loss: 0.4468 - acc: 0.78 - ETA: 16s - loss: 0.4468 - acc: 0.78 - ETA: 16s - loss: 0.4468 - acc: 0.78 - ETA: 16s - loss: 0.4466 - acc: 0.78 - ETA: 16s - loss: 0.4468 - acc: 0.78 - ETA: 16s - loss: 0.4467 - acc: 0.78 - ETA: 16s - loss: 0.4468 - acc: 0.78 - ETA: 16s - loss: 0.4466 - acc: 0.78 - ETA: 16s - loss: 0.4466 - acc: 0.78 - ETA: 16s - loss: 0.4467 - acc: 0.78 - ETA: 16s - loss: 0.4467 - acc: 0.78 - ETA: 16s - loss: 0.4467 - acc: 0.78 - ETA: 15s - loss: 0.4468 - acc: 0.78 - ETA: 15s - loss: 0.4471 - acc: 0.78 - ETA: 15s - loss: 0.4471 - acc: 0.78 - ETA: 15s - loss: 0.4472 - acc: 0.78 - ETA: 15s - loss: 0.4474 - acc: 0.78 - ETA: 15s - loss: 0.4476 - acc: 0.78 - ETA: 15s - loss: 0.4476 - acc: 0.78 - ETA: 15s - loss: 0.4475 - acc: 0.78 - ETA: 15s - loss: 0.4474 - acc: 0.78 - ETA: 15s - loss: 0.4473 - acc: 0.78 - ETA: 15s - loss: 0.4474 - acc: 0.78 - ETA: 15s - loss: 0.4475 - acc: 0.78 - ETA: 15s - loss: 0.4474 - acc: 0.78 - ETA: 15s - loss: 0.4475 - acc: 0.78 - ETA: 15s - loss: 0.4472 - acc: 0.78 - ETA: 15s - loss: 0.4475 - acc: 0.78 - ETA: 15s - loss: 0.4476 - acc: 0.78 - ETA: 15s - loss: 0.4475 - acc: 0.78 - ETA: 15s - loss: 0.4474 - acc: 0.78 - ETA: 15s - loss: 0.4475 - acc: 0.78 - ETA: 15s - loss: 0.4474 - acc: 0.78 - ETA: 15s - loss: 0.4474 - acc: 0.78 - ETA: 15s - loss: 0.4476 - acc: 0.78 - ETA: 15s - loss: 0.4476 - acc: 0.78 - ETA: 15s - loss: 0.4474 - acc: 0.78 - ETA: 15s - loss: 0.4473 - acc: 0.78 - ETA: 15s - loss: 0.4474 - acc: 0.78 - ETA: 15s - loss: 0.4473 - acc: 0.78 - ETA: 15s - loss: 0.4474 - acc: 0.78 - ETA: 15s - loss: 0.4475 - acc: 0.78 - ETA: 15s - loss: 0.4474 - acc: 0.78 - ETA: 14s - loss: 0.4474 - acc: 0.78 - ETA: 14s - loss: 0.4473 - acc: 0.78 - ETA: 14s - loss: 0.4473 - acc: 0.78 - ETA: 14s - loss: 0.4473 - acc: 0.78 - ETA: 14s - loss: 0.4473 - acc: 0.78 - ETA: 14s - loss: 0.4475 - acc: 0.78 - ETA: 14s - loss: 0.4474 - acc: 0.78 - ETA: 14s - loss: 0.4475 - acc: 0.78 - ETA: 14s - loss: 0.4476 - acc: 0.78 - ETA: 14s - loss: 0.4476 - acc: 0.78 - ETA: 14s - loss: 0.4475 - acc: 0.78 - ETA: 14s - loss: 0.4474 - acc: 0.78 - ETA: 14s - loss: 0.4474 - acc: 0.78 - ETA: 14s - loss: 0.4472 - acc: 0.78 - ETA: 14s - loss: 0.4471 - acc: 0.78 - ETA: 14s - loss: 0.4471 - acc: 0.78 - ETA: 14s - loss: 0.4469 - acc: 0.78 - ETA: 13s - loss: 0.4470 - acc: 0.78 - ETA: 13s - loss: 0.4471 - acc: 0.78 - ETA: 13s - loss: 0.4470 - acc: 0.78 - ETA: 13s - loss: 0.4469 - acc: 0.78 - ETA: 13s - loss: 0.4469 - acc: 0.78 - ETA: 13s - loss: 0.4469 - acc: 0.78 - ETA: 13s - loss: 0.4468 - acc: 0.78 - ETA: 13s - loss: 0.4469 - acc: 0.78 - ETA: 13s - loss: 0.4466 - acc: 0.78 - ETA: 13s - loss: 0.4468 - acc: 0.78 - ETA: 13s - loss: 0.4467 - acc: 0.78 - ETA: 13s - loss: 0.4466 - acc: 0.78 - ETA: 13s - loss: 0.4466 - acc: 0.78 - ETA: 13s - loss: 0.4467 - acc: 0.78 - ETA: 13s - loss: 0.4465 - acc: 0.78 - ETA: 12s - loss: 0.4466 - acc: 0.78 - ETA: 12s - loss: 0.4466 - acc: 0.78 - ETA: 12s - loss: 0.4467 - acc: 0.78 - ETA: 12s - loss: 0.4467 - acc: 0.78 - ETA: 12s - loss: 0.4467 - acc: 0.78 - ETA: 12s - loss: 0.4468 - acc: 0.78 - ETA: 12s - loss: 0.4469 - acc: 0.78 - ETA: 12s - loss: 0.4469 - acc: 0.78 - ETA: 12s - loss: 0.4468 - acc: 0.78 - ETA: 12s - loss: 0.4469 - acc: 0.78 - ETA: 12s - loss: 0.4467 - acc: 0.78 - ETA: 12s - loss: 0.4466 - acc: 0.78 - ETA: 12s - loss: 0.4466 - acc: 0.78 - ETA: 12s - loss: 0.4465 - acc: 0.78 - ETA: 12s - loss: 0.4464 - acc: 0.78 - ETA: 12s - loss: 0.4465 - acc: 0.78 - ETA: 12s - loss: 0.4464 - acc: 0.78 - ETA: 11s - loss: 0.4465 - acc: 0.78 - ETA: 11s - loss: 0.4466 - acc: 0.78 - ETA: 11s - loss: 0.4466 - acc: 0.78 - ETA: 11s - loss: 0.4467 - acc: 0.78 - ETA: 11s - loss: 0.4468 - acc: 0.78 - ETA: 11s - loss: 0.4467 - acc: 0.78 - ETA: 11s - loss: 0.4467 - acc: 0.78 - ETA: 11s - loss: 0.4467 - acc: 0.78 - ETA: 11s - loss: 0.4466 - acc: 0.78 - ETA: 11s - loss: 0.4467 - acc: 0.78 - ETA: 11s - loss: 0.4467 - acc: 0.78 - ETA: 11s - loss: 0.4466 - acc: 0.78 - ETA: 11s - loss: 0.4467 - acc: 0.78 - ETA: 11s - loss: 0.4467 - acc: 0.78 - ETA: 11s - loss: 0.4466 - acc: 0.78 - ETA: 11s - loss: 0.4465 - acc: 0.78 - ETA: 11s - loss: 0.4465 - acc: 0.78 - ETA: 11s - loss: 0.4464 - acc: 0.78 - ETA: 10s - loss: 0.4463 - acc: 0.78 - ETA: 10s - loss: 0.4463 - acc: 0.78 - ETA: 10s - loss: 0.4464 - acc: 0.78 - ETA: 10s - loss: 0.4463 - acc: 0.78 - ETA: 10s - loss: 0.4461 - acc: 0.78 - ETA: 10s - loss: 0.4462 - acc: 0.78 - ETA: 10s - loss: 0.4462 - acc: 0.78 - ETA: 10s - loss: 0.4462 - acc: 0.78 - ETA: 10s - loss: 0.4463 - acc: 0.78 - ETA: 10s - loss: 0.4462 - acc: 0.78 - ETA: 10s - loss: 0.4462 - acc: 0.78 - ETA: 10s - loss: 0.4462 - acc: 0.78 - ETA: 10s - loss: 0.4462 - acc: 0.78 - ETA: 10s - loss: 0.4462 - acc: 0.78 - ETA: 10s - loss: 0.4462 - acc: 0.78 - ETA: 10s - loss: 0.4461 - acc: 0.78 - ETA: 10s - loss: 0.4460 - acc: 0.78 - ETA: 9s - loss: 0.4460 - acc: 0.7896 - ETA: 9s - loss: 0.4460 - acc: 0.789 - ETA: 9s - loss: 0.4460 - acc: 0.789 - ETA: 9s - loss: 0.4459 - acc: 0.789 - ETA: 9s - loss: 0.4458 - acc: 0.789 - ETA: 9s - loss: 0.4458 - acc: 0.789 - ETA: 9s - loss: 0.4457 - acc: 0.789 - ETA: 9s - loss: 0.4456 - acc: 0.790 - ETA: 9s - loss: 0.4456 - acc: 0.790 - ETA: 9s - loss: 0.4457 - acc: 0.789 - ETA: 9s - loss: 0.4456 - acc: 0.789 - ETA: 9s - loss: 0.4457 - acc: 0.789 - ETA: 9s - loss: 0.4457 - acc: 0.7899"
     ]
    },
    {
     "name": "stdout",
     "output_type": "stream",
     "text": [
      "2740/2745 [============================>.] - ETA: 9s - loss: 0.4456 - acc: 0.790 - ETA: 9s - loss: 0.4456 - acc: 0.789 - ETA: 9s - loss: 0.4456 - acc: 0.789 - ETA: 9s - loss: 0.4456 - acc: 0.790 - ETA: 9s - loss: 0.4455 - acc: 0.790 - ETA: 8s - loss: 0.4455 - acc: 0.790 - ETA: 8s - loss: 0.4455 - acc: 0.790 - ETA: 8s - loss: 0.4455 - acc: 0.790 - ETA: 8s - loss: 0.4455 - acc: 0.790 - ETA: 8s - loss: 0.4455 - acc: 0.790 - ETA: 8s - loss: 0.4455 - acc: 0.790 - ETA: 8s - loss: 0.4454 - acc: 0.790 - ETA: 8s - loss: 0.4454 - acc: 0.790 - ETA: 8s - loss: 0.4454 - acc: 0.790 - ETA: 8s - loss: 0.4453 - acc: 0.790 - ETA: 8s - loss: 0.4453 - acc: 0.790 - ETA: 8s - loss: 0.4453 - acc: 0.790 - ETA: 8s - loss: 0.4453 - acc: 0.790 - ETA: 8s - loss: 0.4453 - acc: 0.790 - ETA: 8s - loss: 0.4453 - acc: 0.790 - ETA: 8s - loss: 0.4453 - acc: 0.790 - ETA: 8s - loss: 0.4453 - acc: 0.790 - ETA: 8s - loss: 0.4454 - acc: 0.789 - ETA: 7s - loss: 0.4455 - acc: 0.789 - ETA: 7s - loss: 0.4455 - acc: 0.789 - ETA: 7s - loss: 0.4455 - acc: 0.789 - ETA: 7s - loss: 0.4454 - acc: 0.789 - ETA: 7s - loss: 0.4453 - acc: 0.790 - ETA: 7s - loss: 0.4453 - acc: 0.790 - ETA: 7s - loss: 0.4453 - acc: 0.790 - ETA: 7s - loss: 0.4453 - acc: 0.790 - ETA: 7s - loss: 0.4453 - acc: 0.790 - ETA: 7s - loss: 0.4454 - acc: 0.790 - ETA: 7s - loss: 0.4454 - acc: 0.790 - ETA: 7s - loss: 0.4454 - acc: 0.790 - ETA: 7s - loss: 0.4454 - acc: 0.790 - ETA: 7s - loss: 0.4454 - acc: 0.790 - ETA: 7s - loss: 0.4453 - acc: 0.790 - ETA: 7s - loss: 0.4453 - acc: 0.790 - ETA: 7s - loss: 0.4452 - acc: 0.790 - ETA: 7s - loss: 0.4452 - acc: 0.790 - ETA: 7s - loss: 0.4452 - acc: 0.790 - ETA: 6s - loss: 0.4451 - acc: 0.790 - ETA: 6s - loss: 0.4451 - acc: 0.790 - ETA: 6s - loss: 0.4451 - acc: 0.790 - ETA: 6s - loss: 0.4451 - acc: 0.790 - ETA: 6s - loss: 0.4452 - acc: 0.790 - ETA: 6s - loss: 0.4451 - acc: 0.790 - ETA: 6s - loss: 0.4451 - acc: 0.790 - ETA: 6s - loss: 0.4450 - acc: 0.790 - ETA: 6s - loss: 0.4449 - acc: 0.790 - ETA: 6s - loss: 0.4449 - acc: 0.790 - ETA: 6s - loss: 0.4449 - acc: 0.790 - ETA: 6s - loss: 0.4448 - acc: 0.790 - ETA: 6s - loss: 0.4449 - acc: 0.790 - ETA: 6s - loss: 0.4449 - acc: 0.790 - ETA: 6s - loss: 0.4449 - acc: 0.790 - ETA: 6s - loss: 0.4449 - acc: 0.790 - ETA: 6s - loss: 0.4449 - acc: 0.790 - ETA: 6s - loss: 0.4448 - acc: 0.790 - ETA: 5s - loss: 0.4449 - acc: 0.790 - ETA: 5s - loss: 0.4449 - acc: 0.790 - ETA: 5s - loss: 0.4448 - acc: 0.790 - ETA: 5s - loss: 0.4449 - acc: 0.790 - ETA: 5s - loss: 0.4449 - acc: 0.790 - ETA: 5s - loss: 0.4448 - acc: 0.790 - ETA: 5s - loss: 0.4448 - acc: 0.790 - ETA: 5s - loss: 0.4448 - acc: 0.790 - ETA: 5s - loss: 0.4448 - acc: 0.790 - ETA: 5s - loss: 0.4449 - acc: 0.790 - ETA: 5s - loss: 0.4449 - acc: 0.790 - ETA: 5s - loss: 0.4448 - acc: 0.790 - ETA: 5s - loss: 0.4449 - acc: 0.790 - ETA: 5s - loss: 0.4448 - acc: 0.790 - ETA: 5s - loss: 0.4449 - acc: 0.790 - ETA: 5s - loss: 0.4449 - acc: 0.790 - ETA: 5s - loss: 0.4449 - acc: 0.790 - ETA: 4s - loss: 0.4449 - acc: 0.790 - ETA: 4s - loss: 0.4450 - acc: 0.790 - ETA: 4s - loss: 0.4450 - acc: 0.790 - ETA: 4s - loss: 0.4450 - acc: 0.790 - ETA: 4s - loss: 0.4450 - acc: 0.790 - ETA: 4s - loss: 0.4450 - acc: 0.790 - ETA: 4s - loss: 0.4449 - acc: 0.790 - ETA: 4s - loss: 0.4449 - acc: 0.790 - ETA: 4s - loss: 0.4448 - acc: 0.790 - ETA: 4s - loss: 0.4448 - acc: 0.790 - ETA: 4s - loss: 0.4449 - acc: 0.790 - ETA: 4s - loss: 0.4449 - acc: 0.790 - ETA: 4s - loss: 0.4448 - acc: 0.790 - ETA: 4s - loss: 0.4448 - acc: 0.790 - ETA: 4s - loss: 0.4448 - acc: 0.790 - ETA: 4s - loss: 0.4448 - acc: 0.790 - ETA: 4s - loss: 0.4448 - acc: 0.790 - ETA: 4s - loss: 0.4448 - acc: 0.790 - ETA: 3s - loss: 0.4448 - acc: 0.790 - ETA: 3s - loss: 0.4448 - acc: 0.790 - ETA: 3s - loss: 0.4448 - acc: 0.790 - ETA: 3s - loss: 0.4448 - acc: 0.790 - ETA: 3s - loss: 0.4448 - acc: 0.790 - ETA: 3s - loss: 0.4448 - acc: 0.790 - ETA: 3s - loss: 0.4449 - acc: 0.790 - ETA: 3s - loss: 0.4449 - acc: 0.790 - ETA: 3s - loss: 0.4448 - acc: 0.790 - ETA: 3s - loss: 0.4448 - acc: 0.790 - ETA: 3s - loss: 0.4448 - acc: 0.790 - ETA: 3s - loss: 0.4448 - acc: 0.790 - ETA: 3s - loss: 0.4448 - acc: 0.790 - ETA: 3s - loss: 0.4448 - acc: 0.790 - ETA: 3s - loss: 0.4448 - acc: 0.790 - ETA: 3s - loss: 0.4448 - acc: 0.790 - ETA: 3s - loss: 0.4448 - acc: 0.790 - ETA: 3s - loss: 0.4449 - acc: 0.790 - ETA: 3s - loss: 0.4449 - acc: 0.790 - ETA: 2s - loss: 0.4449 - acc: 0.790 - ETA: 2s - loss: 0.4448 - acc: 0.790 - ETA: 2s - loss: 0.4448 - acc: 0.790 - ETA: 2s - loss: 0.4448 - acc: 0.790 - ETA: 2s - loss: 0.4448 - acc: 0.790 - ETA: 2s - loss: 0.4448 - acc: 0.790 - ETA: 2s - loss: 0.4448 - acc: 0.790 - ETA: 2s - loss: 0.4447 - acc: 0.790 - ETA: 2s - loss: 0.4446 - acc: 0.790 - ETA: 2s - loss: 0.4447 - acc: 0.790 - ETA: 2s - loss: 0.4447 - acc: 0.790 - ETA: 2s - loss: 0.4447 - acc: 0.790 - ETA: 2s - loss: 0.4447 - acc: 0.790 - ETA: 2s - loss: 0.4447 - acc: 0.790 - ETA: 2s - loss: 0.4447 - acc: 0.790 - ETA: 2s - loss: 0.4447 - acc: 0.790 - ETA: 2s - loss: 0.4447 - acc: 0.790 - ETA: 2s - loss: 0.4446 - acc: 0.790 - ETA: 1s - loss: 0.4446 - acc: 0.790 - ETA: 1s - loss: 0.4446 - acc: 0.790 - ETA: 1s - loss: 0.4445 - acc: 0.790 - ETA: 1s - loss: 0.4446 - acc: 0.790 - ETA: 1s - loss: 0.4446 - acc: 0.790 - ETA: 1s - loss: 0.4446 - acc: 0.790 - ETA: 1s - loss: 0.4446 - acc: 0.790 - ETA: 1s - loss: 0.4446 - acc: 0.790 - ETA: 1s - loss: 0.4446 - acc: 0.790 - ETA: 1s - loss: 0.4446 - acc: 0.790 - ETA: 1s - loss: 0.4445 - acc: 0.790 - ETA: 1s - loss: 0.4445 - acc: 0.790 - ETA: 1s - loss: 0.4445 - acc: 0.790 - ETA: 1s - loss: 0.4445 - acc: 0.790 - ETA: 1s - loss: 0.4445 - acc: 0.790 - ETA: 1s - loss: 0.4446 - acc: 0.790 - ETA: 1s - loss: 0.4445 - acc: 0.790 - ETA: 1s - loss: 0.4446 - acc: 0.790 - ETA: 0s - loss: 0.4446 - acc: 0.790 - ETA: 0s - loss: 0.4446 - acc: 0.790 - ETA: 0s - loss: 0.4445 - acc: 0.790 - ETA: 0s - loss: 0.4445 - acc: 0.790 - ETA: 0s - loss: 0.4445 - acc: 0.790 - ETA: 0s - loss: 0.4444 - acc: 0.790 - ETA: 0s - loss: 0.4444 - acc: 0.790 - ETA: 0s - loss: 0.4445 - acc: 0.790 - ETA: 0s - loss: 0.4445 - acc: 0.790 - ETA: 0s - loss: 0.4445 - acc: 0.790 - ETA: 0s - loss: 0.4445 - acc: 0.790 - ETA: 0s - loss: 0.4445 - acc: 0.790 - ETA: 0s - loss: 0.4445 - acc: 0.790 - ETA: 0s - loss: 0.4445 - acc: 0.790 - ETA: 0s - loss: 0.4445 - acc: 0.790 - ETA: 0s - loss: 0.4444 - acc: 0.790 - ETA: 0s - loss: 0.4444 - acc: 0.790 - ETA: 0s - loss: 0.4444 - acc: 0.790 - ETA: 0s - loss: 0.4444 - acc: 0.790 - ETA: 0s - loss: 0.4444 - acc: 0.790 - ETA: 0s - loss: 0.4444 - acc: 0.790 - ETA: 0s - loss: 0.4445 - acc: 0.7907\n",
      "Epoch 00003: val_loss did not improve\n",
      "2745/2745 [==============================] - 26s 9ms/step - loss: 0.4445 - acc: 0.7907 - val_loss: 0.4602 - val_acc: 0.8021\n",
      "Epoch 4/10\n"
     ]
    },
    {
     "name": "stdout",
     "output_type": "stream",
     "text": [
      "1348/2745 [=============>................] - ETA: 24s - loss: 0.4546 - acc: 0.75 - ETA: 25s - loss: 0.4278 - acc: 0.80 - ETA: 22s - loss: 0.4374 - acc: 0.79 - ETA: 21s - loss: 0.4343 - acc: 0.79 - ETA: 21s - loss: 0.4363 - acc: 0.79 - ETA: 21s - loss: 0.4347 - acc: 0.79 - ETA: 22s - loss: 0.4333 - acc: 0.80 - ETA: 21s - loss: 0.4343 - acc: 0.80 - ETA: 21s - loss: 0.4333 - acc: 0.80 - ETA: 20s - loss: 0.4321 - acc: 0.80 - ETA: 20s - loss: 0.4359 - acc: 0.79 - ETA: 20s - loss: 0.4365 - acc: 0.79 - ETA: 21s - loss: 0.4370 - acc: 0.79 - ETA: 20s - loss: 0.4374 - acc: 0.79 - ETA: 21s - loss: 0.4363 - acc: 0.79 - ETA: 20s - loss: 0.4357 - acc: 0.79 - ETA: 20s - loss: 0.4356 - acc: 0.79 - ETA: 20s - loss: 0.4360 - acc: 0.79 - ETA: 20s - loss: 0.4356 - acc: 0.79 - ETA: 20s - loss: 0.4362 - acc: 0.79 - ETA: 20s - loss: 0.4361 - acc: 0.79 - ETA: 20s - loss: 0.4358 - acc: 0.79 - ETA: 20s - loss: 0.4355 - acc: 0.79 - ETA: 20s - loss: 0.4357 - acc: 0.79 - ETA: 20s - loss: 0.4354 - acc: 0.79 - ETA: 20s - loss: 0.4354 - acc: 0.79 - ETA: 20s - loss: 0.4357 - acc: 0.79 - ETA: 20s - loss: 0.4363 - acc: 0.79 - ETA: 20s - loss: 0.4361 - acc: 0.79 - ETA: 20s - loss: 0.4358 - acc: 0.79 - ETA: 20s - loss: 0.4364 - acc: 0.79 - ETA: 20s - loss: 0.4368 - acc: 0.79 - ETA: 20s - loss: 0.4373 - acc: 0.79 - ETA: 20s - loss: 0.4371 - acc: 0.79 - ETA: 20s - loss: 0.4372 - acc: 0.79 - ETA: 20s - loss: 0.4371 - acc: 0.79 - ETA: 20s - loss: 0.4370 - acc: 0.79 - ETA: 20s - loss: 0.4374 - acc: 0.79 - ETA: 20s - loss: 0.4374 - acc: 0.79 - ETA: 21s - loss: 0.4371 - acc: 0.79 - ETA: 21s - loss: 0.4376 - acc: 0.79 - ETA: 21s - loss: 0.4379 - acc: 0.79 - ETA: 21s - loss: 0.4387 - acc: 0.79 - ETA: 21s - loss: 0.4384 - acc: 0.79 - ETA: 21s - loss: 0.4387 - acc: 0.79 - ETA: 21s - loss: 0.4382 - acc: 0.79 - ETA: 21s - loss: 0.4387 - acc: 0.79 - ETA: 21s - loss: 0.4390 - acc: 0.79 - ETA: 21s - loss: 0.4386 - acc: 0.79 - ETA: 21s - loss: 0.4382 - acc: 0.79 - ETA: 21s - loss: 0.4376 - acc: 0.79 - ETA: 21s - loss: 0.4375 - acc: 0.79 - ETA: 21s - loss: 0.4375 - acc: 0.79 - ETA: 21s - loss: 0.4380 - acc: 0.79 - ETA: 21s - loss: 0.4375 - acc: 0.79 - ETA: 21s - loss: 0.4375 - acc: 0.79 - ETA: 21s - loss: 0.4377 - acc: 0.79 - ETA: 21s - loss: 0.4378 - acc: 0.79 - ETA: 21s - loss: 0.4379 - acc: 0.79 - ETA: 21s - loss: 0.4380 - acc: 0.79 - ETA: 21s - loss: 0.4384 - acc: 0.79 - ETA: 21s - loss: 0.4384 - acc: 0.79 - ETA: 21s - loss: 0.4385 - acc: 0.79 - ETA: 21s - loss: 0.4381 - acc: 0.79 - ETA: 21s - loss: 0.4383 - acc: 0.79 - ETA: 21s - loss: 0.4386 - acc: 0.79 - ETA: 20s - loss: 0.4391 - acc: 0.79 - ETA: 20s - loss: 0.4387 - acc: 0.79 - ETA: 20s - loss: 0.4390 - acc: 0.79 - ETA: 20s - loss: 0.4388 - acc: 0.79 - ETA: 20s - loss: 0.4387 - acc: 0.79 - ETA: 20s - loss: 0.4388 - acc: 0.79 - ETA: 20s - loss: 0.4387 - acc: 0.79 - ETA: 20s - loss: 0.4387 - acc: 0.79 - ETA: 20s - loss: 0.4389 - acc: 0.79 - ETA: 20s - loss: 0.4391 - acc: 0.79 - ETA: 20s - loss: 0.4392 - acc: 0.79 - ETA: 20s - loss: 0.4392 - acc: 0.79 - ETA: 20s - loss: 0.4397 - acc: 0.79 - ETA: 20s - loss: 0.4399 - acc: 0.79 - ETA: 19s - loss: 0.4399 - acc: 0.79 - ETA: 19s - loss: 0.4396 - acc: 0.79 - ETA: 19s - loss: 0.4393 - acc: 0.79 - ETA: 19s - loss: 0.4393 - acc: 0.79 - ETA: 19s - loss: 0.4392 - acc: 0.79 - ETA: 19s - loss: 0.4393 - acc: 0.79 - ETA: 19s - loss: 0.4392 - acc: 0.79 - ETA: 19s - loss: 0.4391 - acc: 0.79 - ETA: 19s - loss: 0.4391 - acc: 0.79 - ETA: 19s - loss: 0.4390 - acc: 0.79 - ETA: 19s - loss: 0.4390 - acc: 0.79 - ETA: 19s - loss: 0.4391 - acc: 0.79 - ETA: 19s - loss: 0.4388 - acc: 0.79 - ETA: 19s - loss: 0.4391 - acc: 0.79 - ETA: 19s - loss: 0.4389 - acc: 0.79 - ETA: 18s - loss: 0.4389 - acc: 0.79 - ETA: 18s - loss: 0.4388 - acc: 0.79 - ETA: 18s - loss: 0.4386 - acc: 0.79 - ETA: 18s - loss: 0.4385 - acc: 0.79 - ETA: 18s - loss: 0.4383 - acc: 0.79 - ETA: 18s - loss: 0.4383 - acc: 0.79 - ETA: 18s - loss: 0.4382 - acc: 0.79 - ETA: 18s - loss: 0.4383 - acc: 0.79 - ETA: 18s - loss: 0.4385 - acc: 0.79 - ETA: 18s - loss: 0.4386 - acc: 0.79 - ETA: 18s - loss: 0.4386 - acc: 0.79 - ETA: 18s - loss: 0.4387 - acc: 0.79 - ETA: 18s - loss: 0.4386 - acc: 0.79 - ETA: 18s - loss: 0.4385 - acc: 0.79 - ETA: 18s - loss: 0.4386 - acc: 0.79 - ETA: 18s - loss: 0.4386 - acc: 0.79 - ETA: 18s - loss: 0.4384 - acc: 0.79 - ETA: 18s - loss: 0.4386 - acc: 0.79 - ETA: 17s - loss: 0.4387 - acc: 0.79 - ETA: 17s - loss: 0.4385 - acc: 0.79 - ETA: 17s - loss: 0.4384 - acc: 0.79 - ETA: 17s - loss: 0.4384 - acc: 0.79 - ETA: 17s - loss: 0.4383 - acc: 0.79 - ETA: 17s - loss: 0.4382 - acc: 0.79 - ETA: 17s - loss: 0.4382 - acc: 0.79 - ETA: 17s - loss: 0.4382 - acc: 0.79 - ETA: 17s - loss: 0.4383 - acc: 0.79 - ETA: 17s - loss: 0.4382 - acc: 0.79 - ETA: 17s - loss: 0.4382 - acc: 0.79 - ETA: 17s - loss: 0.4382 - acc: 0.79 - ETA: 17s - loss: 0.4381 - acc: 0.79 - ETA: 17s - loss: 0.4380 - acc: 0.79 - ETA: 17s - loss: 0.4381 - acc: 0.79 - ETA: 17s - loss: 0.4382 - acc: 0.79 - ETA: 16s - loss: 0.4381 - acc: 0.79 - ETA: 16s - loss: 0.4382 - acc: 0.79 - ETA: 16s - loss: 0.4381 - acc: 0.79 - ETA: 16s - loss: 0.4384 - acc: 0.79 - ETA: 16s - loss: 0.4383 - acc: 0.79 - ETA: 16s - loss: 0.4383 - acc: 0.79 - ETA: 16s - loss: 0.4384 - acc: 0.79 - ETA: 16s - loss: 0.4383 - acc: 0.79 - ETA: 16s - loss: 0.4382 - acc: 0.79 - ETA: 16s - loss: 0.4382 - acc: 0.79 - ETA: 16s - loss: 0.4383 - acc: 0.79 - ETA: 16s - loss: 0.4382 - acc: 0.79 - ETA: 16s - loss: 0.4381 - acc: 0.79 - ETA: 16s - loss: 0.4381 - acc: 0.79 - ETA: 16s - loss: 0.4384 - acc: 0.79 - ETA: 16s - loss: 0.4384 - acc: 0.79 - ETA: 16s - loss: 0.4386 - acc: 0.79 - ETA: 16s - loss: 0.4387 - acc: 0.79 - ETA: 16s - loss: 0.4387 - acc: 0.79 - ETA: 16s - loss: 0.4387 - acc: 0.79 - ETA: 16s - loss: 0.4384 - acc: 0.79 - ETA: 15s - loss: 0.4384 - acc: 0.79 - ETA: 15s - loss: 0.4385 - acc: 0.79 - ETA: 15s - loss: 0.4385 - acc: 0.79 - ETA: 15s - loss: 0.4386 - acc: 0.79 - ETA: 15s - loss: 0.4386 - acc: 0.79 - ETA: 15s - loss: 0.4385 - acc: 0.79 - ETA: 15s - loss: 0.4386 - acc: 0.79 - ETA: 15s - loss: 0.4386 - acc: 0.79 - ETA: 15s - loss: 0.4388 - acc: 0.79 - ETA: 15s - loss: 0.4388 - acc: 0.79 - ETA: 15s - loss: 0.4388 - acc: 0.79 - ETA: 15s - loss: 0.4388 - acc: 0.79 - ETA: 15s - loss: 0.4386 - acc: 0.79 - ETA: 15s - loss: 0.4388 - acc: 0.79 - ETA: 15s - loss: 0.4388 - acc: 0.79 - ETA: 15s - loss: 0.4388 - acc: 0.79 - ETA: 15s - loss: 0.4388 - acc: 0.79 - ETA: 15s - loss: 0.4388 - acc: 0.79 - ETA: 15s - loss: 0.4389 - acc: 0.79 - ETA: 15s - loss: 0.4388 - acc: 0.79 - ETA: 14s - loss: 0.4388 - acc: 0.79 - ETA: 14s - loss: 0.4389 - acc: 0.79 - ETA: 14s - loss: 0.4388 - acc: 0.79 - ETA: 14s - loss: 0.4387 - acc: 0.79 - ETA: 14s - loss: 0.4388 - acc: 0.79 - ETA: 14s - loss: 0.4388 - acc: 0.79 - ETA: 14s - loss: 0.4388 - acc: 0.79 - ETA: 14s - loss: 0.4389 - acc: 0.79 - ETA: 14s - loss: 0.4389 - acc: 0.79 - ETA: 14s - loss: 0.4389 - acc: 0.79 - ETA: 14s - loss: 0.4389 - acc: 0.79 - ETA: 14s - loss: 0.4388 - acc: 0.79 - ETA: 14s - loss: 0.4388 - acc: 0.79 - ETA: 14s - loss: 0.4387 - acc: 0.79 - ETA: 14s - loss: 0.4388 - acc: 0.79 - ETA: 13s - loss: 0.4388 - acc: 0.79 - ETA: 13s - loss: 0.4388 - acc: 0.79 - ETA: 13s - loss: 0.4387 - acc: 0.79 - ETA: 13s - loss: 0.4387 - acc: 0.79 - ETA: 13s - loss: 0.4386 - acc: 0.79 - ETA: 13s - loss: 0.4386 - acc: 0.79 - ETA: 13s - loss: 0.4385 - acc: 0.79 - ETA: 13s - loss: 0.4387 - acc: 0.79 - ETA: 13s - loss: 0.4386 - acc: 0.79 - ETA: 13s - loss: 0.4385 - acc: 0.79 - ETA: 13s - loss: 0.4385 - acc: 0.79 - ETA: 13s - loss: 0.4385 - acc: 0.79 - ETA: 13s - loss: 0.4386 - acc: 0.79 - ETA: 13s - loss: 0.4388 - acc: 0.79 - ETA: 12s - loss: 0.4387 - acc: 0.79 - ETA: 12s - loss: 0.4388 - acc: 0.79 - ETA: 12s - loss: 0.4387 - acc: 0.79 - ETA: 12s - loss: 0.4387 - acc: 0.79 - ETA: 12s - loss: 0.4387 - acc: 0.79 - ETA: 12s - loss: 0.4386 - acc: 0.79 - ETA: 12s - loss: 0.4385 - acc: 0.79 - ETA: 12s - loss: 0.4385 - acc: 0.79 - ETA: 12s - loss: 0.4386 - acc: 0.79 - ETA: 12s - loss: 0.4385 - acc: 0.79 - ETA: 12s - loss: 0.4385 - acc: 0.79 - ETA: 12s - loss: 0.4385 - acc: 0.79 - ETA: 12s - loss: 0.4384 - acc: 0.79 - ETA: 12s - loss: 0.4386 - acc: 0.79 - ETA: 12s - loss: 0.4386 - acc: 0.79 - ETA: 12s - loss: 0.4385 - acc: 0.7952"
     ]
    },
    {
     "name": "stdout",
     "output_type": "stream",
     "text": [
      "2740/2745 [============================>.] - ETA: 12s - loss: 0.4385 - acc: 0.79 - ETA: 12s - loss: 0.4386 - acc: 0.79 - ETA: 11s - loss: 0.4387 - acc: 0.79 - ETA: 11s - loss: 0.4387 - acc: 0.79 - ETA: 11s - loss: 0.4388 - acc: 0.79 - ETA: 11s - loss: 0.4387 - acc: 0.79 - ETA: 11s - loss: 0.4388 - acc: 0.79 - ETA: 11s - loss: 0.4386 - acc: 0.79 - ETA: 11s - loss: 0.4384 - acc: 0.79 - ETA: 11s - loss: 0.4387 - acc: 0.79 - ETA: 11s - loss: 0.4387 - acc: 0.79 - ETA: 11s - loss: 0.4387 - acc: 0.79 - ETA: 11s - loss: 0.4387 - acc: 0.79 - ETA: 11s - loss: 0.4387 - acc: 0.79 - ETA: 11s - loss: 0.4387 - acc: 0.79 - ETA: 11s - loss: 0.4388 - acc: 0.79 - ETA: 11s - loss: 0.4388 - acc: 0.79 - ETA: 11s - loss: 0.4387 - acc: 0.79 - ETA: 10s - loss: 0.4388 - acc: 0.79 - ETA: 10s - loss: 0.4387 - acc: 0.79 - ETA: 10s - loss: 0.4386 - acc: 0.79 - ETA: 10s - loss: 0.4386 - acc: 0.79 - ETA: 10s - loss: 0.4387 - acc: 0.79 - ETA: 10s - loss: 0.4386 - acc: 0.79 - ETA: 10s - loss: 0.4386 - acc: 0.79 - ETA: 10s - loss: 0.4386 - acc: 0.79 - ETA: 10s - loss: 0.4387 - acc: 0.79 - ETA: 10s - loss: 0.4387 - acc: 0.79 - ETA: 10s - loss: 0.4388 - acc: 0.79 - ETA: 10s - loss: 0.4388 - acc: 0.79 - ETA: 10s - loss: 0.4389 - acc: 0.79 - ETA: 10s - loss: 0.4389 - acc: 0.79 - ETA: 10s - loss: 0.4388 - acc: 0.79 - ETA: 10s - loss: 0.4389 - acc: 0.79 - ETA: 9s - loss: 0.4390 - acc: 0.7948 - ETA: 9s - loss: 0.4390 - acc: 0.794 - ETA: 9s - loss: 0.4390 - acc: 0.794 - ETA: 9s - loss: 0.4390 - acc: 0.794 - ETA: 9s - loss: 0.4390 - acc: 0.794 - ETA: 9s - loss: 0.4389 - acc: 0.794 - ETA: 9s - loss: 0.4389 - acc: 0.794 - ETA: 9s - loss: 0.4390 - acc: 0.794 - ETA: 9s - loss: 0.4390 - acc: 0.794 - ETA: 9s - loss: 0.4391 - acc: 0.794 - ETA: 9s - loss: 0.4389 - acc: 0.794 - ETA: 9s - loss: 0.4389 - acc: 0.794 - ETA: 9s - loss: 0.4389 - acc: 0.794 - ETA: 9s - loss: 0.4389 - acc: 0.794 - ETA: 9s - loss: 0.4388 - acc: 0.794 - ETA: 9s - loss: 0.4389 - acc: 0.794 - ETA: 8s - loss: 0.4389 - acc: 0.794 - ETA: 8s - loss: 0.4388 - acc: 0.794 - ETA: 8s - loss: 0.4389 - acc: 0.794 - ETA: 8s - loss: 0.4388 - acc: 0.794 - ETA: 8s - loss: 0.4388 - acc: 0.794 - ETA: 8s - loss: 0.4387 - acc: 0.794 - ETA: 8s - loss: 0.4387 - acc: 0.794 - ETA: 8s - loss: 0.4387 - acc: 0.794 - ETA: 8s - loss: 0.4387 - acc: 0.794 - ETA: 8s - loss: 0.4387 - acc: 0.794 - ETA: 8s - loss: 0.4388 - acc: 0.794 - ETA: 8s - loss: 0.4388 - acc: 0.794 - ETA: 8s - loss: 0.4389 - acc: 0.794 - ETA: 8s - loss: 0.4389 - acc: 0.794 - ETA: 8s - loss: 0.4389 - acc: 0.794 - ETA: 7s - loss: 0.4389 - acc: 0.794 - ETA: 7s - loss: 0.4389 - acc: 0.794 - ETA: 7s - loss: 0.4389 - acc: 0.794 - ETA: 7s - loss: 0.4389 - acc: 0.794 - ETA: 7s - loss: 0.4389 - acc: 0.794 - ETA: 7s - loss: 0.4389 - acc: 0.794 - ETA: 7s - loss: 0.4389 - acc: 0.794 - ETA: 7s - loss: 0.4390 - acc: 0.794 - ETA: 7s - loss: 0.4389 - acc: 0.794 - ETA: 7s - loss: 0.4389 - acc: 0.794 - ETA: 7s - loss: 0.4389 - acc: 0.794 - ETA: 7s - loss: 0.4389 - acc: 0.794 - ETA: 7s - loss: 0.4390 - acc: 0.794 - ETA: 7s - loss: 0.4389 - acc: 0.794 - ETA: 7s - loss: 0.4390 - acc: 0.794 - ETA: 7s - loss: 0.4390 - acc: 0.794 - ETA: 6s - loss: 0.4390 - acc: 0.794 - ETA: 6s - loss: 0.4391 - acc: 0.794 - ETA: 6s - loss: 0.4391 - acc: 0.794 - ETA: 6s - loss: 0.4390 - acc: 0.794 - ETA: 6s - loss: 0.4391 - acc: 0.794 - ETA: 6s - loss: 0.4392 - acc: 0.794 - ETA: 6s - loss: 0.4392 - acc: 0.794 - ETA: 6s - loss: 0.4393 - acc: 0.794 - ETA: 6s - loss: 0.4393 - acc: 0.794 - ETA: 6s - loss: 0.4394 - acc: 0.794 - ETA: 6s - loss: 0.4393 - acc: 0.794 - ETA: 6s - loss: 0.4393 - acc: 0.794 - ETA: 6s - loss: 0.4393 - acc: 0.794 - ETA: 6s - loss: 0.4392 - acc: 0.794 - ETA: 6s - loss: 0.4393 - acc: 0.794 - ETA: 6s - loss: 0.4393 - acc: 0.794 - ETA: 5s - loss: 0.4393 - acc: 0.794 - ETA: 5s - loss: 0.4392 - acc: 0.794 - ETA: 5s - loss: 0.4392 - acc: 0.794 - ETA: 5s - loss: 0.4392 - acc: 0.794 - ETA: 5s - loss: 0.4392 - acc: 0.794 - ETA: 5s - loss: 0.4393 - acc: 0.794 - ETA: 5s - loss: 0.4393 - acc: 0.794 - ETA: 5s - loss: 0.4392 - acc: 0.794 - ETA: 5s - loss: 0.4392 - acc: 0.794 - ETA: 5s - loss: 0.4392 - acc: 0.794 - ETA: 5s - loss: 0.4392 - acc: 0.794 - ETA: 5s - loss: 0.4392 - acc: 0.794 - ETA: 5s - loss: 0.4392 - acc: 0.794 - ETA: 5s - loss: 0.4393 - acc: 0.794 - ETA: 5s - loss: 0.4393 - acc: 0.794 - ETA: 5s - loss: 0.4392 - acc: 0.794 - ETA: 4s - loss: 0.4392 - acc: 0.794 - ETA: 4s - loss: 0.4392 - acc: 0.794 - ETA: 4s - loss: 0.4392 - acc: 0.794 - ETA: 4s - loss: 0.4392 - acc: 0.794 - ETA: 4s - loss: 0.4392 - acc: 0.794 - ETA: 4s - loss: 0.4392 - acc: 0.794 - ETA: 4s - loss: 0.4393 - acc: 0.794 - ETA: 4s - loss: 0.4392 - acc: 0.794 - ETA: 4s - loss: 0.4392 - acc: 0.794 - ETA: 4s - loss: 0.4392 - acc: 0.794 - ETA: 4s - loss: 0.4391 - acc: 0.794 - ETA: 4s - loss: 0.4391 - acc: 0.794 - ETA: 4s - loss: 0.4390 - acc: 0.794 - ETA: 4s - loss: 0.4390 - acc: 0.794 - ETA: 4s - loss: 0.4390 - acc: 0.794 - ETA: 3s - loss: 0.4390 - acc: 0.794 - ETA: 3s - loss: 0.4391 - acc: 0.794 - ETA: 3s - loss: 0.4390 - acc: 0.794 - ETA: 3s - loss: 0.4391 - acc: 0.794 - ETA: 3s - loss: 0.4391 - acc: 0.794 - ETA: 3s - loss: 0.4391 - acc: 0.794 - ETA: 3s - loss: 0.4391 - acc: 0.794 - ETA: 3s - loss: 0.4391 - acc: 0.794 - ETA: 3s - loss: 0.4392 - acc: 0.794 - ETA: 3s - loss: 0.4392 - acc: 0.794 - ETA: 3s - loss: 0.4391 - acc: 0.794 - ETA: 3s - loss: 0.4391 - acc: 0.794 - ETA: 3s - loss: 0.4391 - acc: 0.794 - ETA: 3s - loss: 0.4391 - acc: 0.794 - ETA: 3s - loss: 0.4391 - acc: 0.794 - ETA: 3s - loss: 0.4391 - acc: 0.794 - ETA: 3s - loss: 0.4392 - acc: 0.794 - ETA: 2s - loss: 0.4391 - acc: 0.794 - ETA: 2s - loss: 0.4391 - acc: 0.794 - ETA: 2s - loss: 0.4390 - acc: 0.794 - ETA: 2s - loss: 0.4390 - acc: 0.794 - ETA: 2s - loss: 0.4390 - acc: 0.794 - ETA: 2s - loss: 0.4390 - acc: 0.794 - ETA: 2s - loss: 0.4390 - acc: 0.794 - ETA: 2s - loss: 0.4390 - acc: 0.794 - ETA: 2s - loss: 0.4390 - acc: 0.794 - ETA: 2s - loss: 0.4391 - acc: 0.794 - ETA: 2s - loss: 0.4391 - acc: 0.794 - ETA: 2s - loss: 0.4391 - acc: 0.794 - ETA: 2s - loss: 0.4391 - acc: 0.794 - ETA: 2s - loss: 0.4391 - acc: 0.794 - ETA: 2s - loss: 0.4391 - acc: 0.794 - ETA: 2s - loss: 0.4392 - acc: 0.794 - ETA: 2s - loss: 0.4391 - acc: 0.794 - ETA: 1s - loss: 0.4392 - acc: 0.794 - ETA: 1s - loss: 0.4392 - acc: 0.794 - ETA: 1s - loss: 0.4392 - acc: 0.794 - ETA: 1s - loss: 0.4392 - acc: 0.794 - ETA: 1s - loss: 0.4392 - acc: 0.794 - ETA: 1s - loss: 0.4391 - acc: 0.794 - ETA: 1s - loss: 0.4392 - acc: 0.794 - ETA: 1s - loss: 0.4393 - acc: 0.794 - ETA: 1s - loss: 0.4393 - acc: 0.794 - ETA: 1s - loss: 0.4393 - acc: 0.794 - ETA: 1s - loss: 0.4393 - acc: 0.794 - ETA: 1s - loss: 0.4392 - acc: 0.794 - ETA: 1s - loss: 0.4392 - acc: 0.794 - ETA: 1s - loss: 0.4392 - acc: 0.794 - ETA: 1s - loss: 0.4392 - acc: 0.794 - ETA: 1s - loss: 0.4393 - acc: 0.794 - ETA: 1s - loss: 0.4393 - acc: 0.794 - ETA: 0s - loss: 0.4393 - acc: 0.794 - ETA: 0s - loss: 0.4393 - acc: 0.794 - ETA: 0s - loss: 0.4394 - acc: 0.794 - ETA: 0s - loss: 0.4393 - acc: 0.794 - ETA: 0s - loss: 0.4393 - acc: 0.794 - ETA: 0s - loss: 0.4393 - acc: 0.794 - ETA: 0s - loss: 0.4393 - acc: 0.794 - ETA: 0s - loss: 0.4393 - acc: 0.794 - ETA: 0s - loss: 0.4393 - acc: 0.794 - ETA: 0s - loss: 0.4393 - acc: 0.794 - ETA: 0s - loss: 0.4393 - acc: 0.794 - ETA: 0s - loss: 0.4394 - acc: 0.794 - ETA: 0s - loss: 0.4394 - acc: 0.794 - ETA: 0s - loss: 0.4394 - acc: 0.794 - ETA: 0s - loss: 0.4394 - acc: 0.794 - ETA: 0s - loss: 0.4394 - acc: 0.794 - ETA: 0s - loss: 0.4394 - acc: 0.794 - ETA: 0s - loss: 0.4394 - acc: 0.794 - ETA: 0s - loss: 0.4394 - acc: 0.794 - ETA: 0s - loss: 0.4394 - acc: 0.7942\n",
      "Epoch 00004: val_loss improved from 0.45891 to 0.45282, saving model to C:\\Users\\remoteuser\\tatk\\resources\\logs\\checkpoints\n",
      "2745/2745 [==============================] - 30s 11ms/step - loss: 0.4395 - acc: 0.7941 - val_loss: 0.4528 - val_acc: 0.8037\n",
      "Epoch 5/10\n"
     ]
    },
    {
     "name": "stdout",
     "output_type": "stream",
     "text": [
      "1512/2745 [===============>..............] - ETA: 24s - loss: 0.3750 - acc: 0.83 - ETA: 21s - loss: 0.4212 - acc: 0.80 - ETA: 20s - loss: 0.4316 - acc: 0.79 - ETA: 20s - loss: 0.4281 - acc: 0.79 - ETA: 20s - loss: 0.4316 - acc: 0.79 - ETA: 20s - loss: 0.4279 - acc: 0.79 - ETA: 20s - loss: 0.4292 - acc: 0.79 - ETA: 19s - loss: 0.4285 - acc: 0.79 - ETA: 19s - loss: 0.4310 - acc: 0.79 - ETA: 19s - loss: 0.4320 - acc: 0.79 - ETA: 19s - loss: 0.4320 - acc: 0.79 - ETA: 19s - loss: 0.4325 - acc: 0.79 - ETA: 19s - loss: 0.4340 - acc: 0.79 - ETA: 19s - loss: 0.4346 - acc: 0.79 - ETA: 19s - loss: 0.4365 - acc: 0.79 - ETA: 19s - loss: 0.4365 - acc: 0.79 - ETA: 19s - loss: 0.4363 - acc: 0.79 - ETA: 19s - loss: 0.4371 - acc: 0.79 - ETA: 19s - loss: 0.4374 - acc: 0.79 - ETA: 19s - loss: 0.4361 - acc: 0.79 - ETA: 19s - loss: 0.4358 - acc: 0.79 - ETA: 19s - loss: 0.4358 - acc: 0.79 - ETA: 19s - loss: 0.4352 - acc: 0.79 - ETA: 19s - loss: 0.4358 - acc: 0.79 - ETA: 19s - loss: 0.4355 - acc: 0.79 - ETA: 19s - loss: 0.4357 - acc: 0.79 - ETA: 19s - loss: 0.4356 - acc: 0.79 - ETA: 19s - loss: 0.4357 - acc: 0.79 - ETA: 18s - loss: 0.4354 - acc: 0.79 - ETA: 18s - loss: 0.4354 - acc: 0.79 - ETA: 18s - loss: 0.4347 - acc: 0.79 - ETA: 18s - loss: 0.4337 - acc: 0.79 - ETA: 18s - loss: 0.4337 - acc: 0.79 - ETA: 18s - loss: 0.4333 - acc: 0.79 - ETA: 18s - loss: 0.4335 - acc: 0.79 - ETA: 18s - loss: 0.4334 - acc: 0.79 - ETA: 18s - loss: 0.4338 - acc: 0.79 - ETA: 18s - loss: 0.4330 - acc: 0.79 - ETA: 18s - loss: 0.4332 - acc: 0.79 - ETA: 18s - loss: 0.4338 - acc: 0.79 - ETA: 18s - loss: 0.4335 - acc: 0.79 - ETA: 18s - loss: 0.4336 - acc: 0.79 - ETA: 18s - loss: 0.4343 - acc: 0.79 - ETA: 18s - loss: 0.4344 - acc: 0.79 - ETA: 18s - loss: 0.4342 - acc: 0.79 - ETA: 18s - loss: 0.4337 - acc: 0.79 - ETA: 17s - loss: 0.4340 - acc: 0.79 - ETA: 17s - loss: 0.4340 - acc: 0.79 - ETA: 17s - loss: 0.4341 - acc: 0.79 - ETA: 17s - loss: 0.4344 - acc: 0.79 - ETA: 17s - loss: 0.4342 - acc: 0.79 - ETA: 17s - loss: 0.4347 - acc: 0.79 - ETA: 17s - loss: 0.4350 - acc: 0.79 - ETA: 17s - loss: 0.4352 - acc: 0.79 - ETA: 17s - loss: 0.4356 - acc: 0.79 - ETA: 17s - loss: 0.4352 - acc: 0.79 - ETA: 17s - loss: 0.4350 - acc: 0.79 - ETA: 17s - loss: 0.4353 - acc: 0.79 - ETA: 17s - loss: 0.4355 - acc: 0.79 - ETA: 17s - loss: 0.4353 - acc: 0.79 - ETA: 17s - loss: 0.4351 - acc: 0.79 - ETA: 17s - loss: 0.4349 - acc: 0.79 - ETA: 17s - loss: 0.4348 - acc: 0.79 - ETA: 17s - loss: 0.4348 - acc: 0.79 - ETA: 17s - loss: 0.4348 - acc: 0.79 - ETA: 16s - loss: 0.4351 - acc: 0.79 - ETA: 16s - loss: 0.4353 - acc: 0.79 - ETA: 16s - loss: 0.4354 - acc: 0.79 - ETA: 16s - loss: 0.4354 - acc: 0.79 - ETA: 16s - loss: 0.4358 - acc: 0.79 - ETA: 16s - loss: 0.4358 - acc: 0.79 - ETA: 16s - loss: 0.4357 - acc: 0.79 - ETA: 16s - loss: 0.4356 - acc: 0.79 - ETA: 16s - loss: 0.4354 - acc: 0.79 - ETA: 16s - loss: 0.4353 - acc: 0.79 - ETA: 16s - loss: 0.4357 - acc: 0.79 - ETA: 16s - loss: 0.4354 - acc: 0.79 - ETA: 16s - loss: 0.4355 - acc: 0.79 - ETA: 16s - loss: 0.4354 - acc: 0.79 - ETA: 16s - loss: 0.4356 - acc: 0.79 - ETA: 16s - loss: 0.4357 - acc: 0.79 - ETA: 16s - loss: 0.4355 - acc: 0.79 - ETA: 16s - loss: 0.4355 - acc: 0.79 - ETA: 16s - loss: 0.4354 - acc: 0.79 - ETA: 15s - loss: 0.4352 - acc: 0.79 - ETA: 15s - loss: 0.4351 - acc: 0.79 - ETA: 15s - loss: 0.4351 - acc: 0.79 - ETA: 15s - loss: 0.4351 - acc: 0.79 - ETA: 15s - loss: 0.4351 - acc: 0.79 - ETA: 15s - loss: 0.4349 - acc: 0.79 - ETA: 15s - loss: 0.4348 - acc: 0.79 - ETA: 15s - loss: 0.4348 - acc: 0.79 - ETA: 15s - loss: 0.4347 - acc: 0.79 - ETA: 15s - loss: 0.4347 - acc: 0.79 - ETA: 15s - loss: 0.4345 - acc: 0.79 - ETA: 15s - loss: 0.4344 - acc: 0.79 - ETA: 15s - loss: 0.4343 - acc: 0.79 - ETA: 15s - loss: 0.4343 - acc: 0.79 - ETA: 15s - loss: 0.4343 - acc: 0.79 - ETA: 15s - loss: 0.4341 - acc: 0.79 - ETA: 15s - loss: 0.4340 - acc: 0.79 - ETA: 15s - loss: 0.4338 - acc: 0.79 - ETA: 15s - loss: 0.4339 - acc: 0.79 - ETA: 15s - loss: 0.4340 - acc: 0.79 - ETA: 15s - loss: 0.4341 - acc: 0.79 - ETA: 14s - loss: 0.4339 - acc: 0.79 - ETA: 14s - loss: 0.4339 - acc: 0.79 - ETA: 14s - loss: 0.4338 - acc: 0.79 - ETA: 14s - loss: 0.4338 - acc: 0.79 - ETA: 14s - loss: 0.4336 - acc: 0.79 - ETA: 14s - loss: 0.4336 - acc: 0.79 - ETA: 14s - loss: 0.4337 - acc: 0.79 - ETA: 14s - loss: 0.4337 - acc: 0.79 - ETA: 14s - loss: 0.4336 - acc: 0.79 - ETA: 14s - loss: 0.4337 - acc: 0.79 - ETA: 14s - loss: 0.4336 - acc: 0.79 - ETA: 14s - loss: 0.4335 - acc: 0.79 - ETA: 14s - loss: 0.4337 - acc: 0.79 - ETA: 14s - loss: 0.4338 - acc: 0.79 - ETA: 14s - loss: 0.4337 - acc: 0.79 - ETA: 14s - loss: 0.4337 - acc: 0.79 - ETA: 14s - loss: 0.4337 - acc: 0.79 - ETA: 14s - loss: 0.4338 - acc: 0.79 - ETA: 14s - loss: 0.4337 - acc: 0.79 - ETA: 13s - loss: 0.4339 - acc: 0.79 - ETA: 13s - loss: 0.4339 - acc: 0.79 - ETA: 13s - loss: 0.4338 - acc: 0.79 - ETA: 13s - loss: 0.4340 - acc: 0.79 - ETA: 13s - loss: 0.4341 - acc: 0.79 - ETA: 13s - loss: 0.4342 - acc: 0.79 - ETA: 13s - loss: 0.4342 - acc: 0.79 - ETA: 13s - loss: 0.4343 - acc: 0.79 - ETA: 13s - loss: 0.4344 - acc: 0.79 - ETA: 13s - loss: 0.4343 - acc: 0.79 - ETA: 13s - loss: 0.4343 - acc: 0.79 - ETA: 13s - loss: 0.4343 - acc: 0.79 - ETA: 13s - loss: 0.4343 - acc: 0.79 - ETA: 13s - loss: 0.4344 - acc: 0.79 - ETA: 13s - loss: 0.4343 - acc: 0.79 - ETA: 13s - loss: 0.4343 - acc: 0.79 - ETA: 13s - loss: 0.4342 - acc: 0.79 - ETA: 13s - loss: 0.4341 - acc: 0.79 - ETA: 13s - loss: 0.4343 - acc: 0.79 - ETA: 13s - loss: 0.4343 - acc: 0.79 - ETA: 13s - loss: 0.4344 - acc: 0.79 - ETA: 12s - loss: 0.4345 - acc: 0.79 - ETA: 12s - loss: 0.4345 - acc: 0.79 - ETA: 12s - loss: 0.4345 - acc: 0.79 - ETA: 12s - loss: 0.4346 - acc: 0.79 - ETA: 12s - loss: 0.4346 - acc: 0.79 - ETA: 12s - loss: 0.4347 - acc: 0.79 - ETA: 12s - loss: 0.4346 - acc: 0.79 - ETA: 12s - loss: 0.4347 - acc: 0.79 - ETA: 12s - loss: 0.4347 - acc: 0.79 - ETA: 12s - loss: 0.4348 - acc: 0.79 - ETA: 12s - loss: 0.4350 - acc: 0.79 - ETA: 12s - loss: 0.4350 - acc: 0.79 - ETA: 12s - loss: 0.4352 - acc: 0.79 - ETA: 12s - loss: 0.4351 - acc: 0.79 - ETA: 12s - loss: 0.4352 - acc: 0.79 - ETA: 12s - loss: 0.4351 - acc: 0.79 - ETA: 12s - loss: 0.4351 - acc: 0.79 - ETA: 12s - loss: 0.4351 - acc: 0.79 - ETA: 12s - loss: 0.4351 - acc: 0.79 - ETA: 12s - loss: 0.4351 - acc: 0.79 - ETA: 12s - loss: 0.4351 - acc: 0.79 - ETA: 12s - loss: 0.4350 - acc: 0.79 - ETA: 12s - loss: 0.4350 - acc: 0.79 - ETA: 11s - loss: 0.4351 - acc: 0.79 - ETA: 11s - loss: 0.4351 - acc: 0.79 - ETA: 11s - loss: 0.4351 - acc: 0.79 - ETA: 11s - loss: 0.4354 - acc: 0.79 - ETA: 11s - loss: 0.4354 - acc: 0.79 - ETA: 11s - loss: 0.4355 - acc: 0.79 - ETA: 11s - loss: 0.4355 - acc: 0.79 - ETA: 11s - loss: 0.4355 - acc: 0.79 - ETA: 11s - loss: 0.4353 - acc: 0.79 - ETA: 11s - loss: 0.4354 - acc: 0.79 - ETA: 11s - loss: 0.4355 - acc: 0.79 - ETA: 11s - loss: 0.4354 - acc: 0.79 - ETA: 11s - loss: 0.4354 - acc: 0.79 - ETA: 11s - loss: 0.4356 - acc: 0.79 - ETA: 11s - loss: 0.4356 - acc: 0.79 - ETA: 11s - loss: 0.4356 - acc: 0.79 - ETA: 11s - loss: 0.4357 - acc: 0.79 - ETA: 11s - loss: 0.4358 - acc: 0.79 - ETA: 10s - loss: 0.4358 - acc: 0.79 - ETA: 10s - loss: 0.4357 - acc: 0.79 - ETA: 10s - loss: 0.4357 - acc: 0.79 - ETA: 10s - loss: 0.4358 - acc: 0.79 - ETA: 10s - loss: 0.4358 - acc: 0.79 - ETA: 10s - loss: 0.4359 - acc: 0.79 - ETA: 10s - loss: 0.4359 - acc: 0.79 - ETA: 10s - loss: 0.4359 - acc: 0.79 - ETA: 10s - loss: 0.4360 - acc: 0.79 - ETA: 10s - loss: 0.4360 - acc: 0.79 - ETA: 10s - loss: 0.4360 - acc: 0.79 - ETA: 10s - loss: 0.4360 - acc: 0.79 - ETA: 10s - loss: 0.4361 - acc: 0.79 - ETA: 10s - loss: 0.4361 - acc: 0.79 - ETA: 10s - loss: 0.4360 - acc: 0.79 - ETA: 10s - loss: 0.4361 - acc: 0.79 - ETA: 10s - loss: 0.4361 - acc: 0.79 - ETA: 10s - loss: 0.4360 - acc: 0.79 - ETA: 9s - loss: 0.4360 - acc: 0.7960 - ETA: 9s - loss: 0.4361 - acc: 0.796 - ETA: 9s - loss: 0.4361 - acc: 0.796 - ETA: 9s - loss: 0.4361 - acc: 0.796 - ETA: 9s - loss: 0.4361 - acc: 0.796 - ETA: 9s - loss: 0.4361 - acc: 0.796 - ETA: 9s - loss: 0.4361 - acc: 0.796 - ETA: 9s - loss: 0.4362 - acc: 0.796 - ETA: 9s - loss: 0.4362 - acc: 0.795 - ETA: 9s - loss: 0.4362 - acc: 0.796 - ETA: 9s - loss: 0.4361 - acc: 0.7960"
     ]
    },
    {
     "name": "stdout",
     "output_type": "stream",
     "text": [
      "2739/2745 [============================>.] - ETA: 9s - loss: 0.4361 - acc: 0.796 - ETA: 9s - loss: 0.4361 - acc: 0.796 - ETA: 9s - loss: 0.4362 - acc: 0.796 - ETA: 9s - loss: 0.4363 - acc: 0.796 - ETA: 9s - loss: 0.4363 - acc: 0.795 - ETA: 9s - loss: 0.4363 - acc: 0.795 - ETA: 9s - loss: 0.4362 - acc: 0.796 - ETA: 8s - loss: 0.4363 - acc: 0.795 - ETA: 8s - loss: 0.4363 - acc: 0.795 - ETA: 8s - loss: 0.4364 - acc: 0.795 - ETA: 8s - loss: 0.4364 - acc: 0.795 - ETA: 8s - loss: 0.4364 - acc: 0.795 - ETA: 8s - loss: 0.4364 - acc: 0.795 - ETA: 8s - loss: 0.4364 - acc: 0.795 - ETA: 8s - loss: 0.4364 - acc: 0.795 - ETA: 8s - loss: 0.4363 - acc: 0.795 - ETA: 8s - loss: 0.4363 - acc: 0.795 - ETA: 8s - loss: 0.4364 - acc: 0.795 - ETA: 8s - loss: 0.4364 - acc: 0.795 - ETA: 8s - loss: 0.4364 - acc: 0.795 - ETA: 8s - loss: 0.4364 - acc: 0.795 - ETA: 8s - loss: 0.4364 - acc: 0.795 - ETA: 8s - loss: 0.4364 - acc: 0.795 - ETA: 7s - loss: 0.4365 - acc: 0.795 - ETA: 7s - loss: 0.4364 - acc: 0.795 - ETA: 7s - loss: 0.4364 - acc: 0.795 - ETA: 7s - loss: 0.4364 - acc: 0.795 - ETA: 7s - loss: 0.4364 - acc: 0.795 - ETA: 7s - loss: 0.4364 - acc: 0.795 - ETA: 7s - loss: 0.4363 - acc: 0.795 - ETA: 7s - loss: 0.4362 - acc: 0.796 - ETA: 7s - loss: 0.4362 - acc: 0.796 - ETA: 7s - loss: 0.4363 - acc: 0.795 - ETA: 7s - loss: 0.4363 - acc: 0.795 - ETA: 7s - loss: 0.4363 - acc: 0.795 - ETA: 7s - loss: 0.4364 - acc: 0.795 - ETA: 7s - loss: 0.4364 - acc: 0.795 - ETA: 7s - loss: 0.4364 - acc: 0.795 - ETA: 7s - loss: 0.4365 - acc: 0.795 - ETA: 7s - loss: 0.4366 - acc: 0.795 - ETA: 7s - loss: 0.4366 - acc: 0.795 - ETA: 7s - loss: 0.4366 - acc: 0.795 - ETA: 6s - loss: 0.4365 - acc: 0.795 - ETA: 6s - loss: 0.4366 - acc: 0.795 - ETA: 6s - loss: 0.4366 - acc: 0.795 - ETA: 6s - loss: 0.4366 - acc: 0.795 - ETA: 6s - loss: 0.4366 - acc: 0.795 - ETA: 6s - loss: 0.4366 - acc: 0.795 - ETA: 6s - loss: 0.4366 - acc: 0.795 - ETA: 6s - loss: 0.4367 - acc: 0.795 - ETA: 6s - loss: 0.4366 - acc: 0.795 - ETA: 6s - loss: 0.4367 - acc: 0.795 - ETA: 6s - loss: 0.4366 - acc: 0.795 - ETA: 6s - loss: 0.4366 - acc: 0.795 - ETA: 6s - loss: 0.4367 - acc: 0.795 - ETA: 6s - loss: 0.4367 - acc: 0.795 - ETA: 6s - loss: 0.4367 - acc: 0.795 - ETA: 6s - loss: 0.4366 - acc: 0.795 - ETA: 6s - loss: 0.4366 - acc: 0.795 - ETA: 6s - loss: 0.4367 - acc: 0.795 - ETA: 5s - loss: 0.4367 - acc: 0.795 - ETA: 5s - loss: 0.4367 - acc: 0.795 - ETA: 5s - loss: 0.4366 - acc: 0.795 - ETA: 5s - loss: 0.4367 - acc: 0.795 - ETA: 5s - loss: 0.4367 - acc: 0.795 - ETA: 5s - loss: 0.4366 - acc: 0.795 - ETA: 5s - loss: 0.4366 - acc: 0.795 - ETA: 5s - loss: 0.4367 - acc: 0.795 - ETA: 5s - loss: 0.4366 - acc: 0.795 - ETA: 5s - loss: 0.4367 - acc: 0.795 - ETA: 5s - loss: 0.4367 - acc: 0.795 - ETA: 5s - loss: 0.4367 - acc: 0.795 - ETA: 5s - loss: 0.4367 - acc: 0.795 - ETA: 5s - loss: 0.4367 - acc: 0.795 - ETA: 5s - loss: 0.4368 - acc: 0.795 - ETA: 5s - loss: 0.4368 - acc: 0.795 - ETA: 5s - loss: 0.4369 - acc: 0.795 - ETA: 5s - loss: 0.4368 - acc: 0.795 - ETA: 4s - loss: 0.4368 - acc: 0.795 - ETA: 4s - loss: 0.4369 - acc: 0.795 - ETA: 4s - loss: 0.4370 - acc: 0.795 - ETA: 4s - loss: 0.4370 - acc: 0.795 - ETA: 4s - loss: 0.4370 - acc: 0.795 - ETA: 4s - loss: 0.4370 - acc: 0.795 - ETA: 4s - loss: 0.4371 - acc: 0.795 - ETA: 4s - loss: 0.4370 - acc: 0.795 - ETA: 4s - loss: 0.4370 - acc: 0.795 - ETA: 4s - loss: 0.4370 - acc: 0.795 - ETA: 4s - loss: 0.4369 - acc: 0.795 - ETA: 4s - loss: 0.4369 - acc: 0.795 - ETA: 4s - loss: 0.4368 - acc: 0.795 - ETA: 4s - loss: 0.4368 - acc: 0.795 - ETA: 4s - loss: 0.4368 - acc: 0.795 - ETA: 4s - loss: 0.4368 - acc: 0.795 - ETA: 4s - loss: 0.4368 - acc: 0.795 - ETA: 4s - loss: 0.4367 - acc: 0.795 - ETA: 3s - loss: 0.4367 - acc: 0.795 - ETA: 3s - loss: 0.4367 - acc: 0.795 - ETA: 3s - loss: 0.4366 - acc: 0.795 - ETA: 3s - loss: 0.4366 - acc: 0.795 - ETA: 3s - loss: 0.4365 - acc: 0.795 - ETA: 3s - loss: 0.4365 - acc: 0.795 - ETA: 3s - loss: 0.4364 - acc: 0.795 - ETA: 3s - loss: 0.4364 - acc: 0.795 - ETA: 3s - loss: 0.4364 - acc: 0.795 - ETA: 3s - loss: 0.4364 - acc: 0.795 - ETA: 3s - loss: 0.4365 - acc: 0.795 - ETA: 3s - loss: 0.4364 - acc: 0.795 - ETA: 3s - loss: 0.4364 - acc: 0.795 - ETA: 3s - loss: 0.4364 - acc: 0.795 - ETA: 3s - loss: 0.4364 - acc: 0.795 - ETA: 3s - loss: 0.4363 - acc: 0.795 - ETA: 3s - loss: 0.4363 - acc: 0.795 - ETA: 3s - loss: 0.4363 - acc: 0.795 - ETA: 2s - loss: 0.4364 - acc: 0.795 - ETA: 2s - loss: 0.4364 - acc: 0.795 - ETA: 2s - loss: 0.4364 - acc: 0.795 - ETA: 2s - loss: 0.4364 - acc: 0.795 - ETA: 2s - loss: 0.4364 - acc: 0.795 - ETA: 2s - loss: 0.4363 - acc: 0.795 - ETA: 2s - loss: 0.4363 - acc: 0.795 - ETA: 2s - loss: 0.4363 - acc: 0.795 - ETA: 2s - loss: 0.4363 - acc: 0.795 - ETA: 2s - loss: 0.4362 - acc: 0.795 - ETA: 2s - loss: 0.4362 - acc: 0.795 - ETA: 2s - loss: 0.4361 - acc: 0.795 - ETA: 2s - loss: 0.4362 - acc: 0.795 - ETA: 2s - loss: 0.4362 - acc: 0.795 - ETA: 2s - loss: 0.4362 - acc: 0.795 - ETA: 2s - loss: 0.4363 - acc: 0.795 - ETA: 2s - loss: 0.4363 - acc: 0.795 - ETA: 2s - loss: 0.4364 - acc: 0.795 - ETA: 1s - loss: 0.4363 - acc: 0.795 - ETA: 1s - loss: 0.4363 - acc: 0.795 - ETA: 1s - loss: 0.4363 - acc: 0.795 - ETA: 1s - loss: 0.4363 - acc: 0.795 - ETA: 1s - loss: 0.4363 - acc: 0.795 - ETA: 1s - loss: 0.4364 - acc: 0.795 - ETA: 1s - loss: 0.4364 - acc: 0.795 - ETA: 1s - loss: 0.4364 - acc: 0.795 - ETA: 1s - loss: 0.4364 - acc: 0.795 - ETA: 1s - loss: 0.4364 - acc: 0.795 - ETA: 1s - loss: 0.4364 - acc: 0.795 - ETA: 1s - loss: 0.4364 - acc: 0.795 - ETA: 1s - loss: 0.4364 - acc: 0.795 - ETA: 1s - loss: 0.4364 - acc: 0.795 - ETA: 1s - loss: 0.4364 - acc: 0.795 - ETA: 1s - loss: 0.4364 - acc: 0.795 - ETA: 1s - loss: 0.4364 - acc: 0.795 - ETA: 1s - loss: 0.4364 - acc: 0.795 - ETA: 1s - loss: 0.4364 - acc: 0.795 - ETA: 0s - loss: 0.4365 - acc: 0.795 - ETA: 0s - loss: 0.4365 - acc: 0.795 - ETA: 0s - loss: 0.4365 - acc: 0.795 - ETA: 0s - loss: 0.4365 - acc: 0.795 - ETA: 0s - loss: 0.4365 - acc: 0.795 - ETA: 0s - loss: 0.4365 - acc: 0.795 - ETA: 0s - loss: 0.4365 - acc: 0.795 - ETA: 0s - loss: 0.4365 - acc: 0.795 - ETA: 0s - loss: 0.4365 - acc: 0.795 - ETA: 0s - loss: 0.4365 - acc: 0.795 - ETA: 0s - loss: 0.4365 - acc: 0.795 - ETA: 0s - loss: 0.4365 - acc: 0.795 - ETA: 0s - loss: 0.4365 - acc: 0.795 - ETA: 0s - loss: 0.4365 - acc: 0.795 - ETA: 0s - loss: 0.4364 - acc: 0.795 - ETA: 0s - loss: 0.4364 - acc: 0.795 - ETA: 0s - loss: 0.4365 - acc: 0.795 - ETA: 0s - loss: 0.4364 - acc: 0.795 - ETA: 0s - loss: 0.4364 - acc: 0.795 - ETA: 0s - loss: 0.4364 - acc: 0.795 - ETA: 0s - loss: 0.4364 - acc: 0.7957\n",
      "Epoch 00005: val_loss improved from 0.45282 to 0.44892, saving model to C:\\Users\\remoteuser\\tatk\\resources\\logs\\checkpoints\n",
      "2745/2745 [==============================] - 26s 10ms/step - loss: 0.4364 - acc: 0.7957 - val_loss: 0.4489 - val_acc: 0.8055\n",
      "Epoch 6/10\n"
     ]
    },
    {
     "name": "stdout",
     "output_type": "stream",
     "text": [
      "1480/2745 [===============>..............] - ETA: 19s - loss: 0.4566 - acc: 0.80 - ETA: 22s - loss: 0.4282 - acc: 0.80 - ETA: 21s - loss: 0.4281 - acc: 0.80 - ETA: 20s - loss: 0.4285 - acc: 0.80 - ETA: 21s - loss: 0.4226 - acc: 0.80 - ETA: 21s - loss: 0.4255 - acc: 0.80 - ETA: 21s - loss: 0.4272 - acc: 0.80 - ETA: 21s - loss: 0.4256 - acc: 0.80 - ETA: 21s - loss: 0.4236 - acc: 0.80 - ETA: 21s - loss: 0.4278 - acc: 0.80 - ETA: 21s - loss: 0.4246 - acc: 0.80 - ETA: 21s - loss: 0.4254 - acc: 0.80 - ETA: 21s - loss: 0.4255 - acc: 0.80 - ETA: 21s - loss: 0.4246 - acc: 0.80 - ETA: 21s - loss: 0.4255 - acc: 0.80 - ETA: 21s - loss: 0.4260 - acc: 0.80 - ETA: 21s - loss: 0.4263 - acc: 0.80 - ETA: 21s - loss: 0.4273 - acc: 0.80 - ETA: 21s - loss: 0.4292 - acc: 0.79 - ETA: 20s - loss: 0.4293 - acc: 0.79 - ETA: 20s - loss: 0.4290 - acc: 0.79 - ETA: 20s - loss: 0.4282 - acc: 0.79 - ETA: 20s - loss: 0.4274 - acc: 0.80 - ETA: 20s - loss: 0.4276 - acc: 0.79 - ETA: 20s - loss: 0.4282 - acc: 0.79 - ETA: 20s - loss: 0.4284 - acc: 0.79 - ETA: 20s - loss: 0.4281 - acc: 0.79 - ETA: 20s - loss: 0.4280 - acc: 0.79 - ETA: 20s - loss: 0.4281 - acc: 0.79 - ETA: 20s - loss: 0.4277 - acc: 0.79 - ETA: 20s - loss: 0.4281 - acc: 0.80 - ETA: 20s - loss: 0.4286 - acc: 0.80 - ETA: 20s - loss: 0.4284 - acc: 0.80 - ETA: 20s - loss: 0.4277 - acc: 0.80 - ETA: 19s - loss: 0.4275 - acc: 0.80 - ETA: 19s - loss: 0.4268 - acc: 0.80 - ETA: 19s - loss: 0.4273 - acc: 0.80 - ETA: 19s - loss: 0.4274 - acc: 0.80 - ETA: 19s - loss: 0.4276 - acc: 0.80 - ETA: 19s - loss: 0.4269 - acc: 0.80 - ETA: 19s - loss: 0.4273 - acc: 0.80 - ETA: 19s - loss: 0.4274 - acc: 0.80 - ETA: 19s - loss: 0.4278 - acc: 0.80 - ETA: 19s - loss: 0.4279 - acc: 0.80 - ETA: 19s - loss: 0.4277 - acc: 0.80 - ETA: 19s - loss: 0.4283 - acc: 0.80 - ETA: 19s - loss: 0.4281 - acc: 0.80 - ETA: 19s - loss: 0.4281 - acc: 0.80 - ETA: 19s - loss: 0.4287 - acc: 0.80 - ETA: 18s - loss: 0.4285 - acc: 0.80 - ETA: 18s - loss: 0.4282 - acc: 0.80 - ETA: 18s - loss: 0.4279 - acc: 0.80 - ETA: 18s - loss: 0.4283 - acc: 0.80 - ETA: 18s - loss: 0.4285 - acc: 0.80 - ETA: 18s - loss: 0.4289 - acc: 0.80 - ETA: 18s - loss: 0.4286 - acc: 0.80 - ETA: 18s - loss: 0.4287 - acc: 0.80 - ETA: 18s - loss: 0.4286 - acc: 0.80 - ETA: 18s - loss: 0.4285 - acc: 0.80 - ETA: 18s - loss: 0.4290 - acc: 0.80 - ETA: 18s - loss: 0.4290 - acc: 0.80 - ETA: 18s - loss: 0.4290 - acc: 0.80 - ETA: 18s - loss: 0.4294 - acc: 0.79 - ETA: 18s - loss: 0.4297 - acc: 0.79 - ETA: 18s - loss: 0.4298 - acc: 0.79 - ETA: 18s - loss: 0.4299 - acc: 0.79 - ETA: 18s - loss: 0.4302 - acc: 0.79 - ETA: 18s - loss: 0.4304 - acc: 0.79 - ETA: 18s - loss: 0.4303 - acc: 0.79 - ETA: 17s - loss: 0.4304 - acc: 0.79 - ETA: 17s - loss: 0.4301 - acc: 0.79 - ETA: 17s - loss: 0.4304 - acc: 0.79 - ETA: 17s - loss: 0.4306 - acc: 0.79 - ETA: 17s - loss: 0.4308 - acc: 0.79 - ETA: 17s - loss: 0.4312 - acc: 0.79 - ETA: 17s - loss: 0.4313 - acc: 0.79 - ETA: 17s - loss: 0.4312 - acc: 0.79 - ETA: 17s - loss: 0.4314 - acc: 0.79 - ETA: 17s - loss: 0.4315 - acc: 0.79 - ETA: 17s - loss: 0.4317 - acc: 0.79 - ETA: 17s - loss: 0.4317 - acc: 0.79 - ETA: 17s - loss: 0.4318 - acc: 0.79 - ETA: 17s - loss: 0.4319 - acc: 0.79 - ETA: 17s - loss: 0.4319 - acc: 0.79 - ETA: 17s - loss: 0.4317 - acc: 0.79 - ETA: 17s - loss: 0.4318 - acc: 0.79 - ETA: 17s - loss: 0.4317 - acc: 0.79 - ETA: 17s - loss: 0.4316 - acc: 0.79 - ETA: 17s - loss: 0.4316 - acc: 0.79 - ETA: 17s - loss: 0.4318 - acc: 0.79 - ETA: 16s - loss: 0.4319 - acc: 0.79 - ETA: 16s - loss: 0.4321 - acc: 0.79 - ETA: 16s - loss: 0.4320 - acc: 0.79 - ETA: 16s - loss: 0.4319 - acc: 0.79 - ETA: 16s - loss: 0.4320 - acc: 0.79 - ETA: 16s - loss: 0.4322 - acc: 0.79 - ETA: 16s - loss: 0.4324 - acc: 0.79 - ETA: 16s - loss: 0.4324 - acc: 0.79 - ETA: 16s - loss: 0.4325 - acc: 0.79 - ETA: 16s - loss: 0.4327 - acc: 0.79 - ETA: 16s - loss: 0.4327 - acc: 0.79 - ETA: 16s - loss: 0.4328 - acc: 0.79 - ETA: 16s - loss: 0.4327 - acc: 0.79 - ETA: 16s - loss: 0.4327 - acc: 0.79 - ETA: 16s - loss: 0.4328 - acc: 0.79 - ETA: 16s - loss: 0.4327 - acc: 0.79 - ETA: 16s - loss: 0.4327 - acc: 0.79 - ETA: 16s - loss: 0.4327 - acc: 0.79 - ETA: 16s - loss: 0.4324 - acc: 0.79 - ETA: 16s - loss: 0.4324 - acc: 0.79 - ETA: 16s - loss: 0.4327 - acc: 0.79 - ETA: 16s - loss: 0.4328 - acc: 0.79 - ETA: 15s - loss: 0.4329 - acc: 0.79 - ETA: 15s - loss: 0.4328 - acc: 0.79 - ETA: 15s - loss: 0.4329 - acc: 0.79 - ETA: 15s - loss: 0.4328 - acc: 0.79 - ETA: 15s - loss: 0.4328 - acc: 0.79 - ETA: 15s - loss: 0.4328 - acc: 0.79 - ETA: 15s - loss: 0.4328 - acc: 0.79 - ETA: 15s - loss: 0.4326 - acc: 0.79 - ETA: 15s - loss: 0.4326 - acc: 0.79 - ETA: 15s - loss: 0.4326 - acc: 0.79 - ETA: 15s - loss: 0.4328 - acc: 0.79 - ETA: 15s - loss: 0.4329 - acc: 0.79 - ETA: 15s - loss: 0.4329 - acc: 0.79 - ETA: 15s - loss: 0.4327 - acc: 0.79 - ETA: 15s - loss: 0.4326 - acc: 0.79 - ETA: 14s - loss: 0.4326 - acc: 0.79 - ETA: 14s - loss: 0.4325 - acc: 0.79 - ETA: 14s - loss: 0.4324 - acc: 0.79 - ETA: 14s - loss: 0.4324 - acc: 0.79 - ETA: 14s - loss: 0.4322 - acc: 0.79 - ETA: 14s - loss: 0.4321 - acc: 0.79 - ETA: 14s - loss: 0.4320 - acc: 0.79 - ETA: 14s - loss: 0.4320 - acc: 0.79 - ETA: 14s - loss: 0.4321 - acc: 0.79 - ETA: 14s - loss: 0.4320 - acc: 0.79 - ETA: 14s - loss: 0.4320 - acc: 0.79 - ETA: 14s - loss: 0.4320 - acc: 0.79 - ETA: 14s - loss: 0.4320 - acc: 0.79 - ETA: 14s - loss: 0.4319 - acc: 0.79 - ETA: 14s - loss: 0.4320 - acc: 0.79 - ETA: 14s - loss: 0.4320 - acc: 0.79 - ETA: 14s - loss: 0.4321 - acc: 0.79 - ETA: 13s - loss: 0.4321 - acc: 0.79 - ETA: 13s - loss: 0.4321 - acc: 0.79 - ETA: 13s - loss: 0.4321 - acc: 0.79 - ETA: 13s - loss: 0.4322 - acc: 0.79 - ETA: 13s - loss: 0.4321 - acc: 0.79 - ETA: 13s - loss: 0.4323 - acc: 0.79 - ETA: 13s - loss: 0.4323 - acc: 0.79 - ETA: 13s - loss: 0.4324 - acc: 0.79 - ETA: 13s - loss: 0.4324 - acc: 0.79 - ETA: 13s - loss: 0.4325 - acc: 0.79 - ETA: 13s - loss: 0.4325 - acc: 0.79 - ETA: 13s - loss: 0.4326 - acc: 0.79 - ETA: 13s - loss: 0.4327 - acc: 0.79 - ETA: 13s - loss: 0.4327 - acc: 0.79 - ETA: 13s - loss: 0.4325 - acc: 0.79 - ETA: 13s - loss: 0.4327 - acc: 0.79 - ETA: 13s - loss: 0.4326 - acc: 0.79 - ETA: 13s - loss: 0.4327 - acc: 0.79 - ETA: 12s - loss: 0.4328 - acc: 0.79 - ETA: 12s - loss: 0.4327 - acc: 0.79 - ETA: 12s - loss: 0.4328 - acc: 0.79 - ETA: 12s - loss: 0.4326 - acc: 0.79 - ETA: 12s - loss: 0.4327 - acc: 0.79 - ETA: 12s - loss: 0.4329 - acc: 0.79 - ETA: 12s - loss: 0.4329 - acc: 0.79 - ETA: 12s - loss: 0.4329 - acc: 0.79 - ETA: 12s - loss: 0.4331 - acc: 0.79 - ETA: 12s - loss: 0.4332 - acc: 0.79 - ETA: 12s - loss: 0.4332 - acc: 0.79 - ETA: 12s - loss: 0.4331 - acc: 0.79 - ETA: 12s - loss: 0.4331 - acc: 0.79 - ETA: 12s - loss: 0.4329 - acc: 0.79 - ETA: 12s - loss: 0.4331 - acc: 0.79 - ETA: 12s - loss: 0.4331 - acc: 0.79 - ETA: 12s - loss: 0.4332 - acc: 0.79 - ETA: 11s - loss: 0.4331 - acc: 0.79 - ETA: 11s - loss: 0.4331 - acc: 0.79 - ETA: 11s - loss: 0.4330 - acc: 0.79 - ETA: 11s - loss: 0.4330 - acc: 0.79 - ETA: 11s - loss: 0.4329 - acc: 0.79 - ETA: 11s - loss: 0.4329 - acc: 0.79 - ETA: 11s - loss: 0.4329 - acc: 0.79 - ETA: 11s - loss: 0.4330 - acc: 0.79 - ETA: 11s - loss: 0.4330 - acc: 0.79 - ETA: 11s - loss: 0.4329 - acc: 0.79 - ETA: 11s - loss: 0.4328 - acc: 0.79 - ETA: 11s - loss: 0.4327 - acc: 0.79 - ETA: 11s - loss: 0.4329 - acc: 0.79 - ETA: 11s - loss: 0.4327 - acc: 0.79 - ETA: 11s - loss: 0.4327 - acc: 0.79 - ETA: 10s - loss: 0.4326 - acc: 0.79 - ETA: 10s - loss: 0.4327 - acc: 0.79 - ETA: 10s - loss: 0.4326 - acc: 0.79 - ETA: 10s - loss: 0.4326 - acc: 0.79 - ETA: 10s - loss: 0.4327 - acc: 0.79 - ETA: 10s - loss: 0.4329 - acc: 0.79 - ETA: 10s - loss: 0.4329 - acc: 0.79 - ETA: 10s - loss: 0.4330 - acc: 0.79 - ETA: 10s - loss: 0.4329 - acc: 0.79 - ETA: 10s - loss: 0.4329 - acc: 0.79 - ETA: 10s - loss: 0.4330 - acc: 0.79 - ETA: 10s - loss: 0.4330 - acc: 0.79 - ETA: 10s - loss: 0.4330 - acc: 0.79 - ETA: 10s - loss: 0.4329 - acc: 0.79 - ETA: 10s - loss: 0.4329 - acc: 0.79 - ETA: 10s - loss: 0.4329 - acc: 0.79 - ETA: 10s - loss: 0.4329 - acc: 0.79 - ETA: 10s - loss: 0.4329 - acc: 0.79 - ETA: 9s - loss: 0.4329 - acc: 0.7979 - ETA: 9s - loss: 0.4330 - acc: 0.797 - ETA: 9s - loss: 0.4330 - acc: 0.7978"
     ]
    },
    {
     "name": "stdout",
     "output_type": "stream",
     "text": [
      "2739/2745 [============================>.] - ETA: 9s - loss: 0.4330 - acc: 0.797 - ETA: 9s - loss: 0.4330 - acc: 0.797 - ETA: 9s - loss: 0.4330 - acc: 0.797 - ETA: 9s - loss: 0.4330 - acc: 0.797 - ETA: 9s - loss: 0.4329 - acc: 0.797 - ETA: 9s - loss: 0.4330 - acc: 0.797 - ETA: 9s - loss: 0.4329 - acc: 0.798 - ETA: 9s - loss: 0.4329 - acc: 0.798 - ETA: 9s - loss: 0.4329 - acc: 0.798 - ETA: 9s - loss: 0.4330 - acc: 0.798 - ETA: 9s - loss: 0.4330 - acc: 0.797 - ETA: 9s - loss: 0.4330 - acc: 0.798 - ETA: 9s - loss: 0.4330 - acc: 0.798 - ETA: 9s - loss: 0.4331 - acc: 0.797 - ETA: 9s - loss: 0.4331 - acc: 0.798 - ETA: 8s - loss: 0.4331 - acc: 0.797 - ETA: 8s - loss: 0.4331 - acc: 0.798 - ETA: 8s - loss: 0.4332 - acc: 0.797 - ETA: 8s - loss: 0.4331 - acc: 0.798 - ETA: 8s - loss: 0.4330 - acc: 0.798 - ETA: 8s - loss: 0.4331 - acc: 0.798 - ETA: 8s - loss: 0.4331 - acc: 0.798 - ETA: 8s - loss: 0.4331 - acc: 0.798 - ETA: 8s - loss: 0.4331 - acc: 0.798 - ETA: 8s - loss: 0.4331 - acc: 0.798 - ETA: 8s - loss: 0.4332 - acc: 0.797 - ETA: 8s - loss: 0.4332 - acc: 0.797 - ETA: 8s - loss: 0.4332 - acc: 0.798 - ETA: 8s - loss: 0.4333 - acc: 0.797 - ETA: 8s - loss: 0.4332 - acc: 0.798 - ETA: 8s - loss: 0.4332 - acc: 0.798 - ETA: 8s - loss: 0.4331 - acc: 0.798 - ETA: 7s - loss: 0.4331 - acc: 0.798 - ETA: 7s - loss: 0.4332 - acc: 0.797 - ETA: 7s - loss: 0.4332 - acc: 0.797 - ETA: 7s - loss: 0.4332 - acc: 0.797 - ETA: 7s - loss: 0.4332 - acc: 0.797 - ETA: 7s - loss: 0.4333 - acc: 0.797 - ETA: 7s - loss: 0.4334 - acc: 0.797 - ETA: 7s - loss: 0.4334 - acc: 0.797 - ETA: 7s - loss: 0.4334 - acc: 0.797 - ETA: 7s - loss: 0.4334 - acc: 0.797 - ETA: 7s - loss: 0.4335 - acc: 0.797 - ETA: 7s - loss: 0.4334 - acc: 0.797 - ETA: 7s - loss: 0.4334 - acc: 0.797 - ETA: 7s - loss: 0.4335 - acc: 0.797 - ETA: 7s - loss: 0.4335 - acc: 0.797 - ETA: 7s - loss: 0.4334 - acc: 0.797 - ETA: 7s - loss: 0.4334 - acc: 0.797 - ETA: 6s - loss: 0.4336 - acc: 0.797 - ETA: 6s - loss: 0.4336 - acc: 0.797 - ETA: 6s - loss: 0.4337 - acc: 0.797 - ETA: 6s - loss: 0.4337 - acc: 0.797 - ETA: 6s - loss: 0.4337 - acc: 0.797 - ETA: 6s - loss: 0.4337 - acc: 0.797 - ETA: 6s - loss: 0.4337 - acc: 0.797 - ETA: 6s - loss: 0.4337 - acc: 0.797 - ETA: 6s - loss: 0.4336 - acc: 0.797 - ETA: 6s - loss: 0.4336 - acc: 0.797 - ETA: 6s - loss: 0.4337 - acc: 0.797 - ETA: 6s - loss: 0.4337 - acc: 0.797 - ETA: 6s - loss: 0.4337 - acc: 0.797 - ETA: 6s - loss: 0.4337 - acc: 0.797 - ETA: 6s - loss: 0.4337 - acc: 0.797 - ETA: 6s - loss: 0.4336 - acc: 0.797 - ETA: 6s - loss: 0.4337 - acc: 0.797 - ETA: 6s - loss: 0.4338 - acc: 0.797 - ETA: 5s - loss: 0.4337 - acc: 0.797 - ETA: 5s - loss: 0.4338 - acc: 0.797 - ETA: 5s - loss: 0.4338 - acc: 0.797 - ETA: 5s - loss: 0.4337 - acc: 0.797 - ETA: 5s - loss: 0.4337 - acc: 0.797 - ETA: 5s - loss: 0.4337 - acc: 0.797 - ETA: 5s - loss: 0.4337 - acc: 0.797 - ETA: 5s - loss: 0.4337 - acc: 0.797 - ETA: 5s - loss: 0.4338 - acc: 0.797 - ETA: 5s - loss: 0.4337 - acc: 0.797 - ETA: 5s - loss: 0.4337 - acc: 0.797 - ETA: 5s - loss: 0.4337 - acc: 0.797 - ETA: 5s - loss: 0.4337 - acc: 0.797 - ETA: 5s - loss: 0.4337 - acc: 0.797 - ETA: 5s - loss: 0.4337 - acc: 0.797 - ETA: 5s - loss: 0.4337 - acc: 0.797 - ETA: 5s - loss: 0.4337 - acc: 0.797 - ETA: 4s - loss: 0.4337 - acc: 0.797 - ETA: 4s - loss: 0.4338 - acc: 0.797 - ETA: 4s - loss: 0.4338 - acc: 0.797 - ETA: 4s - loss: 0.4338 - acc: 0.797 - ETA: 4s - loss: 0.4338 - acc: 0.797 - ETA: 4s - loss: 0.4338 - acc: 0.797 - ETA: 4s - loss: 0.4338 - acc: 0.797 - ETA: 4s - loss: 0.4338 - acc: 0.797 - ETA: 4s - loss: 0.4338 - acc: 0.797 - ETA: 4s - loss: 0.4339 - acc: 0.797 - ETA: 4s - loss: 0.4339 - acc: 0.797 - ETA: 4s - loss: 0.4339 - acc: 0.797 - ETA: 4s - loss: 0.4339 - acc: 0.797 - ETA: 4s - loss: 0.4339 - acc: 0.797 - ETA: 4s - loss: 0.4340 - acc: 0.797 - ETA: 4s - loss: 0.4340 - acc: 0.797 - ETA: 4s - loss: 0.4340 - acc: 0.797 - ETA: 4s - loss: 0.4339 - acc: 0.797 - ETA: 3s - loss: 0.4340 - acc: 0.797 - ETA: 3s - loss: 0.4340 - acc: 0.797 - ETA: 3s - loss: 0.4340 - acc: 0.797 - ETA: 3s - loss: 0.4340 - acc: 0.797 - ETA: 3s - loss: 0.4340 - acc: 0.797 - ETA: 3s - loss: 0.4339 - acc: 0.797 - ETA: 3s - loss: 0.4340 - acc: 0.797 - ETA: 3s - loss: 0.4339 - acc: 0.797 - ETA: 3s - loss: 0.4339 - acc: 0.797 - ETA: 3s - loss: 0.4340 - acc: 0.797 - ETA: 3s - loss: 0.4339 - acc: 0.797 - ETA: 3s - loss: 0.4339 - acc: 0.797 - ETA: 3s - loss: 0.4339 - acc: 0.797 - ETA: 3s - loss: 0.4339 - acc: 0.797 - ETA: 3s - loss: 0.4339 - acc: 0.797 - ETA: 3s - loss: 0.4340 - acc: 0.797 - ETA: 3s - loss: 0.4340 - acc: 0.797 - ETA: 3s - loss: 0.4340 - acc: 0.797 - ETA: 2s - loss: 0.4340 - acc: 0.797 - ETA: 2s - loss: 0.4340 - acc: 0.797 - ETA: 2s - loss: 0.4339 - acc: 0.797 - ETA: 2s - loss: 0.4339 - acc: 0.797 - ETA: 2s - loss: 0.4339 - acc: 0.797 - ETA: 2s - loss: 0.4339 - acc: 0.797 - ETA: 2s - loss: 0.4338 - acc: 0.797 - ETA: 2s - loss: 0.4338 - acc: 0.797 - ETA: 2s - loss: 0.4338 - acc: 0.797 - ETA: 2s - loss: 0.4338 - acc: 0.797 - ETA: 2s - loss: 0.4339 - acc: 0.797 - ETA: 2s - loss: 0.4339 - acc: 0.797 - ETA: 2s - loss: 0.4338 - acc: 0.797 - ETA: 2s - loss: 0.4338 - acc: 0.797 - ETA: 2s - loss: 0.4338 - acc: 0.797 - ETA: 2s - loss: 0.4339 - acc: 0.797 - ETA: 2s - loss: 0.4339 - acc: 0.797 - ETA: 1s - loss: 0.4339 - acc: 0.797 - ETA: 1s - loss: 0.4339 - acc: 0.797 - ETA: 1s - loss: 0.4339 - acc: 0.797 - ETA: 1s - loss: 0.4339 - acc: 0.797 - ETA: 1s - loss: 0.4339 - acc: 0.797 - ETA: 1s - loss: 0.4339 - acc: 0.797 - ETA: 1s - loss: 0.4339 - acc: 0.797 - ETA: 1s - loss: 0.4339 - acc: 0.797 - ETA: 1s - loss: 0.4340 - acc: 0.797 - ETA: 1s - loss: 0.4340 - acc: 0.797 - ETA: 1s - loss: 0.4340 - acc: 0.797 - ETA: 1s - loss: 0.4340 - acc: 0.797 - ETA: 1s - loss: 0.4339 - acc: 0.797 - ETA: 1s - loss: 0.4339 - acc: 0.797 - ETA: 1s - loss: 0.4339 - acc: 0.797 - ETA: 1s - loss: 0.4338 - acc: 0.797 - ETA: 1s - loss: 0.4339 - acc: 0.797 - ETA: 1s - loss: 0.4339 - acc: 0.797 - ETA: 1s - loss: 0.4339 - acc: 0.797 - ETA: 0s - loss: 0.4339 - acc: 0.797 - ETA: 0s - loss: 0.4339 - acc: 0.797 - ETA: 0s - loss: 0.4339 - acc: 0.797 - ETA: 0s - loss: 0.4339 - acc: 0.797 - ETA: 0s - loss: 0.4340 - acc: 0.797 - ETA: 0s - loss: 0.4339 - acc: 0.797 - ETA: 0s - loss: 0.4340 - acc: 0.797 - ETA: 0s - loss: 0.4340 - acc: 0.797 - ETA: 0s - loss: 0.4340 - acc: 0.797 - ETA: 0s - loss: 0.4340 - acc: 0.797 - ETA: 0s - loss: 0.4340 - acc: 0.797 - ETA: 0s - loss: 0.4340 - acc: 0.797 - ETA: 0s - loss: 0.4340 - acc: 0.797 - ETA: 0s - loss: 0.4340 - acc: 0.797 - ETA: 0s - loss: 0.4340 - acc: 0.797 - ETA: 0s - loss: 0.4341 - acc: 0.797 - ETA: 0s - loss: 0.4341 - acc: 0.797 - ETA: 0s - loss: 0.4341 - acc: 0.797 - ETA: 0s - loss: 0.4341 - acc: 0.797 - ETA: 0s - loss: 0.4341 - acc: 0.7973\n",
      "Epoch 00006: val_loss improved from 0.44892 to 0.44463, saving model to C:\\Users\\remoteuser\\tatk\\resources\\logs\\checkpoints\n",
      "2745/2745 [==============================] - 28s 10ms/step - loss: 0.4340 - acc: 0.7973 - val_loss: 0.4446 - val_acc: 0.8066\n",
      "Epoch 7/10\n"
     ]
    },
    {
     "name": "stdout",
     "output_type": "stream",
     "text": [
      "1558/2745 [================>.............] - ETA: 24s - loss: 0.4914 - acc: 0.78 - ETA: 20s - loss: 0.4587 - acc: 0.78 - ETA: 21s - loss: 0.4445 - acc: 0.79 - ETA: 21s - loss: 0.4433 - acc: 0.79 - ETA: 20s - loss: 0.4449 - acc: 0.79 - ETA: 21s - loss: 0.4402 - acc: 0.79 - ETA: 20s - loss: 0.4383 - acc: 0.79 - ETA: 21s - loss: 0.4395 - acc: 0.79 - ETA: 21s - loss: 0.4404 - acc: 0.79 - ETA: 20s - loss: 0.4395 - acc: 0.79 - ETA: 20s - loss: 0.4382 - acc: 0.79 - ETA: 20s - loss: 0.4377 - acc: 0.79 - ETA: 20s - loss: 0.4385 - acc: 0.79 - ETA: 20s - loss: 0.4381 - acc: 0.79 - ETA: 20s - loss: 0.4376 - acc: 0.79 - ETA: 20s - loss: 0.4375 - acc: 0.79 - ETA: 20s - loss: 0.4368 - acc: 0.79 - ETA: 20s - loss: 0.4369 - acc: 0.79 - ETA: 20s - loss: 0.4359 - acc: 0.79 - ETA: 20s - loss: 0.4353 - acc: 0.79 - ETA: 20s - loss: 0.4345 - acc: 0.79 - ETA: 20s - loss: 0.4349 - acc: 0.79 - ETA: 20s - loss: 0.4342 - acc: 0.79 - ETA: 19s - loss: 0.4339 - acc: 0.79 - ETA: 19s - loss: 0.4327 - acc: 0.79 - ETA: 19s - loss: 0.4328 - acc: 0.79 - ETA: 19s - loss: 0.4329 - acc: 0.79 - ETA: 19s - loss: 0.4331 - acc: 0.79 - ETA: 19s - loss: 0.4331 - acc: 0.79 - ETA: 19s - loss: 0.4332 - acc: 0.79 - ETA: 19s - loss: 0.4333 - acc: 0.79 - ETA: 19s - loss: 0.4326 - acc: 0.79 - ETA: 19s - loss: 0.4325 - acc: 0.79 - ETA: 19s - loss: 0.4317 - acc: 0.79 - ETA: 19s - loss: 0.4321 - acc: 0.79 - ETA: 19s - loss: 0.4317 - acc: 0.79 - ETA: 18s - loss: 0.4316 - acc: 0.79 - ETA: 18s - loss: 0.4313 - acc: 0.79 - ETA: 18s - loss: 0.4314 - acc: 0.79 - ETA: 18s - loss: 0.4315 - acc: 0.79 - ETA: 18s - loss: 0.4316 - acc: 0.79 - ETA: 18s - loss: 0.4320 - acc: 0.79 - ETA: 18s - loss: 0.4322 - acc: 0.79 - ETA: 18s - loss: 0.4316 - acc: 0.79 - ETA: 18s - loss: 0.4317 - acc: 0.79 - ETA: 18s - loss: 0.4315 - acc: 0.79 - ETA: 18s - loss: 0.4316 - acc: 0.79 - ETA: 18s - loss: 0.4317 - acc: 0.79 - ETA: 17s - loss: 0.4320 - acc: 0.79 - ETA: 17s - loss: 0.4325 - acc: 0.79 - ETA: 17s - loss: 0.4322 - acc: 0.79 - ETA: 17s - loss: 0.4323 - acc: 0.79 - ETA: 17s - loss: 0.4322 - acc: 0.79 - ETA: 17s - loss: 0.4323 - acc: 0.79 - ETA: 17s - loss: 0.4325 - acc: 0.79 - ETA: 17s - loss: 0.4329 - acc: 0.79 - ETA: 17s - loss: 0.4329 - acc: 0.79 - ETA: 17s - loss: 0.4326 - acc: 0.79 - ETA: 17s - loss: 0.4327 - acc: 0.79 - ETA: 17s - loss: 0.4326 - acc: 0.79 - ETA: 17s - loss: 0.4324 - acc: 0.79 - ETA: 17s - loss: 0.4324 - acc: 0.79 - ETA: 17s - loss: 0.4322 - acc: 0.79 - ETA: 17s - loss: 0.4323 - acc: 0.79 - ETA: 17s - loss: 0.4323 - acc: 0.79 - ETA: 17s - loss: 0.4326 - acc: 0.79 - ETA: 17s - loss: 0.4327 - acc: 0.79 - ETA: 16s - loss: 0.4329 - acc: 0.79 - ETA: 16s - loss: 0.4330 - acc: 0.79 - ETA: 16s - loss: 0.4327 - acc: 0.79 - ETA: 16s - loss: 0.4328 - acc: 0.79 - ETA: 16s - loss: 0.4330 - acc: 0.79 - ETA: 16s - loss: 0.4329 - acc: 0.79 - ETA: 16s - loss: 0.4329 - acc: 0.79 - ETA: 16s - loss: 0.4330 - acc: 0.79 - ETA: 16s - loss: 0.4328 - acc: 0.79 - ETA: 16s - loss: 0.4330 - acc: 0.79 - ETA: 16s - loss: 0.4327 - acc: 0.79 - ETA: 16s - loss: 0.4326 - acc: 0.79 - ETA: 16s - loss: 0.4328 - acc: 0.79 - ETA: 16s - loss: 0.4327 - acc: 0.79 - ETA: 16s - loss: 0.4327 - acc: 0.79 - ETA: 15s - loss: 0.4326 - acc: 0.79 - ETA: 15s - loss: 0.4328 - acc: 0.79 - ETA: 15s - loss: 0.4328 - acc: 0.79 - ETA: 15s - loss: 0.4329 - acc: 0.79 - ETA: 15s - loss: 0.4328 - acc: 0.79 - ETA: 15s - loss: 0.4327 - acc: 0.79 - ETA: 15s - loss: 0.4327 - acc: 0.79 - ETA: 15s - loss: 0.4326 - acc: 0.79 - ETA: 15s - loss: 0.4328 - acc: 0.79 - ETA: 15s - loss: 0.4330 - acc: 0.79 - ETA: 15s - loss: 0.4329 - acc: 0.79 - ETA: 15s - loss: 0.4330 - acc: 0.79 - ETA: 15s - loss: 0.4329 - acc: 0.79 - ETA: 15s - loss: 0.4328 - acc: 0.79 - ETA: 15s - loss: 0.4325 - acc: 0.79 - ETA: 15s - loss: 0.4325 - acc: 0.79 - ETA: 15s - loss: 0.4326 - acc: 0.79 - ETA: 14s - loss: 0.4326 - acc: 0.79 - ETA: 14s - loss: 0.4326 - acc: 0.79 - ETA: 14s - loss: 0.4325 - acc: 0.79 - ETA: 14s - loss: 0.4323 - acc: 0.79 - ETA: 14s - loss: 0.4325 - acc: 0.79 - ETA: 14s - loss: 0.4325 - acc: 0.79 - ETA: 14s - loss: 0.4323 - acc: 0.79 - ETA: 14s - loss: 0.4324 - acc: 0.79 - ETA: 14s - loss: 0.4325 - acc: 0.79 - ETA: 14s - loss: 0.4326 - acc: 0.79 - ETA: 14s - loss: 0.4328 - acc: 0.79 - ETA: 14s - loss: 0.4326 - acc: 0.79 - ETA: 14s - loss: 0.4327 - acc: 0.79 - ETA: 14s - loss: 0.4325 - acc: 0.79 - ETA: 14s - loss: 0.4324 - acc: 0.79 - ETA: 14s - loss: 0.4325 - acc: 0.79 - ETA: 14s - loss: 0.4324 - acc: 0.79 - ETA: 14s - loss: 0.4324 - acc: 0.79 - ETA: 13s - loss: 0.4322 - acc: 0.79 - ETA: 13s - loss: 0.4321 - acc: 0.79 - ETA: 13s - loss: 0.4322 - acc: 0.79 - ETA: 13s - loss: 0.4322 - acc: 0.79 - ETA: 13s - loss: 0.4321 - acc: 0.79 - ETA: 13s - loss: 0.4320 - acc: 0.79 - ETA: 13s - loss: 0.4320 - acc: 0.79 - ETA: 13s - loss: 0.4321 - acc: 0.79 - ETA: 13s - loss: 0.4321 - acc: 0.79 - ETA: 13s - loss: 0.4321 - acc: 0.79 - ETA: 13s - loss: 0.4322 - acc: 0.79 - ETA: 13s - loss: 0.4322 - acc: 0.79 - ETA: 13s - loss: 0.4323 - acc: 0.79 - ETA: 13s - loss: 0.4323 - acc: 0.79 - ETA: 13s - loss: 0.4322 - acc: 0.79 - ETA: 13s - loss: 0.4323 - acc: 0.79 - ETA: 13s - loss: 0.4322 - acc: 0.79 - ETA: 13s - loss: 0.4321 - acc: 0.79 - ETA: 13s - loss: 0.4321 - acc: 0.79 - ETA: 12s - loss: 0.4322 - acc: 0.79 - ETA: 12s - loss: 0.4322 - acc: 0.79 - ETA: 12s - loss: 0.4323 - acc: 0.79 - ETA: 12s - loss: 0.4322 - acc: 0.79 - ETA: 12s - loss: 0.4323 - acc: 0.79 - ETA: 12s - loss: 0.4325 - acc: 0.79 - ETA: 12s - loss: 0.4324 - acc: 0.79 - ETA: 12s - loss: 0.4323 - acc: 0.79 - ETA: 12s - loss: 0.4324 - acc: 0.79 - ETA: 12s - loss: 0.4324 - acc: 0.79 - ETA: 12s - loss: 0.4324 - acc: 0.79 - ETA: 12s - loss: 0.4323 - acc: 0.79 - ETA: 12s - loss: 0.4323 - acc: 0.79 - ETA: 12s - loss: 0.4322 - acc: 0.79 - ETA: 12s - loss: 0.4323 - acc: 0.79 - ETA: 12s - loss: 0.4322 - acc: 0.79 - ETA: 12s - loss: 0.4322 - acc: 0.79 - ETA: 12s - loss: 0.4321 - acc: 0.79 - ETA: 11s - loss: 0.4321 - acc: 0.79 - ETA: 11s - loss: 0.4321 - acc: 0.79 - ETA: 11s - loss: 0.4321 - acc: 0.79 - ETA: 11s - loss: 0.4321 - acc: 0.79 - ETA: 11s - loss: 0.4321 - acc: 0.79 - ETA: 11s - loss: 0.4323 - acc: 0.79 - ETA: 11s - loss: 0.4321 - acc: 0.79 - ETA: 11s - loss: 0.4320 - acc: 0.79 - ETA: 11s - loss: 0.4320 - acc: 0.79 - ETA: 11s - loss: 0.4320 - acc: 0.79 - ETA: 11s - loss: 0.4320 - acc: 0.79 - ETA: 11s - loss: 0.4319 - acc: 0.79 - ETA: 11s - loss: 0.4319 - acc: 0.79 - ETA: 11s - loss: 0.4320 - acc: 0.79 - ETA: 11s - loss: 0.4320 - acc: 0.79 - ETA: 11s - loss: 0.4318 - acc: 0.79 - ETA: 11s - loss: 0.4318 - acc: 0.79 - ETA: 11s - loss: 0.4316 - acc: 0.79 - ETA: 11s - loss: 0.4316 - acc: 0.79 - ETA: 10s - loss: 0.4317 - acc: 0.79 - ETA: 10s - loss: 0.4318 - acc: 0.79 - ETA: 10s - loss: 0.4317 - acc: 0.79 - ETA: 10s - loss: 0.4316 - acc: 0.79 - ETA: 10s - loss: 0.4317 - acc: 0.79 - ETA: 10s - loss: 0.4315 - acc: 0.79 - ETA: 10s - loss: 0.4315 - acc: 0.79 - ETA: 10s - loss: 0.4314 - acc: 0.79 - ETA: 10s - loss: 0.4314 - acc: 0.79 - ETA: 10s - loss: 0.4314 - acc: 0.79 - ETA: 10s - loss: 0.4314 - acc: 0.79 - ETA: 10s - loss: 0.4314 - acc: 0.79 - ETA: 10s - loss: 0.4314 - acc: 0.79 - ETA: 10s - loss: 0.4314 - acc: 0.79 - ETA: 10s - loss: 0.4313 - acc: 0.79 - ETA: 10s - loss: 0.4313 - acc: 0.79 - ETA: 10s - loss: 0.4313 - acc: 0.79 - ETA: 10s - loss: 0.4313 - acc: 0.79 - ETA: 10s - loss: 0.4313 - acc: 0.79 - ETA: 9s - loss: 0.4314 - acc: 0.7988 - ETA: 9s - loss: 0.4314 - acc: 0.798 - ETA: 9s - loss: 0.4314 - acc: 0.798 - ETA: 9s - loss: 0.4314 - acc: 0.798 - ETA: 9s - loss: 0.4315 - acc: 0.798 - ETA: 9s - loss: 0.4315 - acc: 0.798 - ETA: 9s - loss: 0.4316 - acc: 0.798 - ETA: 9s - loss: 0.4316 - acc: 0.798 - ETA: 9s - loss: 0.4316 - acc: 0.798 - ETA: 9s - loss: 0.4316 - acc: 0.798 - ETA: 9s - loss: 0.4317 - acc: 0.798 - ETA: 9s - loss: 0.4316 - acc: 0.798 - ETA: 9s - loss: 0.4316 - acc: 0.798 - ETA: 9s - loss: 0.4315 - acc: 0.798 - ETA: 9s - loss: 0.4317 - acc: 0.798 - ETA: 9s - loss: 0.4318 - acc: 0.798 - ETA: 9s - loss: 0.4319 - acc: 0.798 - ETA: 9s - loss: 0.4319 - acc: 0.798 - ETA: 8s - loss: 0.4319 - acc: 0.798 - ETA: 8s - loss: 0.4319 - acc: 0.798 - ETA: 8s - loss: 0.4319 - acc: 0.798 - ETA: 8s - loss: 0.4319 - acc: 0.798 - ETA: 8s - loss: 0.4320 - acc: 0.7984"
     ]
    },
    {
     "name": "stdout",
     "output_type": "stream",
     "text": [
      "2741/2745 [============================>.] - ETA: 8s - loss: 0.4320 - acc: 0.798 - ETA: 8s - loss: 0.4320 - acc: 0.798 - ETA: 8s - loss: 0.4320 - acc: 0.798 - ETA: 8s - loss: 0.4320 - acc: 0.798 - ETA: 8s - loss: 0.4319 - acc: 0.798 - ETA: 8s - loss: 0.4320 - acc: 0.798 - ETA: 8s - loss: 0.4320 - acc: 0.798 - ETA: 8s - loss: 0.4321 - acc: 0.798 - ETA: 8s - loss: 0.4320 - acc: 0.798 - ETA: 8s - loss: 0.4319 - acc: 0.798 - ETA: 8s - loss: 0.4318 - acc: 0.798 - ETA: 8s - loss: 0.4317 - acc: 0.798 - ETA: 8s - loss: 0.4319 - acc: 0.798 - ETA: 8s - loss: 0.4319 - acc: 0.798 - ETA: 7s - loss: 0.4320 - acc: 0.798 - ETA: 7s - loss: 0.4320 - acc: 0.798 - ETA: 7s - loss: 0.4320 - acc: 0.798 - ETA: 7s - loss: 0.4320 - acc: 0.798 - ETA: 7s - loss: 0.4320 - acc: 0.798 - ETA: 7s - loss: 0.4321 - acc: 0.798 - ETA: 7s - loss: 0.4322 - acc: 0.798 - ETA: 7s - loss: 0.4322 - acc: 0.798 - ETA: 7s - loss: 0.4323 - acc: 0.798 - ETA: 7s - loss: 0.4323 - acc: 0.798 - ETA: 7s - loss: 0.4323 - acc: 0.798 - ETA: 7s - loss: 0.4324 - acc: 0.798 - ETA: 7s - loss: 0.4324 - acc: 0.798 - ETA: 7s - loss: 0.4323 - acc: 0.798 - ETA: 7s - loss: 0.4323 - acc: 0.798 - ETA: 7s - loss: 0.4322 - acc: 0.798 - ETA: 7s - loss: 0.4321 - acc: 0.798 - ETA: 7s - loss: 0.4321 - acc: 0.798 - ETA: 7s - loss: 0.4321 - acc: 0.798 - ETA: 6s - loss: 0.4320 - acc: 0.798 - ETA: 6s - loss: 0.4319 - acc: 0.798 - ETA: 6s - loss: 0.4320 - acc: 0.798 - ETA: 6s - loss: 0.4320 - acc: 0.798 - ETA: 6s - loss: 0.4320 - acc: 0.798 - ETA: 6s - loss: 0.4320 - acc: 0.798 - ETA: 6s - loss: 0.4320 - acc: 0.798 - ETA: 6s - loss: 0.4320 - acc: 0.798 - ETA: 6s - loss: 0.4320 - acc: 0.798 - ETA: 6s - loss: 0.4320 - acc: 0.798 - ETA: 6s - loss: 0.4320 - acc: 0.798 - ETA: 6s - loss: 0.4320 - acc: 0.798 - ETA: 6s - loss: 0.4320 - acc: 0.798 - ETA: 6s - loss: 0.4320 - acc: 0.798 - ETA: 6s - loss: 0.4320 - acc: 0.798 - ETA: 6s - loss: 0.4320 - acc: 0.798 - ETA: 6s - loss: 0.4321 - acc: 0.798 - ETA: 6s - loss: 0.4320 - acc: 0.798 - ETA: 6s - loss: 0.4319 - acc: 0.798 - ETA: 5s - loss: 0.4319 - acc: 0.798 - ETA: 5s - loss: 0.4318 - acc: 0.798 - ETA: 5s - loss: 0.4319 - acc: 0.798 - ETA: 5s - loss: 0.4318 - acc: 0.798 - ETA: 5s - loss: 0.4319 - acc: 0.798 - ETA: 5s - loss: 0.4319 - acc: 0.798 - ETA: 5s - loss: 0.4319 - acc: 0.798 - ETA: 5s - loss: 0.4319 - acc: 0.798 - ETA: 5s - loss: 0.4318 - acc: 0.798 - ETA: 5s - loss: 0.4318 - acc: 0.798 - ETA: 5s - loss: 0.4319 - acc: 0.798 - ETA: 5s - loss: 0.4319 - acc: 0.798 - ETA: 5s - loss: 0.4318 - acc: 0.798 - ETA: 5s - loss: 0.4318 - acc: 0.798 - ETA: 5s - loss: 0.4318 - acc: 0.798 - ETA: 5s - loss: 0.4319 - acc: 0.798 - ETA: 5s - loss: 0.4319 - acc: 0.798 - ETA: 5s - loss: 0.4319 - acc: 0.798 - ETA: 5s - loss: 0.4319 - acc: 0.798 - ETA: 5s - loss: 0.4319 - acc: 0.798 - ETA: 4s - loss: 0.4320 - acc: 0.798 - ETA: 4s - loss: 0.4319 - acc: 0.798 - ETA: 4s - loss: 0.4320 - acc: 0.798 - ETA: 4s - loss: 0.4320 - acc: 0.798 - ETA: 4s - loss: 0.4319 - acc: 0.798 - ETA: 4s - loss: 0.4319 - acc: 0.798 - ETA: 4s - loss: 0.4319 - acc: 0.798 - ETA: 4s - loss: 0.4319 - acc: 0.798 - ETA: 4s - loss: 0.4319 - acc: 0.798 - ETA: 4s - loss: 0.4319 - acc: 0.798 - ETA: 4s - loss: 0.4319 - acc: 0.798 - ETA: 4s - loss: 0.4318 - acc: 0.798 - ETA: 4s - loss: 0.4318 - acc: 0.798 - ETA: 4s - loss: 0.4317 - acc: 0.798 - ETA: 4s - loss: 0.4317 - acc: 0.798 - ETA: 4s - loss: 0.4318 - acc: 0.798 - ETA: 4s - loss: 0.4318 - acc: 0.798 - ETA: 4s - loss: 0.4318 - acc: 0.798 - ETA: 4s - loss: 0.4318 - acc: 0.798 - ETA: 4s - loss: 0.4318 - acc: 0.798 - ETA: 3s - loss: 0.4318 - acc: 0.798 - ETA: 3s - loss: 0.4319 - acc: 0.798 - ETA: 3s - loss: 0.4319 - acc: 0.798 - ETA: 3s - loss: 0.4319 - acc: 0.798 - ETA: 3s - loss: 0.4319 - acc: 0.798 - ETA: 3s - loss: 0.4319 - acc: 0.798 - ETA: 3s - loss: 0.4319 - acc: 0.798 - ETA: 3s - loss: 0.4319 - acc: 0.798 - ETA: 3s - loss: 0.4319 - acc: 0.798 - ETA: 3s - loss: 0.4319 - acc: 0.798 - ETA: 3s - loss: 0.4319 - acc: 0.798 - ETA: 3s - loss: 0.4319 - acc: 0.798 - ETA: 3s - loss: 0.4319 - acc: 0.798 - ETA: 3s - loss: 0.4319 - acc: 0.798 - ETA: 3s - loss: 0.4319 - acc: 0.798 - ETA: 3s - loss: 0.4319 - acc: 0.798 - ETA: 3s - loss: 0.4320 - acc: 0.798 - ETA: 3s - loss: 0.4320 - acc: 0.798 - ETA: 2s - loss: 0.4320 - acc: 0.798 - ETA: 2s - loss: 0.4320 - acc: 0.798 - ETA: 2s - loss: 0.4320 - acc: 0.798 - ETA: 2s - loss: 0.4319 - acc: 0.798 - ETA: 2s - loss: 0.4319 - acc: 0.798 - ETA: 2s - loss: 0.4319 - acc: 0.798 - ETA: 2s - loss: 0.4319 - acc: 0.798 - ETA: 2s - loss: 0.4319 - acc: 0.798 - ETA: 2s - loss: 0.4319 - acc: 0.798 - ETA: 2s - loss: 0.4319 - acc: 0.798 - ETA: 2s - loss: 0.4319 - acc: 0.798 - ETA: 2s - loss: 0.4319 - acc: 0.798 - ETA: 2s - loss: 0.4319 - acc: 0.798 - ETA: 2s - loss: 0.4319 - acc: 0.798 - ETA: 2s - loss: 0.4318 - acc: 0.798 - ETA: 2s - loss: 0.4319 - acc: 0.798 - ETA: 2s - loss: 0.4319 - acc: 0.798 - ETA: 2s - loss: 0.4318 - acc: 0.798 - ETA: 1s - loss: 0.4318 - acc: 0.798 - ETA: 1s - loss: 0.4318 - acc: 0.798 - ETA: 1s - loss: 0.4318 - acc: 0.798 - ETA: 1s - loss: 0.4319 - acc: 0.798 - ETA: 1s - loss: 0.4319 - acc: 0.798 - ETA: 1s - loss: 0.4319 - acc: 0.798 - ETA: 1s - loss: 0.4319 - acc: 0.798 - ETA: 1s - loss: 0.4320 - acc: 0.798 - ETA: 1s - loss: 0.4320 - acc: 0.798 - ETA: 1s - loss: 0.4320 - acc: 0.798 - ETA: 1s - loss: 0.4320 - acc: 0.798 - ETA: 1s - loss: 0.4320 - acc: 0.798 - ETA: 1s - loss: 0.4320 - acc: 0.798 - ETA: 1s - loss: 0.4321 - acc: 0.798 - ETA: 1s - loss: 0.4320 - acc: 0.798 - ETA: 1s - loss: 0.4320 - acc: 0.798 - ETA: 1s - loss: 0.4320 - acc: 0.798 - ETA: 1s - loss: 0.4320 - acc: 0.798 - ETA: 1s - loss: 0.4319 - acc: 0.798 - ETA: 0s - loss: 0.4319 - acc: 0.798 - ETA: 0s - loss: 0.4319 - acc: 0.798 - ETA: 0s - loss: 0.4319 - acc: 0.798 - ETA: 0s - loss: 0.4319 - acc: 0.798 - ETA: 0s - loss: 0.4320 - acc: 0.798 - ETA: 0s - loss: 0.4320 - acc: 0.798 - ETA: 0s - loss: 0.4319 - acc: 0.798 - ETA: 0s - loss: 0.4319 - acc: 0.798 - ETA: 0s - loss: 0.4319 - acc: 0.798 - ETA: 0s - loss: 0.4320 - acc: 0.798 - ETA: 0s - loss: 0.4320 - acc: 0.798 - ETA: 0s - loss: 0.4320 - acc: 0.798 - ETA: 0s - loss: 0.4320 - acc: 0.798 - ETA: 0s - loss: 0.4320 - acc: 0.798 - ETA: 0s - loss: 0.4320 - acc: 0.798 - ETA: 0s - loss: 0.4320 - acc: 0.798 - ETA: 0s - loss: 0.4320 - acc: 0.798 - ETA: 0s - loss: 0.4320 - acc: 0.798 - ETA: 0s - loss: 0.4319 - acc: 0.798 - ETA: 0s - loss: 0.4319 - acc: 0.798 - ETA: 0s - loss: 0.4320 - acc: 0.7985\n",
      "Epoch 00007: val_loss improved from 0.44463 to 0.43867, saving model to C:\\Users\\remoteuser\\tatk\\resources\\logs\\checkpoints\n",
      "2745/2745 [==============================] - 25s 9ms/step - loss: 0.4320 - acc: 0.7985 - val_loss: 0.4387 - val_acc: 0.8081\n",
      "Epoch 8/10\n"
     ]
    },
    {
     "name": "stdout",
     "output_type": "stream",
     "text": [
      "1529/2745 [===============>..............] - ETA: 21s - loss: 0.4903 - acc: 0.76 - ETA: 21s - loss: 0.4372 - acc: 0.79 - ETA: 21s - loss: 0.4387 - acc: 0.79 - ETA: 22s - loss: 0.4400 - acc: 0.78 - ETA: 22s - loss: 0.4362 - acc: 0.79 - ETA: 22s - loss: 0.4352 - acc: 0.79 - ETA: 22s - loss: 0.4337 - acc: 0.79 - ETA: 22s - loss: 0.4314 - acc: 0.79 - ETA: 22s - loss: 0.4308 - acc: 0.79 - ETA: 22s - loss: 0.4304 - acc: 0.79 - ETA: 22s - loss: 0.4317 - acc: 0.79 - ETA: 22s - loss: 0.4301 - acc: 0.79 - ETA: 22s - loss: 0.4317 - acc: 0.79 - ETA: 21s - loss: 0.4311 - acc: 0.79 - ETA: 21s - loss: 0.4307 - acc: 0.79 - ETA: 21s - loss: 0.4319 - acc: 0.79 - ETA: 21s - loss: 0.4312 - acc: 0.79 - ETA: 21s - loss: 0.4321 - acc: 0.79 - ETA: 21s - loss: 0.4307 - acc: 0.79 - ETA: 21s - loss: 0.4291 - acc: 0.79 - ETA: 21s - loss: 0.4299 - acc: 0.79 - ETA: 21s - loss: 0.4302 - acc: 0.79 - ETA: 21s - loss: 0.4300 - acc: 0.79 - ETA: 21s - loss: 0.4305 - acc: 0.79 - ETA: 20s - loss: 0.4297 - acc: 0.79 - ETA: 20s - loss: 0.4301 - acc: 0.79 - ETA: 20s - loss: 0.4309 - acc: 0.79 - ETA: 20s - loss: 0.4312 - acc: 0.79 - ETA: 20s - loss: 0.4312 - acc: 0.79 - ETA: 20s - loss: 0.4313 - acc: 0.79 - ETA: 20s - loss: 0.4310 - acc: 0.79 - ETA: 20s - loss: 0.4308 - acc: 0.79 - ETA: 20s - loss: 0.4304 - acc: 0.79 - ETA: 20s - loss: 0.4300 - acc: 0.79 - ETA: 20s - loss: 0.4300 - acc: 0.79 - ETA: 20s - loss: 0.4297 - acc: 0.79 - ETA: 20s - loss: 0.4287 - acc: 0.80 - ETA: 20s - loss: 0.4284 - acc: 0.80 - ETA: 19s - loss: 0.4286 - acc: 0.80 - ETA: 19s - loss: 0.4287 - acc: 0.80 - ETA: 19s - loss: 0.4285 - acc: 0.80 - ETA: 19s - loss: 0.4286 - acc: 0.80 - ETA: 19s - loss: 0.4284 - acc: 0.80 - ETA: 19s - loss: 0.4282 - acc: 0.80 - ETA: 19s - loss: 0.4280 - acc: 0.80 - ETA: 19s - loss: 0.4284 - acc: 0.80 - ETA: 19s - loss: 0.4281 - acc: 0.80 - ETA: 19s - loss: 0.4284 - acc: 0.80 - ETA: 19s - loss: 0.4285 - acc: 0.80 - ETA: 19s - loss: 0.4290 - acc: 0.80 - ETA: 19s - loss: 0.4291 - acc: 0.80 - ETA: 19s - loss: 0.4295 - acc: 0.79 - ETA: 19s - loss: 0.4297 - acc: 0.79 - ETA: 19s - loss: 0.4298 - acc: 0.79 - ETA: 19s - loss: 0.4300 - acc: 0.79 - ETA: 19s - loss: 0.4294 - acc: 0.79 - ETA: 19s - loss: 0.4298 - acc: 0.79 - ETA: 18s - loss: 0.4296 - acc: 0.79 - ETA: 18s - loss: 0.4294 - acc: 0.79 - ETA: 18s - loss: 0.4295 - acc: 0.79 - ETA: 18s - loss: 0.4297 - acc: 0.79 - ETA: 18s - loss: 0.4296 - acc: 0.79 - ETA: 18s - loss: 0.4297 - acc: 0.79 - ETA: 18s - loss: 0.4297 - acc: 0.79 - ETA: 18s - loss: 0.4295 - acc: 0.79 - ETA: 18s - loss: 0.4297 - acc: 0.79 - ETA: 18s - loss: 0.4298 - acc: 0.79 - ETA: 18s - loss: 0.4300 - acc: 0.79 - ETA: 18s - loss: 0.4300 - acc: 0.79 - ETA: 18s - loss: 0.4303 - acc: 0.79 - ETA: 18s - loss: 0.4308 - acc: 0.79 - ETA: 18s - loss: 0.4308 - acc: 0.79 - ETA: 18s - loss: 0.4304 - acc: 0.79 - ETA: 17s - loss: 0.4301 - acc: 0.79 - ETA: 17s - loss: 0.4299 - acc: 0.79 - ETA: 17s - loss: 0.4299 - acc: 0.79 - ETA: 17s - loss: 0.4298 - acc: 0.79 - ETA: 17s - loss: 0.4295 - acc: 0.79 - ETA: 17s - loss: 0.4295 - acc: 0.79 - ETA: 17s - loss: 0.4294 - acc: 0.79 - ETA: 17s - loss: 0.4293 - acc: 0.79 - ETA: 17s - loss: 0.4292 - acc: 0.79 - ETA: 17s - loss: 0.4291 - acc: 0.79 - ETA: 17s - loss: 0.4290 - acc: 0.79 - ETA: 17s - loss: 0.4289 - acc: 0.80 - ETA: 17s - loss: 0.4287 - acc: 0.80 - ETA: 17s - loss: 0.4286 - acc: 0.80 - ETA: 17s - loss: 0.4289 - acc: 0.80 - ETA: 16s - loss: 0.4291 - acc: 0.79 - ETA: 16s - loss: 0.4290 - acc: 0.79 - ETA: 16s - loss: 0.4289 - acc: 0.79 - ETA: 16s - loss: 0.4287 - acc: 0.79 - ETA: 16s - loss: 0.4288 - acc: 0.79 - ETA: 16s - loss: 0.4289 - acc: 0.79 - ETA: 16s - loss: 0.4290 - acc: 0.79 - ETA: 16s - loss: 0.4291 - acc: 0.79 - ETA: 16s - loss: 0.4291 - acc: 0.79 - ETA: 16s - loss: 0.4291 - acc: 0.79 - ETA: 16s - loss: 0.4292 - acc: 0.79 - ETA: 16s - loss: 0.4291 - acc: 0.79 - ETA: 16s - loss: 0.4291 - acc: 0.79 - ETA: 15s - loss: 0.4289 - acc: 0.79 - ETA: 15s - loss: 0.4290 - acc: 0.79 - ETA: 15s - loss: 0.4291 - acc: 0.79 - ETA: 15s - loss: 0.4291 - acc: 0.80 - ETA: 15s - loss: 0.4293 - acc: 0.79 - ETA: 15s - loss: 0.4294 - acc: 0.79 - ETA: 15s - loss: 0.4293 - acc: 0.79 - ETA: 15s - loss: 0.4293 - acc: 0.79 - ETA: 15s - loss: 0.4293 - acc: 0.79 - ETA: 15s - loss: 0.4292 - acc: 0.79 - ETA: 15s - loss: 0.4290 - acc: 0.79 - ETA: 15s - loss: 0.4287 - acc: 0.79 - ETA: 15s - loss: 0.4286 - acc: 0.80 - ETA: 15s - loss: 0.4285 - acc: 0.80 - ETA: 15s - loss: 0.4284 - acc: 0.80 - ETA: 15s - loss: 0.4285 - acc: 0.80 - ETA: 14s - loss: 0.4287 - acc: 0.79 - ETA: 14s - loss: 0.4288 - acc: 0.79 - ETA: 14s - loss: 0.4289 - acc: 0.79 - ETA: 14s - loss: 0.4288 - acc: 0.80 - ETA: 14s - loss: 0.4289 - acc: 0.80 - ETA: 14s - loss: 0.4291 - acc: 0.79 - ETA: 14s - loss: 0.4291 - acc: 0.79 - ETA: 14s - loss: 0.4292 - acc: 0.79 - ETA: 14s - loss: 0.4291 - acc: 0.79 - ETA: 14s - loss: 0.4291 - acc: 0.79 - ETA: 14s - loss: 0.4291 - acc: 0.79 - ETA: 14s - loss: 0.4293 - acc: 0.79 - ETA: 14s - loss: 0.4295 - acc: 0.79 - ETA: 14s - loss: 0.4295 - acc: 0.79 - ETA: 14s - loss: 0.4295 - acc: 0.79 - ETA: 14s - loss: 0.4296 - acc: 0.79 - ETA: 14s - loss: 0.4296 - acc: 0.79 - ETA: 13s - loss: 0.4295 - acc: 0.79 - ETA: 13s - loss: 0.4296 - acc: 0.79 - ETA: 13s - loss: 0.4295 - acc: 0.79 - ETA: 13s - loss: 0.4296 - acc: 0.79 - ETA: 13s - loss: 0.4295 - acc: 0.79 - ETA: 13s - loss: 0.4294 - acc: 0.79 - ETA: 13s - loss: 0.4294 - acc: 0.79 - ETA: 13s - loss: 0.4293 - acc: 0.79 - ETA: 13s - loss: 0.4293 - acc: 0.79 - ETA: 13s - loss: 0.4295 - acc: 0.79 - ETA: 13s - loss: 0.4297 - acc: 0.79 - ETA: 13s - loss: 0.4297 - acc: 0.79 - ETA: 13s - loss: 0.4296 - acc: 0.79 - ETA: 13s - loss: 0.4296 - acc: 0.79 - ETA: 13s - loss: 0.4297 - acc: 0.79 - ETA: 12s - loss: 0.4296 - acc: 0.79 - ETA: 12s - loss: 0.4297 - acc: 0.79 - ETA: 12s - loss: 0.4297 - acc: 0.79 - ETA: 12s - loss: 0.4298 - acc: 0.79 - ETA: 12s - loss: 0.4299 - acc: 0.79 - ETA: 12s - loss: 0.4298 - acc: 0.79 - ETA: 12s - loss: 0.4299 - acc: 0.79 - ETA: 12s - loss: 0.4299 - acc: 0.79 - ETA: 12s - loss: 0.4299 - acc: 0.79 - ETA: 12s - loss: 0.4299 - acc: 0.79 - ETA: 12s - loss: 0.4297 - acc: 0.79 - ETA: 12s - loss: 0.4296 - acc: 0.79 - ETA: 12s - loss: 0.4296 - acc: 0.79 - ETA: 12s - loss: 0.4296 - acc: 0.79 - ETA: 12s - loss: 0.4296 - acc: 0.79 - ETA: 12s - loss: 0.4295 - acc: 0.79 - ETA: 12s - loss: 0.4296 - acc: 0.79 - ETA: 11s - loss: 0.4297 - acc: 0.79 - ETA: 11s - loss: 0.4296 - acc: 0.79 - ETA: 11s - loss: 0.4294 - acc: 0.80 - ETA: 11s - loss: 0.4294 - acc: 0.80 - ETA: 11s - loss: 0.4293 - acc: 0.80 - ETA: 11s - loss: 0.4294 - acc: 0.80 - ETA: 11s - loss: 0.4294 - acc: 0.80 - ETA: 11s - loss: 0.4294 - acc: 0.80 - ETA: 11s - loss: 0.4295 - acc: 0.80 - ETA: 11s - loss: 0.4295 - acc: 0.80 - ETA: 11s - loss: 0.4294 - acc: 0.80 - ETA: 11s - loss: 0.4294 - acc: 0.80 - ETA: 11s - loss: 0.4295 - acc: 0.80 - ETA: 11s - loss: 0.4294 - acc: 0.80 - ETA: 11s - loss: 0.4295 - acc: 0.80 - ETA: 11s - loss: 0.4295 - acc: 0.80 - ETA: 11s - loss: 0.4295 - acc: 0.80 - ETA: 11s - loss: 0.4295 - acc: 0.80 - ETA: 10s - loss: 0.4295 - acc: 0.80 - ETA: 10s - loss: 0.4295 - acc: 0.80 - ETA: 10s - loss: 0.4297 - acc: 0.79 - ETA: 10s - loss: 0.4297 - acc: 0.79 - ETA: 10s - loss: 0.4298 - acc: 0.79 - ETA: 10s - loss: 0.4298 - acc: 0.79 - ETA: 10s - loss: 0.4299 - acc: 0.79 - ETA: 10s - loss: 0.4298 - acc: 0.79 - ETA: 10s - loss: 0.4298 - acc: 0.79 - ETA: 10s - loss: 0.4297 - acc: 0.79 - ETA: 10s - loss: 0.4298 - acc: 0.79 - ETA: 10s - loss: 0.4299 - acc: 0.79 - ETA: 10s - loss: 0.4300 - acc: 0.79 - ETA: 10s - loss: 0.4300 - acc: 0.79 - ETA: 10s - loss: 0.4300 - acc: 0.79 - ETA: 10s - loss: 0.4300 - acc: 0.79 - ETA: 10s - loss: 0.4300 - acc: 0.79 - ETA: 9s - loss: 0.4300 - acc: 0.7998 - ETA: 9s - loss: 0.4300 - acc: 0.799 - ETA: 9s - loss: 0.4300 - acc: 0.799 - ETA: 9s - loss: 0.4300 - acc: 0.799 - ETA: 9s - loss: 0.4299 - acc: 0.799 - ETA: 9s - loss: 0.4299 - acc: 0.799 - ETA: 9s - loss: 0.4298 - acc: 0.799 - ETA: 9s - loss: 0.4300 - acc: 0.799 - ETA: 9s - loss: 0.4300 - acc: 0.799 - ETA: 9s - loss: 0.4301 - acc: 0.799 - ETA: 9s - loss: 0.4300 - acc: 0.799 - ETA: 9s - loss: 0.4299 - acc: 0.799 - ETA: 9s - loss: 0.4300 - acc: 0.799 - ETA: 9s - loss: 0.4299 - acc: 0.7998"
     ]
    },
    {
     "name": "stdout",
     "output_type": "stream",
     "text": [
      "2739/2745 [============================>.] - ETA: 9s - loss: 0.4298 - acc: 0.799 - ETA: 9s - loss: 0.4298 - acc: 0.799 - ETA: 9s - loss: 0.4298 - acc: 0.799 - ETA: 9s - loss: 0.4298 - acc: 0.799 - ETA: 8s - loss: 0.4297 - acc: 0.799 - ETA: 8s - loss: 0.4298 - acc: 0.799 - ETA: 8s - loss: 0.4298 - acc: 0.799 - ETA: 8s - loss: 0.4298 - acc: 0.799 - ETA: 8s - loss: 0.4299 - acc: 0.799 - ETA: 8s - loss: 0.4299 - acc: 0.799 - ETA: 8s - loss: 0.4298 - acc: 0.799 - ETA: 8s - loss: 0.4298 - acc: 0.799 - ETA: 8s - loss: 0.4298 - acc: 0.799 - ETA: 8s - loss: 0.4298 - acc: 0.799 - ETA: 8s - loss: 0.4299 - acc: 0.799 - ETA: 8s - loss: 0.4300 - acc: 0.799 - ETA: 8s - loss: 0.4300 - acc: 0.799 - ETA: 8s - loss: 0.4300 - acc: 0.799 - ETA: 8s - loss: 0.4300 - acc: 0.799 - ETA: 8s - loss: 0.4299 - acc: 0.799 - ETA: 8s - loss: 0.4301 - acc: 0.799 - ETA: 8s - loss: 0.4302 - acc: 0.799 - ETA: 8s - loss: 0.4303 - acc: 0.799 - ETA: 7s - loss: 0.4303 - acc: 0.799 - ETA: 7s - loss: 0.4304 - acc: 0.799 - ETA: 7s - loss: 0.4303 - acc: 0.799 - ETA: 7s - loss: 0.4304 - acc: 0.799 - ETA: 7s - loss: 0.4304 - acc: 0.799 - ETA: 7s - loss: 0.4305 - acc: 0.799 - ETA: 7s - loss: 0.4306 - acc: 0.799 - ETA: 7s - loss: 0.4306 - acc: 0.799 - ETA: 7s - loss: 0.4305 - acc: 0.799 - ETA: 7s - loss: 0.4305 - acc: 0.799 - ETA: 7s - loss: 0.4305 - acc: 0.799 - ETA: 7s - loss: 0.4306 - acc: 0.799 - ETA: 7s - loss: 0.4306 - acc: 0.799 - ETA: 7s - loss: 0.4306 - acc: 0.799 - ETA: 7s - loss: 0.4306 - acc: 0.799 - ETA: 7s - loss: 0.4306 - acc: 0.799 - ETA: 7s - loss: 0.4306 - acc: 0.799 - ETA: 7s - loss: 0.4306 - acc: 0.799 - ETA: 6s - loss: 0.4307 - acc: 0.799 - ETA: 6s - loss: 0.4306 - acc: 0.799 - ETA: 6s - loss: 0.4306 - acc: 0.799 - ETA: 6s - loss: 0.4307 - acc: 0.799 - ETA: 6s - loss: 0.4307 - acc: 0.799 - ETA: 6s - loss: 0.4307 - acc: 0.799 - ETA: 6s - loss: 0.4307 - acc: 0.799 - ETA: 6s - loss: 0.4307 - acc: 0.799 - ETA: 6s - loss: 0.4306 - acc: 0.799 - ETA: 6s - loss: 0.4306 - acc: 0.799 - ETA: 6s - loss: 0.4306 - acc: 0.799 - ETA: 6s - loss: 0.4306 - acc: 0.799 - ETA: 6s - loss: 0.4306 - acc: 0.799 - ETA: 6s - loss: 0.4306 - acc: 0.799 - ETA: 6s - loss: 0.4306 - acc: 0.799 - ETA: 6s - loss: 0.4306 - acc: 0.799 - ETA: 6s - loss: 0.4305 - acc: 0.799 - ETA: 6s - loss: 0.4305 - acc: 0.799 - ETA: 5s - loss: 0.4304 - acc: 0.799 - ETA: 5s - loss: 0.4304 - acc: 0.799 - ETA: 5s - loss: 0.4304 - acc: 0.799 - ETA: 5s - loss: 0.4303 - acc: 0.799 - ETA: 5s - loss: 0.4302 - acc: 0.799 - ETA: 5s - loss: 0.4303 - acc: 0.799 - ETA: 5s - loss: 0.4302 - acc: 0.799 - ETA: 5s - loss: 0.4302 - acc: 0.799 - ETA: 5s - loss: 0.4302 - acc: 0.799 - ETA: 5s - loss: 0.4302 - acc: 0.799 - ETA: 5s - loss: 0.4302 - acc: 0.799 - ETA: 5s - loss: 0.4302 - acc: 0.799 - ETA: 5s - loss: 0.4302 - acc: 0.799 - ETA: 5s - loss: 0.4302 - acc: 0.799 - ETA: 5s - loss: 0.4302 - acc: 0.799 - ETA: 5s - loss: 0.4302 - acc: 0.799 - ETA: 5s - loss: 0.4303 - acc: 0.799 - ETA: 5s - loss: 0.4303 - acc: 0.799 - ETA: 4s - loss: 0.4302 - acc: 0.799 - ETA: 4s - loss: 0.4303 - acc: 0.799 - ETA: 4s - loss: 0.4303 - acc: 0.799 - ETA: 4s - loss: 0.4304 - acc: 0.799 - ETA: 4s - loss: 0.4304 - acc: 0.799 - ETA: 4s - loss: 0.4304 - acc: 0.799 - ETA: 4s - loss: 0.4304 - acc: 0.799 - ETA: 4s - loss: 0.4304 - acc: 0.799 - ETA: 4s - loss: 0.4305 - acc: 0.799 - ETA: 4s - loss: 0.4305 - acc: 0.799 - ETA: 4s - loss: 0.4306 - acc: 0.799 - ETA: 4s - loss: 0.4305 - acc: 0.799 - ETA: 4s - loss: 0.4305 - acc: 0.799 - ETA: 4s - loss: 0.4305 - acc: 0.799 - ETA: 4s - loss: 0.4304 - acc: 0.799 - ETA: 4s - loss: 0.4304 - acc: 0.799 - ETA: 4s - loss: 0.4305 - acc: 0.799 - ETA: 4s - loss: 0.4305 - acc: 0.799 - ETA: 3s - loss: 0.4304 - acc: 0.799 - ETA: 3s - loss: 0.4304 - acc: 0.799 - ETA: 3s - loss: 0.4305 - acc: 0.799 - ETA: 3s - loss: 0.4305 - acc: 0.799 - ETA: 3s - loss: 0.4305 - acc: 0.799 - ETA: 3s - loss: 0.4304 - acc: 0.799 - ETA: 3s - loss: 0.4304 - acc: 0.799 - ETA: 3s - loss: 0.4305 - acc: 0.799 - ETA: 3s - loss: 0.4305 - acc: 0.799 - ETA: 3s - loss: 0.4304 - acc: 0.799 - ETA: 3s - loss: 0.4304 - acc: 0.799 - ETA: 3s - loss: 0.4304 - acc: 0.799 - ETA: 3s - loss: 0.4304 - acc: 0.799 - ETA: 3s - loss: 0.4304 - acc: 0.799 - ETA: 3s - loss: 0.4303 - acc: 0.799 - ETA: 3s - loss: 0.4303 - acc: 0.799 - ETA: 3s - loss: 0.4303 - acc: 0.799 - ETA: 3s - loss: 0.4303 - acc: 0.799 - ETA: 2s - loss: 0.4303 - acc: 0.799 - ETA: 2s - loss: 0.4303 - acc: 0.799 - ETA: 2s - loss: 0.4303 - acc: 0.799 - ETA: 2s - loss: 0.4304 - acc: 0.799 - ETA: 2s - loss: 0.4304 - acc: 0.799 - ETA: 2s - loss: 0.4303 - acc: 0.799 - ETA: 2s - loss: 0.4303 - acc: 0.799 - ETA: 2s - loss: 0.4304 - acc: 0.799 - ETA: 2s - loss: 0.4303 - acc: 0.799 - ETA: 2s - loss: 0.4303 - acc: 0.799 - ETA: 2s - loss: 0.4303 - acc: 0.799 - ETA: 2s - loss: 0.4303 - acc: 0.799 - ETA: 2s - loss: 0.4303 - acc: 0.799 - ETA: 2s - loss: 0.4303 - acc: 0.799 - ETA: 2s - loss: 0.4303 - acc: 0.799 - ETA: 2s - loss: 0.4303 - acc: 0.799 - ETA: 2s - loss: 0.4303 - acc: 0.799 - ETA: 2s - loss: 0.4303 - acc: 0.799 - ETA: 2s - loss: 0.4304 - acc: 0.799 - ETA: 1s - loss: 0.4304 - acc: 0.799 - ETA: 1s - loss: 0.4304 - acc: 0.799 - ETA: 1s - loss: 0.4305 - acc: 0.799 - ETA: 1s - loss: 0.4305 - acc: 0.799 - ETA: 1s - loss: 0.4305 - acc: 0.799 - ETA: 1s - loss: 0.4305 - acc: 0.799 - ETA: 1s - loss: 0.4305 - acc: 0.799 - ETA: 1s - loss: 0.4304 - acc: 0.799 - ETA: 1s - loss: 0.4305 - acc: 0.799 - ETA: 1s - loss: 0.4305 - acc: 0.799 - ETA: 1s - loss: 0.4304 - acc: 0.799 - ETA: 1s - loss: 0.4304 - acc: 0.799 - ETA: 1s - loss: 0.4303 - acc: 0.799 - ETA: 1s - loss: 0.4302 - acc: 0.799 - ETA: 1s - loss: 0.4302 - acc: 0.799 - ETA: 1s - loss: 0.4303 - acc: 0.799 - ETA: 1s - loss: 0.4303 - acc: 0.799 - ETA: 1s - loss: 0.4303 - acc: 0.799 - ETA: 0s - loss: 0.4303 - acc: 0.799 - ETA: 0s - loss: 0.4303 - acc: 0.799 - ETA: 0s - loss: 0.4304 - acc: 0.799 - ETA: 0s - loss: 0.4304 - acc: 0.799 - ETA: 0s - loss: 0.4305 - acc: 0.799 - ETA: 0s - loss: 0.4305 - acc: 0.799 - ETA: 0s - loss: 0.4305 - acc: 0.799 - ETA: 0s - loss: 0.4305 - acc: 0.799 - ETA: 0s - loss: 0.4305 - acc: 0.799 - ETA: 0s - loss: 0.4305 - acc: 0.799 - ETA: 0s - loss: 0.4304 - acc: 0.799 - ETA: 0s - loss: 0.4304 - acc: 0.799 - ETA: 0s - loss: 0.4305 - acc: 0.799 - ETA: 0s - loss: 0.4304 - acc: 0.799 - ETA: 0s - loss: 0.4304 - acc: 0.799 - ETA: 0s - loss: 0.4304 - acc: 0.799 - ETA: 0s - loss: 0.4304 - acc: 0.799 - ETA: 0s - loss: 0.4304 - acc: 0.799 - ETA: 0s - loss: 0.4304 - acc: 0.799 - ETA: 0s - loss: 0.4304 - acc: 0.7995\n",
      "Epoch 00008: val_loss improved from 0.43867 to 0.43741, saving model to C:\\Users\\remoteuser\\tatk\\resources\\logs\\checkpoints\n",
      "2745/2745 [==============================] - 28s 10ms/step - loss: 0.4304 - acc: 0.7995 - val_loss: 0.4374 - val_acc: 0.8073\n",
      "Epoch 9/10\n"
     ]
    },
    {
     "name": "stdout",
     "output_type": "stream",
     "text": [
      "1565/2745 [================>.............] - ETA: 19s - loss: 0.3715 - acc: 0.84 - ETA: 17s - loss: 0.4380 - acc: 0.79 - ETA: 19s - loss: 0.4296 - acc: 0.80 - ETA: 18s - loss: 0.4373 - acc: 0.79 - ETA: 19s - loss: 0.4354 - acc: 0.79 - ETA: 19s - loss: 0.4343 - acc: 0.79 - ETA: 19s - loss: 0.4290 - acc: 0.80 - ETA: 19s - loss: 0.4279 - acc: 0.80 - ETA: 19s - loss: 0.4312 - acc: 0.80 - ETA: 19s - loss: 0.4303 - acc: 0.80 - ETA: 19s - loss: 0.4295 - acc: 0.80 - ETA: 19s - loss: 0.4296 - acc: 0.80 - ETA: 19s - loss: 0.4303 - acc: 0.80 - ETA: 19s - loss: 0.4299 - acc: 0.80 - ETA: 19s - loss: 0.4305 - acc: 0.80 - ETA: 19s - loss: 0.4306 - acc: 0.80 - ETA: 19s - loss: 0.4305 - acc: 0.80 - ETA: 19s - loss: 0.4309 - acc: 0.80 - ETA: 19s - loss: 0.4302 - acc: 0.80 - ETA: 19s - loss: 0.4298 - acc: 0.80 - ETA: 19s - loss: 0.4294 - acc: 0.80 - ETA: 19s - loss: 0.4288 - acc: 0.80 - ETA: 18s - loss: 0.4275 - acc: 0.80 - ETA: 18s - loss: 0.4270 - acc: 0.80 - ETA: 18s - loss: 0.4273 - acc: 0.80 - ETA: 18s - loss: 0.4276 - acc: 0.80 - ETA: 18s - loss: 0.4277 - acc: 0.80 - ETA: 18s - loss: 0.4284 - acc: 0.80 - ETA: 18s - loss: 0.4281 - acc: 0.80 - ETA: 18s - loss: 0.4285 - acc: 0.80 - ETA: 18s - loss: 0.4285 - acc: 0.80 - ETA: 18s - loss: 0.4281 - acc: 0.80 - ETA: 18s - loss: 0.4280 - acc: 0.80 - ETA: 18s - loss: 0.4283 - acc: 0.80 - ETA: 18s - loss: 0.4285 - acc: 0.80 - ETA: 17s - loss: 0.4282 - acc: 0.80 - ETA: 17s - loss: 0.4282 - acc: 0.80 - ETA: 17s - loss: 0.4289 - acc: 0.80 - ETA: 17s - loss: 0.4289 - acc: 0.80 - ETA: 17s - loss: 0.4287 - acc: 0.80 - ETA: 17s - loss: 0.4288 - acc: 0.80 - ETA: 17s - loss: 0.4286 - acc: 0.80 - ETA: 17s - loss: 0.4283 - acc: 0.80 - ETA: 17s - loss: 0.4284 - acc: 0.80 - ETA: 17s - loss: 0.4277 - acc: 0.80 - ETA: 17s - loss: 0.4272 - acc: 0.80 - ETA: 17s - loss: 0.4268 - acc: 0.80 - ETA: 17s - loss: 0.4270 - acc: 0.80 - ETA: 17s - loss: 0.4274 - acc: 0.80 - ETA: 17s - loss: 0.4274 - acc: 0.80 - ETA: 17s - loss: 0.4277 - acc: 0.80 - ETA: 17s - loss: 0.4280 - acc: 0.80 - ETA: 17s - loss: 0.4278 - acc: 0.80 - ETA: 17s - loss: 0.4278 - acc: 0.80 - ETA: 16s - loss: 0.4276 - acc: 0.80 - ETA: 16s - loss: 0.4278 - acc: 0.80 - ETA: 16s - loss: 0.4282 - acc: 0.80 - ETA: 16s - loss: 0.4284 - acc: 0.80 - ETA: 16s - loss: 0.4283 - acc: 0.80 - ETA: 16s - loss: 0.4282 - acc: 0.80 - ETA: 16s - loss: 0.4282 - acc: 0.80 - ETA: 16s - loss: 0.4277 - acc: 0.80 - ETA: 16s - loss: 0.4278 - acc: 0.80 - ETA: 16s - loss: 0.4278 - acc: 0.80 - ETA: 16s - loss: 0.4279 - acc: 0.80 - ETA: 16s - loss: 0.4280 - acc: 0.80 - ETA: 16s - loss: 0.4280 - acc: 0.80 - ETA: 16s - loss: 0.4279 - acc: 0.80 - ETA: 16s - loss: 0.4278 - acc: 0.80 - ETA: 16s - loss: 0.4276 - acc: 0.80 - ETA: 16s - loss: 0.4273 - acc: 0.80 - ETA: 16s - loss: 0.4274 - acc: 0.80 - ETA: 16s - loss: 0.4277 - acc: 0.80 - ETA: 16s - loss: 0.4280 - acc: 0.80 - ETA: 16s - loss: 0.4280 - acc: 0.80 - ETA: 16s - loss: 0.4279 - acc: 0.80 - ETA: 15s - loss: 0.4278 - acc: 0.80 - ETA: 15s - loss: 0.4280 - acc: 0.80 - ETA: 15s - loss: 0.4282 - acc: 0.80 - ETA: 15s - loss: 0.4282 - acc: 0.80 - ETA: 15s - loss: 0.4282 - acc: 0.80 - ETA: 15s - loss: 0.4285 - acc: 0.80 - ETA: 15s - loss: 0.4287 - acc: 0.80 - ETA: 15s - loss: 0.4289 - acc: 0.80 - ETA: 15s - loss: 0.4291 - acc: 0.80 - ETA: 15s - loss: 0.4292 - acc: 0.80 - ETA: 15s - loss: 0.4292 - acc: 0.80 - ETA: 15s - loss: 0.4290 - acc: 0.80 - ETA: 15s - loss: 0.4291 - acc: 0.80 - ETA: 15s - loss: 0.4291 - acc: 0.80 - ETA: 15s - loss: 0.4290 - acc: 0.80 - ETA: 15s - loss: 0.4287 - acc: 0.80 - ETA: 15s - loss: 0.4288 - acc: 0.80 - ETA: 15s - loss: 0.4289 - acc: 0.80 - ETA: 15s - loss: 0.4288 - acc: 0.80 - ETA: 15s - loss: 0.4288 - acc: 0.80 - ETA: 14s - loss: 0.4289 - acc: 0.80 - ETA: 14s - loss: 0.4284 - acc: 0.80 - ETA: 14s - loss: 0.4284 - acc: 0.80 - ETA: 14s - loss: 0.4284 - acc: 0.80 - ETA: 14s - loss: 0.4285 - acc: 0.80 - ETA: 14s - loss: 0.4285 - acc: 0.80 - ETA: 14s - loss: 0.4285 - acc: 0.80 - ETA: 14s - loss: 0.4286 - acc: 0.80 - ETA: 14s - loss: 0.4286 - acc: 0.80 - ETA: 14s - loss: 0.4286 - acc: 0.80 - ETA: 14s - loss: 0.4287 - acc: 0.80 - ETA: 14s - loss: 0.4288 - acc: 0.80 - ETA: 14s - loss: 0.4289 - acc: 0.80 - ETA: 14s - loss: 0.4288 - acc: 0.80 - ETA: 14s - loss: 0.4288 - acc: 0.80 - ETA: 14s - loss: 0.4288 - acc: 0.80 - ETA: 14s - loss: 0.4287 - acc: 0.80 - ETA: 14s - loss: 0.4288 - acc: 0.80 - ETA: 14s - loss: 0.4289 - acc: 0.80 - ETA: 13s - loss: 0.4289 - acc: 0.80 - ETA: 13s - loss: 0.4288 - acc: 0.80 - ETA: 13s - loss: 0.4289 - acc: 0.80 - ETA: 13s - loss: 0.4289 - acc: 0.80 - ETA: 13s - loss: 0.4288 - acc: 0.80 - ETA: 13s - loss: 0.4288 - acc: 0.80 - ETA: 13s - loss: 0.4287 - acc: 0.80 - ETA: 13s - loss: 0.4287 - acc: 0.80 - ETA: 13s - loss: 0.4286 - acc: 0.80 - ETA: 13s - loss: 0.4286 - acc: 0.80 - ETA: 13s - loss: 0.4285 - acc: 0.80 - ETA: 13s - loss: 0.4287 - acc: 0.80 - ETA: 13s - loss: 0.4286 - acc: 0.80 - ETA: 13s - loss: 0.4285 - acc: 0.80 - ETA: 13s - loss: 0.4285 - acc: 0.80 - ETA: 13s - loss: 0.4284 - acc: 0.80 - ETA: 13s - loss: 0.4286 - acc: 0.80 - ETA: 13s - loss: 0.4285 - acc: 0.80 - ETA: 13s - loss: 0.4284 - acc: 0.80 - ETA: 13s - loss: 0.4284 - acc: 0.80 - ETA: 13s - loss: 0.4284 - acc: 0.80 - ETA: 12s - loss: 0.4285 - acc: 0.80 - ETA: 12s - loss: 0.4285 - acc: 0.80 - ETA: 12s - loss: 0.4285 - acc: 0.80 - ETA: 12s - loss: 0.4282 - acc: 0.80 - ETA: 12s - loss: 0.4281 - acc: 0.80 - ETA: 12s - loss: 0.4282 - acc: 0.80 - ETA: 12s - loss: 0.4281 - acc: 0.80 - ETA: 12s - loss: 0.4280 - acc: 0.80 - ETA: 12s - loss: 0.4279 - acc: 0.80 - ETA: 12s - loss: 0.4280 - acc: 0.80 - ETA: 12s - loss: 0.4281 - acc: 0.80 - ETA: 12s - loss: 0.4281 - acc: 0.80 - ETA: 12s - loss: 0.4281 - acc: 0.80 - ETA: 12s - loss: 0.4282 - acc: 0.80 - ETA: 12s - loss: 0.4282 - acc: 0.80 - ETA: 12s - loss: 0.4280 - acc: 0.80 - ETA: 12s - loss: 0.4279 - acc: 0.80 - ETA: 11s - loss: 0.4279 - acc: 0.80 - ETA: 11s - loss: 0.4280 - acc: 0.80 - ETA: 11s - loss: 0.4281 - acc: 0.80 - ETA: 11s - loss: 0.4281 - acc: 0.80 - ETA: 11s - loss: 0.4281 - acc: 0.80 - ETA: 11s - loss: 0.4281 - acc: 0.80 - ETA: 11s - loss: 0.4282 - acc: 0.80 - ETA: 11s - loss: 0.4282 - acc: 0.80 - ETA: 11s - loss: 0.4282 - acc: 0.80 - ETA: 11s - loss: 0.4281 - acc: 0.80 - ETA: 11s - loss: 0.4282 - acc: 0.80 - ETA: 11s - loss: 0.4282 - acc: 0.80 - ETA: 11s - loss: 0.4283 - acc: 0.80 - ETA: 11s - loss: 0.4282 - acc: 0.80 - ETA: 11s - loss: 0.4282 - acc: 0.80 - ETA: 11s - loss: 0.4282 - acc: 0.80 - ETA: 11s - loss: 0.4281 - acc: 0.80 - ETA: 11s - loss: 0.4281 - acc: 0.80 - ETA: 10s - loss: 0.4282 - acc: 0.80 - ETA: 10s - loss: 0.4283 - acc: 0.80 - ETA: 10s - loss: 0.4284 - acc: 0.80 - ETA: 10s - loss: 0.4283 - acc: 0.80 - ETA: 10s - loss: 0.4283 - acc: 0.80 - ETA: 10s - loss: 0.4283 - acc: 0.80 - ETA: 10s - loss: 0.4283 - acc: 0.80 - ETA: 10s - loss: 0.4282 - acc: 0.80 - ETA: 10s - loss: 0.4283 - acc: 0.80 - ETA: 10s - loss: 0.4283 - acc: 0.80 - ETA: 10s - loss: 0.4284 - acc: 0.80 - ETA: 10s - loss: 0.4284 - acc: 0.80 - ETA: 10s - loss: 0.4285 - acc: 0.80 - ETA: 10s - loss: 0.4285 - acc: 0.80 - ETA: 10s - loss: 0.4284 - acc: 0.80 - ETA: 10s - loss: 0.4284 - acc: 0.80 - ETA: 10s - loss: 0.4284 - acc: 0.80 - ETA: 10s - loss: 0.4284 - acc: 0.80 - ETA: 9s - loss: 0.4283 - acc: 0.8012 - ETA: 9s - loss: 0.4284 - acc: 0.801 - ETA: 9s - loss: 0.4284 - acc: 0.801 - ETA: 9s - loss: 0.4284 - acc: 0.801 - ETA: 9s - loss: 0.4285 - acc: 0.801 - ETA: 9s - loss: 0.4284 - acc: 0.801 - ETA: 9s - loss: 0.4283 - acc: 0.801 - ETA: 9s - loss: 0.4283 - acc: 0.801 - ETA: 9s - loss: 0.4283 - acc: 0.801 - ETA: 9s - loss: 0.4283 - acc: 0.801 - ETA: 9s - loss: 0.4283 - acc: 0.801 - ETA: 9s - loss: 0.4282 - acc: 0.801 - ETA: 9s - loss: 0.4283 - acc: 0.801 - ETA: 9s - loss: 0.4282 - acc: 0.801 - ETA: 9s - loss: 0.4282 - acc: 0.801 - ETA: 9s - loss: 0.4282 - acc: 0.801 - ETA: 9s - loss: 0.4281 - acc: 0.801 - ETA: 9s - loss: 0.4281 - acc: 0.801 - ETA: 9s - loss: 0.4280 - acc: 0.801 - ETA: 9s - loss: 0.4281 - acc: 0.801 - ETA: 8s - loss: 0.4281 - acc: 0.801 - ETA: 8s - loss: 0.4281 - acc: 0.801 - ETA: 8s - loss: 0.4279 - acc: 0.801 - ETA: 8s - loss: 0.4280 - acc: 0.801 - ETA: 8s - loss: 0.4280 - acc: 0.801 - ETA: 8s - loss: 0.4280 - acc: 0.8014"
     ]
    },
    {
     "name": "stdout",
     "output_type": "stream",
     "text": [
      "2740/2745 [============================>.] - ETA: 8s - loss: 0.4281 - acc: 0.801 - ETA: 8s - loss: 0.4280 - acc: 0.801 - ETA: 8s - loss: 0.4281 - acc: 0.801 - ETA: 8s - loss: 0.4281 - acc: 0.801 - ETA: 8s - loss: 0.4281 - acc: 0.801 - ETA: 8s - loss: 0.4280 - acc: 0.801 - ETA: 8s - loss: 0.4280 - acc: 0.801 - ETA: 8s - loss: 0.4279 - acc: 0.801 - ETA: 8s - loss: 0.4281 - acc: 0.801 - ETA: 8s - loss: 0.4281 - acc: 0.801 - ETA: 8s - loss: 0.4281 - acc: 0.801 - ETA: 8s - loss: 0.4281 - acc: 0.801 - ETA: 7s - loss: 0.4281 - acc: 0.801 - ETA: 7s - loss: 0.4281 - acc: 0.801 - ETA: 7s - loss: 0.4282 - acc: 0.801 - ETA: 7s - loss: 0.4281 - acc: 0.801 - ETA: 7s - loss: 0.4281 - acc: 0.801 - ETA: 7s - loss: 0.4281 - acc: 0.801 - ETA: 7s - loss: 0.4282 - acc: 0.801 - ETA: 7s - loss: 0.4282 - acc: 0.801 - ETA: 7s - loss: 0.4281 - acc: 0.801 - ETA: 7s - loss: 0.4281 - acc: 0.801 - ETA: 7s - loss: 0.4281 - acc: 0.801 - ETA: 7s - loss: 0.4281 - acc: 0.801 - ETA: 7s - loss: 0.4282 - acc: 0.801 - ETA: 7s - loss: 0.4282 - acc: 0.801 - ETA: 7s - loss: 0.4281 - acc: 0.801 - ETA: 7s - loss: 0.4281 - acc: 0.801 - ETA: 7s - loss: 0.4282 - acc: 0.801 - ETA: 7s - loss: 0.4282 - acc: 0.801 - ETA: 6s - loss: 0.4283 - acc: 0.801 - ETA: 6s - loss: 0.4283 - acc: 0.801 - ETA: 6s - loss: 0.4283 - acc: 0.801 - ETA: 6s - loss: 0.4283 - acc: 0.801 - ETA: 6s - loss: 0.4283 - acc: 0.801 - ETA: 6s - loss: 0.4282 - acc: 0.801 - ETA: 6s - loss: 0.4283 - acc: 0.801 - ETA: 6s - loss: 0.4283 - acc: 0.801 - ETA: 6s - loss: 0.4283 - acc: 0.801 - ETA: 6s - loss: 0.4283 - acc: 0.801 - ETA: 6s - loss: 0.4283 - acc: 0.801 - ETA: 6s - loss: 0.4284 - acc: 0.800 - ETA: 6s - loss: 0.4284 - acc: 0.801 - ETA: 6s - loss: 0.4283 - acc: 0.801 - ETA: 6s - loss: 0.4283 - acc: 0.801 - ETA: 6s - loss: 0.4283 - acc: 0.801 - ETA: 6s - loss: 0.4283 - acc: 0.801 - ETA: 6s - loss: 0.4283 - acc: 0.801 - ETA: 6s - loss: 0.4283 - acc: 0.801 - ETA: 5s - loss: 0.4283 - acc: 0.801 - ETA: 5s - loss: 0.4284 - acc: 0.801 - ETA: 5s - loss: 0.4283 - acc: 0.801 - ETA: 5s - loss: 0.4283 - acc: 0.801 - ETA: 5s - loss: 0.4284 - acc: 0.801 - ETA: 5s - loss: 0.4284 - acc: 0.801 - ETA: 5s - loss: 0.4284 - acc: 0.801 - ETA: 5s - loss: 0.4283 - acc: 0.801 - ETA: 5s - loss: 0.4284 - acc: 0.801 - ETA: 5s - loss: 0.4284 - acc: 0.801 - ETA: 5s - loss: 0.4284 - acc: 0.801 - ETA: 5s - loss: 0.4284 - acc: 0.801 - ETA: 5s - loss: 0.4284 - acc: 0.801 - ETA: 5s - loss: 0.4285 - acc: 0.800 - ETA: 5s - loss: 0.4285 - acc: 0.801 - ETA: 5s - loss: 0.4285 - acc: 0.800 - ETA: 5s - loss: 0.4285 - acc: 0.800 - ETA: 5s - loss: 0.4285 - acc: 0.800 - ETA: 4s - loss: 0.4285 - acc: 0.800 - ETA: 4s - loss: 0.4285 - acc: 0.800 - ETA: 4s - loss: 0.4285 - acc: 0.800 - ETA: 4s - loss: 0.4286 - acc: 0.800 - ETA: 4s - loss: 0.4286 - acc: 0.800 - ETA: 4s - loss: 0.4287 - acc: 0.800 - ETA: 4s - loss: 0.4287 - acc: 0.800 - ETA: 4s - loss: 0.4286 - acc: 0.800 - ETA: 4s - loss: 0.4286 - acc: 0.800 - ETA: 4s - loss: 0.4287 - acc: 0.800 - ETA: 4s - loss: 0.4286 - acc: 0.800 - ETA: 4s - loss: 0.4286 - acc: 0.800 - ETA: 4s - loss: 0.4286 - acc: 0.800 - ETA: 4s - loss: 0.4286 - acc: 0.800 - ETA: 4s - loss: 0.4287 - acc: 0.800 - ETA: 4s - loss: 0.4287 - acc: 0.800 - ETA: 4s - loss: 0.4287 - acc: 0.800 - ETA: 4s - loss: 0.4287 - acc: 0.800 - ETA: 4s - loss: 0.4287 - acc: 0.800 - ETA: 3s - loss: 0.4287 - acc: 0.800 - ETA: 3s - loss: 0.4287 - acc: 0.800 - ETA: 3s - loss: 0.4287 - acc: 0.800 - ETA: 3s - loss: 0.4287 - acc: 0.800 - ETA: 3s - loss: 0.4288 - acc: 0.800 - ETA: 3s - loss: 0.4288 - acc: 0.800 - ETA: 3s - loss: 0.4289 - acc: 0.800 - ETA: 3s - loss: 0.4290 - acc: 0.800 - ETA: 3s - loss: 0.4290 - acc: 0.800 - ETA: 3s - loss: 0.4290 - acc: 0.800 - ETA: 3s - loss: 0.4290 - acc: 0.800 - ETA: 3s - loss: 0.4290 - acc: 0.800 - ETA: 3s - loss: 0.4290 - acc: 0.800 - ETA: 3s - loss: 0.4290 - acc: 0.800 - ETA: 3s - loss: 0.4290 - acc: 0.800 - ETA: 3s - loss: 0.4290 - acc: 0.800 - ETA: 3s - loss: 0.4291 - acc: 0.800 - ETA: 3s - loss: 0.4290 - acc: 0.800 - ETA: 2s - loss: 0.4291 - acc: 0.800 - ETA: 2s - loss: 0.4290 - acc: 0.800 - ETA: 2s - loss: 0.4290 - acc: 0.800 - ETA: 2s - loss: 0.4290 - acc: 0.800 - ETA: 2s - loss: 0.4290 - acc: 0.800 - ETA: 2s - loss: 0.4290 - acc: 0.800 - ETA: 2s - loss: 0.4290 - acc: 0.800 - ETA: 2s - loss: 0.4289 - acc: 0.800 - ETA: 2s - loss: 0.4289 - acc: 0.800 - ETA: 2s - loss: 0.4289 - acc: 0.800 - ETA: 2s - loss: 0.4289 - acc: 0.800 - ETA: 2s - loss: 0.4289 - acc: 0.800 - ETA: 2s - loss: 0.4288 - acc: 0.800 - ETA: 2s - loss: 0.4288 - acc: 0.800 - ETA: 2s - loss: 0.4289 - acc: 0.800 - ETA: 2s - loss: 0.4289 - acc: 0.800 - ETA: 2s - loss: 0.4289 - acc: 0.800 - ETA: 2s - loss: 0.4289 - acc: 0.800 - ETA: 2s - loss: 0.4289 - acc: 0.800 - ETA: 1s - loss: 0.4288 - acc: 0.800 - ETA: 1s - loss: 0.4288 - acc: 0.800 - ETA: 1s - loss: 0.4289 - acc: 0.800 - ETA: 1s - loss: 0.4289 - acc: 0.800 - ETA: 1s - loss: 0.4290 - acc: 0.800 - ETA: 1s - loss: 0.4290 - acc: 0.800 - ETA: 1s - loss: 0.4290 - acc: 0.800 - ETA: 1s - loss: 0.4290 - acc: 0.800 - ETA: 1s - loss: 0.4289 - acc: 0.800 - ETA: 1s - loss: 0.4290 - acc: 0.800 - ETA: 1s - loss: 0.4289 - acc: 0.800 - ETA: 1s - loss: 0.4290 - acc: 0.800 - ETA: 1s - loss: 0.4290 - acc: 0.800 - ETA: 1s - loss: 0.4290 - acc: 0.800 - ETA: 1s - loss: 0.4290 - acc: 0.800 - ETA: 1s - loss: 0.4290 - acc: 0.800 - ETA: 1s - loss: 0.4290 - acc: 0.800 - ETA: 1s - loss: 0.4289 - acc: 0.800 - ETA: 0s - loss: 0.4289 - acc: 0.800 - ETA: 0s - loss: 0.4289 - acc: 0.800 - ETA: 0s - loss: 0.4289 - acc: 0.800 - ETA: 0s - loss: 0.4290 - acc: 0.800 - ETA: 0s - loss: 0.4290 - acc: 0.800 - ETA: 0s - loss: 0.4290 - acc: 0.800 - ETA: 0s - loss: 0.4289 - acc: 0.800 - ETA: 0s - loss: 0.4289 - acc: 0.800 - ETA: 0s - loss: 0.4289 - acc: 0.800 - ETA: 0s - loss: 0.4289 - acc: 0.800 - ETA: 0s - loss: 0.4290 - acc: 0.800 - ETA: 0s - loss: 0.4290 - acc: 0.800 - ETA: 0s - loss: 0.4290 - acc: 0.800 - ETA: 0s - loss: 0.4290 - acc: 0.800 - ETA: 0s - loss: 0.4291 - acc: 0.800 - ETA: 0s - loss: 0.4290 - acc: 0.800 - ETA: 0s - loss: 0.4290 - acc: 0.800 - ETA: 0s - loss: 0.4290 - acc: 0.800 - ETA: 0s - loss: 0.4290 - acc: 0.800 - ETA: 0s - loss: 0.4291 - acc: 0.800 - ETA: 0s - loss: 0.4291 - acc: 0.800 - ETA: 0s - loss: 0.4291 - acc: 0.8003\n",
      "Epoch 00009: val_loss did not improve\n",
      "2745/2745 [==============================] - 25s 9ms/step - loss: 0.4291 - acc: 0.8003 - val_loss: 0.4382 - val_acc: 0.8094\n",
      "Epoch 10/10\n"
     ]
    },
    {
     "name": "stdout",
     "output_type": "stream",
     "text": [
      "1500/2745 [===============>..............] - ETA: 27s - loss: 0.3716 - acc: 0.83 - ETA: 21s - loss: 0.4155 - acc: 0.81 - ETA: 21s - loss: 0.4169 - acc: 0.80 - ETA: 21s - loss: 0.4229 - acc: 0.80 - ETA: 21s - loss: 0.4251 - acc: 0.80 - ETA: 21s - loss: 0.4208 - acc: 0.80 - ETA: 22s - loss: 0.4205 - acc: 0.80 - ETA: 22s - loss: 0.4207 - acc: 0.80 - ETA: 21s - loss: 0.4211 - acc: 0.80 - ETA: 21s - loss: 0.4205 - acc: 0.80 - ETA: 21s - loss: 0.4194 - acc: 0.80 - ETA: 21s - loss: 0.4206 - acc: 0.80 - ETA: 21s - loss: 0.4190 - acc: 0.80 - ETA: 21s - loss: 0.4212 - acc: 0.80 - ETA: 21s - loss: 0.4210 - acc: 0.80 - ETA: 21s - loss: 0.4205 - acc: 0.80 - ETA: 21s - loss: 0.4200 - acc: 0.80 - ETA: 21s - loss: 0.4198 - acc: 0.80 - ETA: 21s - loss: 0.4185 - acc: 0.80 - ETA: 21s - loss: 0.4186 - acc: 0.80 - ETA: 21s - loss: 0.4212 - acc: 0.80 - ETA: 21s - loss: 0.4214 - acc: 0.80 - ETA: 21s - loss: 0.4220 - acc: 0.80 - ETA: 21s - loss: 0.4227 - acc: 0.80 - ETA: 21s - loss: 0.4223 - acc: 0.80 - ETA: 21s - loss: 0.4221 - acc: 0.80 - ETA: 21s - loss: 0.4211 - acc: 0.80 - ETA: 21s - loss: 0.4219 - acc: 0.80 - ETA: 21s - loss: 0.4230 - acc: 0.80 - ETA: 21s - loss: 0.4232 - acc: 0.80 - ETA: 21s - loss: 0.4235 - acc: 0.80 - ETA: 20s - loss: 0.4230 - acc: 0.80 - ETA: 21s - loss: 0.4226 - acc: 0.80 - ETA: 21s - loss: 0.4229 - acc: 0.80 - ETA: 20s - loss: 0.4226 - acc: 0.80 - ETA: 20s - loss: 0.4226 - acc: 0.80 - ETA: 20s - loss: 0.4227 - acc: 0.80 - ETA: 20s - loss: 0.4230 - acc: 0.80 - ETA: 20s - loss: 0.4234 - acc: 0.80 - ETA: 20s - loss: 0.4240 - acc: 0.80 - ETA: 20s - loss: 0.4242 - acc: 0.80 - ETA: 20s - loss: 0.4242 - acc: 0.80 - ETA: 20s - loss: 0.4247 - acc: 0.80 - ETA: 20s - loss: 0.4252 - acc: 0.80 - ETA: 20s - loss: 0.4255 - acc: 0.80 - ETA: 20s - loss: 0.4253 - acc: 0.80 - ETA: 19s - loss: 0.4256 - acc: 0.80 - ETA: 19s - loss: 0.4254 - acc: 0.80 - ETA: 19s - loss: 0.4254 - acc: 0.80 - ETA: 19s - loss: 0.4253 - acc: 0.80 - ETA: 19s - loss: 0.4254 - acc: 0.80 - ETA: 19s - loss: 0.4256 - acc: 0.80 - ETA: 19s - loss: 0.4258 - acc: 0.80 - ETA: 19s - loss: 0.4258 - acc: 0.80 - ETA: 19s - loss: 0.4262 - acc: 0.80 - ETA: 19s - loss: 0.4257 - acc: 0.80 - ETA: 19s - loss: 0.4258 - acc: 0.80 - ETA: 19s - loss: 0.4261 - acc: 0.80 - ETA: 19s - loss: 0.4263 - acc: 0.80 - ETA: 19s - loss: 0.4266 - acc: 0.80 - ETA: 19s - loss: 0.4269 - acc: 0.80 - ETA: 19s - loss: 0.4267 - acc: 0.80 - ETA: 19s - loss: 0.4269 - acc: 0.80 - ETA: 19s - loss: 0.4268 - acc: 0.80 - ETA: 18s - loss: 0.4270 - acc: 0.80 - ETA: 18s - loss: 0.4272 - acc: 0.80 - ETA: 18s - loss: 0.4270 - acc: 0.80 - ETA: 18s - loss: 0.4272 - acc: 0.80 - ETA: 18s - loss: 0.4275 - acc: 0.80 - ETA: 18s - loss: 0.4273 - acc: 0.80 - ETA: 18s - loss: 0.4272 - acc: 0.80 - ETA: 18s - loss: 0.4272 - acc: 0.80 - ETA: 18s - loss: 0.4274 - acc: 0.80 - ETA: 18s - loss: 0.4275 - acc: 0.80 - ETA: 18s - loss: 0.4275 - acc: 0.80 - ETA: 18s - loss: 0.4275 - acc: 0.80 - ETA: 17s - loss: 0.4273 - acc: 0.80 - ETA: 17s - loss: 0.4274 - acc: 0.80 - ETA: 17s - loss: 0.4273 - acc: 0.80 - ETA: 17s - loss: 0.4272 - acc: 0.80 - ETA: 17s - loss: 0.4274 - acc: 0.80 - ETA: 17s - loss: 0.4272 - acc: 0.80 - ETA: 17s - loss: 0.4275 - acc: 0.80 - ETA: 17s - loss: 0.4274 - acc: 0.80 - ETA: 17s - loss: 0.4272 - acc: 0.80 - ETA: 17s - loss: 0.4274 - acc: 0.80 - ETA: 17s - loss: 0.4273 - acc: 0.80 - ETA: 17s - loss: 0.4274 - acc: 0.80 - ETA: 17s - loss: 0.4272 - acc: 0.80 - ETA: 17s - loss: 0.4270 - acc: 0.80 - ETA: 17s - loss: 0.4269 - acc: 0.80 - ETA: 17s - loss: 0.4272 - acc: 0.80 - ETA: 16s - loss: 0.4273 - acc: 0.80 - ETA: 16s - loss: 0.4271 - acc: 0.80 - ETA: 16s - loss: 0.4269 - acc: 0.80 - ETA: 16s - loss: 0.4271 - acc: 0.80 - ETA: 16s - loss: 0.4270 - acc: 0.80 - ETA: 16s - loss: 0.4269 - acc: 0.80 - ETA: 16s - loss: 0.4269 - acc: 0.80 - ETA: 16s - loss: 0.4268 - acc: 0.80 - ETA: 16s - loss: 0.4271 - acc: 0.80 - ETA: 16s - loss: 0.4269 - acc: 0.80 - ETA: 16s - loss: 0.4270 - acc: 0.80 - ETA: 16s - loss: 0.4271 - acc: 0.80 - ETA: 16s - loss: 0.4274 - acc: 0.80 - ETA: 16s - loss: 0.4274 - acc: 0.80 - ETA: 15s - loss: 0.4275 - acc: 0.80 - ETA: 15s - loss: 0.4277 - acc: 0.80 - ETA: 15s - loss: 0.4276 - acc: 0.80 - ETA: 15s - loss: 0.4276 - acc: 0.80 - ETA: 15s - loss: 0.4276 - acc: 0.80 - ETA: 15s - loss: 0.4276 - acc: 0.80 - ETA: 15s - loss: 0.4276 - acc: 0.80 - ETA: 15s - loss: 0.4275 - acc: 0.80 - ETA: 15s - loss: 0.4274 - acc: 0.80 - ETA: 15s - loss: 0.4274 - acc: 0.80 - ETA: 15s - loss: 0.4275 - acc: 0.80 - ETA: 15s - loss: 0.4277 - acc: 0.80 - ETA: 15s - loss: 0.4279 - acc: 0.80 - ETA: 15s - loss: 0.4278 - acc: 0.80 - ETA: 15s - loss: 0.4278 - acc: 0.80 - ETA: 14s - loss: 0.4277 - acc: 0.80 - ETA: 14s - loss: 0.4277 - acc: 0.80 - ETA: 14s - loss: 0.4279 - acc: 0.80 - ETA: 14s - loss: 0.4277 - acc: 0.80 - ETA: 14s - loss: 0.4276 - acc: 0.80 - ETA: 14s - loss: 0.4275 - acc: 0.80 - ETA: 14s - loss: 0.4277 - acc: 0.80 - ETA: 14s - loss: 0.4275 - acc: 0.80 - ETA: 14s - loss: 0.4274 - acc: 0.80 - ETA: 14s - loss: 0.4276 - acc: 0.80 - ETA: 14s - loss: 0.4277 - acc: 0.80 - ETA: 14s - loss: 0.4274 - acc: 0.80 - ETA: 14s - loss: 0.4273 - acc: 0.80 - ETA: 14s - loss: 0.4275 - acc: 0.80 - ETA: 13s - loss: 0.4275 - acc: 0.80 - ETA: 13s - loss: 0.4276 - acc: 0.80 - ETA: 13s - loss: 0.4278 - acc: 0.80 - ETA: 13s - loss: 0.4277 - acc: 0.80 - ETA: 13s - loss: 0.4278 - acc: 0.80 - ETA: 13s - loss: 0.4278 - acc: 0.80 - ETA: 13s - loss: 0.4277 - acc: 0.80 - ETA: 13s - loss: 0.4279 - acc: 0.80 - ETA: 13s - loss: 0.4280 - acc: 0.80 - ETA: 13s - loss: 0.4279 - acc: 0.80 - ETA: 13s - loss: 0.4279 - acc: 0.80 - ETA: 13s - loss: 0.4278 - acc: 0.80 - ETA: 13s - loss: 0.4278 - acc: 0.80 - ETA: 13s - loss: 0.4276 - acc: 0.80 - ETA: 13s - loss: 0.4274 - acc: 0.80 - ETA: 13s - loss: 0.4274 - acc: 0.80 - ETA: 13s - loss: 0.4273 - acc: 0.80 - ETA: 12s - loss: 0.4274 - acc: 0.80 - ETA: 12s - loss: 0.4273 - acc: 0.80 - ETA: 12s - loss: 0.4273 - acc: 0.80 - ETA: 12s - loss: 0.4273 - acc: 0.80 - ETA: 12s - loss: 0.4273 - acc: 0.80 - ETA: 12s - loss: 0.4274 - acc: 0.80 - ETA: 12s - loss: 0.4274 - acc: 0.80 - ETA: 12s - loss: 0.4273 - acc: 0.80 - ETA: 12s - loss: 0.4273 - acc: 0.80 - ETA: 12s - loss: 0.4273 - acc: 0.80 - ETA: 12s - loss: 0.4272 - acc: 0.80 - ETA: 12s - loss: 0.4272 - acc: 0.80 - ETA: 12s - loss: 0.4271 - acc: 0.80 - ETA: 12s - loss: 0.4271 - acc: 0.80 - ETA: 12s - loss: 0.4271 - acc: 0.80 - ETA: 12s - loss: 0.4271 - acc: 0.80 - ETA: 12s - loss: 0.4270 - acc: 0.80 - ETA: 12s - loss: 0.4271 - acc: 0.80 - ETA: 12s - loss: 0.4270 - acc: 0.80 - ETA: 11s - loss: 0.4271 - acc: 0.80 - ETA: 11s - loss: 0.4272 - acc: 0.80 - ETA: 11s - loss: 0.4272 - acc: 0.80 - ETA: 11s - loss: 0.4272 - acc: 0.80 - ETA: 11s - loss: 0.4271 - acc: 0.80 - ETA: 11s - loss: 0.4272 - acc: 0.80 - ETA: 11s - loss: 0.4271 - acc: 0.80 - ETA: 11s - loss: 0.4271 - acc: 0.80 - ETA: 11s - loss: 0.4272 - acc: 0.80 - ETA: 11s - loss: 0.4272 - acc: 0.80 - ETA: 11s - loss: 0.4273 - acc: 0.80 - ETA: 11s - loss: 0.4273 - acc: 0.80 - ETA: 11s - loss: 0.4272 - acc: 0.80 - ETA: 11s - loss: 0.4270 - acc: 0.80 - ETA: 11s - loss: 0.4270 - acc: 0.80 - ETA: 11s - loss: 0.4269 - acc: 0.80 - ETA: 11s - loss: 0.4270 - acc: 0.80 - ETA: 11s - loss: 0.4270 - acc: 0.80 - ETA: 10s - loss: 0.4270 - acc: 0.80 - ETA: 10s - loss: 0.4270 - acc: 0.80 - ETA: 10s - loss: 0.4270 - acc: 0.80 - ETA: 10s - loss: 0.4270 - acc: 0.80 - ETA: 10s - loss: 0.4269 - acc: 0.80 - ETA: 10s - loss: 0.4268 - acc: 0.80 - ETA: 10s - loss: 0.4268 - acc: 0.80 - ETA: 10s - loss: 0.4269 - acc: 0.80 - ETA: 10s - loss: 0.4269 - acc: 0.80 - ETA: 10s - loss: 0.4268 - acc: 0.80 - ETA: 10s - loss: 0.4270 - acc: 0.80 - ETA: 10s - loss: 0.4269 - acc: 0.80 - ETA: 10s - loss: 0.4269 - acc: 0.80 - ETA: 10s - loss: 0.4270 - acc: 0.80 - ETA: 10s - loss: 0.4270 - acc: 0.80 - ETA: 10s - loss: 0.4270 - acc: 0.80 - ETA: 10s - loss: 0.4270 - acc: 0.80 - ETA: 10s - loss: 0.4270 - acc: 0.80 - ETA: 9s - loss: 0.4271 - acc: 0.8020 - ETA: 9s - loss: 0.4271 - acc: 0.802 - ETA: 9s - loss: 0.4271 - acc: 0.802 - ETA: 9s - loss: 0.4272 - acc: 0.801 - ETA: 9s - loss: 0.4272 - acc: 0.801 - ETA: 9s - loss: 0.4272 - acc: 0.801 - ETA: 9s - loss: 0.4272 - acc: 0.801 - ETA: 9s - loss: 0.4272 - acc: 0.8019"
     ]
    },
    {
     "name": "stdout",
     "output_type": "stream",
     "text": [
      "2740/2745 [============================>.] - ETA: 9s - loss: 0.4272 - acc: 0.801 - ETA: 9s - loss: 0.4272 - acc: 0.801 - ETA: 9s - loss: 0.4273 - acc: 0.801 - ETA: 9s - loss: 0.4273 - acc: 0.801 - ETA: 9s - loss: 0.4273 - acc: 0.801 - ETA: 9s - loss: 0.4273 - acc: 0.801 - ETA: 9s - loss: 0.4274 - acc: 0.801 - ETA: 9s - loss: 0.4274 - acc: 0.801 - ETA: 9s - loss: 0.4274 - acc: 0.801 - ETA: 8s - loss: 0.4275 - acc: 0.801 - ETA: 8s - loss: 0.4275 - acc: 0.801 - ETA: 8s - loss: 0.4275 - acc: 0.801 - ETA: 8s - loss: 0.4274 - acc: 0.801 - ETA: 8s - loss: 0.4273 - acc: 0.801 - ETA: 8s - loss: 0.4273 - acc: 0.801 - ETA: 8s - loss: 0.4272 - acc: 0.801 - ETA: 8s - loss: 0.4273 - acc: 0.801 - ETA: 8s - loss: 0.4273 - acc: 0.801 - ETA: 8s - loss: 0.4273 - acc: 0.801 - ETA: 8s - loss: 0.4274 - acc: 0.801 - ETA: 8s - loss: 0.4273 - acc: 0.801 - ETA: 8s - loss: 0.4273 - acc: 0.801 - ETA: 8s - loss: 0.4274 - acc: 0.801 - ETA: 8s - loss: 0.4274 - acc: 0.801 - ETA: 8s - loss: 0.4274 - acc: 0.801 - ETA: 8s - loss: 0.4274 - acc: 0.801 - ETA: 7s - loss: 0.4274 - acc: 0.801 - ETA: 7s - loss: 0.4274 - acc: 0.801 - ETA: 7s - loss: 0.4273 - acc: 0.801 - ETA: 7s - loss: 0.4274 - acc: 0.801 - ETA: 7s - loss: 0.4274 - acc: 0.801 - ETA: 7s - loss: 0.4274 - acc: 0.801 - ETA: 7s - loss: 0.4273 - acc: 0.801 - ETA: 7s - loss: 0.4273 - acc: 0.801 - ETA: 7s - loss: 0.4272 - acc: 0.801 - ETA: 7s - loss: 0.4273 - acc: 0.801 - ETA: 7s - loss: 0.4273 - acc: 0.801 - ETA: 7s - loss: 0.4273 - acc: 0.801 - ETA: 7s - loss: 0.4273 - acc: 0.801 - ETA: 7s - loss: 0.4272 - acc: 0.801 - ETA: 7s - loss: 0.4274 - acc: 0.801 - ETA: 7s - loss: 0.4274 - acc: 0.801 - ETA: 7s - loss: 0.4274 - acc: 0.801 - ETA: 6s - loss: 0.4274 - acc: 0.801 - ETA: 6s - loss: 0.4274 - acc: 0.801 - ETA: 6s - loss: 0.4274 - acc: 0.801 - ETA: 6s - loss: 0.4274 - acc: 0.801 - ETA: 6s - loss: 0.4274 - acc: 0.801 - ETA: 6s - loss: 0.4274 - acc: 0.801 - ETA: 6s - loss: 0.4275 - acc: 0.801 - ETA: 6s - loss: 0.4275 - acc: 0.801 - ETA: 6s - loss: 0.4274 - acc: 0.801 - ETA: 6s - loss: 0.4274 - acc: 0.801 - ETA: 6s - loss: 0.4273 - acc: 0.801 - ETA: 6s - loss: 0.4273 - acc: 0.801 - ETA: 6s - loss: 0.4273 - acc: 0.801 - ETA: 6s - loss: 0.4273 - acc: 0.801 - ETA: 6s - loss: 0.4273 - acc: 0.801 - ETA: 6s - loss: 0.4273 - acc: 0.801 - ETA: 6s - loss: 0.4272 - acc: 0.801 - ETA: 6s - loss: 0.4272 - acc: 0.801 - ETA: 5s - loss: 0.4273 - acc: 0.801 - ETA: 5s - loss: 0.4274 - acc: 0.801 - ETA: 5s - loss: 0.4274 - acc: 0.801 - ETA: 5s - loss: 0.4275 - acc: 0.801 - ETA: 5s - loss: 0.4276 - acc: 0.801 - ETA: 5s - loss: 0.4276 - acc: 0.801 - ETA: 5s - loss: 0.4274 - acc: 0.801 - ETA: 5s - loss: 0.4274 - acc: 0.801 - ETA: 5s - loss: 0.4274 - acc: 0.801 - ETA: 5s - loss: 0.4274 - acc: 0.801 - ETA: 5s - loss: 0.4273 - acc: 0.801 - ETA: 5s - loss: 0.4273 - acc: 0.801 - ETA: 5s - loss: 0.4273 - acc: 0.801 - ETA: 5s - loss: 0.4273 - acc: 0.801 - ETA: 5s - loss: 0.4273 - acc: 0.801 - ETA: 5s - loss: 0.4274 - acc: 0.801 - ETA: 5s - loss: 0.4274 - acc: 0.801 - ETA: 4s - loss: 0.4274 - acc: 0.801 - ETA: 4s - loss: 0.4274 - acc: 0.801 - ETA: 4s - loss: 0.4274 - acc: 0.801 - ETA: 4s - loss: 0.4273 - acc: 0.801 - ETA: 4s - loss: 0.4273 - acc: 0.801 - ETA: 4s - loss: 0.4274 - acc: 0.801 - ETA: 4s - loss: 0.4273 - acc: 0.801 - ETA: 4s - loss: 0.4273 - acc: 0.801 - ETA: 4s - loss: 0.4273 - acc: 0.801 - ETA: 4s - loss: 0.4273 - acc: 0.801 - ETA: 4s - loss: 0.4273 - acc: 0.801 - ETA: 4s - loss: 0.4273 - acc: 0.801 - ETA: 4s - loss: 0.4273 - acc: 0.801 - ETA: 4s - loss: 0.4274 - acc: 0.801 - ETA: 4s - loss: 0.4274 - acc: 0.801 - ETA: 4s - loss: 0.4274 - acc: 0.801 - ETA: 4s - loss: 0.4274 - acc: 0.801 - ETA: 4s - loss: 0.4274 - acc: 0.801 - ETA: 3s - loss: 0.4274 - acc: 0.801 - ETA: 3s - loss: 0.4274 - acc: 0.801 - ETA: 3s - loss: 0.4274 - acc: 0.801 - ETA: 3s - loss: 0.4275 - acc: 0.801 - ETA: 3s - loss: 0.4275 - acc: 0.801 - ETA: 3s - loss: 0.4275 - acc: 0.801 - ETA: 3s - loss: 0.4275 - acc: 0.801 - ETA: 3s - loss: 0.4275 - acc: 0.801 - ETA: 3s - loss: 0.4275 - acc: 0.801 - ETA: 3s - loss: 0.4275 - acc: 0.801 - ETA: 3s - loss: 0.4275 - acc: 0.801 - ETA: 3s - loss: 0.4276 - acc: 0.801 - ETA: 3s - loss: 0.4276 - acc: 0.801 - ETA: 3s - loss: 0.4277 - acc: 0.801 - ETA: 3s - loss: 0.4277 - acc: 0.801 - ETA: 3s - loss: 0.4278 - acc: 0.801 - ETA: 3s - loss: 0.4278 - acc: 0.801 - ETA: 3s - loss: 0.4278 - acc: 0.801 - ETA: 3s - loss: 0.4278 - acc: 0.801 - ETA: 2s - loss: 0.4279 - acc: 0.801 - ETA: 2s - loss: 0.4280 - acc: 0.801 - ETA: 2s - loss: 0.4280 - acc: 0.801 - ETA: 2s - loss: 0.4279 - acc: 0.801 - ETA: 2s - loss: 0.4280 - acc: 0.801 - ETA: 2s - loss: 0.4279 - acc: 0.801 - ETA: 2s - loss: 0.4280 - acc: 0.801 - ETA: 2s - loss: 0.4280 - acc: 0.801 - ETA: 2s - loss: 0.4280 - acc: 0.801 - ETA: 2s - loss: 0.4281 - acc: 0.801 - ETA: 2s - loss: 0.4281 - acc: 0.801 - ETA: 2s - loss: 0.4281 - acc: 0.801 - ETA: 2s - loss: 0.4281 - acc: 0.801 - ETA: 2s - loss: 0.4281 - acc: 0.801 - ETA: 2s - loss: 0.4281 - acc: 0.801 - ETA: 2s - loss: 0.4281 - acc: 0.801 - ETA: 2s - loss: 0.4281 - acc: 0.801 - ETA: 2s - loss: 0.4281 - acc: 0.801 - ETA: 2s - loss: 0.4281 - acc: 0.801 - ETA: 1s - loss: 0.4281 - acc: 0.801 - ETA: 1s - loss: 0.4282 - acc: 0.801 - ETA: 1s - loss: 0.4283 - acc: 0.801 - ETA: 1s - loss: 0.4282 - acc: 0.801 - ETA: 1s - loss: 0.4282 - acc: 0.801 - ETA: 1s - loss: 0.4282 - acc: 0.801 - ETA: 1s - loss: 0.4283 - acc: 0.801 - ETA: 1s - loss: 0.4283 - acc: 0.801 - ETA: 1s - loss: 0.4283 - acc: 0.801 - ETA: 1s - loss: 0.4284 - acc: 0.801 - ETA: 1s - loss: 0.4284 - acc: 0.801 - ETA: 1s - loss: 0.4283 - acc: 0.801 - ETA: 1s - loss: 0.4283 - acc: 0.801 - ETA: 1s - loss: 0.4283 - acc: 0.801 - ETA: 1s - loss: 0.4283 - acc: 0.801 - ETA: 1s - loss: 0.4283 - acc: 0.801 - ETA: 1s - loss: 0.4283 - acc: 0.801 - ETA: 1s - loss: 0.4284 - acc: 0.801 - ETA: 0s - loss: 0.4284 - acc: 0.801 - ETA: 0s - loss: 0.4284 - acc: 0.801 - ETA: 0s - loss: 0.4284 - acc: 0.801 - ETA: 0s - loss: 0.4284 - acc: 0.801 - ETA: 0s - loss: 0.4284 - acc: 0.801 - ETA: 0s - loss: 0.4283 - acc: 0.801 - ETA: 0s - loss: 0.4283 - acc: 0.801 - ETA: 0s - loss: 0.4284 - acc: 0.801 - ETA: 0s - loss: 0.4283 - acc: 0.801 - ETA: 0s - loss: 0.4283 - acc: 0.801 - ETA: 0s - loss: 0.4284 - acc: 0.801 - ETA: 0s - loss: 0.4284 - acc: 0.801 - ETA: 0s - loss: 0.4283 - acc: 0.801 - ETA: 0s - loss: 0.4284 - acc: 0.801 - ETA: 0s - loss: 0.4283 - acc: 0.801 - ETA: 0s - loss: 0.4283 - acc: 0.801 - ETA: 0s - loss: 0.4283 - acc: 0.801 - ETA: 0s - loss: 0.4283 - acc: 0.801 - ETA: 0s - loss: 0.4283 - acc: 0.801 - ETA: 0s - loss: 0.4283 - acc: 0.801 - ETA: 0s - loss: 0.4283 - acc: 0.8012\n",
      "Epoch 00010: val_loss improved from 0.43741 to 0.43567, saving model to C:\\Users\\remoteuser\\tatk\\resources\\logs\\checkpoints\n",
      "2745/2745 [==============================] - 28s 10ms/step - loss: 0.4284 - acc: 0.8012 - val_loss: 0.4357 - val_acc: 0.8103\n",
      "KerasEmbeddingTextClassifierLearner::tatk_fit ==> end \t Time taken: 8.89 mins\n",
      "Time taken: 9.43 mins\n",
      "KerasEmbeddingTextClassifier::fit ==> end\n"
     ]
    },
    {
     "data": {
      "text/plain": [
       "KerasEmbeddingTextClassifier(binary_format=False, callbacks=True,\n",
       "               class_type='single-label', cuda_devices='0',\n",
       "               embedding_file_path='D:\\\\Sentiment140_Classification\\\\w2vec.txt',\n",
       "               input_col='tweets', label_col='labels', limit=None,\n",
       "               log_dir='C:\\\\Users\\\\remoteuser\\\\tatk\\\\resources\\\\logs',\n",
       "               model_type='CNN', n_labels=None,\n",
       "               prediction_col='prediction',\n",
       "               probabilities_col='probabilities', regex=None,\n",
       "               trainable_embedding=False)"
      ]
     },
     "execution_count": 23,
     "metadata": {},
     "output_type": "execute_result"
    }
   ],
   "source": [
    "keras_text_classifier.fit(train)"
   ]
  },
  {
   "cell_type": "markdown",
   "metadata": {},
   "source": [
    "### Save keras model"
   ]
  },
  {
   "cell_type": "code",
   "execution_count": 24,
   "metadata": {},
   "outputs": [
    {
     "name": "stdout",
     "output_type": "stream",
     "text": [
      "BaseTextModel::save ==> start\n",
      "TatkPipeline::save ==> start\n",
      "Time taken: 0.04 mins\n",
      "TatkPipeline::save ==> end\n",
      "Time taken: 0.68 mins\n",
      "BaseTextModel::save ==> end\n"
     ]
    }
   ],
   "source": [
    "keras_text_classifier.save(model_file)"
   ]
  },
  {
   "cell_type": "markdown",
   "metadata": {},
   "source": [
    "### Load model and evaluate performance on a set of training data"
   ]
  },
  {
   "cell_type": "code",
   "execution_count": 25,
   "metadata": {},
   "outputs": [
    {
     "name": "stdout",
     "output_type": "stream",
     "text": [
      "BaseTextModel::load ==> start\n",
      "TatkPipeline::load ==> start\n",
      "Word '<UNK>' is already in vocabulary.\n",
      "Word '<<ZERO>>' is already in vocabulary.\n",
      "Word2VecVectorizer: Word2Vec model loaded from D:\\Sentiment140_Classification\\sk_model.zip 2018-04-19 21.19.11\\sk_model\\pipeline\\vectorizer\\embedding_table.txt\n",
      "Time taken: 0.11 mins\n",
      "TatkPipeline::load ==> end\n",
      "Time taken: 0.17 mins\n",
      "BaseTextModel::load ==> end\n"
     ]
    }
   ],
   "source": [
    "keras_text_classifier_reloaded = KerasTextClassifier.load(model_file)"
   ]
  },
  {
   "cell_type": "code",
   "execution_count": 26,
   "metadata": {},
   "outputs": [
    {
     "name": "stdout",
     "output_type": "stream",
     "text": [
      "KerasEmbeddingTextClassifier::evaluate ==> start\n",
      "schema: col=raw_tweets:TX:0 col=labels:I8:1 col=tweets:TX:2 col=prediction:I8:3 header+\n",
      "KerasEmbeddingTextClassifier::predict ==> start\n",
      "NltkPreprocessor::tatk_transform ==> start\n",
      "NltkPreprocessor::tatk_transform ==> end \t Time taken: 0.16 mins\n",
      "Word2VecVectorizer::tatk_transform ==> start\n",
      "Word2VecVectorizer::tatk_transform ==> end \t Time taken: 0.12 mins\n",
      "KerasEmbeddingTextClassifierLearner::tatk_predict ==> start\n",
      "KerasEmbeddingTextClassifierLearner::tatk_predict ==> end \t Time taken: 0.5 mins\n",
      "Time taken: 0.78 mins\n",
      "KerasEmbeddingTextClassifier::predict ==> end\n",
      "[[169911  40688]\n",
      " [ 39409 172392]]\n",
      "macro_f1 score = 0.81\n",
      "hamming loss = 0.19\n",
      "Time taken: 0.79 mins\n",
      "KerasEmbeddingTextClassifier::evaluate ==> end\n"
     ]
    },
    {
     "data": {
      "text/plain": [
       "{'confusion_matrix': array([[169911,  40688],\n",
       "        [ 39409, 172392]], dtype=int64),\n",
       " 'hamming_loss': 0.18962357954545456,\n",
       " 'macro_f1': 0.810369878416989}"
      ]
     },
     "execution_count": 26,
     "metadata": {},
     "output_type": "execute_result"
    }
   ],
   "source": [
    "predictions = keras_text_classifier_reloaded.evaluate(valid)\n",
    "\n",
    "predictions"
   ]
  }
 ],
 "metadata": {
  "kernelspec": {
   "display_name": "Python 3.5 AML",
   "language": "python",
   "name": "python3"
  },
  "language_info": {
   "codemirror_mode": {
    "name": "ipython",
    "version": 3
   },
   "file_extension": ".py",
   "mimetype": "text/x-python",
   "name": "python",
   "nbconvert_exporter": "python",
   "pygments_lexer": "ipython3",
   "version": "3.5.2"
  }
 },
 "nbformat": 4,
 "nbformat_minor": 2
}
